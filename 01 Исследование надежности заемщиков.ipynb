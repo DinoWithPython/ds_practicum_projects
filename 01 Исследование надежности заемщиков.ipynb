{
 "cells": [
  {
   "cell_type": "markdown",
   "id": "386f2ae7",
   "metadata": {
    "deletable": false,
    "editable": false,
    "id": "386f2ae7"
   },
   "source": [
    "# Исследование надежности заемщиков\n"
   ]
  },
  {
   "cell_type": "markdown",
   "id": "6b2b1f96-71e7-4368-9f44-5915c5cde499",
   "metadata": {},
   "source": [
    "## Описание проекта"
   ]
  },
  {
   "cell_type": "markdown",
   "id": "8250f481-bae8-4e0e-984f-08ffc135f114",
   "metadata": {},
   "source": [
    "Заказчик — кредитный отдел банка. Нужно разобраться, влияет ли семейное положение и количество детей клиента на факт погашения кредита в срок. Входные данные от банка — статистика о платёжеспособности клиентов.\n",
    "    \n",
    "Результаты исследования будут учтены при построении модели кредитного скоринга — специальной системы, которая оценивает способность потенциального заёмщика вернуть кредит банку."
   ]
  },
  {
   "cell_type": "markdown",
   "id": "a4085166-45ef-4426-a437-5367440e7585",
   "metadata": {},
   "source": [
    "Описание данных:\n",
    "* `children` — количество детей в семье\n",
    "* `days_employed` — общий трудовой стаж в днях\n",
    "* `dob_years` — возраст клиента в годах\n",
    "* `education` — уровень образования клиента\n",
    "* `education_id` — идентификатор уровня образования\n",
    "* `family_status` — семейное положение\n",
    "* `family_status_id` — идентификатор семейного положения\n",
    "* `gender` — пол клиента\n",
    "* `income_type` — тип занятости\n",
    "* `debt` — имел ли задолженность по возврату кредитов\n",
    "* `total_income` — ежемесячный доход\n",
    "* `purpose — цель` получения кредита"
   ]
  },
  {
   "cell_type": "markdown",
   "id": "26613308",
   "metadata": {
    "deletable": false,
    "editable": false,
    "id": "26613308"
   },
   "source": [
    "## Откройте таблицу и изучите общую информацию о данных"
   ]
  },
  {
   "cell_type": "markdown",
   "id": "3c9f838e",
   "metadata": {
    "deletable": false,
    "editable": false,
    "id": "3c9f838e"
   },
   "source": [
    "**Задание 1. Импортируйте библиотеку pandas. Считайте данные из csv-файла в датафрейм и сохраните в переменную `data`. Путь к файлу:**\n",
    "\n",
    "`/datasets/data.csv`"
   ]
  },
  {
   "cell_type": "code",
   "execution_count": 1,
   "id": "77a68a90",
   "metadata": {
    "deletable": false,
    "id": "77a68a90"
   },
   "outputs": [],
   "source": [
    "import pandas as pd\n",
    "\n",
    "try:\n",
    "    data = pd.read_csv('/home/dwpsd/Dev/ds_practicum_projects/datasets/01_data.csv')\n",
    "except:\n",
    "    data = pd.read_csv('/datasets/data.csv')"
   ]
  },
  {
   "cell_type": "markdown",
   "id": "45365635",
   "metadata": {
    "deletable": false,
    "editable": false,
    "id": "45365635"
   },
   "source": [
    "**Задание 2. Выведите первые 20 строчек датафрейма `data` на экран.**"
   ]
  },
  {
   "cell_type": "code",
   "execution_count": 2,
   "id": "b0451a9a",
   "metadata": {
    "deletable": false,
    "id": "b0451a9a",
    "outputId": "1a8f3ef2-d323-4ec2-ddf7-89670b5944c4"
   },
   "outputs": [
    {
     "data": {
      "text/html": [
       "<div>\n",
       "<style scoped>\n",
       "    .dataframe tbody tr th:only-of-type {\n",
       "        vertical-align: middle;\n",
       "    }\n",
       "\n",
       "    .dataframe tbody tr th {\n",
       "        vertical-align: top;\n",
       "    }\n",
       "\n",
       "    .dataframe thead th {\n",
       "        text-align: right;\n",
       "    }\n",
       "</style>\n",
       "<table border=\"1\" class=\"dataframe\">\n",
       "  <thead>\n",
       "    <tr style=\"text-align: right;\">\n",
       "      <th></th>\n",
       "      <th>children</th>\n",
       "      <th>days_employed</th>\n",
       "      <th>dob_years</th>\n",
       "      <th>education</th>\n",
       "      <th>education_id</th>\n",
       "      <th>family_status</th>\n",
       "      <th>family_status_id</th>\n",
       "      <th>gender</th>\n",
       "      <th>income_type</th>\n",
       "      <th>debt</th>\n",
       "      <th>total_income</th>\n",
       "      <th>purpose</th>\n",
       "    </tr>\n",
       "  </thead>\n",
       "  <tbody>\n",
       "    <tr>\n",
       "      <th>0</th>\n",
       "      <td>1</td>\n",
       "      <td>-8437.673028</td>\n",
       "      <td>42</td>\n",
       "      <td>высшее</td>\n",
       "      <td>0</td>\n",
       "      <td>женат / замужем</td>\n",
       "      <td>0</td>\n",
       "      <td>F</td>\n",
       "      <td>сотрудник</td>\n",
       "      <td>0</td>\n",
       "      <td>253875.639453</td>\n",
       "      <td>покупка жилья</td>\n",
       "    </tr>\n",
       "    <tr>\n",
       "      <th>1</th>\n",
       "      <td>1</td>\n",
       "      <td>-4024.803754</td>\n",
       "      <td>36</td>\n",
       "      <td>среднее</td>\n",
       "      <td>1</td>\n",
       "      <td>женат / замужем</td>\n",
       "      <td>0</td>\n",
       "      <td>F</td>\n",
       "      <td>сотрудник</td>\n",
       "      <td>0</td>\n",
       "      <td>112080.014102</td>\n",
       "      <td>приобретение автомобиля</td>\n",
       "    </tr>\n",
       "    <tr>\n",
       "      <th>2</th>\n",
       "      <td>0</td>\n",
       "      <td>-5623.422610</td>\n",
       "      <td>33</td>\n",
       "      <td>Среднее</td>\n",
       "      <td>1</td>\n",
       "      <td>женат / замужем</td>\n",
       "      <td>0</td>\n",
       "      <td>M</td>\n",
       "      <td>сотрудник</td>\n",
       "      <td>0</td>\n",
       "      <td>145885.952297</td>\n",
       "      <td>покупка жилья</td>\n",
       "    </tr>\n",
       "    <tr>\n",
       "      <th>3</th>\n",
       "      <td>3</td>\n",
       "      <td>-4124.747207</td>\n",
       "      <td>32</td>\n",
       "      <td>среднее</td>\n",
       "      <td>1</td>\n",
       "      <td>женат / замужем</td>\n",
       "      <td>0</td>\n",
       "      <td>M</td>\n",
       "      <td>сотрудник</td>\n",
       "      <td>0</td>\n",
       "      <td>267628.550329</td>\n",
       "      <td>дополнительное образование</td>\n",
       "    </tr>\n",
       "    <tr>\n",
       "      <th>4</th>\n",
       "      <td>0</td>\n",
       "      <td>340266.072047</td>\n",
       "      <td>53</td>\n",
       "      <td>среднее</td>\n",
       "      <td>1</td>\n",
       "      <td>гражданский брак</td>\n",
       "      <td>1</td>\n",
       "      <td>F</td>\n",
       "      <td>пенсионер</td>\n",
       "      <td>0</td>\n",
       "      <td>158616.077870</td>\n",
       "      <td>сыграть свадьбу</td>\n",
       "    </tr>\n",
       "    <tr>\n",
       "      <th>5</th>\n",
       "      <td>0</td>\n",
       "      <td>-926.185831</td>\n",
       "      <td>27</td>\n",
       "      <td>высшее</td>\n",
       "      <td>0</td>\n",
       "      <td>гражданский брак</td>\n",
       "      <td>1</td>\n",
       "      <td>M</td>\n",
       "      <td>компаньон</td>\n",
       "      <td>0</td>\n",
       "      <td>255763.565419</td>\n",
       "      <td>покупка жилья</td>\n",
       "    </tr>\n",
       "    <tr>\n",
       "      <th>6</th>\n",
       "      <td>0</td>\n",
       "      <td>-2879.202052</td>\n",
       "      <td>43</td>\n",
       "      <td>высшее</td>\n",
       "      <td>0</td>\n",
       "      <td>женат / замужем</td>\n",
       "      <td>0</td>\n",
       "      <td>F</td>\n",
       "      <td>компаньон</td>\n",
       "      <td>0</td>\n",
       "      <td>240525.971920</td>\n",
       "      <td>операции с жильем</td>\n",
       "    </tr>\n",
       "    <tr>\n",
       "      <th>7</th>\n",
       "      <td>0</td>\n",
       "      <td>-152.779569</td>\n",
       "      <td>50</td>\n",
       "      <td>СРЕДНЕЕ</td>\n",
       "      <td>1</td>\n",
       "      <td>женат / замужем</td>\n",
       "      <td>0</td>\n",
       "      <td>M</td>\n",
       "      <td>сотрудник</td>\n",
       "      <td>0</td>\n",
       "      <td>135823.934197</td>\n",
       "      <td>образование</td>\n",
       "    </tr>\n",
       "    <tr>\n",
       "      <th>8</th>\n",
       "      <td>2</td>\n",
       "      <td>-6929.865299</td>\n",
       "      <td>35</td>\n",
       "      <td>ВЫСШЕЕ</td>\n",
       "      <td>0</td>\n",
       "      <td>гражданский брак</td>\n",
       "      <td>1</td>\n",
       "      <td>F</td>\n",
       "      <td>сотрудник</td>\n",
       "      <td>0</td>\n",
       "      <td>95856.832424</td>\n",
       "      <td>на проведение свадьбы</td>\n",
       "    </tr>\n",
       "    <tr>\n",
       "      <th>9</th>\n",
       "      <td>0</td>\n",
       "      <td>-2188.756445</td>\n",
       "      <td>41</td>\n",
       "      <td>среднее</td>\n",
       "      <td>1</td>\n",
       "      <td>женат / замужем</td>\n",
       "      <td>0</td>\n",
       "      <td>M</td>\n",
       "      <td>сотрудник</td>\n",
       "      <td>0</td>\n",
       "      <td>144425.938277</td>\n",
       "      <td>покупка жилья для семьи</td>\n",
       "    </tr>\n",
       "    <tr>\n",
       "      <th>10</th>\n",
       "      <td>2</td>\n",
       "      <td>-4171.483647</td>\n",
       "      <td>36</td>\n",
       "      <td>высшее</td>\n",
       "      <td>0</td>\n",
       "      <td>женат / замужем</td>\n",
       "      <td>0</td>\n",
       "      <td>M</td>\n",
       "      <td>компаньон</td>\n",
       "      <td>0</td>\n",
       "      <td>113943.491460</td>\n",
       "      <td>покупка недвижимости</td>\n",
       "    </tr>\n",
       "    <tr>\n",
       "      <th>11</th>\n",
       "      <td>0</td>\n",
       "      <td>-792.701887</td>\n",
       "      <td>40</td>\n",
       "      <td>среднее</td>\n",
       "      <td>1</td>\n",
       "      <td>женат / замужем</td>\n",
       "      <td>0</td>\n",
       "      <td>F</td>\n",
       "      <td>сотрудник</td>\n",
       "      <td>0</td>\n",
       "      <td>77069.234271</td>\n",
       "      <td>покупка коммерческой недвижимости</td>\n",
       "    </tr>\n",
       "    <tr>\n",
       "      <th>12</th>\n",
       "      <td>0</td>\n",
       "      <td>NaN</td>\n",
       "      <td>65</td>\n",
       "      <td>среднее</td>\n",
       "      <td>1</td>\n",
       "      <td>гражданский брак</td>\n",
       "      <td>1</td>\n",
       "      <td>M</td>\n",
       "      <td>пенсионер</td>\n",
       "      <td>0</td>\n",
       "      <td>NaN</td>\n",
       "      <td>сыграть свадьбу</td>\n",
       "    </tr>\n",
       "    <tr>\n",
       "      <th>13</th>\n",
       "      <td>0</td>\n",
       "      <td>-1846.641941</td>\n",
       "      <td>54</td>\n",
       "      <td>неоконченное высшее</td>\n",
       "      <td>2</td>\n",
       "      <td>женат / замужем</td>\n",
       "      <td>0</td>\n",
       "      <td>F</td>\n",
       "      <td>сотрудник</td>\n",
       "      <td>0</td>\n",
       "      <td>130458.228857</td>\n",
       "      <td>приобретение автомобиля</td>\n",
       "    </tr>\n",
       "    <tr>\n",
       "      <th>14</th>\n",
       "      <td>0</td>\n",
       "      <td>-1844.956182</td>\n",
       "      <td>56</td>\n",
       "      <td>высшее</td>\n",
       "      <td>0</td>\n",
       "      <td>гражданский брак</td>\n",
       "      <td>1</td>\n",
       "      <td>F</td>\n",
       "      <td>компаньон</td>\n",
       "      <td>1</td>\n",
       "      <td>165127.911772</td>\n",
       "      <td>покупка жилой недвижимости</td>\n",
       "    </tr>\n",
       "    <tr>\n",
       "      <th>15</th>\n",
       "      <td>1</td>\n",
       "      <td>-972.364419</td>\n",
       "      <td>26</td>\n",
       "      <td>среднее</td>\n",
       "      <td>1</td>\n",
       "      <td>женат / замужем</td>\n",
       "      <td>0</td>\n",
       "      <td>F</td>\n",
       "      <td>сотрудник</td>\n",
       "      <td>0</td>\n",
       "      <td>116820.904450</td>\n",
       "      <td>строительство собственной недвижимости</td>\n",
       "    </tr>\n",
       "    <tr>\n",
       "      <th>16</th>\n",
       "      <td>0</td>\n",
       "      <td>-1719.934226</td>\n",
       "      <td>35</td>\n",
       "      <td>среднее</td>\n",
       "      <td>1</td>\n",
       "      <td>женат / замужем</td>\n",
       "      <td>0</td>\n",
       "      <td>F</td>\n",
       "      <td>сотрудник</td>\n",
       "      <td>0</td>\n",
       "      <td>289202.704229</td>\n",
       "      <td>недвижимость</td>\n",
       "    </tr>\n",
       "    <tr>\n",
       "      <th>17</th>\n",
       "      <td>0</td>\n",
       "      <td>-2369.999720</td>\n",
       "      <td>33</td>\n",
       "      <td>высшее</td>\n",
       "      <td>0</td>\n",
       "      <td>гражданский брак</td>\n",
       "      <td>1</td>\n",
       "      <td>M</td>\n",
       "      <td>сотрудник</td>\n",
       "      <td>0</td>\n",
       "      <td>90410.586745</td>\n",
       "      <td>строительство недвижимости</td>\n",
       "    </tr>\n",
       "    <tr>\n",
       "      <th>18</th>\n",
       "      <td>0</td>\n",
       "      <td>400281.136913</td>\n",
       "      <td>53</td>\n",
       "      <td>среднее</td>\n",
       "      <td>1</td>\n",
       "      <td>вдовец / вдова</td>\n",
       "      <td>2</td>\n",
       "      <td>F</td>\n",
       "      <td>пенсионер</td>\n",
       "      <td>0</td>\n",
       "      <td>56823.777243</td>\n",
       "      <td>на покупку подержанного автомобиля</td>\n",
       "    </tr>\n",
       "    <tr>\n",
       "      <th>19</th>\n",
       "      <td>0</td>\n",
       "      <td>-10038.818549</td>\n",
       "      <td>48</td>\n",
       "      <td>СРЕДНЕЕ</td>\n",
       "      <td>1</td>\n",
       "      <td>в разводе</td>\n",
       "      <td>3</td>\n",
       "      <td>F</td>\n",
       "      <td>сотрудник</td>\n",
       "      <td>0</td>\n",
       "      <td>242831.107982</td>\n",
       "      <td>на покупку своего автомобиля</td>\n",
       "    </tr>\n",
       "  </tbody>\n",
       "</table>\n",
       "</div>"
      ],
      "text/plain": [
       "    children  days_employed  dob_years            education  education_id  \\\n",
       "0          1   -8437.673028         42               высшее             0   \n",
       "1          1   -4024.803754         36              среднее             1   \n",
       "2          0   -5623.422610         33              Среднее             1   \n",
       "3          3   -4124.747207         32              среднее             1   \n",
       "4          0  340266.072047         53              среднее             1   \n",
       "5          0    -926.185831         27               высшее             0   \n",
       "6          0   -2879.202052         43               высшее             0   \n",
       "7          0    -152.779569         50              СРЕДНЕЕ             1   \n",
       "8          2   -6929.865299         35               ВЫСШЕЕ             0   \n",
       "9          0   -2188.756445         41              среднее             1   \n",
       "10         2   -4171.483647         36               высшее             0   \n",
       "11         0    -792.701887         40              среднее             1   \n",
       "12         0            NaN         65              среднее             1   \n",
       "13         0   -1846.641941         54  неоконченное высшее             2   \n",
       "14         0   -1844.956182         56               высшее             0   \n",
       "15         1    -972.364419         26              среднее             1   \n",
       "16         0   -1719.934226         35              среднее             1   \n",
       "17         0   -2369.999720         33               высшее             0   \n",
       "18         0  400281.136913         53              среднее             1   \n",
       "19         0  -10038.818549         48              СРЕДНЕЕ             1   \n",
       "\n",
       "       family_status  family_status_id gender income_type  debt  \\\n",
       "0    женат / замужем                 0      F   сотрудник     0   \n",
       "1    женат / замужем                 0      F   сотрудник     0   \n",
       "2    женат / замужем                 0      M   сотрудник     0   \n",
       "3    женат / замужем                 0      M   сотрудник     0   \n",
       "4   гражданский брак                 1      F   пенсионер     0   \n",
       "5   гражданский брак                 1      M   компаньон     0   \n",
       "6    женат / замужем                 0      F   компаньон     0   \n",
       "7    женат / замужем                 0      M   сотрудник     0   \n",
       "8   гражданский брак                 1      F   сотрудник     0   \n",
       "9    женат / замужем                 0      M   сотрудник     0   \n",
       "10   женат / замужем                 0      M   компаньон     0   \n",
       "11   женат / замужем                 0      F   сотрудник     0   \n",
       "12  гражданский брак                 1      M   пенсионер     0   \n",
       "13   женат / замужем                 0      F   сотрудник     0   \n",
       "14  гражданский брак                 1      F   компаньон     1   \n",
       "15   женат / замужем                 0      F   сотрудник     0   \n",
       "16   женат / замужем                 0      F   сотрудник     0   \n",
       "17  гражданский брак                 1      M   сотрудник     0   \n",
       "18    вдовец / вдова                 2      F   пенсионер     0   \n",
       "19         в разводе                 3      F   сотрудник     0   \n",
       "\n",
       "     total_income                                 purpose  \n",
       "0   253875.639453                           покупка жилья  \n",
       "1   112080.014102                 приобретение автомобиля  \n",
       "2   145885.952297                           покупка жилья  \n",
       "3   267628.550329              дополнительное образование  \n",
       "4   158616.077870                         сыграть свадьбу  \n",
       "5   255763.565419                           покупка жилья  \n",
       "6   240525.971920                       операции с жильем  \n",
       "7   135823.934197                             образование  \n",
       "8    95856.832424                   на проведение свадьбы  \n",
       "9   144425.938277                 покупка жилья для семьи  \n",
       "10  113943.491460                    покупка недвижимости  \n",
       "11   77069.234271       покупка коммерческой недвижимости  \n",
       "12            NaN                         сыграть свадьбу  \n",
       "13  130458.228857                 приобретение автомобиля  \n",
       "14  165127.911772              покупка жилой недвижимости  \n",
       "15  116820.904450  строительство собственной недвижимости  \n",
       "16  289202.704229                            недвижимость  \n",
       "17   90410.586745              строительство недвижимости  \n",
       "18   56823.777243      на покупку подержанного автомобиля  \n",
       "19  242831.107982            на покупку своего автомобиля  "
      ]
     },
     "execution_count": 2,
     "metadata": {},
     "output_type": "execute_result"
    }
   ],
   "source": [
    "data.head(20)"
   ]
  },
  {
   "cell_type": "markdown",
   "id": "0ed8f27f",
   "metadata": {
    "deletable": false,
    "editable": false,
    "id": "0ed8f27f"
   },
   "source": [
    "**Задание 3. Выведите основную информацию о датафрейме с помощью метода `info()`.**"
   ]
  },
  {
   "cell_type": "code",
   "execution_count": 3,
   "id": "ab3f863b",
   "metadata": {
    "deletable": false,
    "id": "ab3f863b",
    "outputId": "15376089-8dad-46c9-b520-c05248d43158"
   },
   "outputs": [
    {
     "name": "stdout",
     "output_type": "stream",
     "text": [
      "<class 'pandas.core.frame.DataFrame'>\n",
      "RangeIndex: 21525 entries, 0 to 21524\n",
      "Data columns (total 12 columns):\n",
      " #   Column            Non-Null Count  Dtype  \n",
      "---  ------            --------------  -----  \n",
      " 0   children          21525 non-null  int64  \n",
      " 1   days_employed     19351 non-null  float64\n",
      " 2   dob_years         21525 non-null  int64  \n",
      " 3   education         21525 non-null  object \n",
      " 4   education_id      21525 non-null  int64  \n",
      " 5   family_status     21525 non-null  object \n",
      " 6   family_status_id  21525 non-null  int64  \n",
      " 7   gender            21525 non-null  object \n",
      " 8   income_type       21525 non-null  object \n",
      " 9   debt              21525 non-null  int64  \n",
      " 10  total_income      19351 non-null  float64\n",
      " 11  purpose           21525 non-null  object \n",
      "dtypes: float64(2), int64(5), object(5)\n",
      "memory usage: 2.0+ MB\n"
     ]
    }
   ],
   "source": [
    "data.info()"
   ]
  },
  {
   "cell_type": "markdown",
   "id": "60e3e22d",
   "metadata": {
    "deletable": false,
    "editable": false,
    "id": "60e3e22d"
   },
   "source": [
    "## Предобработка данных"
   ]
  },
  {
   "cell_type": "markdown",
   "id": "03dc170c",
   "metadata": {
    "deletable": false,
    "editable": false,
    "id": "03dc170c"
   },
   "source": [
    "### Удаление пропусков"
   ]
  },
  {
   "cell_type": "markdown",
   "id": "a4f54eef",
   "metadata": {
    "deletable": false,
    "editable": false,
    "id": "a4f54eef"
   },
   "source": [
    "**Задание 4. Выведите количество пропущенных значений для каждого столбца. Используйте комбинацию двух методов.**"
   ]
  },
  {
   "cell_type": "code",
   "execution_count": 4,
   "id": "2dc372b2",
   "metadata": {
    "deletable": false,
    "id": "2dc372b2",
    "outputId": "81f4d817-781c-465c-ed15-91ce4446810d"
   },
   "outputs": [
    {
     "data": {
      "text/plain": [
       "children               0\n",
       "days_employed       2174\n",
       "dob_years              0\n",
       "education              0\n",
       "education_id           0\n",
       "family_status          0\n",
       "family_status_id       0\n",
       "gender                 0\n",
       "income_type            0\n",
       "debt                   0\n",
       "total_income        2174\n",
       "purpose                0\n",
       "dtype: int64"
      ]
     },
     "execution_count": 4,
     "metadata": {},
     "output_type": "execute_result"
    }
   ],
   "source": [
    "data.isna().sum()"
   ]
  },
  {
   "cell_type": "markdown",
   "id": "14f011b1",
   "metadata": {
    "deletable": false,
    "editable": false,
    "id": "14f011b1"
   },
   "source": [
    "**Задание 5. В двух столбцах есть пропущенные значения. Один из них — `days_employed`. Пропуски в этом столбце вы обработаете на следующем этапе. Другой столбец с пропущенными значениями — `total_income` — хранит данные о доходах. На сумму дохода сильнее всего влияет тип занятости, поэтому заполнить пропуски в этом столбце нужно медианным значением по каждому типу из столбца `income_type`. Например, у человека с типом занятости `сотрудник` пропуск в столбце `total_income` должен быть заполнен медианным доходом среди всех записей с тем же типом.**"
   ]
  },
  {
   "cell_type": "code",
   "execution_count": 5,
   "id": "bdabfb6e",
   "metadata": {
    "deletable": false,
    "id": "bdabfb6e"
   },
   "outputs": [],
   "source": [
    "for t in data['income_type'].unique():\n",
    "    data.loc[(data['income_type'] == t) & (data['total_income'].isna()), 'total_income'] = \\\n",
    "    data.loc[(data['income_type'] == t), 'total_income'].median()"
   ]
  },
  {
   "cell_type": "markdown",
   "id": "5be34059",
   "metadata": {
    "deletable": false,
    "editable": false,
    "id": "5be34059"
   },
   "source": [
    "### Обработка аномальных значений"
   ]
  },
  {
   "cell_type": "markdown",
   "id": "a87606cb",
   "metadata": {
    "deletable": false,
    "editable": false,
    "id": "a87606cb"
   },
   "source": [
    "**Задание 6. В данных могут встречаться артефакты (аномалии) — значения, которые не отражают действительность и появились по какой-то ошибке. таким артефактом будет отрицательное количество дней трудового стажа в столбце `days_employed`. Для реальных данных это нормально. Обработайте значения в этом столбце: замените все отрицательные значения положительными с помощью метода `abs()`.**"
   ]
  },
  {
   "cell_type": "code",
   "execution_count": 6,
   "id": "020c46cc",
   "metadata": {
    "deletable": false,
    "id": "020c46cc"
   },
   "outputs": [],
   "source": [
    "data['days_employed'] = data['days_employed'].abs()"
   ]
  },
  {
   "cell_type": "markdown",
   "id": "45538a3a",
   "metadata": {
    "deletable": false,
    "editable": false,
    "id": "45538a3a"
   },
   "source": [
    "**Задание 7. Для каждого типа занятости выведите медианное значение трудового стажа `days_employed` в днях.**"
   ]
  },
  {
   "cell_type": "code",
   "execution_count": 7,
   "id": "cd3e6328",
   "metadata": {
    "deletable": false,
    "id": "cd3e6328",
    "outputId": "801ef80e-522b-4668-f34e-565af7432bcf"
   },
   "outputs": [
    {
     "data": {
      "text/plain": [
       "income_type\n",
       "безработный        366413.652744\n",
       "в декрете            3296.759962\n",
       "госслужащий          2689.368353\n",
       "компаньон            1547.382223\n",
       "пенсионер          365213.306266\n",
       "предприниматель       520.848083\n",
       "сотрудник            1574.202821\n",
       "студент               578.751554\n",
       "Name: days_employed, dtype: float64"
      ]
     },
     "execution_count": 7,
     "metadata": {},
     "output_type": "execute_result"
    }
   ],
   "source": [
    "data.groupby('income_type')['days_employed'].agg('median')"
   ]
  },
  {
   "cell_type": "markdown",
   "id": "90c5f058",
   "metadata": {
    "deletable": false,
    "editable": false,
    "id": "90c5f058"
   },
   "source": [
    "У двух типов (безработные и пенсионеры) получатся аномально большие значения. Исправить такие значения сложно, поэтому оставьте их как есть."
   ]
  },
  {
   "cell_type": "markdown",
   "id": "9652e50d",
   "metadata": {
    "deletable": false,
    "editable": false,
    "id": "9652e50d"
   },
   "source": [
    "**Задание 8. Выведите перечень уникальных значений столбца `children`.**"
   ]
  },
  {
   "cell_type": "code",
   "execution_count": 8,
   "id": "dbb37b8e",
   "metadata": {
    "deletable": false,
    "id": "dbb37b8e",
    "outputId": "6975b15c-7f95-4697-d16d-a0c79b657b03"
   },
   "outputs": [
    {
     "data": {
      "text/plain": [
       "array([ 1,  0,  3,  2, -1,  4, 20,  5])"
      ]
     },
     "execution_count": 8,
     "metadata": {},
     "output_type": "execute_result"
    }
   ],
   "source": [
    "data['children'].unique()"
   ]
  },
  {
   "cell_type": "markdown",
   "id": "2b8b0715",
   "metadata": {
    "deletable": false,
    "editable": false,
    "id": "2b8b0715"
   },
   "source": [
    "**Задание 9. В столбце `children` есть два аномальных значения. Удалите строки, в которых встречаются такие аномальные значения из датафрейма `data`.**"
   ]
  },
  {
   "cell_type": "code",
   "execution_count": 9,
   "id": "20009df8",
   "metadata": {
    "deletable": false,
    "id": "20009df8"
   },
   "outputs": [],
   "source": [
    "data = data[(data['children'] != -1) & (data['children'] != 20)]"
   ]
  },
  {
   "cell_type": "markdown",
   "id": "8c6ac9f1",
   "metadata": {
    "deletable": false,
    "editable": false,
    "id": "8c6ac9f1"
   },
   "source": [
    "**Задание 10. Ещё раз выведите перечень уникальных значений столбца `children`, чтобы убедиться, что артефакты удалены.**"
   ]
  },
  {
   "cell_type": "code",
   "execution_count": 10,
   "id": "07337b81",
   "metadata": {
    "deletable": false,
    "id": "07337b81",
    "outputId": "b2097101-d49d-44d9-901b-32a65c9463d1"
   },
   "outputs": [
    {
     "data": {
      "text/plain": [
       "array([1, 0, 3, 2, 4, 5])"
      ]
     },
     "execution_count": 10,
     "metadata": {},
     "output_type": "execute_result"
    }
   ],
   "source": [
    "data['children'].unique()"
   ]
  },
  {
   "cell_type": "markdown",
   "id": "ee3f52d4",
   "metadata": {
    "deletable": false,
    "editable": false,
    "id": "ee3f52d4"
   },
   "source": [
    "### Удаление пропусков (продолжение)"
   ]
  },
  {
   "cell_type": "markdown",
   "id": "a700b0e4",
   "metadata": {
    "deletable": false,
    "editable": false,
    "id": "a700b0e4"
   },
   "source": [
    "**Задание 11. Заполните пропуски в столбце `days_employed` медианными значениями по каждого типа занятости `income_type`.**"
   ]
  },
  {
   "cell_type": "code",
   "execution_count": 11,
   "id": "61946b83",
   "metadata": {
    "deletable": false,
    "id": "61946b83"
   },
   "outputs": [],
   "source": [
    "for t in data['income_type'].unique():\n",
    "    data.loc[(data['income_type'] == t) & (data['days_employed'].isna()), 'days_employed'] = \\\n",
    "    data.loc[(data['income_type'] == t), 'days_employed'].median()"
   ]
  },
  {
   "cell_type": "markdown",
   "id": "550dcd9b",
   "metadata": {
    "deletable": false,
    "editable": false,
    "id": "550dcd9b"
   },
   "source": [
    "**Задание 12. Убедитесь, что все пропуски заполнены. Проверьте себя и ещё раз выведите количество пропущенных значений для каждого столбца с помощью двух методов.**"
   ]
  },
  {
   "cell_type": "code",
   "execution_count": 12,
   "id": "937c7014",
   "metadata": {
    "deletable": false,
    "id": "937c7014",
    "outputId": "8da1e4e1-358e-4e87-98c9-f261bce0a7b2"
   },
   "outputs": [
    {
     "data": {
      "text/plain": [
       "children            0\n",
       "days_employed       0\n",
       "dob_years           0\n",
       "education           0\n",
       "education_id        0\n",
       "family_status       0\n",
       "family_status_id    0\n",
       "gender              0\n",
       "income_type         0\n",
       "debt                0\n",
       "total_income        0\n",
       "purpose             0\n",
       "dtype: int64"
      ]
     },
     "execution_count": 12,
     "metadata": {},
     "output_type": "execute_result"
    }
   ],
   "source": [
    "data.isna().sum()"
   ]
  },
  {
   "cell_type": "markdown",
   "id": "d522e295",
   "metadata": {
    "deletable": false,
    "editable": false,
    "id": "d522e295"
   },
   "source": [
    "### Изменение типов данных"
   ]
  },
  {
   "cell_type": "markdown",
   "id": "c229c581",
   "metadata": {
    "deletable": false,
    "editable": false,
    "id": "c229c581"
   },
   "source": [
    "**Задание 13. Замените вещественный тип данных в столбце `total_income` на целочисленный с помощью метода `astype()`.**"
   ]
  },
  {
   "cell_type": "code",
   "execution_count": 13,
   "id": "31036462",
   "metadata": {
    "deletable": false,
    "id": "31036462"
   },
   "outputs": [],
   "source": [
    "data['total_income'] = data['total_income'].astype(int)"
   ]
  },
  {
   "cell_type": "markdown",
   "id": "b8e3d1d9",
   "metadata": {
    "deletable": false,
    "editable": false,
    "id": "b8e3d1d9"
   },
   "source": [
    "### Обработка дубликатов"
   ]
  },
  {
   "cell_type": "markdown",
   "id": "9be53c49",
   "metadata": {
    "deletable": false,
    "editable": false,
    "id": "9be53c49"
   },
   "source": [
    "**Задание 14. Обработайте неявные дубликаты в столбце `education`. В этом столбце есть одни и те же значения, но записанные по-разному: с использованием заглавных и строчных букв. Приведите их к нижнему регистру.**"
   ]
  },
  {
   "cell_type": "code",
   "execution_count": 14,
   "id": "d89e73e1",
   "metadata": {
    "deletable": false,
    "id": "d89e73e1"
   },
   "outputs": [],
   "source": [
    "data['education'] = data['education'].str.lower()"
   ]
  },
  {
   "cell_type": "markdown",
   "id": "01d4500e",
   "metadata": {
    "deletable": false,
    "editable": false,
    "id": "01d4500e"
   },
   "source": [
    "**Задание 15. Выведите на экран количество строк-дубликатов в данных. Если такие строки присутствуют, удалите их.**"
   ]
  },
  {
   "cell_type": "code",
   "execution_count": 15,
   "id": "e10efb23",
   "metadata": {
    "deletable": false,
    "id": "e10efb23",
    "outputId": "9684deba-1934-42d1-99e1-cda61740f822"
   },
   "outputs": [
    {
     "data": {
      "text/plain": [
       "71"
      ]
     },
     "execution_count": 15,
     "metadata": {},
     "output_type": "execute_result"
    }
   ],
   "source": [
    "data.duplicated().sum()"
   ]
  },
  {
   "cell_type": "code",
   "execution_count": 16,
   "id": "df853f20",
   "metadata": {
    "deletable": false,
    "id": "df853f20"
   },
   "outputs": [],
   "source": [
    "data = data.drop_duplicates()"
   ]
  },
  {
   "cell_type": "markdown",
   "id": "627be38f",
   "metadata": {
    "deletable": false,
    "editable": false,
    "id": "627be38f"
   },
   "source": [
    "### Категоризация данных"
   ]
  },
  {
   "cell_type": "markdown",
   "id": "4684c3e0",
   "metadata": {
    "deletable": false,
    "editable": false,
    "id": "4684c3e0"
   },
   "source": [
    "**Задание 16. На основании диапазонов, указанных ниже, создайте в датафрейме `data` столбец `total_income_category` с категориями:**\n",
    "\n",
    "- 0–30000 — `'E'`;\n",
    "- 30001–50000 — `'D'`;\n",
    "- 50001–200000 — `'C'`;\n",
    "- 200001–1000000 — `'B'`;\n",
    "- 1000001 и выше — `'A'`.\n",
    "\n",
    "\n",
    "**Например, кредитополучателю с доходом 25000 нужно назначить категорию `'E'`, а клиенту, получающему 235000, — `'B'`. Используйте собственную функцию с именем `categorize_income()` и метод `apply()`.**"
   ]
  },
  {
   "cell_type": "code",
   "execution_count": 17,
   "id": "78965238",
   "metadata": {
    "deletable": false,
    "id": "78965238"
   },
   "outputs": [],
   "source": [
    "def categorize_income(income: int) -> str:\n",
    "    \"\"\"Категоризует получателя по уровню дохода. В случае ошибки - ничего не делает.\"\"\"\n",
    "    try:\n",
    "        if 0 <= income <= 30000:\n",
    "            return 'E'\n",
    "        elif 30001 <= income <= 50000:\n",
    "            return 'D'\n",
    "        elif 50001 <= income <= 200000:\n",
    "            return 'C'\n",
    "        elif 200001 <= income <= 1000000:\n",
    "            return 'B'\n",
    "        elif income >= 1000001:\n",
    "            return 'A'\n",
    "    except Exception as err:\n",
    "        print('Возникла ошибка:', err)"
   ]
  },
  {
   "cell_type": "code",
   "execution_count": 18,
   "id": "0980ada1",
   "metadata": {
    "deletable": false,
    "id": "0980ada1"
   },
   "outputs": [],
   "source": [
    "data['total_income_category'] = data['total_income'].apply(categorize_income)"
   ]
  },
  {
   "cell_type": "markdown",
   "id": "9917bba0",
   "metadata": {
    "deletable": false,
    "editable": false,
    "id": "9917bba0"
   },
   "source": [
    "**Задание 17. Выведите на экран перечень уникальных целей взятия кредита из столбца `purpose`.**"
   ]
  },
  {
   "cell_type": "code",
   "execution_count": 19,
   "id": "ee07b65e",
   "metadata": {
    "deletable": false,
    "id": "ee07b65e",
    "outputId": "673c12d9-7d7e-4ae0-9812-c622c89dd244"
   },
   "outputs": [
    {
     "data": {
      "text/plain": [
       "array(['покупка жилья', 'приобретение автомобиля',\n",
       "       'дополнительное образование', 'сыграть свадьбу',\n",
       "       'операции с жильем', 'образование', 'на проведение свадьбы',\n",
       "       'покупка жилья для семьи', 'покупка недвижимости',\n",
       "       'покупка коммерческой недвижимости', 'покупка жилой недвижимости',\n",
       "       'строительство собственной недвижимости', 'недвижимость',\n",
       "       'строительство недвижимости', 'на покупку подержанного автомобиля',\n",
       "       'на покупку своего автомобиля',\n",
       "       'операции с коммерческой недвижимостью',\n",
       "       'строительство жилой недвижимости', 'жилье',\n",
       "       'операции со своей недвижимостью', 'автомобили',\n",
       "       'заняться образованием', 'сделка с подержанным автомобилем',\n",
       "       'получение образования', 'автомобиль', 'свадьба',\n",
       "       'получение дополнительного образования', 'покупка своего жилья',\n",
       "       'операции с недвижимостью', 'получение высшего образования',\n",
       "       'свой автомобиль', 'сделка с автомобилем',\n",
       "       'профильное образование', 'высшее образование',\n",
       "       'покупка жилья для сдачи', 'на покупку автомобиля', 'ремонт жилью',\n",
       "       'заняться высшим образованием'], dtype=object)"
      ]
     },
     "execution_count": 19,
     "metadata": {},
     "output_type": "execute_result"
    }
   ],
   "source": [
    "data['purpose'].unique()"
   ]
  },
  {
   "cell_type": "markdown",
   "id": "52b79d56",
   "metadata": {
    "deletable": false,
    "editable": false,
    "id": "52b79d56"
   },
   "source": [
    "**Задание 18. Создайте функцию, которая на основании данных из столбца `purpose` сформирует новый столбец `purpose_category`, в который войдут следующие категории:**\n",
    "\n",
    "- `'операции с автомобилем'`,\n",
    "- `'операции с недвижимостью'`,\n",
    "- `'проведение свадьбы'`,\n",
    "- `'получение образования'`.\n",
    "\n",
    "**Например, если в столбце `purpose` находится подстрока `'на покупку автомобиля'`, то в столбце `purpose_category` должна появиться строка `'операции с автомобилем'`.**\n",
    "\n",
    "**Используйте собственную функцию с именем `categorize_purpose()` и метод `apply()`. Изучите данные в столбце `purpose` и определите, какие подстроки помогут вам правильно определить категорию.**"
   ]
  },
  {
   "cell_type": "code",
   "execution_count": 20,
   "id": "be41da5d",
   "metadata": {
    "deletable": false,
    "id": "be41da5d"
   },
   "outputs": [],
   "source": [
    "def categorize_purpose(row: str) -> str:\n",
    "    \"\"\"\n",
    "    Категоризирует типы операций по вхождению подстроки.\n",
    "    Если ни одна подстрока не входит в текст, то возращает \"нет категории\".\n",
    "    \"\"\"\n",
    "    try:\n",
    "        if 'автом' in row:\n",
    "            return 'операции с автомобилем'\n",
    "        elif 'жил' in row or 'недвиж' in row:\n",
    "            return 'операции с недвижимостью'\n",
    "        elif 'свад' in row:\n",
    "            return 'проведение свадьбы'\n",
    "        elif 'образов' in row:\n",
    "            return 'получение образования'\n",
    "    except:\n",
    "        return 'нет категории'"
   ]
  },
  {
   "cell_type": "code",
   "execution_count": 21,
   "id": "94c4a19a",
   "metadata": {
    "deletable": false,
    "id": "94c4a19a"
   },
   "outputs": [],
   "source": [
    "data['purpose_category'] = data['purpose'].apply(categorize_purpose)"
   ]
  },
  {
   "cell_type": "markdown",
   "id": "3d596c34",
   "metadata": {
    "deletable": false,
    "editable": false,
    "id": "3d596c34"
   },
   "source": [
    "### Шаг 3. Исследуйте данные и ответьте на вопросы"
   ]
  },
  {
   "cell_type": "markdown",
   "id": "648db036",
   "metadata": {
    "deletable": false,
    "editable": false,
    "id": "648db036"
   },
   "source": [
    "3.1 Есть ли зависимость между количеством детей и возвратом кредита в срок?"
   ]
  },
  {
   "cell_type": "code",
   "execution_count": 22,
   "id": "7fcff25e",
   "metadata": {
    "deletable": false,
    "id": "7fcff25e"
   },
   "outputs": [
    {
     "name": "stdout",
     "output_type": "stream",
     "text": [
      "Процент невозвратов без детей: 5%\n",
      "Процент невозвратов с детьми: 3%\n"
     ]
    }
   ],
   "source": [
    "# Определим сколько было должников с детьми и без детей\n",
    "has_no_children = data[(data['children'] == 0) & (data['debt'] != 0)]['debt'].count()\n",
    "have_a_children = data[(data['children'] != 0) & (data['debt'] != 0)]['debt'].count()\n",
    "\n",
    "# Определим процент просрочек от общего количества кредитов\n",
    "data_count = data['total_income']. count()\n",
    "debt_without_children = has_no_children / data_count\n",
    "debt_with_children = have_a_children / data_count\n",
    "print(f\"Процент невозвратов без детей: {debt_without_children:.0%}\")\n",
    "print(f\"Процент невозвратов с детьми: {debt_with_children:.0%}\")"
   ]
  },
  {
   "cell_type": "code",
   "execution_count": 23,
   "id": "984496cf",
   "metadata": {},
   "outputs": [
    {
     "data": {
      "image/png": "[encoded data removed]",
      "text/plain": [
       "<Figure size 640x480 with 1 Axes>"
      ]
     },
     "metadata": {},
     "output_type": "display_data"
    }
   ],
   "source": [
    "# Очевидную обработку по наличию и отсутсвию детей мы провели, но как влияет количество детей в семье на возврат кредита в срок?\n",
    "family_count_children = data[(data['children'] != 0) & (data['debt'] != 0)].groupby('children')['debt'].count()\n",
    "debt_count_children = (family_count_children / data_count) * 100\n",
    "\n",
    "# Данные по количеству детей визуализируем через график для удобства восприятия\n",
    "ax_count_children = debt_count_children.plot.bar(\n",
    "    x=debt_count_children,\n",
    "    y=debt_count_children.index,\n",
    "    rot=0,\n",
    "    title='Процент невозвратов от количества детей',\n",
    "    legend=True,\n",
    "    xlabel='Кол-во детей',\n",
    "    ylabel='Процент невозвратов')"
   ]
  },
  {
   "cell_type": "code",
   "execution_count": 24,
   "id": "5946e2f8",
   "metadata": {},
   "outputs": [
    {
     "data": {
      "text/html": [
       "<div>\n",
       "<style scoped>\n",
       "    .dataframe tbody tr th:only-of-type {\n",
       "        vertical-align: middle;\n",
       "    }\n",
       "\n",
       "    .dataframe tbody tr th {\n",
       "        vertical-align: top;\n",
       "    }\n",
       "\n",
       "    .dataframe thead th {\n",
       "        text-align: right;\n",
       "    }\n",
       "</style>\n",
       "<table border=\"1\" class=\"dataframe\">\n",
       "  <thead>\n",
       "    <tr style=\"text-align: right;\">\n",
       "      <th></th>\n",
       "      <th>Кол-во клиентов</th>\n",
       "      <th>Кол-во невозвратов</th>\n",
       "      <th>Доля невозвратов</th>\n",
       "    </tr>\n",
       "    <tr>\n",
       "      <th>Кол-во детей</th>\n",
       "      <th></th>\n",
       "      <th></th>\n",
       "      <th></th>\n",
       "    </tr>\n",
       "  </thead>\n",
       "  <tbody>\n",
       "    <tr>\n",
       "      <th>0</th>\n",
       "      <td>14091</td>\n",
       "      <td>1063</td>\n",
       "      <td>7.54</td>\n",
       "    </tr>\n",
       "    <tr>\n",
       "      <th>1</th>\n",
       "      <td>4808</td>\n",
       "      <td>444</td>\n",
       "      <td>9.23</td>\n",
       "    </tr>\n",
       "    <tr>\n",
       "      <th>2</th>\n",
       "      <td>2052</td>\n",
       "      <td>194</td>\n",
       "      <td>9.45</td>\n",
       "    </tr>\n",
       "    <tr>\n",
       "      <th>3</th>\n",
       "      <td>330</td>\n",
       "      <td>27</td>\n",
       "      <td>8.18</td>\n",
       "    </tr>\n",
       "    <tr>\n",
       "      <th>4</th>\n",
       "      <td>41</td>\n",
       "      <td>4</td>\n",
       "      <td>9.76</td>\n",
       "    </tr>\n",
       "    <tr>\n",
       "      <th>5</th>\n",
       "      <td>9</td>\n",
       "      <td>0</td>\n",
       "      <td>0.00</td>\n",
       "    </tr>\n",
       "  </tbody>\n",
       "</table>\n",
       "</div>"
      ],
      "text/plain": [
       "              Кол-во клиентов  Кол-во невозвратов  Доля невозвратов\n",
       "Кол-во детей                                                       \n",
       "0                       14091                1063              7.54\n",
       "1                        4808                 444              9.23\n",
       "2                        2052                 194              9.45\n",
       "3                         330                  27              8.18\n",
       "4                          41                   4              9.76\n",
       "5                           9                   0              0.00"
      ]
     },
     "metadata": {},
     "output_type": "display_data"
    }
   ],
   "source": [
    "# Построим сводную таблицу\n",
    "pivot_children = data.pivot_table(index=['children'], values='debt', aggfunc=['count', 'sum'])\n",
    "pivot_children['Доля невозвратов'] = round(\n",
    "    (pivot_children[('sum', 'debt')] / pivot_children[('count', 'debt')]) * 100, 2\n",
    ")\n",
    "pivot_children.columns = ['Кол-во клиентов', 'Кол-во невозвратов', 'Доля невозвратов']\n",
    "pivot_children.index.name = 'Кол-во детей'\n",
    "display(pivot_children)\n"
   ]
  },
  {
   "cell_type": "markdown",
   "id": "d6a5fadc",
   "metadata": {},
   "source": [
    "**Вывод:**  \n",
    "При пересчете оказалось, что доля невозвратов у клиентов без детей меньше, чем у клиентов с детьми. Так же наблюдается тенденция к росту доли невозвратов с ростом количества детей. "
   ]
  },
  {
   "cell_type": "markdown",
   "id": "74c9b3a7",
   "metadata": {
    "deletable": false,
    "editable": false,
    "id": "74c9b3a7"
   },
   "source": [
    "3.2 Есть ли зависимость между семейным положением и возвратом кредита в срок?"
   ]
  },
  {
   "cell_type": "code",
   "execution_count": 25,
   "id": "8098ab3b",
   "metadata": {
    "deletable": false,
    "id": "8098ab3b"
   },
   "outputs": [
    {
     "data": {
      "image/png": "[encoded data removed]",
      "text/plain": [
       "<Figure size 640x480 with 1 Axes>"
      ]
     },
     "metadata": {},
     "output_type": "display_data"
    }
   ],
   "source": [
    "# Определим долю должников в зависимости от семейного положения\n",
    "family_status_all =  data.groupby('family_status')['debt'].count()\n",
    "family_status = data[data['debt'] != 0].groupby('family_status')['debt'].count()\n",
    "debt_family_status = round((family_status / family_status_all)*100, 2)\n",
    "\n",
    "# Данные визуализируем\n",
    "ax_family_status = debt_family_status.plot.bar(\n",
    "    x=debt_family_status,\n",
    "    y=debt_family_status.index,\n",
    "    rot=20,\n",
    "    title='Процент невозвратов по семейному положению',\n",
    "    legend=True,\n",
    "    xlabel='Семейный статус',\n",
    "    ylabel='Процент невозвратов')"
   ]
  },
  {
   "cell_type": "markdown",
   "id": "c389ca63",
   "metadata": {
    "deletable": false,
    "id": "c389ca63"
   },
   "source": [
    "**Вывод:** \n",
    "На графике хорошо видно, что процент невозвратов выше, если человек не в браке или живет в гражданском браке. Среди женатых или женатых ранее(разведенных, вдовцов) процент невозвратов ниже. Креди чаще в срок вернут те, кто женат/замежем, либо ранее был женат замужем."
   ]
  },
  {
   "cell_type": "code",
   "execution_count": 26,
   "id": "8198b5c7",
   "metadata": {},
   "outputs": [
    {
     "data": {
      "text/html": [
       "<div>\n",
       "<style scoped>\n",
       "    .dataframe tbody tr th:only-of-type {\n",
       "        vertical-align: middle;\n",
       "    }\n",
       "\n",
       "    .dataframe tbody tr th {\n",
       "        vertical-align: top;\n",
       "    }\n",
       "\n",
       "    .dataframe thead th {\n",
       "        text-align: right;\n",
       "    }\n",
       "</style>\n",
       "<table border=\"1\" class=\"dataframe\">\n",
       "  <thead>\n",
       "    <tr style=\"text-align: right;\">\n",
       "      <th></th>\n",
       "      <th>Кол-во клиентов</th>\n",
       "      <th>Кол-во невозвратов</th>\n",
       "      <th>Доля невозвратов</th>\n",
       "    </tr>\n",
       "    <tr>\n",
       "      <th>Семейный статус</th>\n",
       "      <th></th>\n",
       "      <th></th>\n",
       "      <th></th>\n",
       "    </tr>\n",
       "  </thead>\n",
       "  <tbody>\n",
       "    <tr>\n",
       "      <th>Не женат / не замужем</th>\n",
       "      <td>2796</td>\n",
       "      <td>273</td>\n",
       "      <td>9.76</td>\n",
       "    </tr>\n",
       "    <tr>\n",
       "      <th>в разводе</th>\n",
       "      <td>1189</td>\n",
       "      <td>84</td>\n",
       "      <td>7.06</td>\n",
       "    </tr>\n",
       "    <tr>\n",
       "      <th>вдовец / вдова</th>\n",
       "      <td>951</td>\n",
       "      <td>63</td>\n",
       "      <td>6.62</td>\n",
       "    </tr>\n",
       "    <tr>\n",
       "      <th>гражданский брак</th>\n",
       "      <td>4134</td>\n",
       "      <td>385</td>\n",
       "      <td>9.31</td>\n",
       "    </tr>\n",
       "    <tr>\n",
       "      <th>женат / замужем</th>\n",
       "      <td>12261</td>\n",
       "      <td>927</td>\n",
       "      <td>7.56</td>\n",
       "    </tr>\n",
       "  </tbody>\n",
       "</table>\n",
       "</div>"
      ],
      "text/plain": [
       "                       Кол-во клиентов  Кол-во невозвратов  Доля невозвратов\n",
       "Семейный статус                                                             \n",
       "Не женат / не замужем             2796                 273              9.76\n",
       "в разводе                         1189                  84              7.06\n",
       "вдовец / вдова                     951                  63              6.62\n",
       "гражданский брак                  4134                 385              9.31\n",
       "женат / замужем                  12261                 927              7.56"
      ]
     },
     "metadata": {},
     "output_type": "display_data"
    }
   ],
   "source": [
    "# Построим сводную таблицу \n",
    "pivot_family = data.pivot_table(index=['family_status'], values='debt', aggfunc=['count', 'sum'])\n",
    "pivot_family['Доля невозвратов'] = round(\n",
    "    (pivot_family[('sum', 'debt')] / pivot_family[('count', 'debt')]) * 100, 2\n",
    ")\n",
    "pivot_family.columns = ['Кол-во клиентов', 'Кол-во невозвратов', 'Доля невозвратов']\n",
    "pivot_family.index.name = 'Семейный статус'\n",
    "display(pivot_family)"
   ]
  },
  {
   "cell_type": "markdown",
   "id": "9529de68",
   "metadata": {
    "deletable": false,
    "editable": false,
    "id": "9529de68"
   },
   "source": [
    "3.3 Есть ли зависимость между уровнем дохода и возвратом кредита в срок?"
   ]
  },
  {
   "cell_type": "code",
   "execution_count": 27,
   "id": "8787f44a",
   "metadata": {
    "deletable": false,
    "id": "8787f44a"
   },
   "outputs": [
    {
     "data": {
      "image/png": "[encoded data removed]",
      "text/plain": [
       "<Figure size 640x480 with 1 Axes>"
      ]
     },
     "metadata": {},
     "output_type": "display_data"
    }
   ],
   "source": [
    "# Определим долю должников в зависимости от уровня дохода\n",
    "income_all = data.groupby('total_income_category')['debt'].count()\n",
    "income = data[data['debt'] != 0].groupby('total_income_category')['debt'].count()\n",
    "debt_income_all = round((income / income_all) * 100 , 2)\n",
    "\n",
    "# Данные визуализируем\n",
    "ax_debt_income = debt_income_all.plot.bar(\n",
    "    x=debt_income_all,\n",
    "    y=debt_income_all.index,\n",
    "    rot=0,\n",
    "    title='Процент невозвратов по уровню дохода',\n",
    "    legend=True,\n",
    "    xlabel='Уровень доходов',\n",
    "    ylabel='Процент невозвратов')"
   ]
  },
  {
   "cell_type": "markdown",
   "id": "6dd14b57",
   "metadata": {
    "deletable": false,
    "id": "6dd14b57"
   },
   "source": [
    "**Вывод:** \n",
    "На рафике видно, что уровень дохода значительно не влияет на возврат кредита в срок."
   ]
  },
  {
   "cell_type": "markdown",
   "id": "0dd7d809",
   "metadata": {},
   "source": [
    "<div class=\"alert alert-info\">\n",
    "\n",
    "#### **Артём:** 💡 Дам тебе совет на будущее, как лучше проводить категоризацию количественных данных. **В этом проекте переделывать ничего не надо, так как заказчик уже предложил свои категории.** Если только как дополнительное исследование.\n",
    "    \n",
    "Сейчас самая маленькая категория в 728 раз меньше самой большой. Это может отразиться на результатах исследования. Когда мы делим на категории количественные данные, то лучше их делать примерно одинаковыми. Для этого можно воспользоваться методом `qcut()`. Пример:\n",
    "    \n",
    "```py\n",
    "pd.qcut(df['total_income'], 4)\n",
    "```\n",
    "    \n",
    "```\n",
    "Name: total_income, Length: 21453, dtype: category\n",
    "Categories (4, interval[float64]): [(20666.999, 107620.0]  (107620.0, 142594.0]  (142594.0, 195818.0]  (195818.0, 2265604.0]]\n",
    "```\n",
    "                                                                                                               \n",
    "Что внутри: \n",
    "    \n",
    "```py\n",
    "pd.qcut(датафрейм['столбец'], количество_категорий)\n",
    "``` \n",
    "    \n",
    "Итого у нас 4 категории:\n",
    "<ul>\n",
    "  <li>меньше 107_620</li>\n",
    "  <li>от 107_620 до 142_594</li>\n",
    "  <li>от 142_594 до 195_818</li>\n",
    "  <li>от 195_818</li>\n",
    "</ul>"
   ]
  },
  {
   "cell_type": "code",
   "execution_count": 28,
   "id": "dd59464a",
   "metadata": {},
   "outputs": [
    {
     "data": {
      "text/html": [
       "<div>\n",
       "<style scoped>\n",
       "    .dataframe tbody tr th:only-of-type {\n",
       "        vertical-align: middle;\n",
       "    }\n",
       "\n",
       "    .dataframe tbody tr th {\n",
       "        vertical-align: top;\n",
       "    }\n",
       "\n",
       "    .dataframe thead th {\n",
       "        text-align: right;\n",
       "    }\n",
       "</style>\n",
       "<table border=\"1\" class=\"dataframe\">\n",
       "  <thead>\n",
       "    <tr style=\"text-align: right;\">\n",
       "      <th></th>\n",
       "      <th>Кол-во клиентов</th>\n",
       "      <th>Кол-во невозвратов</th>\n",
       "      <th>Доля невозвратов</th>\n",
       "    </tr>\n",
       "    <tr>\n",
       "      <th>Уровень доходов</th>\n",
       "      <th></th>\n",
       "      <th></th>\n",
       "      <th></th>\n",
       "    </tr>\n",
       "  </thead>\n",
       "  <tbody>\n",
       "    <tr>\n",
       "      <th>A</th>\n",
       "      <td>25</td>\n",
       "      <td>2</td>\n",
       "      <td>8.00</td>\n",
       "    </tr>\n",
       "    <tr>\n",
       "      <th>B</th>\n",
       "      <td>5014</td>\n",
       "      <td>354</td>\n",
       "      <td>7.06</td>\n",
       "    </tr>\n",
       "    <tr>\n",
       "      <th>C</th>\n",
       "      <td>15921</td>\n",
       "      <td>1353</td>\n",
       "      <td>8.50</td>\n",
       "    </tr>\n",
       "    <tr>\n",
       "      <th>D</th>\n",
       "      <td>349</td>\n",
       "      <td>21</td>\n",
       "      <td>6.02</td>\n",
       "    </tr>\n",
       "    <tr>\n",
       "      <th>E</th>\n",
       "      <td>22</td>\n",
       "      <td>2</td>\n",
       "      <td>9.09</td>\n",
       "    </tr>\n",
       "  </tbody>\n",
       "</table>\n",
       "</div>"
      ],
      "text/plain": [
       "                 Кол-во клиентов  Кол-во невозвратов  Доля невозвратов\n",
       "Уровень доходов                                                       \n",
       "A                             25                   2              8.00\n",
       "B                           5014                 354              7.06\n",
       "C                          15921                1353              8.50\n",
       "D                            349                  21              6.02\n",
       "E                             22                   2              9.09"
      ]
     },
     "metadata": {},
     "output_type": "display_data"
    }
   ],
   "source": [
    "# Построим сводную таблицу \n",
    "pivot_income = data.pivot_table(index=['total_income_category'], values='debt', aggfunc=['count', 'sum'])\n",
    "pivot_income['Доля невозвратов'] = round(\n",
    "    (pivot_income[('sum', 'debt')] / pivot_income[('count', 'debt')]) * 100, 2\n",
    ")\n",
    "pivot_income.columns = ['Кол-во клиентов', 'Кол-во невозвратов', 'Доля невозвратов']\n",
    "pivot_income.index.name = 'Уровень доходов'\n",
    "display(pivot_income)"
   ]
  },
  {
   "cell_type": "markdown",
   "id": "1dcc9b12",
   "metadata": {
    "deletable": false,
    "editable": false,
    "id": "1dcc9b12"
   },
   "source": [
    "3.4 Как разные цели кредита влияют на его возврат в срок?"
   ]
  },
  {
   "cell_type": "code",
   "execution_count": 29,
   "id": "c602bc8b",
   "metadata": {
    "deletable": false,
    "id": "c602bc8b"
   },
   "outputs": [
    {
     "data": {
      "image/png": "[encoded data removed]",
      "text/plain": [
       "<Figure size 640x480 with 1 Axes>"
      ]
     },
     "metadata": {},
     "output_type": "display_data"
    }
   ],
   "source": [
    "# Определим долю должников в зависимости от цели кредита\n",
    "purpose_all = data.groupby('purpose_category')['debt'].count()\n",
    "purpose = data[data['debt'] != 0].groupby('purpose_category')['debt'].count()\n",
    "debt_purpose_all = round((purpose / purpose_all) * 100 , 2)\n",
    "\n",
    "# Данные визуализируем\n",
    "ax_purpose = debt_purpose_all.plot.bar(\n",
    "    x=debt_purpose_all,\n",
    "    y=debt_purpose_all.index,\n",
    "    rot=25,\n",
    "    title='Процент невозвратов по целям кредита',\n",
    "    legend=True,\n",
    "    xlabel='Цели',\n",
    "    ylabel='Процент невозвратов')"
   ]
  },
  {
   "cell_type": "markdown",
   "id": "cf05ed63",
   "metadata": {
    "deletable": false,
    "id": "cf05ed63"
   },
   "source": [
    "**Вывод:** \n",
    "В этом случае цели можно сгруппировать по парам: процент невозвратов при операциях с недвижимостью и проведением свадьбы ниже, чем при операцияс с автомобилем и получением образования. Можно предположить, что недвижимость и свадьба являются более важным событием и люди подходят к нему с большей мерой ответственности, чем покупка авто и получение образования. "
   ]
  },
  {
   "cell_type": "code",
   "execution_count": 30,
   "id": "17891201",
   "metadata": {},
   "outputs": [
    {
     "data": {
      "text/html": [
       "<div>\n",
       "<style scoped>\n",
       "    .dataframe tbody tr th:only-of-type {\n",
       "        vertical-align: middle;\n",
       "    }\n",
       "\n",
       "    .dataframe tbody tr th {\n",
       "        vertical-align: top;\n",
       "    }\n",
       "\n",
       "    .dataframe thead th {\n",
       "        text-align: right;\n",
       "    }\n",
       "</style>\n",
       "<table border=\"1\" class=\"dataframe\">\n",
       "  <thead>\n",
       "    <tr style=\"text-align: right;\">\n",
       "      <th></th>\n",
       "      <th>Кол-во клиентов</th>\n",
       "      <th>Кол-во невозвратов</th>\n",
       "      <th>Доля невозвратов</th>\n",
       "    </tr>\n",
       "    <tr>\n",
       "      <th>Цели кредита</th>\n",
       "      <th></th>\n",
       "      <th></th>\n",
       "      <th></th>\n",
       "    </tr>\n",
       "  </thead>\n",
       "  <tbody>\n",
       "    <tr>\n",
       "      <th>операции с автомобилем</th>\n",
       "      <td>4279</td>\n",
       "      <td>400</td>\n",
       "      <td>9.35</td>\n",
       "    </tr>\n",
       "    <tr>\n",
       "      <th>операции с недвижимостью</th>\n",
       "      <td>10751</td>\n",
       "      <td>780</td>\n",
       "      <td>7.26</td>\n",
       "    </tr>\n",
       "    <tr>\n",
       "      <th>получение образования</th>\n",
       "      <td>3988</td>\n",
       "      <td>369</td>\n",
       "      <td>9.25</td>\n",
       "    </tr>\n",
       "    <tr>\n",
       "      <th>проведение свадьбы</th>\n",
       "      <td>2313</td>\n",
       "      <td>183</td>\n",
       "      <td>7.91</td>\n",
       "    </tr>\n",
       "  </tbody>\n",
       "</table>\n",
       "</div>"
      ],
      "text/plain": [
       "                          Кол-во клиентов  Кол-во невозвратов  \\\n",
       "Цели кредита                                                    \n",
       "операции с автомобилем               4279                 400   \n",
       "операции с недвижимостью            10751                 780   \n",
       "получение образования                3988                 369   \n",
       "проведение свадьбы                   2313                 183   \n",
       "\n",
       "                          Доля невозвратов  \n",
       "Цели кредита                                \n",
       "операции с автомобилем                9.35  \n",
       "операции с недвижимостью              7.26  \n",
       "получение образования                 9.25  \n",
       "проведение свадьбы                    7.91  "
      ]
     },
     "metadata": {},
     "output_type": "display_data"
    }
   ],
   "source": [
    "# Построим сводную таблицу \n",
    "pivot_purpose = data.pivot_table(index=['purpose_category'], values='debt', aggfunc=['count', 'sum'])\n",
    "pivot_purpose['Доля невозвратов'] = round(\n",
    "    (pivot_purpose[('sum', 'debt')] / pivot_purpose[('count', 'debt')]) * 100, 2\n",
    ")\n",
    "pivot_purpose.columns = ['Кол-во клиентов', 'Кол-во невозвратов', 'Доля невозвратов']\n",
    "pivot_purpose.index.name = 'Цели кредита'\n",
    "display(pivot_purpose)"
   ]
  },
  {
   "cell_type": "markdown",
   "id": "46c1f10b",
   "metadata": {
    "deletable": false,
    "editable": false,
    "id": "46c1f10b"
   },
   "source": [
    "3.5 Приведите возможные причины появления пропусков в исходных данных."
   ]
  },
  {
   "cell_type": "markdown",
   "id": "3697d2a9",
   "metadata": {
    "deletable": false,
    "id": "3697d2a9"
   },
   "source": [
    "*Ответ:* возможно люди не захотели указывать свой трудовой стаж и месячный доход, чтобы получить одобрение кредитной заявки. В то же время эти поля на формах не являются обязательными и их можно пропустить при заполнении. Есть вероятность, что при отсуствии тех или иных данных человеку скорее одобрят кредит, чем не одобрят и, заметив такую тенденцию, операторы на местах в спорных случаях пропускают эти графы. Если расценивать пропуски как какую-то осознанную причину. Если же расценить на этапе обработки данных - кто-то не составил документацию к таблице и для некоторых клиентов были изменнеия в номере/названии столбца, что они не попали в выборку. Если таблицы склеивались из разных таблиц, то допустив, что это не мы склеивали - кто-то совершил ошибку и потерял часть данных. Так же есть вариант, что эти данные стали новыми и до определенного момента не требовались к заполнению, почему мы и получаем пустые значения для определенных клиентов. Что в целом так же можно проверить."
   ]
  },
  {
   "cell_type": "markdown",
   "id": "3137d257",
   "metadata": {
    "deletable": false,
    "editable": false,
    "id": "3137d257"
   },
   "source": [
    "3.6 Объясните, почему заполнить пропуски медианным значением — лучшее решение для количественных переменных."
   ]
  },
  {
   "cell_type": "markdown",
   "id": "cf40012a",
   "metadata": {
    "deletable": false,
    "id": "cf40012a"
   },
   "source": [
    "*Ответ:* таким образом мы берем медианное значение, которое не оказывает значительного влияния на выборку в целом. Если таких пропусков не много, то они в целом не исказят данные. Если же таких пропусков будет много, то и медианное значение, и среднее значение будут искажать данные в нашей выборке. "
   ]
  },
  {
   "cell_type": "markdown",
   "id": "f5062d5d",
   "metadata": {},
   "source": [
    "Видимо, моя фраза \"не оказывает значительного влияния на выборку в целом\" слишком коротко звучит и не демонстрирует моё понимание.  \n",
    "  \n",
    "Медиана как бы сортирует все значения и выбирает среднее в этом списке(условно назовем списком), что очень удобно для количественных переменных. В отличие от среднего, которое складывает все количественные переменные и делит на их общее количество выдавая таким образом среднее. Поэтому мдеиана не оказывает значительного влияния на выборку в целом. То есть при данных [0, 10, 10, 15, 25, 40, 50] медианой будет 15, а средним 21,43. В то же время если бы было так [0, 10, 10, 15, 25, 200, None], то мы бы заменили неизвестное значение на медиану и оно бы не выбивалось из общего фона, в отличие от среднего.  \n",
    "   \n",
    "При этом я под \"не оказывает значительного влияния на выборку в целом\" я рассматривал вариант [None, None, None, 15, 14, 0, 16, None, None ]. Если мы в такой выборке заменим неизвестные значения на медианное, то оно окажет значительное влияние на выборку и это не лучший вариант, как и использовать среднее. Поскольку в заголовке не было дополнения типа \"лучшее решение для количественных переменных в данном случае\", то я решил учесть разные варианты и использовал несколько размытую формулировку."
   ]
  },
  {
   "cell_type": "markdown",
   "id": "57bc304e",
   "metadata": {
    "deletable": false,
    "editable": false,
    "id": "57bc304e"
   },
   "source": [
    "### Шаг 4: общий вывод."
   ]
  },
  {
   "cell_type": "markdown",
   "id": "f2341e82",
   "metadata": {},
   "source": [
    "**Общий вывод:**  \n",
    "  \n",
    "* Доля невозвратов у клиентов без детей меньше, чем у клиентов с детьми. Так же наблюдается тенденция к росту доли невозвратов с ростом количества детей, что логически объясняется необходимостью больших трат на семейный бюджет;\n",
    "* Существует зависимость между семейным положением и возвратом кредита в срок, по которой можно судить о том, что семейные люди(в том числе состоявшие в браке ранее) относятся к своевременному возврату кредита так же более ответственно, чем не семейные или живущие в гражданском браке;\n",
    "* Четкой зависимости между среднемесячным уровнем дохода и возвратом кредита в срок не наблюдается;\n",
    "* Разные цели кредита так же влияют на вероятность своевременного возврата кредита в срок. При покупке недвижимости или трат на свадьбу, процент возврата будет выше, поскольку к этому делу люди относятся более ответственно. В тоже время при кредиты на автомобили или образование не вызывают чувства ответсвенности и доля невозвратов в этих случаях выше."
   ]
  },
  {
   "cell_type": "markdown",
   "id": "575a32b6",
   "metadata": {},
   "source": [
    "<div class=\"alert alert-success\">   \n",
    "    \n",
    "#### 📖 **Полезные ссылки**\n",
    "\n",
    "* [Работа в Яндексе](https://yandex.ru/jobs/pages/analytics_interview?ysclid=l84s63fs1g790141490)\n",
    "* [Настройте свой Jupyter Notebook правильно](https://medium.com/nuances-of-programming/настройте-свой-jupyter-notebook-правильно-faef14c89434)    \n",
    "* [Краткое руководство по Маркдауну](https://paulradzkov.com/2014/markdown_cheatsheet/?)\n",
    "* [PEP 8 – Style Guide for Python Code](https://www.python.org/dev/peps/pep-0008/)    \n",
    "* [Обработка пропусков в данных](https://loginom.ru/blog/missing)  \n",
    "* [Разделение данных с помощью qcut и cut в Pandas](https://dfedorov.spb.ru/pandas/Разделение%20данных%20в%20Pandas%20с%20помощью%20qcut%20и%20cut.html?)  \n",
    "* [Официальная документаци метода qcut](https://pandas.pydata.org/pandas-docs/stable/reference/api/pandas.qcut.html)  \n",
    "* [Подробное руководство по группировке и агрегированию с помощью pandas](https://dfedorov.spb.ru/pandas/Подробное%20руководство%20по%20группировке%20и%20агрегированию%20с%20помощью%20pandas.html?ysclid=lcmm6rtg2w602526506)\n",
    "* [Шпаргалка по визуализации данных в Python с помощью Plotly](https://habr.com/ru/articles/502958/) \n",
    "* [Задачки SQL](https://habr.com/ru/company/dcmiran/blog/500360/)    \n",
    "* [7 cайтов для оттачивания навыка написания SQL запросов на 2020 год](https://techrocks.ru/2019/11/22/7-sites-to-perfect-sql-query-writing-skills/)\n",
    "* [Главред помогает очистить текст от словесного мусора, проверяет на соответствие информационному стилю.](https://glvrd.ru)\n",
    "\n",
    "</div>"
   ]
  }
 ],
 "metadata": {
  "ExecuteTimeLog": [
   {
    "duration": 54,
    "start_time": "2023-07-23T07:13:04.448Z"
   },
   {
    "duration": 509,
    "start_time": "2023-07-23T07:13:15.146Z"
   },
   {
    "duration": 22,
    "start_time": "2023-07-23T07:13:15.657Z"
   },
   {
    "duration": 55,
    "start_time": "2023-07-23T07:13:15.681Z"
   },
   {
    "duration": 12,
    "start_time": "2023-07-23T07:13:15.738Z"
   },
   {
    "duration": 51,
    "start_time": "2023-07-23T07:13:15.752Z"
   },
   {
    "duration": 3,
    "start_time": "2023-07-23T07:13:15.805Z"
   },
   {
    "duration": 14,
    "start_time": "2023-07-23T07:13:15.810Z"
   },
   {
    "duration": 4,
    "start_time": "2023-07-23T07:13:15.826Z"
   },
   {
    "duration": 26,
    "start_time": "2023-07-23T07:13:15.832Z"
   },
   {
    "duration": 12,
    "start_time": "2023-07-23T07:13:15.860Z"
   },
   {
    "duration": 54,
    "start_time": "2023-07-23T07:13:15.873Z"
   },
   {
    "duration": 13,
    "start_time": "2023-07-23T07:13:15.928Z"
   },
   {
    "duration": 9,
    "start_time": "2023-07-23T07:13:15.942Z"
   },
   {
    "duration": 16,
    "start_time": "2023-07-23T07:13:15.954Z"
   },
   {
    "duration": 23,
    "start_time": "2023-07-23T07:13:15.971Z"
   },
   {
    "duration": 25,
    "start_time": "2023-07-23T07:13:15.996Z"
   },
   {
    "duration": 4,
    "start_time": "2023-07-23T07:13:16.022Z"
   },
   {
    "duration": 43,
    "start_time": "2023-07-23T07:13:16.027Z"
   },
   {
    "duration": 23,
    "start_time": "2023-07-23T07:13:16.072Z"
   },
   {
    "duration": 24,
    "start_time": "2023-07-23T07:13:16.097Z"
   },
   {
    "duration": 24,
    "start_time": "2023-07-23T07:13:16.123Z"
   },
   {
    "duration": 2002,
    "start_time": "2023-07-23T07:13:16.148Z"
   },
   {
    "duration": 0,
    "start_time": "2023-07-23T07:13:18.152Z"
   },
   {
    "duration": 0,
    "start_time": "2023-07-23T07:13:18.154Z"
   },
   {
    "duration": 0,
    "start_time": "2023-07-23T07:13:18.155Z"
   },
   {
    "duration": 12,
    "start_time": "2023-07-23T07:13:34.471Z"
   },
   {
    "duration": 6,
    "start_time": "2023-07-23T07:13:47.428Z"
   },
   {
    "duration": 8,
    "start_time": "2023-07-23T07:15:08.707Z"
   },
   {
    "duration": 8,
    "start_time": "2023-07-23T07:19:08.373Z"
   },
   {
    "duration": 13,
    "start_time": "2023-07-23T07:19:26.206Z"
   },
   {
    "duration": 11,
    "start_time": "2023-07-23T07:19:35.754Z"
   },
   {
    "duration": 8,
    "start_time": "2023-07-23T07:20:05.716Z"
   },
   {
    "duration": 180,
    "start_time": "2023-07-23T07:20:15.319Z"
   },
   {
    "duration": 9,
    "start_time": "2023-07-23T07:20:24.337Z"
   },
   {
    "duration": 12,
    "start_time": "2023-07-23T07:21:21.574Z"
   },
   {
    "duration": 10,
    "start_time": "2023-07-23T07:21:32.209Z"
   },
   {
    "duration": 10,
    "start_time": "2023-07-23T07:21:45.223Z"
   },
   {
    "duration": 11,
    "start_time": "2023-07-23T07:21:58.213Z"
   },
   {
    "duration": 10,
    "start_time": "2023-07-23T07:24:35.213Z"
   },
   {
    "duration": 9,
    "start_time": "2023-07-23T07:28:06.703Z"
   },
   {
    "duration": 12,
    "start_time": "2023-07-23T07:29:27.406Z"
   },
   {
    "duration": 14,
    "start_time": "2023-07-23T07:30:02.565Z"
   },
   {
    "duration": 126,
    "start_time": "2023-07-23T07:31:32.255Z"
   },
   {
    "duration": 18,
    "start_time": "2023-07-23T07:31:50.809Z"
   },
   {
    "duration": 13,
    "start_time": "2023-07-23T07:32:07.503Z"
   },
   {
    "duration": 154,
    "start_time": "2023-07-23T07:35:01.378Z"
   },
   {
    "duration": 14,
    "start_time": "2023-07-23T07:36:20.615Z"
   },
   {
    "duration": 14,
    "start_time": "2023-07-23T07:36:42.686Z"
   },
   {
    "duration": 13,
    "start_time": "2023-07-23T07:36:49.535Z"
   },
   {
    "duration": 14,
    "start_time": "2023-07-23T07:36:56.488Z"
   },
   {
    "duration": 15,
    "start_time": "2023-07-23T07:38:55.347Z"
   },
   {
    "duration": 19,
    "start_time": "2023-07-23T07:39:07.990Z"
   },
   {
    "duration": 24,
    "start_time": "2023-07-23T07:39:15.371Z"
   },
   {
    "duration": 16,
    "start_time": "2023-07-23T07:39:40.566Z"
   },
   {
    "duration": 17,
    "start_time": "2023-07-23T07:40:29.622Z"
   },
   {
    "duration": 15,
    "start_time": "2023-07-23T07:40:46.324Z"
   },
   {
    "duration": 16,
    "start_time": "2023-07-23T07:41:28.781Z"
   },
   {
    "duration": 15,
    "start_time": "2023-07-23T07:41:49.059Z"
   },
   {
    "duration": 18,
    "start_time": "2023-07-23T07:41:58.312Z"
   },
   {
    "duration": 19,
    "start_time": "2023-07-23T07:42:13.796Z"
   },
   {
    "duration": 17,
    "start_time": "2023-07-23T07:42:46.067Z"
   },
   {
    "duration": 551,
    "start_time": "2023-07-23T07:43:11.539Z"
   },
   {
    "duration": 112,
    "start_time": "2023-07-23T07:43:31.521Z"
   },
   {
    "duration": 124,
    "start_time": "2023-07-23T07:44:31.569Z"
   },
   {
    "duration": 112,
    "start_time": "2023-07-23T07:45:20.446Z"
   },
   {
    "duration": 169,
    "start_time": "2023-07-23T07:46:34.458Z"
   },
   {
    "duration": 118,
    "start_time": "2023-07-23T07:46:50.027Z"
   },
   {
    "duration": 137,
    "start_time": "2023-07-23T07:47:43.248Z"
   },
   {
    "duration": 145,
    "start_time": "2023-07-23T07:48:17.076Z"
   },
   {
    "duration": 164,
    "start_time": "2023-07-23T07:49:29.512Z"
   },
   {
    "duration": 155,
    "start_time": "2023-07-23T07:49:50.030Z"
   },
   {
    "duration": 139,
    "start_time": "2023-07-23T07:50:52.142Z"
   },
   {
    "duration": 138,
    "start_time": "2023-07-23T07:51:01.116Z"
   },
   {
    "duration": 147,
    "start_time": "2023-07-23T07:53:53.005Z"
   },
   {
    "duration": 175,
    "start_time": "2023-07-23T07:53:59.716Z"
   },
   {
    "duration": 142,
    "start_time": "2023-07-23T07:55:31.977Z"
   },
   {
    "duration": 244,
    "start_time": "2023-07-23T07:57:49.586Z"
   },
   {
    "duration": 141,
    "start_time": "2023-07-23T08:02:19.051Z"
   },
   {
    "duration": 11,
    "start_time": "2023-07-23T08:09:53.304Z"
   },
   {
    "duration": 131,
    "start_time": "2023-07-23T08:09:55.845Z"
   },
   {
    "duration": 10,
    "start_time": "2023-07-23T08:11:34.451Z"
   },
   {
    "duration": 12,
    "start_time": "2023-07-23T08:13:14.150Z"
   },
   {
    "duration": 13,
    "start_time": "2023-07-23T08:13:31.002Z"
   },
   {
    "duration": 8,
    "start_time": "2023-07-23T08:15:04.611Z"
   },
   {
    "duration": 7,
    "start_time": "2023-07-23T08:15:16.355Z"
   },
   {
    "duration": 17,
    "start_time": "2023-07-23T08:15:36.237Z"
   },
   {
    "duration": 11,
    "start_time": "2023-07-23T08:15:49.643Z"
   },
   {
    "duration": 20,
    "start_time": "2023-07-23T08:16:08.612Z"
   },
   {
    "duration": 8,
    "start_time": "2023-07-23T08:16:21.942Z"
   },
   {
    "duration": 8,
    "start_time": "2023-07-23T08:16:55.162Z"
   },
   {
    "duration": 8,
    "start_time": "2023-07-23T08:17:22.508Z"
   },
   {
    "duration": 7,
    "start_time": "2023-07-23T08:17:40.736Z"
   },
   {
    "duration": 168,
    "start_time": "2023-07-23T08:18:14.645Z"
   },
   {
    "duration": 13,
    "start_time": "2023-07-23T08:21:59.715Z"
   },
   {
    "duration": 10,
    "start_time": "2023-07-23T08:22:20.165Z"
   },
   {
    "duration": 11,
    "start_time": "2023-07-23T08:22:47.432Z"
   },
   {
    "duration": 6,
    "start_time": "2023-07-23T08:23:03.508Z"
   },
   {
    "duration": 12,
    "start_time": "2023-07-23T08:23:17.912Z"
   },
   {
    "duration": 148,
    "start_time": "2023-07-23T08:24:35.029Z"
   },
   {
    "duration": 5,
    "start_time": "2023-07-23T08:28:34.633Z"
   },
   {
    "duration": 161,
    "start_time": "2023-07-23T08:28:43.612Z"
   },
   {
    "duration": 168,
    "start_time": "2023-07-23T08:29:03.916Z"
   },
   {
    "duration": 154,
    "start_time": "2023-07-23T08:29:14.312Z"
   },
   {
    "duration": 166,
    "start_time": "2023-07-23T08:29:43.550Z"
   },
   {
    "duration": 750,
    "start_time": "2023-07-23T13:42:59.705Z"
   },
   {
    "duration": 21,
    "start_time": "2023-07-23T13:43:00.458Z"
   },
   {
    "duration": 22,
    "start_time": "2023-07-23T13:43:00.481Z"
   },
   {
    "duration": 75,
    "start_time": "2023-07-23T13:43:00.504Z"
   },
   {
    "duration": 69,
    "start_time": "2023-07-23T13:43:00.582Z"
   },
   {
    "duration": 16,
    "start_time": "2023-07-23T13:43:00.653Z"
   },
   {
    "duration": 47,
    "start_time": "2023-07-23T13:43:00.670Z"
   },
   {
    "duration": 67,
    "start_time": "2023-07-23T13:43:00.718Z"
   },
   {
    "duration": 160,
    "start_time": "2023-07-23T13:43:00.787Z"
   },
   {
    "duration": 69,
    "start_time": "2023-07-23T13:43:00.949Z"
   },
   {
    "duration": 83,
    "start_time": "2023-07-23T13:43:01.025Z"
   },
   {
    "duration": 28,
    "start_time": "2023-07-23T13:43:01.111Z"
   },
   {
    "duration": 53,
    "start_time": "2023-07-23T13:43:01.141Z"
   },
   {
    "duration": 51,
    "start_time": "2023-07-23T13:43:01.198Z"
   },
   {
    "duration": 41,
    "start_time": "2023-07-23T13:43:01.250Z"
   },
   {
    "duration": 69,
    "start_time": "2023-07-23T13:43:01.293Z"
   },
   {
    "duration": 131,
    "start_time": "2023-07-23T13:43:01.364Z"
   },
   {
    "duration": 117,
    "start_time": "2023-07-23T13:43:01.497Z"
   },
   {
    "duration": 59,
    "start_time": "2023-07-23T13:43:01.615Z"
   },
   {
    "duration": 67,
    "start_time": "2023-07-23T13:43:01.676Z"
   },
   {
    "duration": 151,
    "start_time": "2023-07-23T13:43:01.745Z"
   },
   {
    "duration": 153,
    "start_time": "2023-07-23T13:43:01.897Z"
   },
   {
    "duration": 667,
    "start_time": "2023-07-23T13:43:02.051Z"
   },
   {
    "duration": 153,
    "start_time": "2023-07-23T13:43:02.730Z"
   },
   {
    "duration": 2,
    "start_time": "2023-07-23T13:43:02.886Z"
   },
   {
    "duration": 19,
    "start_time": "2023-07-23T13:43:02.889Z"
   },
   {
    "duration": 28,
    "start_time": "2023-07-23T13:48:14.035Z"
   },
   {
    "duration": 17,
    "start_time": "2023-07-23T13:48:52.800Z"
   },
   {
    "duration": 24,
    "start_time": "2023-07-23T13:49:09.414Z"
   },
   {
    "duration": 8,
    "start_time": "2023-07-23T13:50:23.988Z"
   },
   {
    "duration": 110,
    "start_time": "2023-07-23T13:52:46.192Z"
   },
   {
    "duration": 128,
    "start_time": "2023-07-23T13:54:15.203Z"
   },
   {
    "duration": 10,
    "start_time": "2023-07-23T13:59:19.050Z"
   },
   {
    "duration": 206,
    "start_time": "2023-07-23T14:00:24.314Z"
   },
   {
    "duration": 160,
    "start_time": "2023-07-23T14:00:45.933Z"
   },
   {
    "duration": 210,
    "start_time": "2023-07-23T14:04:12.830Z"
   },
   {
    "duration": 109,
    "start_time": "2023-07-23T14:05:37.338Z"
   },
   {
    "duration": 118,
    "start_time": "2023-07-23T14:06:07.310Z"
   },
   {
    "duration": 148,
    "start_time": "2023-07-23T14:06:12.618Z"
   },
   {
    "duration": 168,
    "start_time": "2023-07-23T14:06:58.691Z"
   },
   {
    "duration": 123,
    "start_time": "2023-07-23T14:07:08.314Z"
   },
   {
    "duration": 116,
    "start_time": "2023-07-23T14:07:41.190Z"
   },
   {
    "duration": 169,
    "start_time": "2023-07-23T14:07:45.350Z"
   },
   {
    "duration": 126,
    "start_time": "2023-07-23T14:08:55.442Z"
   },
   {
    "duration": 70,
    "start_time": "2023-07-23T14:09:22.248Z"
   },
   {
    "duration": 196,
    "start_time": "2023-07-23T14:10:10.168Z"
   },
   {
    "duration": 158,
    "start_time": "2023-07-23T14:11:51.298Z"
   },
   {
    "duration": 162,
    "start_time": "2023-07-23T14:12:47.835Z"
   },
   {
    "duration": 119,
    "start_time": "2023-07-23T14:14:53.367Z"
   },
   {
    "duration": 562,
    "start_time": "2023-07-23T19:06:57.032Z"
   },
   {
    "duration": 22,
    "start_time": "2023-07-23T19:06:57.598Z"
   },
   {
    "duration": 14,
    "start_time": "2023-07-23T19:06:57.622Z"
   },
   {
    "duration": 10,
    "start_time": "2023-07-23T19:06:57.638Z"
   },
   {
    "duration": 59,
    "start_time": "2023-07-23T19:06:57.650Z"
   },
   {
    "duration": 3,
    "start_time": "2023-07-23T19:06:57.711Z"
   },
   {
    "duration": 9,
    "start_time": "2023-07-23T19:06:57.716Z"
   },
   {
    "duration": 5,
    "start_time": "2023-07-23T19:06:57.727Z"
   },
   {
    "duration": 8,
    "start_time": "2023-07-23T19:06:57.733Z"
   },
   {
    "duration": 4,
    "start_time": "2023-07-23T19:06:57.743Z"
   },
   {
    "duration": 42,
    "start_time": "2023-07-23T19:06:57.777Z"
   },
   {
    "duration": 9,
    "start_time": "2023-07-23T19:06:57.820Z"
   },
   {
    "duration": 7,
    "start_time": "2023-07-23T19:06:57.830Z"
   },
   {
    "duration": 16,
    "start_time": "2023-07-23T19:06:57.839Z"
   },
   {
    "duration": 31,
    "start_time": "2023-07-23T19:06:57.856Z"
   },
   {
    "duration": 22,
    "start_time": "2023-07-23T19:06:57.889Z"
   },
   {
    "duration": 4,
    "start_time": "2023-07-23T19:06:57.912Z"
   },
   {
    "duration": 15,
    "start_time": "2023-07-23T19:06:57.917Z"
   },
   {
    "duration": 6,
    "start_time": "2023-07-23T19:06:57.934Z"
   },
   {
    "duration": 32,
    "start_time": "2023-07-23T19:06:57.943Z"
   },
   {
    "duration": 31,
    "start_time": "2023-07-23T19:06:57.977Z"
   },
   {
    "duration": 12,
    "start_time": "2023-07-23T19:06:58.010Z"
   },
   {
    "duration": 685,
    "start_time": "2023-07-23T19:06:58.024Z"
   },
   {
    "duration": 208,
    "start_time": "2023-07-23T19:06:58.712Z"
   },
   {
    "duration": 227,
    "start_time": "2023-07-23T19:06:58.922Z"
   },
   {
    "duration": 166,
    "start_time": "2023-07-23T19:06:59.151Z"
   },
   {
    "duration": 130,
    "start_time": "2023-07-24T03:25:53.427Z"
   },
   {
    "duration": 127,
    "start_time": "2023-07-24T03:26:12.445Z"
   },
   {
    "duration": 1486,
    "start_time": "2023-07-24T03:40:59.905Z"
   },
   {
    "duration": 56,
    "start_time": "2023-07-24T03:41:01.393Z"
   },
   {
    "duration": 72,
    "start_time": "2023-07-24T03:41:01.453Z"
   },
   {
    "duration": 154,
    "start_time": "2023-07-24T03:41:01.529Z"
   },
   {
    "duration": 133,
    "start_time": "2023-07-24T03:41:01.685Z"
   },
   {
    "duration": 4,
    "start_time": "2023-07-24T03:41:01.821Z"
   },
   {
    "duration": 93,
    "start_time": "2023-07-24T03:41:01.828Z"
   },
   {
    "duration": 71,
    "start_time": "2023-07-24T03:41:01.928Z"
   },
   {
    "duration": 123,
    "start_time": "2023-07-24T03:41:02.000Z"
   },
   {
    "duration": 72,
    "start_time": "2023-07-24T03:41:02.125Z"
   },
   {
    "duration": 193,
    "start_time": "2023-07-24T03:41:02.199Z"
   },
   {
    "duration": 99,
    "start_time": "2023-07-24T03:41:02.395Z"
   },
   {
    "duration": 141,
    "start_time": "2023-07-24T03:41:02.496Z"
   },
   {
    "duration": 104,
    "start_time": "2023-07-24T03:41:02.650Z"
   },
   {
    "duration": 47,
    "start_time": "2023-07-24T03:41:02.773Z"
   },
   {
    "duration": 68,
    "start_time": "2023-07-24T03:41:02.826Z"
   },
   {
    "duration": 76,
    "start_time": "2023-07-24T03:41:02.897Z"
   },
   {
    "duration": 112,
    "start_time": "2023-07-24T03:41:02.975Z"
   },
   {
    "duration": 62,
    "start_time": "2023-07-24T03:41:03.089Z"
   },
   {
    "duration": 28,
    "start_time": "2023-07-24T03:41:03.157Z"
   },
   {
    "duration": 90,
    "start_time": "2023-07-24T03:41:03.191Z"
   },
   {
    "duration": 58,
    "start_time": "2023-07-24T03:41:03.283Z"
   },
   {
    "duration": 809,
    "start_time": "2023-07-24T03:41:03.343Z"
   },
   {
    "duration": 110,
    "start_time": "2023-07-24T03:41:04.154Z"
   },
   {
    "duration": 0,
    "start_time": "2023-07-24T03:41:04.266Z"
   },
   {
    "duration": 0,
    "start_time": "2023-07-24T03:41:04.268Z"
   },
   {
    "duration": 0,
    "start_time": "2023-07-24T03:41:04.270Z"
   },
   {
    "duration": 55,
    "start_time": "2023-07-24T03:42:57.630Z"
   },
   {
    "duration": 59,
    "start_time": "2023-07-24T03:43:03.546Z"
   },
   {
    "duration": 103,
    "start_time": "2023-07-24T03:43:07.420Z"
   },
   {
    "duration": 22,
    "start_time": "2023-07-24T03:43:59.895Z"
   },
   {
    "duration": 25,
    "start_time": "2023-07-24T03:46:58.989Z"
   },
   {
    "duration": 47,
    "start_time": "2023-07-24T05:46:02.923Z"
   },
   {
    "duration": 667,
    "start_time": "2023-07-24T05:46:11.600Z"
   },
   {
    "duration": 20,
    "start_time": "2023-07-24T05:46:12.269Z"
   },
   {
    "duration": 13,
    "start_time": "2023-07-24T05:46:12.290Z"
   },
   {
    "duration": 8,
    "start_time": "2023-07-24T05:46:12.304Z"
   },
   {
    "duration": 32,
    "start_time": "2023-07-24T05:46:12.314Z"
   },
   {
    "duration": 3,
    "start_time": "2023-07-24T05:46:12.348Z"
   },
   {
    "duration": 18,
    "start_time": "2023-07-24T05:46:12.352Z"
   },
   {
    "duration": 6,
    "start_time": "2023-07-24T05:46:12.372Z"
   },
   {
    "duration": 25,
    "start_time": "2023-07-24T05:46:12.379Z"
   },
   {
    "duration": 5,
    "start_time": "2023-07-24T05:46:12.406Z"
   },
   {
    "duration": 39,
    "start_time": "2023-07-24T05:46:12.412Z"
   },
   {
    "duration": 9,
    "start_time": "2023-07-24T05:46:12.452Z"
   },
   {
    "duration": 24,
    "start_time": "2023-07-24T05:46:12.462Z"
   },
   {
    "duration": 17,
    "start_time": "2023-07-24T05:46:12.489Z"
   },
   {
    "duration": 21,
    "start_time": "2023-07-24T05:46:12.508Z"
   },
   {
    "duration": 17,
    "start_time": "2023-07-24T05:46:12.530Z"
   },
   {
    "duration": 4,
    "start_time": "2023-07-24T05:46:12.548Z"
   },
   {
    "duration": 10,
    "start_time": "2023-07-24T05:46:12.553Z"
   },
   {
    "duration": 7,
    "start_time": "2023-07-24T05:46:12.565Z"
   },
   {
    "duration": 28,
    "start_time": "2023-07-24T05:46:12.573Z"
   },
   {
    "duration": 22,
    "start_time": "2023-07-24T05:46:12.602Z"
   },
   {
    "duration": 12,
    "start_time": "2023-07-24T05:46:12.626Z"
   },
   {
    "duration": 557,
    "start_time": "2023-07-24T05:46:12.639Z"
   },
   {
    "duration": 72,
    "start_time": "2023-07-24T05:46:13.199Z"
   },
   {
    "duration": 0,
    "start_time": "2023-07-24T05:46:13.272Z"
   },
   {
    "duration": 0,
    "start_time": "2023-07-24T05:46:13.274Z"
   },
   {
    "duration": 0,
    "start_time": "2023-07-24T05:46:13.275Z"
   },
   {
    "duration": 15,
    "start_time": "2023-07-24T05:48:08.841Z"
   },
   {
    "duration": 16,
    "start_time": "2023-07-24T05:52:29.924Z"
   },
   {
    "duration": 384,
    "start_time": "2023-07-24T05:54:03.540Z"
   },
   {
    "duration": 7,
    "start_time": "2023-07-24T05:54:10.844Z"
   },
   {
    "duration": 17,
    "start_time": "2023-07-24T05:54:20.109Z"
   },
   {
    "duration": 0,
    "start_time": "2023-07-24T06:00:38.637Z"
   },
   {
    "duration": 17,
    "start_time": "2023-07-24T06:00:56.160Z"
   },
   {
    "duration": 17,
    "start_time": "2023-07-24T06:01:13.869Z"
   },
   {
    "duration": 20,
    "start_time": "2023-07-24T06:01:21.760Z"
   },
   {
    "duration": 9,
    "start_time": "2023-07-24T06:01:44.920Z"
   },
   {
    "duration": 17,
    "start_time": "2023-07-24T06:02:40.187Z"
   },
   {
    "duration": 17,
    "start_time": "2023-07-24T06:02:48.402Z"
   },
   {
    "duration": 14,
    "start_time": "2023-07-24T06:04:21.371Z"
   },
   {
    "duration": 15,
    "start_time": "2023-07-24T06:05:01.372Z"
   },
   {
    "duration": 17,
    "start_time": "2023-07-24T06:05:24.476Z"
   },
   {
    "duration": 8,
    "start_time": "2023-07-24T06:11:49.117Z"
   },
   {
    "duration": 19,
    "start_time": "2023-07-24T06:13:07.654Z"
   },
   {
    "duration": 17,
    "start_time": "2023-07-24T06:13:28.223Z"
   },
   {
    "duration": 20,
    "start_time": "2023-07-24T06:13:39.976Z"
   },
   {
    "duration": 18,
    "start_time": "2023-07-24T06:14:32.931Z"
   },
   {
    "duration": 18,
    "start_time": "2023-07-24T06:14:40.345Z"
   },
   {
    "duration": 21,
    "start_time": "2023-07-24T06:14:52.042Z"
   },
   {
    "duration": 666,
    "start_time": "2023-07-24T06:20:08.066Z"
   },
   {
    "duration": 19,
    "start_time": "2023-07-24T06:21:17.300Z"
   },
   {
    "duration": 343,
    "start_time": "2023-07-24T06:21:43.715Z"
   },
   {
    "duration": 17,
    "start_time": "2023-07-24T06:22:24.014Z"
   },
   {
    "duration": 358,
    "start_time": "2023-07-24T06:36:03.918Z"
   },
   {
    "duration": 16,
    "start_time": "2023-07-24T06:36:47.806Z"
   },
   {
    "duration": 20,
    "start_time": "2023-07-24T06:36:50.572Z"
   },
   {
    "duration": 20,
    "start_time": "2023-07-24T06:37:40.870Z"
   },
   {
    "duration": 21,
    "start_time": "2023-07-24T06:37:44.290Z"
   },
   {
    "duration": 25,
    "start_time": "2023-07-24T06:38:44.353Z"
   },
   {
    "duration": 18,
    "start_time": "2023-07-24T06:39:02.060Z"
   },
   {
    "duration": 21,
    "start_time": "2023-07-24T06:39:23.969Z"
   },
   {
    "duration": 13,
    "start_time": "2023-07-24T06:42:06.892Z"
   },
   {
    "duration": 17,
    "start_time": "2023-07-24T06:43:01.735Z"
   },
   {
    "duration": 14,
    "start_time": "2023-07-24T06:43:18.759Z"
   },
   {
    "duration": 13,
    "start_time": "2023-07-24T06:43:54.472Z"
   },
   {
    "duration": 13,
    "start_time": "2023-07-24T06:44:02.511Z"
   },
   {
    "duration": 12,
    "start_time": "2023-07-24T06:45:43.459Z"
   },
   {
    "duration": 9,
    "start_time": "2023-07-24T06:46:58.965Z"
   },
   {
    "duration": 142,
    "start_time": "2023-07-24T06:53:00.122Z"
   },
   {
    "duration": 128,
    "start_time": "2023-07-24T06:53:00.266Z"
   },
   {
    "duration": 152,
    "start_time": "2023-07-24T06:53:00.395Z"
   },
   {
    "duration": 21,
    "start_time": "2023-07-24T06:57:13.158Z"
   },
   {
    "duration": 18,
    "start_time": "2023-07-24T06:57:29.302Z"
   },
   {
    "duration": 115,
    "start_time": "2023-07-24T06:58:21.479Z"
   },
   {
    "duration": 23,
    "start_time": "2023-07-24T07:02:07.353Z"
   },
   {
    "duration": 20,
    "start_time": "2023-07-24T07:02:12.692Z"
   },
   {
    "duration": 18,
    "start_time": "2023-07-24T07:02:35.071Z"
   },
   {
    "duration": 19,
    "start_time": "2023-07-24T07:02:42.312Z"
   },
   {
    "duration": 73,
    "start_time": "2023-07-24T07:34:06.199Z"
   },
   {
    "duration": 24,
    "start_time": "2023-07-24T07:36:37.740Z"
   },
   {
    "duration": 22,
    "start_time": "2023-07-24T07:37:30.296Z"
   },
   {
    "duration": 20,
    "start_time": "2023-07-24T08:06:59.430Z"
   },
   {
    "duration": 23,
    "start_time": "2023-07-24T08:07:12.354Z"
   },
   {
    "duration": 31,
    "start_time": "2023-07-24T08:07:30.629Z"
   },
   {
    "duration": 21,
    "start_time": "2023-07-24T08:07:40.215Z"
   },
   {
    "duration": 407,
    "start_time": "2023-07-24T08:09:14.172Z"
   },
   {
    "duration": 39,
    "start_time": "2023-07-24T08:09:14.581Z"
   },
   {
    "duration": 17,
    "start_time": "2023-07-24T08:09:14.621Z"
   },
   {
    "duration": 14,
    "start_time": "2023-07-24T08:09:14.639Z"
   },
   {
    "duration": 31,
    "start_time": "2023-07-24T08:09:14.655Z"
   },
   {
    "duration": 3,
    "start_time": "2023-07-24T08:09:14.687Z"
   },
   {
    "duration": 39,
    "start_time": "2023-07-24T08:09:14.691Z"
   },
   {
    "duration": 4,
    "start_time": "2023-07-24T08:09:14.732Z"
   },
   {
    "duration": 16,
    "start_time": "2023-07-24T08:09:14.738Z"
   },
   {
    "duration": 5,
    "start_time": "2023-07-24T08:09:14.755Z"
   },
   {
    "duration": 33,
    "start_time": "2023-07-24T08:09:14.761Z"
   },
   {
    "duration": 23,
    "start_time": "2023-07-24T08:09:14.795Z"
   },
   {
    "duration": 10,
    "start_time": "2023-07-24T08:09:14.820Z"
   },
   {
    "duration": 15,
    "start_time": "2023-07-24T08:09:14.833Z"
   },
   {
    "duration": 17,
    "start_time": "2023-07-24T08:09:14.849Z"
   },
   {
    "duration": 16,
    "start_time": "2023-07-24T08:09:14.867Z"
   },
   {
    "duration": 5,
    "start_time": "2023-07-24T08:09:14.884Z"
   },
   {
    "duration": 22,
    "start_time": "2023-07-24T08:09:14.899Z"
   },
   {
    "duration": 12,
    "start_time": "2023-07-24T08:09:14.923Z"
   },
   {
    "duration": 4,
    "start_time": "2023-07-24T08:09:14.936Z"
   },
   {
    "duration": 11,
    "start_time": "2023-07-24T08:09:14.942Z"
   },
   {
    "duration": 10,
    "start_time": "2023-07-24T08:09:14.955Z"
   },
   {
    "duration": 476,
    "start_time": "2023-07-24T08:09:14.966Z"
   },
   {
    "duration": 18,
    "start_time": "2023-07-24T08:09:15.444Z"
   },
   {
    "duration": 163,
    "start_time": "2023-07-24T08:09:15.463Z"
   },
   {
    "duration": 22,
    "start_time": "2023-07-24T08:09:15.628Z"
   },
   {
    "duration": 182,
    "start_time": "2023-07-24T08:09:15.651Z"
   },
   {
    "duration": 29,
    "start_time": "2023-07-24T08:09:15.835Z"
   },
   {
    "duration": 216,
    "start_time": "2023-07-24T08:09:15.866Z"
   },
   {
    "duration": 36,
    "start_time": "2023-07-24T08:09:16.084Z"
   },
   {
    "duration": 32,
    "start_time": "2023-07-24T08:10:07.526Z"
   },
   {
    "duration": 34,
    "start_time": "2023-07-24T08:10:24.679Z"
   },
   {
    "duration": 453,
    "start_time": "2023-07-24T08:10:38.544Z"
   },
   {
    "duration": 23,
    "start_time": "2023-07-24T08:10:38.999Z"
   },
   {
    "duration": 31,
    "start_time": "2023-07-24T08:10:39.024Z"
   },
   {
    "duration": 18,
    "start_time": "2023-07-24T08:10:39.058Z"
   },
   {
    "duration": 65,
    "start_time": "2023-07-24T08:10:39.078Z"
   },
   {
    "duration": 6,
    "start_time": "2023-07-24T08:10:39.145Z"
   },
   {
    "duration": 27,
    "start_time": "2023-07-24T08:10:39.152Z"
   },
   {
    "duration": 37,
    "start_time": "2023-07-24T08:10:39.180Z"
   },
   {
    "duration": 29,
    "start_time": "2023-07-24T08:10:39.218Z"
   },
   {
    "duration": 27,
    "start_time": "2023-07-24T08:10:39.250Z"
   },
   {
    "duration": 50,
    "start_time": "2023-07-24T08:10:39.278Z"
   },
   {
    "duration": 29,
    "start_time": "2023-07-24T08:10:39.329Z"
   },
   {
    "duration": 33,
    "start_time": "2023-07-24T08:10:39.360Z"
   },
   {
    "duration": 39,
    "start_time": "2023-07-24T08:10:39.395Z"
   },
   {
    "duration": 32,
    "start_time": "2023-07-24T08:10:39.436Z"
   },
   {
    "duration": 15,
    "start_time": "2023-07-24T08:10:39.470Z"
   },
   {
    "duration": 3,
    "start_time": "2023-07-24T08:10:39.486Z"
   },
   {
    "duration": 50,
    "start_time": "2023-07-24T08:10:39.491Z"
   },
   {
    "duration": 15,
    "start_time": "2023-07-24T08:10:39.543Z"
   },
   {
    "duration": 11,
    "start_time": "2023-07-24T08:10:39.559Z"
   },
   {
    "duration": 18,
    "start_time": "2023-07-24T08:10:39.571Z"
   },
   {
    "duration": 39,
    "start_time": "2023-07-24T08:10:39.590Z"
   },
   {
    "duration": 732,
    "start_time": "2023-07-24T08:10:39.630Z"
   },
   {
    "duration": 22,
    "start_time": "2023-07-24T08:10:40.364Z"
   },
   {
    "duration": 208,
    "start_time": "2023-07-24T08:10:40.388Z"
   },
   {
    "duration": 33,
    "start_time": "2023-07-24T08:10:40.597Z"
   },
   {
    "duration": 125,
    "start_time": "2023-07-24T08:10:40.632Z"
   },
   {
    "duration": 22,
    "start_time": "2023-07-24T08:10:40.760Z"
   },
   {
    "duration": 146,
    "start_time": "2023-07-24T08:10:40.783Z"
   },
   {
    "duration": 24,
    "start_time": "2023-07-24T08:10:40.931Z"
   },
   {
    "duration": 644,
    "start_time": "2023-07-24T14:05:49.152Z"
   },
   {
    "duration": 41,
    "start_time": "2023-07-24T14:05:49.799Z"
   },
   {
    "duration": 19,
    "start_time": "2023-07-24T14:05:49.844Z"
   },
   {
    "duration": 13,
    "start_time": "2023-07-24T14:05:49.867Z"
   },
   {
    "duration": 60,
    "start_time": "2023-07-24T14:05:49.882Z"
   },
   {
    "duration": 4,
    "start_time": "2023-07-24T14:05:49.944Z"
   },
   {
    "duration": 19,
    "start_time": "2023-07-24T14:05:49.950Z"
   },
   {
    "duration": 7,
    "start_time": "2023-07-24T14:05:49.972Z"
   },
   {
    "duration": 16,
    "start_time": "2023-07-24T14:05:49.981Z"
   },
   {
    "duration": 5,
    "start_time": "2023-07-24T14:05:50.005Z"
   },
   {
    "duration": 57,
    "start_time": "2023-07-24T14:05:50.012Z"
   },
   {
    "duration": 11,
    "start_time": "2023-07-24T14:05:50.071Z"
   },
   {
    "duration": 43,
    "start_time": "2023-07-24T14:05:50.084Z"
   },
   {
    "duration": 47,
    "start_time": "2023-07-24T14:05:50.132Z"
   },
   {
    "duration": 56,
    "start_time": "2023-07-24T14:05:50.181Z"
   },
   {
    "duration": 28,
    "start_time": "2023-07-24T14:05:50.244Z"
   },
   {
    "duration": 9,
    "start_time": "2023-07-24T14:05:50.274Z"
   },
   {
    "duration": 47,
    "start_time": "2023-07-24T14:05:50.285Z"
   },
   {
    "duration": 8,
    "start_time": "2023-07-24T14:05:50.335Z"
   },
   {
    "duration": 15,
    "start_time": "2023-07-24T14:05:50.346Z"
   },
   {
    "duration": 20,
    "start_time": "2023-07-24T14:05:50.363Z"
   },
   {
    "duration": 29,
    "start_time": "2023-07-24T14:05:50.385Z"
   },
   {
    "duration": 709,
    "start_time": "2023-07-24T14:05:50.420Z"
   },
   {
    "duration": 26,
    "start_time": "2023-07-24T14:05:51.131Z"
   },
   {
    "duration": 199,
    "start_time": "2023-07-24T14:05:51.159Z"
   },
   {
    "duration": 27,
    "start_time": "2023-07-24T14:05:51.360Z"
   },
   {
    "duration": 189,
    "start_time": "2023-07-24T14:05:51.389Z"
   },
   {
    "duration": 36,
    "start_time": "2023-07-24T14:05:51.582Z"
   },
   {
    "duration": 198,
    "start_time": "2023-07-24T14:05:51.622Z"
   },
   {
    "duration": 31,
    "start_time": "2023-07-24T14:05:51.830Z"
   },
   {
    "duration": 139,
    "start_time": "2023-07-24T14:07:10.625Z"
   }
  ],
  "colab": {
   "provenance": []
  },
  "kernelspec": {
   "display_name": "Python 3 (ipykernel)",
   "language": "python",
   "name": "python3"
  },
  "language_info": {
   "codemirror_mode": {
    "name": "ipython",
    "version": 3
   },
   "file_extension": ".py",
   "mimetype": "text/x-python",
   "name": "python",
   "nbconvert_exporter": "python",
   "pygments_lexer": "ipython3",
   "version": "3.11.0"
  },
  "toc": {
   "base_numbering": 1,
   "nav_menu": {},
   "number_sections": true,
   "sideBar": true,
   "skip_h1_title": true,
   "title_cell": "Table of Contents",
   "title_sidebar": "Contents",
   "toc_cell": false,
   "toc_position": {},
   "toc_section_display": true,
   "toc_window_display": true
  }
 },
 "nbformat": 4,
 "nbformat_minor": 5
}
