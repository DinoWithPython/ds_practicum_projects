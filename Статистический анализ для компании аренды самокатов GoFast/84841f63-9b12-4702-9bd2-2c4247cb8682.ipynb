{
 "cells": [
  {
   "cell_type": "markdown",
   "id": "305aa5c3",
   "metadata": {},
   "source": [
    "<a id=\"0\"></a><br>\n",
    "# Проект: Статистический анализ данных"
   ]
  },
  {
   "cell_type": "markdown",
   "id": "acc141de",
   "metadata": {},
   "source": [
    "<a id=\"1\"></a>\n",
    "## Описание проекта"
   ]
  },
  {
   "cell_type": "markdown",
   "id": "fb0a9538",
   "metadata": {},
   "source": [
    "Я аналитик популярного сервиса аренды самокатов GoFast. Мне передали данные о некоторых пользователях из нескольких городов, а также об их поездках. Чтобы совершать поездки по городу, пользователи сервиса GoFast пользуются мобильным приложением. Сервисом можно пользоваться:\n",
    "* без подписки\n",
    "    * абонентская плата отсутствует;\n",
    "    * стоимость одной минуты поездки — 8 рублей;\n",
    "    * стоимость старта (начала поездки) — 50 рублей;\n",
    "* с подпиской Ultra\n",
    "    * абонентская плата — 199 рублей в месяц;\n",
    "    * стоимость одной минуты поездки — 6 рублей;\n",
    "    * стоимость старта — бесплатно."
   ]
  },
  {
   "cell_type": "markdown",
   "id": "7166f4f2",
   "metadata": {},
   "source": [
    "<a id=\"2\"></a>\n",
    "## Цель проекта"
   ]
  },
  {
   "cell_type": "markdown",
   "id": "e9d77b14",
   "metadata": {},
   "source": [
    "Проанализировать данные, посчитать выручку и проверить некоторые гипотезы, которые могут помочь бизнесу вырасти.\n",
    "1. Важно понять, тратят ли пользователи с подпиской больше времени на поездки? Если да, то пользователи с подпиской могут быть «выгоднее» для компании;\n",
    "2. Расстояние одной поездки в 3130 метров — оптимальное с точки зрения износа самоката. Можно ли сказать, что среднее расстояние, которое проезжают пользователи с подпиской за одну поездку, не превышает 3130 метров?\n",
    "3. Будет ли помесячная выручка от пользователей с подпиской по месяцам выше, чем выручка от пользователей без подписки;\n",
    "4. Представьте такую ситуацию: техническая команда сервиса обновила сервера, с которыми взаимодействует мобильное приложение. Она надеется, что из-за этого количество обращений в техподдержку значимо снизилось. Некоторый файл содержит для каждого пользователя данные о количестве обращений до обновления и после него;\n",
    "5. Нужно провести акцию с раздачей промокодов на один бесплатный месяц подписки, в рамках которой как минимум 100 существующих клиентов должны продлить эту подписку. То есть по завершении периода действия подписки пользователь может либо отказаться от неё, либо продлить, совершив соответствующий платёж. Эта акция уже проводилась ранее и по итогу выяснилось, что после бесплатного пробного периода подписку продлевают 10 % пользователей. Выяснить, какое минимальное количество промокодов нужно разослать, чтобы вероятность не выполнить план была примерно 5 %. Подобрать параметры распределения, описывающего эту ситуацию, построить график распределения и сформулировать ответ на вопрос о количестве промокодов.\n",
    "6. Отдел маркетинга рассылает клиентам push-уведомления в мобильном приложении. Клиенты могут открыть его или не открывать. Известно, что уведомления открывают около 40 % получивших клиентов. Отдел планирует разослать 1 млн уведомлений. С помощью аппроксимации построить примерный график распределения и оценить вероятность того, что уведомление откроют не более 399,5 тыс. пользователей."
   ]
  },
  {
   "cell_type": "markdown",
   "id": "5d73d92f",
   "metadata": {},
   "source": [
    "<a id=\"3\"></a>\n",
    "## Исходные данные"
   ]
  },
  {
   "cell_type": "markdown",
   "id": "b4ce0b3a",
   "metadata": {},
   "source": [
    "Данные для работы находятся в нескольких таблицах.\n",
    "    \n",
    "Пользователи — `users_go.csv`\n",
    "\n",
    "|<!-- --> | <!-- -->|\n",
    "|:------------:|:---------------|\n",
    "| **user_id** | уникальный идентификатор пользователя|\n",
    "| **name** | имя пользователя |\n",
    "| **age** | возраст |\n",
    "| **city** | город |\n",
    "| **subscription_type** | тип подписки (free, ultra) |"
   ]
  },
  {
   "cell_type": "markdown",
   "id": "ff795000",
   "metadata": {},
   "source": [
    "Поездки — `rides_go.csv`\n",
    "\n",
    "\n",
    "| <!-- -->      | <!-- -->        |\n",
    "|:-------------:|:---------------|\n",
    "| **user_id**        |    уникальный идентификатор пользователя        |\n",
    "| **distance**         |    расстояние, которое пользователь проехал в текущей сессии (в метрах)|\n",
    "| **duration**         |    продолжительность сессии (в минутах) — время с того момента, как пользователь нажал кнопку «Начать поездку» до момента, как он нажал кнопку «Завершить поездку»|\n",
    "| **date**         |    дата совершения поездки|"
   ]
  },
  {
   "cell_type": "markdown",
   "id": "b514afff",
   "metadata": {},
   "source": [
    "Подписки — `subscriptions_go.csv`\n",
    "\n",
    "|<!-- --->| <!-- --->|\n",
    "|:-----------:|:--------------|\n",
    "| **subscription_type** | тип подписки |\n",
    "| **minute_price** | \tстоимость одной минуты поездки по данной подписке |\n",
    "| **start_ride_price** | стоимость начала поездки |\n",
    "| **subscription_fee** | стоимость ежемесячного платежа |"
   ]
  },
  {
   "cell_type": "markdown",
   "id": "8800e0f9",
   "metadata": {},
   "source": [
    "<a id=\"3.1\"></a>\n",
    "### Данный проект разделим на несколько частей. "
   ]
  },
  {
   "cell_type": "markdown",
   "id": "2e13aaaf",
   "metadata": {},
   "source": [
    "[Часть 1. Описание проекта](#1)    \n",
    "[Часть 2. Цель проекта](#2)    \n",
    "[Часть 3. Описание исходных данных](#3)  \n",
    "[Часть 4. Загрузка данных и изучение общей информации](#4)    \n",
    "&nbsp;&nbsp;&nbsp;4.1. [Импорты модулей и общие функции](#5)    \n",
    "&nbsp;&nbsp;&nbsp;4.2. [Анализ файла `users_go.csv`](#6)    \n",
    "&nbsp;&nbsp;&nbsp;4.3. [Анализ файла `rides_go.csv`](#7)    \n",
    "&nbsp;&nbsp;&nbsp;4.4. [Анализ файла `subscriptions_go.csv`](#8)    \n",
    "&nbsp;&nbsp;&nbsp;4.5. [Гистограммы и ящики с усами](#9)    \n",
    "[Часть 5. Предобработка данных](#10)        \n",
    "&nbsp;&nbsp;&nbsp;5.1. [Дубликаты](#11)    \n",
    "&nbsp;&nbsp;&nbsp;5.2. [Аномалии](#12)   \n",
    "[Часть 6. Исследовательский анализ данных](#13)    \n",
    "&nbsp;&nbsp;&nbsp;6.1. [Данные `users_go.csv`](#14)    \n",
    "&nbsp;&nbsp;&nbsp;6.2. [Данные `rides_go.csv`](#15)      \n",
    "[Часть 7. Объединение данных](#17)   \n",
    "&nbsp;&nbsp;&nbsp;7.1. [Пользователи без подписки](#18)    \n",
    "&nbsp;&nbsp;&nbsp;7.2. [Пользователи с подпиской](#19)    \n",
    "[Часть 8. Подсчет выручки](#20)     \n",
    "[Часть 9. Проверка гипотез](#21)      \n",
    "&nbsp;&nbsp;&nbsp;9.1. [Пользователи с подпиской тратят больше времени на поездки](#22)    \n",
    "&nbsp;&nbsp;&nbsp;9.2. [Среднее расстояние, которое проезжают пользователи с подпиской за одну поездку, не превышает 3130 метров](#23)    \n",
    "&nbsp;&nbsp;&nbsp;9.3. [Помесячная выручка от пользователей с подпиской по месяцам выше, чем выручка от пользователей без подписки](#24)    \n",
    "&nbsp;&nbsp;&nbsp;9.4. [Количество обращений в техподдержку значимо снизилось(теоретическая)](#25)    \n",
    "[Часть 10. Распределения](#26)    \n",
    "&nbsp;&nbsp;&nbsp;10.1. [Акция с раздачей промокодов на один бесплатный месяц подписки](#27)   \n",
    "&nbsp;&nbsp;&nbsp;10.2. [Оценить вероятность того, что уведомление откроют не более 399,5 тыс. пользователей](#28)    \n",
    "[Часть 11. Общие выводы](#29)"
   ]
  },
  {
   "cell_type": "markdown",
   "id": "c42cbe00",
   "metadata": {},
   "source": [
    "<a id=\"4\"></a>\n",
    "## Загрузка данных и изучение общей информации"
   ]
  },
  {
   "cell_type": "markdown",
   "id": "f2e4780f",
   "metadata": {},
   "source": [
    "<a id=\"5\"></a>\n",
    "### Импорты модулей и общие функции"
   ]
  },
  {
   "cell_type": "code",
   "execution_count": 1,
   "id": "eb09922d",
   "metadata": {},
   "outputs": [],
   "source": [
    "import matplotlib.pyplot as plt\n",
    "import numpy as np\n",
    "import pandas as pd\n",
    "from scipy import stats as st\n",
    "from scipy.stats import binom\n",
    "import seaborn as sns"
   ]
  },
  {
   "cell_type": "code",
   "execution_count": 2,
   "id": "94dc5447",
   "metadata": {},
   "outputs": [],
   "source": [
    "def view_and_get_data(path, sep=None, decimal=\",\"):\n",
    "    \"\"\"\n",
    "    Открывает файл, выводит первые 10 строк,\n",
    "    основную информцию о дата фрейме и возвращает датафрейм.\n",
    "    Принимает разделить в csv файле и разделитель десятичных чисел(по умолчанию запятая).\n",
    "    \"\"\"\n",
    "    try:\n",
    "        # Пробуем открыть файл локально, если нет, то через сервер яндекса.\n",
    "        data = pd.read_csv(path, sep=sep, decimal=decimal, engine='python')\n",
    "    except Exception:\n",
    "        print('Локальный файл не найден. Пробую открыть серверную версию файла.')\n",
    "        data = pd.read_csv(f'https://code.s3.yandex.net{path}', sep=sep, decimal=decimal)\n",
    "        \n",
    "    display(data.head(10))\n",
    "    print('-------------------------------------------------------')\n",
    "    data.info()\n",
    "    return data\n",
    "\n",
    "\n",
    "def hist_and_box_numeric(data):\n",
    "    \"\"\"\n",
    "    Принимает датафрейм для построения гистрограм и боксплотов для\n",
    "    числовых столбцев.\n",
    "    \"\"\"\n",
    "    columns = data.select_dtypes(exclude=['object']).columns.to_list()\n",
    "    fig, axes = plt.subplots(nrows=len(columns), ncols=2, figsize=(10, 10))\n",
    "    \n",
    "    if len(columns) == 1:\n",
    "        data[columns[0]].plot(\n",
    "            ax=axes[0], kind=\"hist\", ylabel=columns[0], rot=0);\n",
    "        axes[0].set_title(f'Гистограмма {columns[0]}')\n",
    "        axes[0].set_ylabel('Количество')\n",
    "        axes[0].set_xlabel('Значения признака')\n",
    "        data[columns[0]].plot(\n",
    "            ax=axes[1], kind=\"box\", ylabel='Разброс показателя', rot=0);\n",
    "        axes[1].set_title(f'Ящик с усами {columns[0]}')\n",
    "    else:\n",
    "        for number in range(len(columns)):\n",
    "            data[columns[number]].plot(\n",
    "                ax=axes[number, 0], kind=\"hist\", ylabel=columns[number], rot=0);\n",
    "            axes[number, 0].set_title(f'Гистограмма {columns[number]}')\n",
    "            axes[number, 0].set_ylabel('Количество')\n",
    "            axes[number, 0].set_xlabel('Значения признака')\n",
    "            data[columns[number]].plot(\n",
    "                ax=axes[number, 1], kind=\"box\", ylabel='Разброс показателя', rot=0);\n",
    "            axes[number, 1].set_title(f'Ящик с усами {columns[number]}')\n",
    "    fig.tight_layout()\n",
    "\n",
    "    \n",
    "def hist_and_box_obj(data):\n",
    "    \"\"\"\n",
    "    Принимает датафрейм для построения гистрограм и боксплотов для\n",
    "    категориальных столбцев.\n",
    "    \"\"\"\n",
    "    columns = data.select_dtypes(include=['object']).columns\n",
    "\n",
    "    if len(columns) > 1:\n",
    "        columns = columns.to_list()\n",
    "        fig, axes = plt.subplots(nrows=len(columns), ncols=1, figsize=(10, 20))\n",
    "        for number in range(len(columns)):\n",
    "            data[columns[number]].value_counts(normalize=True).plot(\n",
    "                ax=axes[number], kind='bar', xlabel=columns[number], ylabel='Доля', rot=15);\n",
    "            axes[number].set_title(f'Диаграмма {columns[number]}')\n",
    "        fig.tight_layout()\n",
    "    else:\n",
    "        columns = columns.to_list()\n",
    "        data[columns[0]].value_counts(normalize=True).plot(\n",
    "            kind='bar', xlabel=columns[0], ylabel='Доля', rot=15, title=f'Диаграмма {columns[0]}');\n",
    "\n",
    "def short_describe(data):\n",
    "    \"\"\"Сокращенная версия метдоа describe для упроженного анализа признаков.\"\"\"\n",
    "    data = data.describe()\n",
    "    display(data[data.index.isin(['std', '50%', 'min', 'max'])].T)"
   ]
  },
  {
   "cell_type": "markdown",
   "id": "027e148e",
   "metadata": {},
   "source": [
    "<a id=\"6\"></a>\n",
    "### Анализ файла `users_go.csv`"
   ]
  },
  {
   "cell_type": "code",
   "execution_count": 3,
   "id": "40f521eb",
   "metadata": {},
   "outputs": [
    {
     "data": {
      "text/html": [
       "<div>\n",
       "<style scoped>\n",
       "    .dataframe tbody tr th:only-of-type {\n",
       "        vertical-align: middle;\n",
       "    }\n",
       "\n",
       "    .dataframe tbody tr th {\n",
       "        vertical-align: top;\n",
       "    }\n",
       "\n",
       "    .dataframe thead th {\n",
       "        text-align: right;\n",
       "    }\n",
       "</style>\n",
       "<table border=\"1\" class=\"dataframe\">\n",
       "  <thead>\n",
       "    <tr style=\"text-align: right;\">\n",
       "      <th></th>\n",
       "      <th>user_id</th>\n",
       "      <th>name</th>\n",
       "      <th>age</th>\n",
       "      <th>city</th>\n",
       "      <th>subscription_type</th>\n",
       "    </tr>\n",
       "  </thead>\n",
       "  <tbody>\n",
       "    <tr>\n",
       "      <th>0</th>\n",
       "      <td>1</td>\n",
       "      <td>Кира</td>\n",
       "      <td>22</td>\n",
       "      <td>Тюмень</td>\n",
       "      <td>ultra</td>\n",
       "    </tr>\n",
       "    <tr>\n",
       "      <th>1</th>\n",
       "      <td>2</td>\n",
       "      <td>Станислав</td>\n",
       "      <td>31</td>\n",
       "      <td>Омск</td>\n",
       "      <td>ultra</td>\n",
       "    </tr>\n",
       "    <tr>\n",
       "      <th>2</th>\n",
       "      <td>3</td>\n",
       "      <td>Алексей</td>\n",
       "      <td>20</td>\n",
       "      <td>Москва</td>\n",
       "      <td>ultra</td>\n",
       "    </tr>\n",
       "    <tr>\n",
       "      <th>3</th>\n",
       "      <td>4</td>\n",
       "      <td>Константин</td>\n",
       "      <td>26</td>\n",
       "      <td>Ростов-на-Дону</td>\n",
       "      <td>ultra</td>\n",
       "    </tr>\n",
       "    <tr>\n",
       "      <th>4</th>\n",
       "      <td>5</td>\n",
       "      <td>Адель</td>\n",
       "      <td>28</td>\n",
       "      <td>Омск</td>\n",
       "      <td>ultra</td>\n",
       "    </tr>\n",
       "    <tr>\n",
       "      <th>5</th>\n",
       "      <td>6</td>\n",
       "      <td>Регина</td>\n",
       "      <td>25</td>\n",
       "      <td>Краснодар</td>\n",
       "      <td>ultra</td>\n",
       "    </tr>\n",
       "    <tr>\n",
       "      <th>6</th>\n",
       "      <td>7</td>\n",
       "      <td>Игорь</td>\n",
       "      <td>23</td>\n",
       "      <td>Омск</td>\n",
       "      <td>ultra</td>\n",
       "    </tr>\n",
       "    <tr>\n",
       "      <th>7</th>\n",
       "      <td>8</td>\n",
       "      <td>Юрий</td>\n",
       "      <td>23</td>\n",
       "      <td>Краснодар</td>\n",
       "      <td>ultra</td>\n",
       "    </tr>\n",
       "    <tr>\n",
       "      <th>8</th>\n",
       "      <td>9</td>\n",
       "      <td>Ян</td>\n",
       "      <td>21</td>\n",
       "      <td>Пятигорск</td>\n",
       "      <td>ultra</td>\n",
       "    </tr>\n",
       "    <tr>\n",
       "      <th>9</th>\n",
       "      <td>10</td>\n",
       "      <td>Валерий</td>\n",
       "      <td>18</td>\n",
       "      <td>Екатеринбург</td>\n",
       "      <td>ultra</td>\n",
       "    </tr>\n",
       "  </tbody>\n",
       "</table>\n",
       "</div>"
      ],
      "text/plain": [
       "   user_id        name  age            city subscription_type\n",
       "0        1        Кира   22          Тюмень             ultra\n",
       "1        2   Станислав   31            Омск             ultra\n",
       "2        3     Алексей   20          Москва             ultra\n",
       "3        4  Константин   26  Ростов-на-Дону             ultra\n",
       "4        5       Адель   28            Омск             ultra\n",
       "5        6      Регина   25       Краснодар             ultra\n",
       "6        7       Игорь   23            Омск             ultra\n",
       "7        8        Юрий   23       Краснодар             ultra\n",
       "8        9          Ян   21       Пятигорск             ultra\n",
       "9       10     Валерий   18    Екатеринбург             ultra"
      ]
     },
     "metadata": {},
     "output_type": "display_data"
    },
    {
     "name": "stdout",
     "output_type": "stream",
     "text": [
      "-------------------------------------------------------\n",
      "<class 'pandas.core.frame.DataFrame'>\n",
      "RangeIndex: 1565 entries, 0 to 1564\n",
      "Data columns (total 5 columns):\n",
      " #   Column             Non-Null Count  Dtype \n",
      "---  ------             --------------  ----- \n",
      " 0   user_id            1565 non-null   int64 \n",
      " 1   name               1565 non-null   object\n",
      " 2   age                1565 non-null   int64 \n",
      " 3   city               1565 non-null   object\n",
      " 4   subscription_type  1565 non-null   object\n",
      "dtypes: int64(2), object(3)\n",
      "memory usage: 61.3+ KB\n"
     ]
    }
   ],
   "source": [
    "users_go_data = view_and_get_data('/datasets/users_go.csv')"
   ]
  },
  {
   "cell_type": "markdown",
   "id": "a402e6f1",
   "metadata": {},
   "source": [
    "В файле порядка 1565 строк. С типом int64(2 столбца), object(3 столбца). Пропусков нет. Данные чисты."
   ]
  },
  {
   "cell_type": "markdown",
   "id": "674d4b9f",
   "metadata": {},
   "source": [
    "<a id=\"7\"></a>\n",
    "### Анализ файла `rides_go.csv`"
   ]
  },
  {
   "cell_type": "code",
   "execution_count": 4,
   "id": "25029a0c",
   "metadata": {},
   "outputs": [
    {
     "data": {
      "text/html": [
       "<div>\n",
       "<style scoped>\n",
       "    .dataframe tbody tr th:only-of-type {\n",
       "        vertical-align: middle;\n",
       "    }\n",
       "\n",
       "    .dataframe tbody tr th {\n",
       "        vertical-align: top;\n",
       "    }\n",
       "\n",
       "    .dataframe thead th {\n",
       "        text-align: right;\n",
       "    }\n",
       "</style>\n",
       "<table border=\"1\" class=\"dataframe\">\n",
       "  <thead>\n",
       "    <tr style=\"text-align: right;\">\n",
       "      <th></th>\n",
       "      <th>user_id</th>\n",
       "      <th>distance</th>\n",
       "      <th>duration</th>\n",
       "      <th>date</th>\n",
       "    </tr>\n",
       "  </thead>\n",
       "  <tbody>\n",
       "    <tr>\n",
       "      <th>0</th>\n",
       "      <td>1</td>\n",
       "      <td>4409.919140</td>\n",
       "      <td>25.599769</td>\n",
       "      <td>2021-01-01</td>\n",
       "    </tr>\n",
       "    <tr>\n",
       "      <th>1</th>\n",
       "      <td>1</td>\n",
       "      <td>2617.592153</td>\n",
       "      <td>15.816871</td>\n",
       "      <td>2021-01-18</td>\n",
       "    </tr>\n",
       "    <tr>\n",
       "      <th>2</th>\n",
       "      <td>1</td>\n",
       "      <td>754.159807</td>\n",
       "      <td>6.232113</td>\n",
       "      <td>2021-04-20</td>\n",
       "    </tr>\n",
       "    <tr>\n",
       "      <th>3</th>\n",
       "      <td>1</td>\n",
       "      <td>2694.783254</td>\n",
       "      <td>18.511000</td>\n",
       "      <td>2021-08-11</td>\n",
       "    </tr>\n",
       "    <tr>\n",
       "      <th>4</th>\n",
       "      <td>1</td>\n",
       "      <td>4028.687306</td>\n",
       "      <td>26.265803</td>\n",
       "      <td>2021-08-28</td>\n",
       "    </tr>\n",
       "    <tr>\n",
       "      <th>5</th>\n",
       "      <td>1</td>\n",
       "      <td>2770.890808</td>\n",
       "      <td>16.650138</td>\n",
       "      <td>2021-10-09</td>\n",
       "    </tr>\n",
       "    <tr>\n",
       "      <th>6</th>\n",
       "      <td>1</td>\n",
       "      <td>3039.020292</td>\n",
       "      <td>14.927879</td>\n",
       "      <td>2021-10-19</td>\n",
       "    </tr>\n",
       "    <tr>\n",
       "      <th>7</th>\n",
       "      <td>1</td>\n",
       "      <td>2842.118050</td>\n",
       "      <td>23.117468</td>\n",
       "      <td>2021-11-06</td>\n",
       "    </tr>\n",
       "    <tr>\n",
       "      <th>8</th>\n",
       "      <td>1</td>\n",
       "      <td>3412.690668</td>\n",
       "      <td>15.238072</td>\n",
       "      <td>2021-11-14</td>\n",
       "    </tr>\n",
       "    <tr>\n",
       "      <th>9</th>\n",
       "      <td>1</td>\n",
       "      <td>748.690645</td>\n",
       "      <td>15.041884</td>\n",
       "      <td>2021-11-22</td>\n",
       "    </tr>\n",
       "  </tbody>\n",
       "</table>\n",
       "</div>"
      ],
      "text/plain": [
       "   user_id     distance   duration        date\n",
       "0        1  4409.919140  25.599769  2021-01-01\n",
       "1        1  2617.592153  15.816871  2021-01-18\n",
       "2        1   754.159807   6.232113  2021-04-20\n",
       "3        1  2694.783254  18.511000  2021-08-11\n",
       "4        1  4028.687306  26.265803  2021-08-28\n",
       "5        1  2770.890808  16.650138  2021-10-09\n",
       "6        1  3039.020292  14.927879  2021-10-19\n",
       "7        1  2842.118050  23.117468  2021-11-06\n",
       "8        1  3412.690668  15.238072  2021-11-14\n",
       "9        1   748.690645  15.041884  2021-11-22"
      ]
     },
     "metadata": {},
     "output_type": "display_data"
    },
    {
     "name": "stdout",
     "output_type": "stream",
     "text": [
      "-------------------------------------------------------\n",
      "<class 'pandas.core.frame.DataFrame'>\n",
      "RangeIndex: 18068 entries, 0 to 18067\n",
      "Data columns (total 4 columns):\n",
      " #   Column    Non-Null Count  Dtype  \n",
      "---  ------    --------------  -----  \n",
      " 0   user_id   18068 non-null  int64  \n",
      " 1   distance  18068 non-null  float64\n",
      " 2   duration  18068 non-null  float64\n",
      " 3   date      18068 non-null  object \n",
      "dtypes: float64(2), int64(1), object(1)\n",
      "memory usage: 564.8+ KB\n"
     ]
    }
   ],
   "source": [
    "rides_go_data = view_and_get_data('/datasets/rides_go.csv')"
   ]
  },
  {
   "cell_type": "code",
   "execution_count": 5,
   "id": "c647936f",
   "metadata": {},
   "outputs": [
    {
     "name": "stdout",
     "output_type": "stream",
     "text": [
      "<class 'pandas.core.frame.DataFrame'>\n",
      "RangeIndex: 18068 entries, 0 to 18067\n",
      "Data columns (total 4 columns):\n",
      " #   Column    Non-Null Count  Dtype         \n",
      "---  ------    --------------  -----         \n",
      " 0   user_id   18068 non-null  int64         \n",
      " 1   distance  18068 non-null  float64       \n",
      " 2   duration  18068 non-null  float64       \n",
      " 3   date      18068 non-null  datetime64[ns]\n",
      "dtypes: datetime64[ns](1), float64(2), int64(1)\n",
      "memory usage: 564.8 KB\n"
     ]
    }
   ],
   "source": [
    "# Переводим дату в формат даты\n",
    "rides_go_data['date'] = rides_go_data['date'].astype(\"datetime64[ns]\")\n",
    "rides_go_data.info()"
   ]
  },
  {
   "cell_type": "markdown",
   "id": "85b1a3a7",
   "metadata": {},
   "source": [
    "В файле порядка 18068 строк. С типом float64(2 столбца), int64(1 столбец), object(1 столбец). Пропусков нет. Данные чисты."
   ]
  },
  {
   "cell_type": "markdown",
   "id": "ebcdf55a",
   "metadata": {},
   "source": [
    "<a id=\"8\"></a>\n",
    "### Анализ файла `subscriptions_go.csv`"
   ]
  },
  {
   "cell_type": "code",
   "execution_count": 6,
   "id": "53fbff9f",
   "metadata": {},
   "outputs": [
    {
     "data": {
      "text/html": [
       "<div>\n",
       "<style scoped>\n",
       "    .dataframe tbody tr th:only-of-type {\n",
       "        vertical-align: middle;\n",
       "    }\n",
       "\n",
       "    .dataframe tbody tr th {\n",
       "        vertical-align: top;\n",
       "    }\n",
       "\n",
       "    .dataframe thead th {\n",
       "        text-align: right;\n",
       "    }\n",
       "</style>\n",
       "<table border=\"1\" class=\"dataframe\">\n",
       "  <thead>\n",
       "    <tr style=\"text-align: right;\">\n",
       "      <th></th>\n",
       "      <th>subscription_type</th>\n",
       "      <th>minute_price</th>\n",
       "      <th>start_ride_price</th>\n",
       "      <th>subscription_fee</th>\n",
       "    </tr>\n",
       "  </thead>\n",
       "  <tbody>\n",
       "    <tr>\n",
       "      <th>0</th>\n",
       "      <td>free</td>\n",
       "      <td>8</td>\n",
       "      <td>50</td>\n",
       "      <td>0</td>\n",
       "    </tr>\n",
       "    <tr>\n",
       "      <th>1</th>\n",
       "      <td>ultra</td>\n",
       "      <td>6</td>\n",
       "      <td>0</td>\n",
       "      <td>199</td>\n",
       "    </tr>\n",
       "  </tbody>\n",
       "</table>\n",
       "</div>"
      ],
      "text/plain": [
       "  subscription_type  minute_price  start_ride_price  subscription_fee\n",
       "0              free             8                50                 0\n",
       "1             ultra             6                 0               199"
      ]
     },
     "metadata": {},
     "output_type": "display_data"
    },
    {
     "name": "stdout",
     "output_type": "stream",
     "text": [
      "-------------------------------------------------------\n",
      "<class 'pandas.core.frame.DataFrame'>\n",
      "RangeIndex: 2 entries, 0 to 1\n",
      "Data columns (total 4 columns):\n",
      " #   Column             Non-Null Count  Dtype \n",
      "---  ------             --------------  ----- \n",
      " 0   subscription_type  2 non-null      object\n",
      " 1   minute_price       2 non-null      int64 \n",
      " 2   start_ride_price   2 non-null      int64 \n",
      " 3   subscription_fee   2 non-null      int64 \n",
      "dtypes: int64(3), object(1)\n",
      "memory usage: 192.0+ bytes\n"
     ]
    }
   ],
   "source": [
    "subsc_go_data = view_and_get_data('/datasets/subscriptions_go.csv')"
   ]
  },
  {
   "cell_type": "markdown",
   "id": "892f2cd9",
   "metadata": {},
   "source": [
    "В табличке всего две строки с описанием тарифов."
   ]
  },
  {
   "cell_type": "markdown",
   "id": "cca05bf1",
   "metadata": {},
   "source": [
    "<a id=\"9\"></a>\n",
    "### [Гистограммы и ящики с усами](#3.1)"
   ]
  },
  {
   "cell_type": "code",
   "execution_count": 7,
   "id": "0ff32822",
   "metadata": {},
   "outputs": [
    {
     "data": {
      "image/png": "[encoded data removed]",
      "text/plain": [
       "<Figure size 720x720 with 2 Axes>"
      ]
     },
     "metadata": {
      "needs_background": "light"
     },
     "output_type": "display_data"
    }
   ],
   "source": [
    "hist_and_box_numeric(users_go_data.drop(['user_id'], axis=1))"
   ]
  },
  {
   "cell_type": "code",
   "execution_count": 8,
   "id": "4ca0d6c9",
   "metadata": {},
   "outputs": [
    {
     "data": {
      "image/png": "[encoded data removed]",
      "text/plain": [
       "<Figure size 720x1440 with 2 Axes>"
      ]
     },
     "metadata": {
      "needs_background": "light"
     },
     "output_type": "display_data"
    }
   ],
   "source": [
    "hist_and_box_obj(users_go_data.drop(['user_id', 'name'], axis=1))"
   ]
  },
  {
   "cell_type": "markdown",
   "id": "a4ca194b",
   "metadata": {},
   "source": [
    "* Средний возраст чуть больше 25 лет, распределение нормальное;\n",
    "* Жители 8-ми городов;\n",
    "* Пользователей с бесплатной подпиской немного больше, чем с тарифом `ultra`."
   ]
  },
  {
   "cell_type": "code",
   "execution_count": 9,
   "id": "db644a60",
   "metadata": {},
   "outputs": [
    {
     "data": {
      "image/png": "[encoded data removed]",
      "text/plain": [
       "<Figure size 720x720 with 4 Axes>"
      ]
     },
     "metadata": {
      "needs_background": "light"
     },
     "output_type": "display_data"
    }
   ],
   "source": [
    "hist_and_box_numeric(rides_go_data.drop(['user_id', 'date'], axis=1))"
   ]
  },
  {
   "cell_type": "markdown",
   "id": "20f21f9b",
   "metadata": {},
   "source": [
    "**Общий вывод:**    \n",
    "* Средний возраст чуть больше 25 лет, распределение нормальное;\n",
    "* Жители 8-ми городов;\n",
    "* Пользователей с бесплатной подпиской немного больше, чем с тарифом `ultra`;\n",
    "* В среднем пользователи проезжают порядка 3200 метров;\n",
    "* В среднем на поездку уходит 18 минут."
   ]
  },
  {
   "cell_type": "markdown",
   "id": "e95ebca7",
   "metadata": {},
   "source": [
    "<a id=\"10\"></a>\n",
    "## [Предобработка данных](#3.1)"
   ]
  },
  {
   "cell_type": "markdown",
   "id": "f7412e43",
   "metadata": {},
   "source": [
    "Ранее пропусков обнаружено не было, поэтому проверим дубликаты."
   ]
  },
  {
   "cell_type": "markdown",
   "id": "a6d9f556",
   "metadata": {},
   "source": [
    "<a id=\"11\"></a>\n",
    "### Дубликаты"
   ]
  },
  {
   "cell_type": "code",
   "execution_count": 10,
   "id": "ab1bbf32",
   "metadata": {},
   "outputs": [
    {
     "name": "stdout",
     "output_type": "stream",
     "text": [
      "Количество явных дубликатов в users_go_data: 31\n",
      "Количество явных дубликатов в rides_go_data: 0\n"
     ]
    }
   ],
   "source": [
    "print(\"Количество явных дубликатов в users_go_data:\", users_go_data.duplicated().sum())\n",
    "print(\"Количество явных дубликатов в rides_go_data:\", rides_go_data.duplicated().sum())"
   ]
  },
  {
   "cell_type": "code",
   "execution_count": 11,
   "id": "04e0a083",
   "metadata": {},
   "outputs": [
    {
     "name": "stdout",
     "output_type": "stream",
     "text": [
      "Количество явных дубликатов в users_go_data: 0\n"
     ]
    }
   ],
   "source": [
    "users_go_data.drop_duplicates(inplace=True)\n",
    "print(\"Количество явных дубликатов в users_go_data:\", users_go_data.duplicated().sum())"
   ]
  },
  {
   "cell_type": "code",
   "execution_count": 12,
   "id": "9f7f3fe7",
   "metadata": {},
   "outputs": [
    {
     "data": {
      "text/html": [
       "<div>\n",
       "<style scoped>\n",
       "    .dataframe tbody tr th:only-of-type {\n",
       "        vertical-align: middle;\n",
       "    }\n",
       "\n",
       "    .dataframe tbody tr th {\n",
       "        vertical-align: top;\n",
       "    }\n",
       "\n",
       "    .dataframe thead th {\n",
       "        text-align: right;\n",
       "    }\n",
       "</style>\n",
       "<table border=\"1\" class=\"dataframe\">\n",
       "  <thead>\n",
       "    <tr style=\"text-align: right;\">\n",
       "      <th></th>\n",
       "      <th>user_id</th>\n",
       "      <th>name</th>\n",
       "      <th>age</th>\n",
       "      <th>city</th>\n",
       "      <th>subscription_type</th>\n",
       "    </tr>\n",
       "  </thead>\n",
       "  <tbody>\n",
       "    <tr>\n",
       "      <th>0</th>\n",
       "      <td>1</td>\n",
       "      <td>Кира</td>\n",
       "      <td>22</td>\n",
       "      <td>Тюмень</td>\n",
       "      <td>ultra</td>\n",
       "    </tr>\n",
       "    <tr>\n",
       "      <th>1</th>\n",
       "      <td>2</td>\n",
       "      <td>Станислав</td>\n",
       "      <td>31</td>\n",
       "      <td>Омск</td>\n",
       "      <td>ultra</td>\n",
       "    </tr>\n",
       "    <tr>\n",
       "      <th>2</th>\n",
       "      <td>3</td>\n",
       "      <td>Алексей</td>\n",
       "      <td>20</td>\n",
       "      <td>Москва</td>\n",
       "      <td>ultra</td>\n",
       "    </tr>\n",
       "    <tr>\n",
       "      <th>3</th>\n",
       "      <td>4</td>\n",
       "      <td>Константин</td>\n",
       "      <td>26</td>\n",
       "      <td>Ростов-на-Дону</td>\n",
       "      <td>ultra</td>\n",
       "    </tr>\n",
       "    <tr>\n",
       "      <th>4</th>\n",
       "      <td>5</td>\n",
       "      <td>Адель</td>\n",
       "      <td>28</td>\n",
       "      <td>Омск</td>\n",
       "      <td>ultra</td>\n",
       "    </tr>\n",
       "  </tbody>\n",
       "</table>\n",
       "</div>"
      ],
      "text/plain": [
       "   user_id        name  age            city subscription_type\n",
       "0        1        Кира   22          Тюмень             ultra\n",
       "1        2   Станислав   31            Омск             ultra\n",
       "2        3     Алексей   20          Москва             ultra\n",
       "3        4  Константин   26  Ростов-на-Дону             ultra\n",
       "4        5       Адель   28            Омск             ultra"
      ]
     },
     "execution_count": 12,
     "metadata": {},
     "output_type": "execute_result"
    }
   ],
   "source": [
    "users_go_data.head()"
   ]
  },
  {
   "cell_type": "markdown",
   "id": "26a2cd4d",
   "metadata": {},
   "source": [
    "Проверим неявные дубликаты, например по имени, возрасту и городу."
   ]
  },
  {
   "cell_type": "code",
   "execution_count": 13,
   "id": "ec6c80b4",
   "metadata": {},
   "outputs": [
    {
     "data": {
      "text/html": [
       "<div>\n",
       "<style scoped>\n",
       "    .dataframe tbody tr th:only-of-type {\n",
       "        vertical-align: middle;\n",
       "    }\n",
       "\n",
       "    .dataframe tbody tr th {\n",
       "        vertical-align: top;\n",
       "    }\n",
       "\n",
       "    .dataframe thead th {\n",
       "        text-align: right;\n",
       "    }\n",
       "</style>\n",
       "<table border=\"1\" class=\"dataframe\">\n",
       "  <thead>\n",
       "    <tr style=\"text-align: right;\">\n",
       "      <th></th>\n",
       "      <th>user_id</th>\n",
       "      <th>name</th>\n",
       "      <th>age</th>\n",
       "      <th>city</th>\n",
       "      <th>subscription_type</th>\n",
       "    </tr>\n",
       "  </thead>\n",
       "  <tbody>\n",
       "    <tr>\n",
       "      <th>378</th>\n",
       "      <td>379</td>\n",
       "      <td>Айдар</td>\n",
       "      <td>27</td>\n",
       "      <td>Ростов-на-Дону</td>\n",
       "      <td>ultra</td>\n",
       "    </tr>\n",
       "    <tr>\n",
       "      <th>423</th>\n",
       "      <td>424</td>\n",
       "      <td>Александр</td>\n",
       "      <td>28</td>\n",
       "      <td>Омск</td>\n",
       "      <td>ultra</td>\n",
       "    </tr>\n",
       "    <tr>\n",
       "      <th>1030</th>\n",
       "      <td>1031</td>\n",
       "      <td>Александра</td>\n",
       "      <td>24</td>\n",
       "      <td>Ростов-на-Дону</td>\n",
       "      <td>free</td>\n",
       "    </tr>\n",
       "    <tr>\n",
       "      <th>233</th>\n",
       "      <td>234</td>\n",
       "      <td>Ангелина</td>\n",
       "      <td>25</td>\n",
       "      <td>Омск</td>\n",
       "      <td>ultra</td>\n",
       "    </tr>\n",
       "    <tr>\n",
       "      <th>208</th>\n",
       "      <td>209</td>\n",
       "      <td>Андрей</td>\n",
       "      <td>23</td>\n",
       "      <td>Омск</td>\n",
       "      <td>ultra</td>\n",
       "    </tr>\n",
       "    <tr>\n",
       "      <th>210</th>\n",
       "      <td>211</td>\n",
       "      <td>Анжелика</td>\n",
       "      <td>30</td>\n",
       "      <td>Екатеринбург</td>\n",
       "      <td>ultra</td>\n",
       "    </tr>\n",
       "    <tr>\n",
       "      <th>729</th>\n",
       "      <td>730</td>\n",
       "      <td>Анна</td>\n",
       "      <td>28</td>\n",
       "      <td>Омск</td>\n",
       "      <td>free</td>\n",
       "    </tr>\n",
       "    <tr>\n",
       "      <th>931</th>\n",
       "      <td>932</td>\n",
       "      <td>Антон</td>\n",
       "      <td>25</td>\n",
       "      <td>Сочи</td>\n",
       "      <td>free</td>\n",
       "    </tr>\n",
       "    <tr>\n",
       "      <th>332</th>\n",
       "      <td>333</td>\n",
       "      <td>Арина</td>\n",
       "      <td>21</td>\n",
       "      <td>Ростов-на-Дону</td>\n",
       "      <td>ultra</td>\n",
       "    </tr>\n",
       "    <tr>\n",
       "      <th>1044</th>\n",
       "      <td>1045</td>\n",
       "      <td>Артемий</td>\n",
       "      <td>28</td>\n",
       "      <td>Ростов-на-Дону</td>\n",
       "      <td>free</td>\n",
       "    </tr>\n",
       "  </tbody>\n",
       "</table>\n",
       "</div>"
      ],
      "text/plain": [
       "      user_id        name  age            city subscription_type\n",
       "378       379       Айдар   27  Ростов-на-Дону             ultra\n",
       "423       424   Александр   28            Омск             ultra\n",
       "1030     1031  Александра   24  Ростов-на-Дону              free\n",
       "233       234    Ангелина   25            Омск             ultra\n",
       "208       209      Андрей   23            Омск             ultra\n",
       "210       211    Анжелика   30    Екатеринбург             ultra\n",
       "729       730        Анна   28            Омск              free\n",
       "931       932       Антон   25            Сочи              free\n",
       "332       333       Арина   21  Ростов-на-Дону             ultra\n",
       "1044     1045     Артемий   28  Ростов-на-Дону              free"
      ]
     },
     "execution_count": 13,
     "metadata": {},
     "output_type": "execute_result"
    }
   ],
   "source": [
    "users_go_data[users_go_data.duplicated(['name', 'age', 'city'], keep='last')].sort_values(by='name').head(10)"
   ]
  },
  {
   "cell_type": "code",
   "execution_count": 14,
   "id": "e94b39ac",
   "metadata": {},
   "outputs": [
    {
     "data": {
      "text/html": [
       "<div>\n",
       "<style scoped>\n",
       "    .dataframe tbody tr th:only-of-type {\n",
       "        vertical-align: middle;\n",
       "    }\n",
       "\n",
       "    .dataframe tbody tr th {\n",
       "        vertical-align: top;\n",
       "    }\n",
       "\n",
       "    .dataframe thead th {\n",
       "        text-align: right;\n",
       "    }\n",
       "</style>\n",
       "<table border=\"1\" class=\"dataframe\">\n",
       "  <thead>\n",
       "    <tr style=\"text-align: right;\">\n",
       "      <th></th>\n",
       "      <th>user_id</th>\n",
       "      <th>name</th>\n",
       "      <th>age</th>\n",
       "      <th>city</th>\n",
       "      <th>subscription_type</th>\n",
       "    </tr>\n",
       "  </thead>\n",
       "  <tbody>\n",
       "    <tr>\n",
       "      <th>8</th>\n",
       "      <td>9</td>\n",
       "      <td>Ян</td>\n",
       "      <td>21</td>\n",
       "      <td>Пятигорск</td>\n",
       "      <td>ultra</td>\n",
       "    </tr>\n",
       "    <tr>\n",
       "      <th>1220</th>\n",
       "      <td>1221</td>\n",
       "      <td>Ян</td>\n",
       "      <td>21</td>\n",
       "      <td>Пятигорск</td>\n",
       "      <td>free</td>\n",
       "    </tr>\n",
       "  </tbody>\n",
       "</table>\n",
       "</div>"
      ],
      "text/plain": [
       "      user_id name  age       city subscription_type\n",
       "8           9   Ян   21  Пятигорск             ultra\n",
       "1220     1221   Ян   21  Пятигорск              free"
      ]
     },
     "execution_count": 14,
     "metadata": {},
     "output_type": "execute_result"
    }
   ],
   "source": [
    "users_go_data.query(\"name == 'Ян' and age == 21 and city == 'Пятигорск'\")"
   ]
  },
  {
   "cell_type": "code",
   "execution_count": 15,
   "id": "fd2aa2b0",
   "metadata": {},
   "outputs": [
    {
     "data": {
      "text/html": [
       "<div>\n",
       "<style scoped>\n",
       "    .dataframe tbody tr th:only-of-type {\n",
       "        vertical-align: middle;\n",
       "    }\n",
       "\n",
       "    .dataframe tbody tr th {\n",
       "        vertical-align: top;\n",
       "    }\n",
       "\n",
       "    .dataframe thead th {\n",
       "        text-align: right;\n",
       "    }\n",
       "</style>\n",
       "<table border=\"1\" class=\"dataframe\">\n",
       "  <thead>\n",
       "    <tr style=\"text-align: right;\">\n",
       "      <th></th>\n",
       "      <th>user_id</th>\n",
       "      <th>name</th>\n",
       "      <th>age</th>\n",
       "      <th>city</th>\n",
       "      <th>subscription_type</th>\n",
       "    </tr>\n",
       "  </thead>\n",
       "  <tbody>\n",
       "  </tbody>\n",
       "</table>\n",
       "</div>"
      ],
      "text/plain": [
       "Empty DataFrame\n",
       "Columns: [user_id, name, age, city, subscription_type]\n",
       "Index: []"
      ]
     },
     "execution_count": 15,
     "metadata": {},
     "output_type": "execute_result"
    }
   ],
   "source": [
    "users_go_data[users_go_data.duplicated(['user_id'], keep='last')]"
   ]
  },
  {
   "cell_type": "markdown",
   "id": "8aa7ce39",
   "metadata": {},
   "source": [
    "Дубликатов по айдишникам нет, поскольку у меня есть только имя, то предпологаю, что это разные люди с одинаковыми именами, возрастом и городом, но разными тарифами."
   ]
  },
  {
   "cell_type": "markdown",
   "id": "b4c9d274",
   "metadata": {},
   "source": [
    "Добавим столбцец с месяцем для более удобного анеализа."
   ]
  },
  {
   "cell_type": "code",
   "execution_count": 16,
   "id": "44f40225",
   "metadata": {},
   "outputs": [
    {
     "name": "stdout",
     "output_type": "stream",
     "text": [
      "<class 'pandas.core.frame.DataFrame'>\n",
      "RangeIndex: 18068 entries, 0 to 18067\n",
      "Data columns (total 5 columns):\n",
      " #   Column    Non-Null Count  Dtype         \n",
      "---  ------    --------------  -----         \n",
      " 0   user_id   18068 non-null  int64         \n",
      " 1   distance  18068 non-null  float64       \n",
      " 2   duration  18068 non-null  float64       \n",
      " 3   date      18068 non-null  datetime64[ns]\n",
      " 4   month     18068 non-null  int64         \n",
      "dtypes: datetime64[ns](1), float64(2), int64(2)\n",
      "memory usage: 705.9 KB\n"
     ]
    }
   ],
   "source": [
    "rides_go_data['month'] = rides_go_data['date'].dt.month\n",
    "rides_go_data.info()"
   ]
  },
  {
   "cell_type": "markdown",
   "id": "7d63878c",
   "metadata": {},
   "source": [
    "<a id=\"12\"></a>\n",
    "### [Аномалии](#3.1)"
   ]
  },
  {
   "cell_type": "code",
   "execution_count": 17,
   "id": "2b897e86",
   "metadata": {},
   "outputs": [
    {
     "data": {
      "text/html": [
       "<div>\n",
       "<style scoped>\n",
       "    .dataframe tbody tr th:only-of-type {\n",
       "        vertical-align: middle;\n",
       "    }\n",
       "\n",
       "    .dataframe tbody tr th {\n",
       "        vertical-align: top;\n",
       "    }\n",
       "\n",
       "    .dataframe thead th {\n",
       "        text-align: right;\n",
       "    }\n",
       "</style>\n",
       "<table border=\"1\" class=\"dataframe\">\n",
       "  <thead>\n",
       "    <tr style=\"text-align: right;\">\n",
       "      <th></th>\n",
       "      <th>std</th>\n",
       "      <th>min</th>\n",
       "      <th>50%</th>\n",
       "      <th>max</th>\n",
       "    </tr>\n",
       "  </thead>\n",
       "  <tbody>\n",
       "    <tr>\n",
       "      <th>age</th>\n",
       "      <td>4.572367</td>\n",
       "      <td>12.0</td>\n",
       "      <td>25.0</td>\n",
       "      <td>43.0</td>\n",
       "    </tr>\n",
       "  </tbody>\n",
       "</table>\n",
       "</div>"
      ],
      "text/plain": [
       "          std   min   50%   max\n",
       "age  4.572367  12.0  25.0  43.0"
      ]
     },
     "metadata": {},
     "output_type": "display_data"
    }
   ],
   "source": [
    "short_describe(users_go_data.drop(['user_id'], axis=1))"
   ]
  },
  {
   "cell_type": "code",
   "execution_count": 18,
   "id": "c5ed2716",
   "metadata": {},
   "outputs": [
    {
     "data": {
      "text/html": [
       "<div>\n",
       "<style scoped>\n",
       "    .dataframe tbody tr th:only-of-type {\n",
       "        vertical-align: middle;\n",
       "    }\n",
       "\n",
       "    .dataframe tbody tr th {\n",
       "        vertical-align: top;\n",
       "    }\n",
       "\n",
       "    .dataframe thead th {\n",
       "        text-align: right;\n",
       "    }\n",
       "</style>\n",
       "<table border=\"1\" class=\"dataframe\">\n",
       "  <thead>\n",
       "    <tr style=\"text-align: right;\">\n",
       "      <th></th>\n",
       "      <th>std</th>\n",
       "      <th>min</th>\n",
       "      <th>50%</th>\n",
       "      <th>max</th>\n",
       "    </tr>\n",
       "  </thead>\n",
       "  <tbody>\n",
       "    <tr>\n",
       "      <th>distance</th>\n",
       "      <td>1116.831209</td>\n",
       "      <td>0.855683</td>\n",
       "      <td>3133.609994</td>\n",
       "      <td>7211.007745</td>\n",
       "    </tr>\n",
       "    <tr>\n",
       "      <th>duration</th>\n",
       "      <td>6.091051</td>\n",
       "      <td>0.500000</td>\n",
       "      <td>17.678395</td>\n",
       "      <td>40.823963</td>\n",
       "    </tr>\n",
       "    <tr>\n",
       "      <th>month</th>\n",
       "      <td>3.437410</td>\n",
       "      <td>1.000000</td>\n",
       "      <td>6.000000</td>\n",
       "      <td>12.000000</td>\n",
       "    </tr>\n",
       "  </tbody>\n",
       "</table>\n",
       "</div>"
      ],
      "text/plain": [
       "                  std       min          50%          max\n",
       "distance  1116.831209  0.855683  3133.609994  7211.007745\n",
       "duration     6.091051  0.500000    17.678395    40.823963\n",
       "month        3.437410  1.000000     6.000000    12.000000"
      ]
     },
     "metadata": {},
     "output_type": "display_data"
    }
   ],
   "source": [
    "short_describe(rides_go_data.drop(['user_id'], axis=1))"
   ]
  },
  {
   "cell_type": "markdown",
   "id": "1cc7b2dc",
   "metadata": {},
   "source": [
    "Аномалий не обнаружено. Странно, что пользователь проехал 85 см, и в целом атких людей хватает, но бывает - передумал или еще что."
   ]
  },
  {
   "cell_type": "markdown",
   "id": "3665b5d6",
   "metadata": {},
   "source": [
    "**Вывод:**    \n",
    "* В датафрейме `users_go_data` обнаруен 31 явный дубликат, удален;\n",
    "* Неявных дубликатов во фреймах не обнаружено;\n",
    "* В датафрейм `rides_go_data` добавлен столбец с месяцем поездки."
   ]
  },
  {
   "cell_type": "markdown",
   "id": "212593c7",
   "metadata": {},
   "source": [
    "<a id=\"13\"></a>\n",
    "## [Исследовательский анализ данных](#3.1)"
   ]
  },
  {
   "cell_type": "code",
   "execution_count": 19,
   "id": "e3a4274c",
   "metadata": {},
   "outputs": [],
   "source": [
    "def research_numeric_data(data, value):\n",
    "    \"\"\"Выводим описание столбца числового типа, гистограмму с этим столбцом.\"\"\"\n",
    "    print('Описание данных:')\n",
    "    display(data[value].describe().T)\n",
    "    print()\n",
    "    print('Уникальные значения(10 наиболее частых):')\n",
    "    display(data[value].value_counts(ascending=False).head(10))\n",
    "    print()\n",
    "    fig, axes = plt.subplots(nrows=1, ncols=2,figsize=(15, 5))\n",
    "\n",
    "    data[value].plot(\n",
    "        ax=axes[0], kind=\"hist\", rot=0);\n",
    "    axes[0].set_title(f\"Гистограмма {value}\")\n",
    "    axes[0].set_ylabel('Количество')\n",
    "    axes[0].set_xlabel(f'Значения признака {value}')\n",
    "    data[value].plot(\n",
    "        ax=axes[1], kind=\"box\", xlabel=value, rot=0);\n",
    "    axes[1].set_title(f'Ящик с усами {value}')\n",
    "    fig.tight_layout()\n",
    "\n",
    "    \n",
    "def research_object_data(data, value):\n",
    "    \"\"\"Выводим описание столбца категориального типа, график с этим столбцом.\"\"\"\n",
    "    print('Уникальные значения:')\n",
    "    display(data[value].value_counts(ascending=False))\n",
    "    print()\n",
    "    fig, axes = plt.subplots(nrows=2, ncols=1,figsize=(12, 7))\n",
    "    \n",
    "    data[value].value_counts().plot(\n",
    "        ax=axes[0],\n",
    "        kind=\"bar\",\n",
    "        xlabel=value,\n",
    "        ylabel='Количество',\n",
    "        rot=45,\n",
    "        title = f'Линейчатый график для показателя: {value}'\n",
    "    )\n",
    "    \n",
    "    data[value].value_counts().plot(\n",
    "        ax=axes[1],\n",
    "        kind = 'pie',\n",
    "        autopct = '%1.0f%%',\n",
    "        figsize=(12,12), \n",
    "        title = f'Распределение по признаку: {value}')\n",
    "    fig.tight_layout()\n",
    "    ;\n",
    "\n",
    "def research_numeric_data_with_target(data, value, target):\n",
    "    \"\"\"\n",
    "    Распределение числового признака в зависимости от целевого.\n",
    "    Наложенные диаграммы и два боксплота.\n",
    "    \"\"\"\n",
    "    fig, axes = plt.subplots(nrows=1, ncols=3,figsize=(15, 5))\n",
    "    \n",
    "    unique_target = data[target].unique()\n",
    "    \n",
    "    data[data[target] == unique_target[0]][value].plot(\n",
    "        ax=axes[0], kind=\"hist\", rot=0, color=\"r\", label=unique_target[0], alpha=0.5)\n",
    "    data[data[target] == unique_target[1]][value].plot(\n",
    "        ax=axes[0], kind=\"hist\", rot=0, color=\"g\", label=unique_target[1], alpha=0.5)\n",
    "    axes[0].set_title('Гистограммы с целевым признаком')\n",
    "    axes[0].set_ylabel('Количество')\n",
    "    axes[0].legend()\n",
    "    axes[0].set_xlabel(f'Значения признака {value}')\n",
    "    \n",
    "    data[data[target] == unique_target[0]][value].plot(\n",
    "        ax=axes[1], kind=\"box\", xlabel=value, rot=0);\n",
    "    axes[1].set_title(f'Боксплот с целевым признаком {unique_target[0]}')\n",
    "    \n",
    "    data[data[target] == unique_target[1]][value].plot(\n",
    "        ax=axes[2], kind=\"box\", xlabel=value, rot=0);\n",
    "    axes[2].set_title(f'Боксплот с целевым признаком {unique_target[1]}')\n",
    "    fig.tight_layout()\n",
    "\n",
    "def research_object_data_with_target(data, value, target):\n",
    "    \"\"\"\n",
    "    Распределение категориального признака в зависимости от целевого.\n",
    "    Две диаграммы.\n",
    "    \"\"\"\n",
    "    fig, axes = plt.subplots(nrows=1, ncols=2,figsize=(15, 5))\n",
    "    \n",
    "    unique_target = data[target].unique()\n",
    "    \n",
    "    data[data[target] == unique_target[0]][value].value_counts().plot(\n",
    "        ax=axes[0],\n",
    "        kind=\"bar\",\n",
    "        xlabel=value,\n",
    "        ylabel='Количество',\n",
    "        rot=45, color=\"r\");\n",
    "    axes[0].set_title(f'График для показателя: {value} c признаком {unique_target[0]}')\n",
    "\n",
    "    data[data[target] == unique_target[1]][value].value_counts().plot(\n",
    "        ax=axes[1],\n",
    "        kind=\"bar\",\n",
    "        xlabel=value,\n",
    "        ylabel='Количество',\n",
    "        rot=45, color=\"g\");\n",
    "    axes[1].set_title(f'График для показателя: {value} c признаком {unique_target[1]}')\n",
    "    fig.tight_layout()\n",
    "    "
   ]
  },
  {
   "cell_type": "markdown",
   "id": "dd38f4f1",
   "metadata": {},
   "source": [
    "<a id=14></a>\n",
    "### [Данные `users_go.csv`](#3.1)"
   ]
  },
  {
   "cell_type": "code",
   "execution_count": 20,
   "id": "677494a9",
   "metadata": {},
   "outputs": [
    {
     "name": "stdout",
     "output_type": "stream",
     "text": [
      "Описание данных:\n"
     ]
    },
    {
     "data": {
      "text/plain": [
       "count    1534.000000\n",
       "mean       24.903520\n",
       "std         4.572367\n",
       "min        12.000000\n",
       "25%        22.000000\n",
       "50%        25.000000\n",
       "75%        28.000000\n",
       "max        43.000000\n",
       "Name: age, dtype: float64"
      ]
     },
     "metadata": {},
     "output_type": "display_data"
    },
    {
     "name": "stdout",
     "output_type": "stream",
     "text": [
      "\n",
      "Уникальные значения(10 наиболее частых):\n"
     ]
    },
    {
     "data": {
      "text/plain": [
       "25    145\n",
       "24    132\n",
       "26    131\n",
       "23    129\n",
       "27    119\n",
       "22    119\n",
       "28    112\n",
       "21     93\n",
       "20     71\n",
       "30     68\n",
       "Name: age, dtype: int64"
      ]
     },
     "metadata": {},
     "output_type": "display_data"
    },
    {
     "name": "stdout",
     "output_type": "stream",
     "text": [
      "\n"
     ]
    },
    {
     "data": {
      "image/png": "[encoded data removed]",
      "text/plain": [
       "<Figure size 1080x360 with 2 Axes>"
      ]
     },
     "metadata": {
      "needs_background": "light"
     },
     "output_type": "display_data"
    }
   ],
   "source": [
    "research_numeric_data(users_go_data, 'age')"
   ]
  },
  {
   "cell_type": "code",
   "execution_count": 21,
   "id": "c08142f3",
   "metadata": {},
   "outputs": [
    {
     "data": {
      "image/png": "[encoded data removed]",
      "text/plain": [
       "<Figure size 1080x360 with 3 Axes>"
      ]
     },
     "metadata": {
      "needs_background": "light"
     },
     "output_type": "display_data"
    }
   ],
   "source": [
    "research_numeric_data_with_target(users_go_data, 'age', 'subscription_type')"
   ]
  },
  {
   "cell_type": "code",
   "execution_count": 22,
   "id": "dd5f56e6",
   "metadata": {},
   "outputs": [
    {
     "name": "stdout",
     "output_type": "stream",
     "text": [
      "Уникальные значения:\n"
     ]
    },
    {
     "data": {
      "text/plain": [
       "Пятигорск         219\n",
       "Екатеринбург      204\n",
       "Ростов-на-Дону    198\n",
       "Краснодар         193\n",
       "Сочи              189\n",
       "Омск              183\n",
       "Тюмень            180\n",
       "Москва            168\n",
       "Name: city, dtype: int64"
      ]
     },
     "metadata": {},
     "output_type": "display_data"
    },
    {
     "name": "stdout",
     "output_type": "stream",
     "text": [
      "\n"
     ]
    },
    {
     "data": {
      "image/png": "[encoded data removed]",
      "text/plain": [
       "<Figure size 864x864 with 2 Axes>"
      ]
     },
     "metadata": {
      "needs_background": "light"
     },
     "output_type": "display_data"
    }
   ],
   "source": [
    "research_object_data(users_go_data, 'city')"
   ]
  },
  {
   "cell_type": "code",
   "execution_count": 23,
   "id": "2d928445",
   "metadata": {},
   "outputs": [
    {
     "data": {
      "image/png": "[encoded data removed]",
      "text/plain": [
       "<Figure size 1080x360 with 2 Axes>"
      ]
     },
     "metadata": {
      "needs_background": "light"
     },
     "output_type": "display_data"
    }
   ],
   "source": [
    "research_object_data_with_target(users_go_data, 'city', 'subscription_type')"
   ]
  },
  {
   "cell_type": "code",
   "execution_count": 24,
   "id": "78569266",
   "metadata": {},
   "outputs": [
    {
     "name": "stdout",
     "output_type": "stream",
     "text": [
      "Уникальные значения:\n"
     ]
    },
    {
     "data": {
      "text/plain": [
       "free     835\n",
       "ultra    699\n",
       "Name: subscription_type, dtype: int64"
      ]
     },
     "metadata": {},
     "output_type": "display_data"
    },
    {
     "name": "stdout",
     "output_type": "stream",
     "text": [
      "\n"
     ]
    },
    {
     "data": {
      "image/png": "[encoded data removed]",
      "text/plain": [
       "<Figure size 864x864 with 2 Axes>"
      ]
     },
     "metadata": {
      "needs_background": "light"
     },
     "output_type": "display_data"
    }
   ],
   "source": [
    "research_object_data(users_go_data, 'subscription_type')"
   ]
  },
  {
   "cell_type": "markdown",
   "id": "4e353541",
   "metadata": {},
   "source": [
    "**Вывод:**    \n",
    "* Средний возраст пользователя 25 лет;\n",
    "* Минимальный возраст 12 лет, максимальный 43 года;\n",
    "* Данные о пользователях 8 городов: `Тюмень`, `Омск`, `Москва`, `Ростов-на-Дону`, `Краснодар`, `Пятигорск`, `Екатеринбург`, `Сочи`;\n",
    "* Больше всего жителей Пятигорска, меньше всего жителей Москвы;\n",
    "* Касательно тарифов: 54% используют бесплатный тариф, 46% - тариф `ultra`."
   ]
  },
  {
   "cell_type": "markdown",
   "id": "99092139",
   "metadata": {},
   "source": [
    "<a id=15></a>\n",
    "### [Данные `rides_go.csv`](#3.1)"
   ]
  },
  {
   "cell_type": "code",
   "execution_count": 25,
   "id": "2fb445e0",
   "metadata": {},
   "outputs": [
    {
     "name": "stdout",
     "output_type": "stream",
     "text": [
      "Описание данных:\n"
     ]
    },
    {
     "data": {
      "text/plain": [
       "count    18068.000000\n",
       "mean      3070.659976\n",
       "std       1116.831209\n",
       "min          0.855683\n",
       "25%       2543.226360\n",
       "50%       3133.609994\n",
       "75%       3776.222735\n",
       "max       7211.007745\n",
       "Name: distance, dtype: float64"
      ]
     },
     "metadata": {},
     "output_type": "display_data"
    },
    {
     "name": "stdout",
     "output_type": "stream",
     "text": [
      "\n",
      "Уникальные значения(10 наиболее частых):\n"
     ]
    },
    {
     "data": {
      "text/plain": [
       "741.545359     1\n",
       "4158.226381    1\n",
       "3672.118870    1\n",
       "4533.004089    1\n",
       "2437.274120    1\n",
       "3053.957201    1\n",
       "3283.984975    1\n",
       "3746.984964    1\n",
       "3336.681167    1\n",
       "2536.902564    1\n",
       "Name: distance, dtype: int64"
      ]
     },
     "metadata": {},
     "output_type": "display_data"
    },
    {
     "name": "stdout",
     "output_type": "stream",
     "text": [
      "\n"
     ]
    },
    {
     "data": {
      "image/png": "[encoded data removed]",
      "text/plain": [
       "<Figure size 1080x360 with 2 Axes>"
      ]
     },
     "metadata": {
      "needs_background": "light"
     },
     "output_type": "display_data"
    }
   ],
   "source": [
    "research_numeric_data(rides_go_data, 'distance')"
   ]
  },
  {
   "cell_type": "code",
   "execution_count": 26,
   "id": "3c5ac4c1",
   "metadata": {},
   "outputs": [
    {
     "name": "stdout",
     "output_type": "stream",
     "text": [
      "Описание данных:\n"
     ]
    },
    {
     "data": {
      "text/plain": [
       "count    18068.000000\n",
       "mean        17.805011\n",
       "std          6.091051\n",
       "min          0.500000\n",
       "25%         13.597563\n",
       "50%         17.678395\n",
       "75%         21.724800\n",
       "max         40.823963\n",
       "Name: duration, dtype: float64"
      ]
     },
     "metadata": {},
     "output_type": "display_data"
    },
    {
     "name": "stdout",
     "output_type": "stream",
     "text": [
      "\n",
      "Уникальные значения(10 наиболее частых):\n"
     ]
    },
    {
     "data": {
      "text/plain": [
       "0.500000     95\n",
       "22.184080     1\n",
       "25.866000     1\n",
       "22.837062     1\n",
       "19.173800     1\n",
       "20.250429     1\n",
       "24.551830     1\n",
       "17.798679     1\n",
       "8.525481      1\n",
       "20.769748     1\n",
       "Name: duration, dtype: int64"
      ]
     },
     "metadata": {},
     "output_type": "display_data"
    },
    {
     "name": "stdout",
     "output_type": "stream",
     "text": [
      "\n"
     ]
    },
    {
     "data": {
      "image/png": "[encoded data removed]",
      "text/plain": [
       "<Figure size 1080x360 with 2 Axes>"
      ]
     },
     "metadata": {
      "needs_background": "light"
     },
     "output_type": "display_data"
    }
   ],
   "source": [
    "research_numeric_data(rides_go_data, 'duration')"
   ]
  },
  {
   "cell_type": "code",
   "execution_count": 27,
   "id": "7e54ee60",
   "metadata": {},
   "outputs": [
    {
     "name": "stdout",
     "output_type": "stream",
     "text": [
      "Описание данных:\n"
     ]
    },
    {
     "data": {
      "text/plain": [
       "count    18068.000000\n",
       "mean         6.486772\n",
       "std          3.437410\n",
       "min          1.000000\n",
       "25%          4.000000\n",
       "50%          6.000000\n",
       "75%          9.000000\n",
       "max         12.000000\n",
       "Name: month, dtype: float64"
      ]
     },
     "metadata": {},
     "output_type": "display_data"
    },
    {
     "name": "stdout",
     "output_type": "stream",
     "text": [
      "\n",
      "Уникальные значения(10 наиболее частых):\n"
     ]
    },
    {
     "data": {
      "text/plain": [
       "1     1585\n",
       "5     1560\n",
       "6     1553\n",
       "3     1544\n",
       "7     1529\n",
       "12    1527\n",
       "8     1518\n",
       "9     1517\n",
       "4     1506\n",
       "10    1475\n",
       "Name: month, dtype: int64"
      ]
     },
     "metadata": {},
     "output_type": "display_data"
    },
    {
     "name": "stdout",
     "output_type": "stream",
     "text": [
      "\n"
     ]
    },
    {
     "data": {
      "image/png": "[encoded data removed]",
      "text/plain": [
       "<Figure size 1080x360 with 2 Axes>"
      ]
     },
     "metadata": {
      "needs_background": "light"
     },
     "output_type": "display_data"
    }
   ],
   "source": [
    "research_numeric_data(rides_go_data, 'month')"
   ]
  },
  {
   "cell_type": "code",
   "execution_count": 28,
   "id": "fcdc5569",
   "metadata": {},
   "outputs": [
    {
     "data": {
      "text/plain": [
       "count                            18068\n",
       "mean     2021-06-30 19:47:21.266327296\n",
       "min                2021-01-01 00:00:00\n",
       "25%                2021-04-02 00:00:00\n",
       "50%                2021-06-30 00:00:00\n",
       "75%                2021-09-28 00:00:00\n",
       "max                2021-12-30 00:00:00\n",
       "Name: date, dtype: object"
      ]
     },
     "execution_count": 28,
     "metadata": {},
     "output_type": "execute_result"
    }
   ],
   "source": [
    "rides_go_data['date'].describe(datetime_is_numeric=True)"
   ]
  },
  {
   "cell_type": "code",
   "execution_count": 29,
   "id": "1dd83499",
   "metadata": {},
   "outputs": [
    {
     "name": "stdout",
     "output_type": "stream",
     "text": [
      "Уникальные значения(10 наиболее частых):\n"
     ]
    },
    {
     "data": {
      "text/plain": [
       "2021-12-22    72\n",
       "2021-01-12    70\n",
       "2021-12-27    69\n",
       "2021-08-20    67\n",
       "2021-06-09    67\n",
       "2021-05-17    65\n",
       "2021-01-24    64\n",
       "2021-06-18    63\n",
       "2021-05-22    63\n",
       "2021-09-14    63\n",
       "Name: date, dtype: int64"
      ]
     },
     "metadata": {},
     "output_type": "display_data"
    }
   ],
   "source": [
    "print('Уникальные значения(10 наиболее частых):')\n",
    "display(rides_go_data['date'].value_counts(ascending=False).head(10))"
   ]
  },
  {
   "cell_type": "code",
   "execution_count": 30,
   "id": "7494b82b",
   "metadata": {},
   "outputs": [
    {
     "data": {
      "image/png": "[encoded data removed]",
      "text/plain": [
       "<Figure size 432x288 with 1 Axes>"
      ]
     },
     "metadata": {
      "needs_background": "light"
     },
     "output_type": "display_data"
    }
   ],
   "source": [
    "plt.hist(rides_go_data['date'])\n",
    "plt.xlabel('Дата')\n",
    "plt.ylabel('Количество')\n",
    "plt.title('Распределение дат')\n",
    "plt.show()"
   ]
  },
  {
   "cell_type": "markdown",
   "id": "2bc01515",
   "metadata": {},
   "source": [
    "**Вывод:**    \n",
    "* Среднее расстояние, которое преодолевает пользователь - 3 км.;\n",
    "* Максимальное расстояние 7.2 км. Много значений до метра, что вероятно говорит о попытке впервые воспользоваться данной услугой;\n",
    "* В среднем самокат используют около 18 мин, максимально использовали 40 мин., так же стандартное отклонение порядка 6 мин;\n",
    "* Присутствуют 95 значений, при которых самокатом пользовались буквально полминуты;\n",
    "* Выгрузка за один год - с 1-го января 2021 года по 30-е декабря 2021 года."
   ]
  },
  {
   "cell_type": "markdown",
   "id": "4ef51331",
   "metadata": {},
   "source": [
    "<a id=17></a>\n",
    "## [Объединение данных](#3.1)"
   ]
  },
  {
   "cell_type": "markdown",
   "id": "54fa1052",
   "metadata": {},
   "source": [
    "Объединим данные в один фрейм для дальнейших расчетов."
   ]
  },
  {
   "cell_type": "code",
   "execution_count": 31,
   "id": "e48b9c71",
   "metadata": {},
   "outputs": [
    {
     "name": "stdout",
     "output_type": "stream",
     "text": [
      "<class 'pandas.core.frame.DataFrame'>\n",
      "Int64Index: 18068 entries, 0 to 18067\n",
      "Data columns (total 12 columns):\n",
      " #   Column             Non-Null Count  Dtype         \n",
      "---  ------             --------------  -----         \n",
      " 0   user_id            18068 non-null  int64         \n",
      " 1   name               18068 non-null  object        \n",
      " 2   age                18068 non-null  int64         \n",
      " 3   city               18068 non-null  object        \n",
      " 4   subscription_type  18068 non-null  object        \n",
      " 5   distance           18068 non-null  float64       \n",
      " 6   duration           18068 non-null  float64       \n",
      " 7   date               18068 non-null  datetime64[ns]\n",
      " 8   month              18068 non-null  int64         \n",
      " 9   minute_price       18068 non-null  int64         \n",
      " 10  start_ride_price   18068 non-null  int64         \n",
      " 11  subscription_fee   18068 non-null  int64         \n",
      "dtypes: datetime64[ns](1), float64(2), int64(6), object(3)\n",
      "memory usage: 1.8+ MB\n"
     ]
    }
   ],
   "source": [
    "all_data = users_go_data.merge(rides_go_data)\n",
    "all_data = all_data.merge(subsc_go_data)\n",
    "all_data.info()"
   ]
  },
  {
   "cell_type": "code",
   "execution_count": 32,
   "id": "e4fb7b70",
   "metadata": {},
   "outputs": [
    {
     "data": {
      "text/html": [
       "<div>\n",
       "<style scoped>\n",
       "    .dataframe tbody tr th:only-of-type {\n",
       "        vertical-align: middle;\n",
       "    }\n",
       "\n",
       "    .dataframe tbody tr th {\n",
       "        vertical-align: top;\n",
       "    }\n",
       "\n",
       "    .dataframe thead th {\n",
       "        text-align: right;\n",
       "    }\n",
       "</style>\n",
       "<table border=\"1\" class=\"dataframe\">\n",
       "  <thead>\n",
       "    <tr style=\"text-align: right;\">\n",
       "      <th></th>\n",
       "      <th>user_id</th>\n",
       "      <th>name</th>\n",
       "      <th>age</th>\n",
       "      <th>city</th>\n",
       "      <th>subscription_type</th>\n",
       "      <th>distance</th>\n",
       "      <th>duration</th>\n",
       "      <th>date</th>\n",
       "      <th>month</th>\n",
       "      <th>minute_price</th>\n",
       "      <th>start_ride_price</th>\n",
       "      <th>subscription_fee</th>\n",
       "    </tr>\n",
       "  </thead>\n",
       "  <tbody>\n",
       "    <tr>\n",
       "      <th>0</th>\n",
       "      <td>1</td>\n",
       "      <td>Кира</td>\n",
       "      <td>22</td>\n",
       "      <td>Тюмень</td>\n",
       "      <td>ultra</td>\n",
       "      <td>4409.919140</td>\n",
       "      <td>25.599769</td>\n",
       "      <td>2021-01-01</td>\n",
       "      <td>1</td>\n",
       "      <td>6</td>\n",
       "      <td>0</td>\n",
       "      <td>199</td>\n",
       "    </tr>\n",
       "    <tr>\n",
       "      <th>1</th>\n",
       "      <td>1</td>\n",
       "      <td>Кира</td>\n",
       "      <td>22</td>\n",
       "      <td>Тюмень</td>\n",
       "      <td>ultra</td>\n",
       "      <td>2617.592153</td>\n",
       "      <td>15.816871</td>\n",
       "      <td>2021-01-18</td>\n",
       "      <td>1</td>\n",
       "      <td>6</td>\n",
       "      <td>0</td>\n",
       "      <td>199</td>\n",
       "    </tr>\n",
       "    <tr>\n",
       "      <th>2</th>\n",
       "      <td>1</td>\n",
       "      <td>Кира</td>\n",
       "      <td>22</td>\n",
       "      <td>Тюмень</td>\n",
       "      <td>ultra</td>\n",
       "      <td>754.159807</td>\n",
       "      <td>6.232113</td>\n",
       "      <td>2021-04-20</td>\n",
       "      <td>4</td>\n",
       "      <td>6</td>\n",
       "      <td>0</td>\n",
       "      <td>199</td>\n",
       "    </tr>\n",
       "    <tr>\n",
       "      <th>3</th>\n",
       "      <td>1</td>\n",
       "      <td>Кира</td>\n",
       "      <td>22</td>\n",
       "      <td>Тюмень</td>\n",
       "      <td>ultra</td>\n",
       "      <td>2694.783254</td>\n",
       "      <td>18.511000</td>\n",
       "      <td>2021-08-11</td>\n",
       "      <td>8</td>\n",
       "      <td>6</td>\n",
       "      <td>0</td>\n",
       "      <td>199</td>\n",
       "    </tr>\n",
       "    <tr>\n",
       "      <th>4</th>\n",
       "      <td>1</td>\n",
       "      <td>Кира</td>\n",
       "      <td>22</td>\n",
       "      <td>Тюмень</td>\n",
       "      <td>ultra</td>\n",
       "      <td>4028.687306</td>\n",
       "      <td>26.265803</td>\n",
       "      <td>2021-08-28</td>\n",
       "      <td>8</td>\n",
       "      <td>6</td>\n",
       "      <td>0</td>\n",
       "      <td>199</td>\n",
       "    </tr>\n",
       "    <tr>\n",
       "      <th>5</th>\n",
       "      <td>1</td>\n",
       "      <td>Кира</td>\n",
       "      <td>22</td>\n",
       "      <td>Тюмень</td>\n",
       "      <td>ultra</td>\n",
       "      <td>2770.890808</td>\n",
       "      <td>16.650138</td>\n",
       "      <td>2021-10-09</td>\n",
       "      <td>10</td>\n",
       "      <td>6</td>\n",
       "      <td>0</td>\n",
       "      <td>199</td>\n",
       "    </tr>\n",
       "    <tr>\n",
       "      <th>6</th>\n",
       "      <td>1</td>\n",
       "      <td>Кира</td>\n",
       "      <td>22</td>\n",
       "      <td>Тюмень</td>\n",
       "      <td>ultra</td>\n",
       "      <td>3039.020292</td>\n",
       "      <td>14.927879</td>\n",
       "      <td>2021-10-19</td>\n",
       "      <td>10</td>\n",
       "      <td>6</td>\n",
       "      <td>0</td>\n",
       "      <td>199</td>\n",
       "    </tr>\n",
       "    <tr>\n",
       "      <th>7</th>\n",
       "      <td>1</td>\n",
       "      <td>Кира</td>\n",
       "      <td>22</td>\n",
       "      <td>Тюмень</td>\n",
       "      <td>ultra</td>\n",
       "      <td>2842.118050</td>\n",
       "      <td>23.117468</td>\n",
       "      <td>2021-11-06</td>\n",
       "      <td>11</td>\n",
       "      <td>6</td>\n",
       "      <td>0</td>\n",
       "      <td>199</td>\n",
       "    </tr>\n",
       "    <tr>\n",
       "      <th>8</th>\n",
       "      <td>1</td>\n",
       "      <td>Кира</td>\n",
       "      <td>22</td>\n",
       "      <td>Тюмень</td>\n",
       "      <td>ultra</td>\n",
       "      <td>3412.690668</td>\n",
       "      <td>15.238072</td>\n",
       "      <td>2021-11-14</td>\n",
       "      <td>11</td>\n",
       "      <td>6</td>\n",
       "      <td>0</td>\n",
       "      <td>199</td>\n",
       "    </tr>\n",
       "    <tr>\n",
       "      <th>9</th>\n",
       "      <td>1</td>\n",
       "      <td>Кира</td>\n",
       "      <td>22</td>\n",
       "      <td>Тюмень</td>\n",
       "      <td>ultra</td>\n",
       "      <td>748.690645</td>\n",
       "      <td>15.041884</td>\n",
       "      <td>2021-11-22</td>\n",
       "      <td>11</td>\n",
       "      <td>6</td>\n",
       "      <td>0</td>\n",
       "      <td>199</td>\n",
       "    </tr>\n",
       "    <tr>\n",
       "      <th>10</th>\n",
       "      <td>1</td>\n",
       "      <td>Кира</td>\n",
       "      <td>22</td>\n",
       "      <td>Тюмень</td>\n",
       "      <td>ultra</td>\n",
       "      <td>4031.020195</td>\n",
       "      <td>17.674448</td>\n",
       "      <td>2021-12-14</td>\n",
       "      <td>12</td>\n",
       "      <td>6</td>\n",
       "      <td>0</td>\n",
       "      <td>199</td>\n",
       "    </tr>\n",
       "    <tr>\n",
       "      <th>11</th>\n",
       "      <td>1</td>\n",
       "      <td>Кира</td>\n",
       "      <td>22</td>\n",
       "      <td>Тюмень</td>\n",
       "      <td>ultra</td>\n",
       "      <td>2720.609748</td>\n",
       "      <td>9.529463</td>\n",
       "      <td>2021-12-22</td>\n",
       "      <td>12</td>\n",
       "      <td>6</td>\n",
       "      <td>0</td>\n",
       "      <td>199</td>\n",
       "    </tr>\n",
       "    <tr>\n",
       "      <th>12</th>\n",
       "      <td>2</td>\n",
       "      <td>Станислав</td>\n",
       "      <td>31</td>\n",
       "      <td>Омск</td>\n",
       "      <td>ultra</td>\n",
       "      <td>3105.086678</td>\n",
       "      <td>24.307514</td>\n",
       "      <td>2021-03-15</td>\n",
       "      <td>3</td>\n",
       "      <td>6</td>\n",
       "      <td>0</td>\n",
       "      <td>199</td>\n",
       "    </tr>\n",
       "    <tr>\n",
       "      <th>13</th>\n",
       "      <td>2</td>\n",
       "      <td>Станислав</td>\n",
       "      <td>31</td>\n",
       "      <td>Омск</td>\n",
       "      <td>ultra</td>\n",
       "      <td>3053.519401</td>\n",
       "      <td>11.543256</td>\n",
       "      <td>2021-03-18</td>\n",
       "      <td>3</td>\n",
       "      <td>6</td>\n",
       "      <td>0</td>\n",
       "      <td>199</td>\n",
       "    </tr>\n",
       "    <tr>\n",
       "      <th>14</th>\n",
       "      <td>2</td>\n",
       "      <td>Станислав</td>\n",
       "      <td>31</td>\n",
       "      <td>Омск</td>\n",
       "      <td>ultra</td>\n",
       "      <td>4029.116927</td>\n",
       "      <td>25.109188</td>\n",
       "      <td>2021-03-23</td>\n",
       "      <td>3</td>\n",
       "      <td>6</td>\n",
       "      <td>0</td>\n",
       "      <td>199</td>\n",
       "    </tr>\n",
       "  </tbody>\n",
       "</table>\n",
       "</div>"
      ],
      "text/plain": [
       "    user_id       name  age    city subscription_type     distance   duration  \\\n",
       "0         1       Кира   22  Тюмень             ultra  4409.919140  25.599769   \n",
       "1         1       Кира   22  Тюмень             ultra  2617.592153  15.816871   \n",
       "2         1       Кира   22  Тюмень             ultra   754.159807   6.232113   \n",
       "3         1       Кира   22  Тюмень             ultra  2694.783254  18.511000   \n",
       "4         1       Кира   22  Тюмень             ultra  4028.687306  26.265803   \n",
       "5         1       Кира   22  Тюмень             ultra  2770.890808  16.650138   \n",
       "6         1       Кира   22  Тюмень             ultra  3039.020292  14.927879   \n",
       "7         1       Кира   22  Тюмень             ultra  2842.118050  23.117468   \n",
       "8         1       Кира   22  Тюмень             ultra  3412.690668  15.238072   \n",
       "9         1       Кира   22  Тюмень             ultra   748.690645  15.041884   \n",
       "10        1       Кира   22  Тюмень             ultra  4031.020195  17.674448   \n",
       "11        1       Кира   22  Тюмень             ultra  2720.609748   9.529463   \n",
       "12        2  Станислав   31    Омск             ultra  3105.086678  24.307514   \n",
       "13        2  Станислав   31    Омск             ultra  3053.519401  11.543256   \n",
       "14        2  Станислав   31    Омск             ultra  4029.116927  25.109188   \n",
       "\n",
       "         date  month  minute_price  start_ride_price  subscription_fee  \n",
       "0  2021-01-01      1             6                 0               199  \n",
       "1  2021-01-18      1             6                 0               199  \n",
       "2  2021-04-20      4             6                 0               199  \n",
       "3  2021-08-11      8             6                 0               199  \n",
       "4  2021-08-28      8             6                 0               199  \n",
       "5  2021-10-09     10             6                 0               199  \n",
       "6  2021-10-19     10             6                 0               199  \n",
       "7  2021-11-06     11             6                 0               199  \n",
       "8  2021-11-14     11             6                 0               199  \n",
       "9  2021-11-22     11             6                 0               199  \n",
       "10 2021-12-14     12             6                 0               199  \n",
       "11 2021-12-22     12             6                 0               199  \n",
       "12 2021-03-15      3             6                 0               199  \n",
       "13 2021-03-18      3             6                 0               199  \n",
       "14 2021-03-23      3             6                 0               199  "
      ]
     },
     "execution_count": 32,
     "metadata": {},
     "output_type": "execute_result"
    }
   ],
   "source": [
    "all_data.head(15)"
   ]
  },
  {
   "cell_type": "markdown",
   "id": "0799d936",
   "metadata": {},
   "source": [
    "<a id=18></a>\n",
    "### [Пользователи без подписки](#3.1)"
   ]
  },
  {
   "cell_type": "code",
   "execution_count": 33,
   "id": "ad8792a0",
   "metadata": {},
   "outputs": [
    {
     "name": "stdout",
     "output_type": "stream",
     "text": [
      "<class 'pandas.core.frame.DataFrame'>\n",
      "Int64Index: 11568 entries, 6500 to 18067\n",
      "Data columns (total 12 columns):\n",
      " #   Column             Non-Null Count  Dtype         \n",
      "---  ------             --------------  -----         \n",
      " 0   user_id            11568 non-null  int64         \n",
      " 1   name               11568 non-null  object        \n",
      " 2   age                11568 non-null  int64         \n",
      " 3   city               11568 non-null  object        \n",
      " 4   subscription_type  11568 non-null  object        \n",
      " 5   distance           11568 non-null  float64       \n",
      " 6   duration           11568 non-null  float64       \n",
      " 7   date               11568 non-null  datetime64[ns]\n",
      " 8   month              11568 non-null  int64         \n",
      " 9   minute_price       11568 non-null  int64         \n",
      " 10  start_ride_price   11568 non-null  int64         \n",
      " 11  subscription_fee   11568 non-null  int64         \n",
      "dtypes: datetime64[ns](1), float64(2), int64(6), object(3)\n",
      "memory usage: 1.1+ MB\n"
     ]
    }
   ],
   "source": [
    "free_subsc = all_data[all_data['subscription_type'] == 'free']\n",
    "free_subsc.info()"
   ]
  },
  {
   "cell_type": "markdown",
   "id": "1f67b443",
   "metadata": {},
   "source": [
    "Визуализируем информацию о расстоянии и времени поездок."
   ]
  },
  {
   "cell_type": "code",
   "execution_count": 34,
   "id": "1a551995",
   "metadata": {},
   "outputs": [
    {
     "name": "stdout",
     "output_type": "stream",
     "text": [
      "Описание данных:\n"
     ]
    },
    {
     "data": {
      "text/plain": [
       "count    11568.000000\n",
       "mean      3045.495282\n",
       "std       1246.173806\n",
       "min          0.855683\n",
       "25%       2366.562689\n",
       "50%       3114.648465\n",
       "75%       3905.697894\n",
       "max       7211.007745\n",
       "Name: distance, dtype: float64"
      ]
     },
     "metadata": {},
     "output_type": "display_data"
    },
    {
     "name": "stdout",
     "output_type": "stream",
     "text": [
      "\n",
      "Уникальные значения(10 наиболее частых):\n"
     ]
    },
    {
     "data": {
      "text/plain": [
       "3810.963359    1\n",
       "2184.802657    1\n",
       "2909.730804    1\n",
       "3771.642779    1\n",
       "2879.222022    1\n",
       "1291.517771    1\n",
       "4324.895610    1\n",
       "2781.547095    1\n",
       "790.086135     1\n",
       "3625.545257    1\n",
       "Name: distance, dtype: int64"
      ]
     },
     "metadata": {},
     "output_type": "display_data"
    },
    {
     "name": "stdout",
     "output_type": "stream",
     "text": [
      "\n"
     ]
    },
    {
     "data": {
      "image/png": "[encoded data removed]",
      "text/plain": [
       "<Figure size 1080x360 with 2 Axes>"
      ]
     },
     "metadata": {
      "needs_background": "light"
     },
     "output_type": "display_data"
    }
   ],
   "source": [
    "research_numeric_data(free_subsc, 'distance')"
   ]
  },
  {
   "cell_type": "code",
   "execution_count": 35,
   "id": "da1e445c",
   "metadata": {},
   "outputs": [
    {
     "name": "stdout",
     "output_type": "stream",
     "text": [
      "Описание данных:\n"
     ]
    },
    {
     "data": {
      "text/plain": [
       "count    11568.000000\n",
       "mean        17.390909\n",
       "std          6.326803\n",
       "min          0.500000\n",
       "25%         12.958437\n",
       "50%         17.326890\n",
       "75%         21.594071\n",
       "max         34.948498\n",
       "Name: duration, dtype: float64"
      ]
     },
     "metadata": {},
     "output_type": "display_data"
    },
    {
     "name": "stdout",
     "output_type": "stream",
     "text": [
      "\n",
      "Уникальные значения(10 наиболее частых):\n"
     ]
    },
    {
     "data": {
      "text/plain": [
       "0.500000     95\n",
       "20.783193     1\n",
       "10.262798     1\n",
       "17.522416     1\n",
       "31.122065     1\n",
       "14.806521     1\n",
       "7.475756      1\n",
       "16.862418     1\n",
       "29.270721     1\n",
       "20.852663     1\n",
       "Name: duration, dtype: int64"
      ]
     },
     "metadata": {},
     "output_type": "display_data"
    },
    {
     "name": "stdout",
     "output_type": "stream",
     "text": [
      "\n"
     ]
    },
    {
     "data": {
      "image/png": "[encoded data removed]",
      "text/plain": [
       "<Figure size 1080x360 with 2 Axes>"
      ]
     },
     "metadata": {
      "needs_background": "light"
     },
     "output_type": "display_data"
    }
   ],
   "source": [
    "research_numeric_data(free_subsc, 'duration')"
   ]
  },
  {
   "cell_type": "markdown",
   "id": "0fec15a3",
   "metadata": {},
   "source": [
    "<a id=19></a>\n",
    "### [Пользователи c подпиской](#3.1)"
   ]
  },
  {
   "cell_type": "code",
   "execution_count": 36,
   "id": "3d29dc05",
   "metadata": {},
   "outputs": [
    {
     "name": "stdout",
     "output_type": "stream",
     "text": [
      "<class 'pandas.core.frame.DataFrame'>\n",
      "Int64Index: 6500 entries, 0 to 6499\n",
      "Data columns (total 12 columns):\n",
      " #   Column             Non-Null Count  Dtype         \n",
      "---  ------             --------------  -----         \n",
      " 0   user_id            6500 non-null   int64         \n",
      " 1   name               6500 non-null   object        \n",
      " 2   age                6500 non-null   int64         \n",
      " 3   city               6500 non-null   object        \n",
      " 4   subscription_type  6500 non-null   object        \n",
      " 5   distance           6500 non-null   float64       \n",
      " 6   duration           6500 non-null   float64       \n",
      " 7   date               6500 non-null   datetime64[ns]\n",
      " 8   month              6500 non-null   int64         \n",
      " 9   minute_price       6500 non-null   int64         \n",
      " 10  start_ride_price   6500 non-null   int64         \n",
      " 11  subscription_fee   6500 non-null   int64         \n",
      "dtypes: datetime64[ns](1), float64(2), int64(6), object(3)\n",
      "memory usage: 660.2+ KB\n"
     ]
    }
   ],
   "source": [
    "ultra_subsc = all_data[all_data['subscription_type'] == 'ultra']\n",
    "ultra_subsc.info()"
   ]
  },
  {
   "cell_type": "markdown",
   "id": "95a61681",
   "metadata": {},
   "source": [
    "Визуализируем информацию о расстоянии и времени поездок."
   ]
  },
  {
   "cell_type": "code",
   "execution_count": 37,
   "id": "d019e024",
   "metadata": {},
   "outputs": [
    {
     "name": "stdout",
     "output_type": "stream",
     "text": [
      "Описание данных:\n"
     ]
    },
    {
     "data": {
      "text/plain": [
       "count    6500.000000\n",
       "mean     3115.445388\n",
       "std       836.895330\n",
       "min       244.210438\n",
       "25%      2785.444017\n",
       "50%      3148.637229\n",
       "75%      3560.574425\n",
       "max      5699.769662\n",
       "Name: distance, dtype: float64"
      ]
     },
     "metadata": {},
     "output_type": "display_data"
    },
    {
     "name": "stdout",
     "output_type": "stream",
     "text": [
      "\n",
      "Уникальные значения(10 наиболее частых):\n"
     ]
    },
    {
     "data": {
      "text/plain": [
       "3533.653613    1\n",
       "1148.018216    1\n",
       "2482.085805    1\n",
       "3442.376310    1\n",
       "2841.971978    1\n",
       "3980.896617    1\n",
       "2752.309343    1\n",
       "3486.849534    1\n",
       "5121.490903    1\n",
       "1154.726174    1\n",
       "Name: distance, dtype: int64"
      ]
     },
     "metadata": {},
     "output_type": "display_data"
    },
    {
     "name": "stdout",
     "output_type": "stream",
     "text": [
      "\n"
     ]
    },
    {
     "data": {
      "image/png": "[encoded data removed]",
      "text/plain": [
       "<Figure size 1080x360 with 2 Axes>"
      ]
     },
     "metadata": {
      "needs_background": "light"
     },
     "output_type": "display_data"
    }
   ],
   "source": [
    "research_numeric_data(ultra_subsc, 'distance')"
   ]
  },
  {
   "cell_type": "code",
   "execution_count": 38,
   "id": "3746e55e",
   "metadata": {},
   "outputs": [
    {
     "name": "stdout",
     "output_type": "stream",
     "text": [
      "Описание данных:\n"
     ]
    },
    {
     "data": {
      "text/plain": [
       "count    6500.000000\n",
       "mean       18.541985\n",
       "std         5.572048\n",
       "min         3.760353\n",
       "25%        14.524654\n",
       "50%        18.178153\n",
       "75%        21.884129\n",
       "max        40.823963\n",
       "Name: duration, dtype: float64"
      ]
     },
     "metadata": {},
     "output_type": "display_data"
    },
    {
     "name": "stdout",
     "output_type": "stream",
     "text": [
      "\n",
      "Уникальные значения(10 наиболее частых):\n"
     ]
    },
    {
     "data": {
      "text/plain": [
       "28.647447    1\n",
       "25.217665    1\n",
       "24.152530    1\n",
       "20.189589    1\n",
       "19.775185    1\n",
       "15.431545    1\n",
       "11.456210    1\n",
       "20.856154    1\n",
       "16.208568    1\n",
       "13.631395    1\n",
       "Name: duration, dtype: int64"
      ]
     },
     "metadata": {},
     "output_type": "display_data"
    },
    {
     "name": "stdout",
     "output_type": "stream",
     "text": [
      "\n"
     ]
    },
    {
     "data": {
      "image/png": "[encoded data removed]",
      "text/plain": [
       "<Figure size 1080x360 with 2 Axes>"
      ]
     },
     "metadata": {
      "needs_background": "light"
     },
     "output_type": "display_data"
    }
   ],
   "source": [
    "research_numeric_data(ultra_subsc, 'duration')"
   ]
  },
  {
   "cell_type": "markdown",
   "id": "acbc5901",
   "metadata": {},
   "source": [
    "**Вывод:**    \n",
    "* Пользователей с бесплатным тарифом больше, но среднее расстояние примерно одинаково;\n",
    "* Максимальное расстояние и 3-й квантиль так же больше у пользователей бесплатного тарифа;\n",
    "* По времени поездки у пользователей обоих тарифов среднее время примерно одинаково;\n",
    "* Максимальное время пользования у пользователей  старифом `ultra` больше."
   ]
  },
  {
   "cell_type": "markdown",
   "id": "402d620f",
   "metadata": {},
   "source": [
    "<a id=20></a>\n",
    "## [Подсчёт выручки](#3.1)"
   ]
  },
  {
   "cell_type": "markdown",
   "id": "b6a99cc3",
   "metadata": {},
   "source": [
    "Создаем датафрейм с агрегированными данными о поездках на основе объединенного датафрейма, найдём суммарное расстояние, количество поездок и суммарное время для каждого пользователя за каждый месяц."
   ]
  },
  {
   "cell_type": "code",
   "execution_count": 39,
   "id": "b97ff58d",
   "metadata": {},
   "outputs": [
    {
     "data": {
      "text/html": [
       "<div>\n",
       "<style scoped>\n",
       "    .dataframe tbody tr th:only-of-type {\n",
       "        vertical-align: middle;\n",
       "    }\n",
       "\n",
       "    .dataframe tbody tr th {\n",
       "        vertical-align: top;\n",
       "    }\n",
       "\n",
       "    .dataframe thead th {\n",
       "        text-align: right;\n",
       "    }\n",
       "</style>\n",
       "<table border=\"1\" class=\"dataframe\">\n",
       "  <thead>\n",
       "    <tr style=\"text-align: right;\">\n",
       "      <th></th>\n",
       "      <th></th>\n",
       "      <th>distance</th>\n",
       "      <th>duration</th>\n",
       "      <th>count_travels</th>\n",
       "      <th>subscription_type</th>\n",
       "    </tr>\n",
       "    <tr>\n",
       "      <th>month</th>\n",
       "      <th>user_id</th>\n",
       "      <th></th>\n",
       "      <th></th>\n",
       "      <th></th>\n",
       "      <th></th>\n",
       "    </tr>\n",
       "  </thead>\n",
       "  <tbody>\n",
       "    <tr>\n",
       "      <th rowspan=\"10\" valign=\"top\">1</th>\n",
       "      <th>1</th>\n",
       "      <td>7027.511294</td>\n",
       "      <td>42.0</td>\n",
       "      <td>2</td>\n",
       "      <td>ultra</td>\n",
       "    </tr>\n",
       "    <tr>\n",
       "      <th>3</th>\n",
       "      <td>3061.777147</td>\n",
       "      <td>13.0</td>\n",
       "      <td>1</td>\n",
       "      <td>ultra</td>\n",
       "    </tr>\n",
       "    <tr>\n",
       "      <th>5</th>\n",
       "      <td>3914.646990</td>\n",
       "      <td>13.0</td>\n",
       "      <td>1</td>\n",
       "      <td>ultra</td>\n",
       "    </tr>\n",
       "    <tr>\n",
       "      <th>7</th>\n",
       "      <td>6478.080979</td>\n",
       "      <td>28.0</td>\n",
       "      <td>2</td>\n",
       "      <td>ultra</td>\n",
       "    </tr>\n",
       "    <tr>\n",
       "      <th>12</th>\n",
       "      <td>3577.151148</td>\n",
       "      <td>33.0</td>\n",
       "      <td>1</td>\n",
       "      <td>ultra</td>\n",
       "    </tr>\n",
       "    <tr>\n",
       "      <th>13</th>\n",
       "      <td>6687.987446</td>\n",
       "      <td>42.0</td>\n",
       "      <td>2</td>\n",
       "      <td>ultra</td>\n",
       "    </tr>\n",
       "    <tr>\n",
       "      <th>14</th>\n",
       "      <td>7699.643820</td>\n",
       "      <td>34.0</td>\n",
       "      <td>2</td>\n",
       "      <td>ultra</td>\n",
       "    </tr>\n",
       "    <tr>\n",
       "      <th>15</th>\n",
       "      <td>4187.621459</td>\n",
       "      <td>39.0</td>\n",
       "      <td>1</td>\n",
       "      <td>ultra</td>\n",
       "    </tr>\n",
       "    <tr>\n",
       "      <th>20</th>\n",
       "      <td>3516.719208</td>\n",
       "      <td>29.0</td>\n",
       "      <td>1</td>\n",
       "      <td>ultra</td>\n",
       "    </tr>\n",
       "    <tr>\n",
       "      <th>22</th>\n",
       "      <td>3058.692225</td>\n",
       "      <td>13.0</td>\n",
       "      <td>1</td>\n",
       "      <td>ultra</td>\n",
       "    </tr>\n",
       "  </tbody>\n",
       "</table>\n",
       "</div>"
      ],
      "text/plain": [
       "                  distance  duration  count_travels subscription_type\n",
       "month user_id                                                        \n",
       "1     1        7027.511294      42.0              2             ultra\n",
       "      3        3061.777147      13.0              1             ultra\n",
       "      5        3914.646990      13.0              1             ultra\n",
       "      7        6478.080979      28.0              2             ultra\n",
       "      12       3577.151148      33.0              1             ultra\n",
       "      13       6687.987446      42.0              2             ultra\n",
       "      14       7699.643820      34.0              2             ultra\n",
       "      15       4187.621459      39.0              1             ultra\n",
       "      20       3516.719208      29.0              1             ultra\n",
       "      22       3058.692225      13.0              1             ultra"
      ]
     },
     "execution_count": 39,
     "metadata": {},
     "output_type": "execute_result"
    }
   ],
   "source": [
    "data_for_revenue = pd.pivot_table(\n",
    "    all_data,\n",
    "    index=['month', 'user_id'],\n",
    "    values = ['distance', 'duration', 'name', 'subscription_type'],\n",
    "    aggfunc = {'distance': sum, \n",
    "               'duration' : sum,\n",
    "               'name': 'count',\n",
    "               'subscription_type': min})\n",
    "# Переименуем столбец с количеством поездок, и округляем в большую сторону.\n",
    "data_for_revenue = data_for_revenue.rename(columns={'name': 'count_travels'})\n",
    "data_for_revenue['duration'] = data_for_revenue['duration'].apply(np.ceil)\n",
    "\n",
    "data_for_revenue.head(10)"
   ]
  },
  {
   "cell_type": "markdown",
   "id": "8c7b53b8",
   "metadata": {},
   "source": [
    "Теперь добавим во фрейм столбец с выручкой."
   ]
  },
  {
   "cell_type": "code",
   "execution_count": 40,
   "id": "0adbddd7",
   "metadata": {},
   "outputs": [],
   "source": [
    "FREE_SUBSC = 0\n",
    "ULTRA_SUBSC = 199\n",
    "\n",
    "FREE_COST_MINUTE = 8\n",
    "ULTRA_COST_MINUTE = 6\n",
    "\n",
    "FREE_COST_START = 50\n",
    "ULTRA_COST_START = 0\n",
    "\n",
    "def calculate_revenue(row):\n",
    "    \"\"\"\n",
    "    Добавляет стоимость помесячную выручку, рассчитываю по формуле:\n",
    "    (стоимость старта поездки × количество поездок) + \n",
    "    (стоимость одной минуты поездки × общая продолжительность всех поездок в минутах)\n",
    "    + стоимость подписки\n",
    "    \"\"\"\n",
    "    if row['subscription_type'] == 'free':\n",
    "        return FREE_COST_START*row['count_travels'] + FREE_COST_MINUTE*row['duration'] + FREE_SUBSC\n",
    "    elif row['subscription_type'] == 'ultra':\n",
    "        return ULTRA_COST_START*row['count_travels'] + ULTRA_COST_MINUTE*row['duration'] + ULTRA_SUBSC\n",
    "    else:\n",
    "        return 'Not subc type'"
   ]
  },
  {
   "cell_type": "code",
   "execution_count": 41,
   "id": "afb96b22",
   "metadata": {},
   "outputs": [
    {
     "data": {
      "text/html": [
       "<div>\n",
       "<style scoped>\n",
       "    .dataframe tbody tr th:only-of-type {\n",
       "        vertical-align: middle;\n",
       "    }\n",
       "\n",
       "    .dataframe tbody tr th {\n",
       "        vertical-align: top;\n",
       "    }\n",
       "\n",
       "    .dataframe thead th {\n",
       "        text-align: right;\n",
       "    }\n",
       "</style>\n",
       "<table border=\"1\" class=\"dataframe\">\n",
       "  <thead>\n",
       "    <tr style=\"text-align: right;\">\n",
       "      <th></th>\n",
       "      <th></th>\n",
       "      <th>distance</th>\n",
       "      <th>duration</th>\n",
       "      <th>count_travels</th>\n",
       "      <th>subscription_type</th>\n",
       "      <th>revenue_per_month</th>\n",
       "    </tr>\n",
       "    <tr>\n",
       "      <th>month</th>\n",
       "      <th>user_id</th>\n",
       "      <th></th>\n",
       "      <th></th>\n",
       "      <th></th>\n",
       "      <th></th>\n",
       "      <th></th>\n",
       "    </tr>\n",
       "  </thead>\n",
       "  <tbody>\n",
       "    <tr>\n",
       "      <th rowspan=\"10\" valign=\"top\">1</th>\n",
       "      <th>1</th>\n",
       "      <td>7027.511294</td>\n",
       "      <td>42.0</td>\n",
       "      <td>2</td>\n",
       "      <td>ultra</td>\n",
       "      <td>451.0</td>\n",
       "    </tr>\n",
       "    <tr>\n",
       "      <th>3</th>\n",
       "      <td>3061.777147</td>\n",
       "      <td>13.0</td>\n",
       "      <td>1</td>\n",
       "      <td>ultra</td>\n",
       "      <td>277.0</td>\n",
       "    </tr>\n",
       "    <tr>\n",
       "      <th>5</th>\n",
       "      <td>3914.646990</td>\n",
       "      <td>13.0</td>\n",
       "      <td>1</td>\n",
       "      <td>ultra</td>\n",
       "      <td>277.0</td>\n",
       "    </tr>\n",
       "    <tr>\n",
       "      <th>7</th>\n",
       "      <td>6478.080979</td>\n",
       "      <td>28.0</td>\n",
       "      <td>2</td>\n",
       "      <td>ultra</td>\n",
       "      <td>367.0</td>\n",
       "    </tr>\n",
       "    <tr>\n",
       "      <th>12</th>\n",
       "      <td>3577.151148</td>\n",
       "      <td>33.0</td>\n",
       "      <td>1</td>\n",
       "      <td>ultra</td>\n",
       "      <td>397.0</td>\n",
       "    </tr>\n",
       "    <tr>\n",
       "      <th>13</th>\n",
       "      <td>6687.987446</td>\n",
       "      <td>42.0</td>\n",
       "      <td>2</td>\n",
       "      <td>ultra</td>\n",
       "      <td>451.0</td>\n",
       "    </tr>\n",
       "    <tr>\n",
       "      <th>14</th>\n",
       "      <td>7699.643820</td>\n",
       "      <td>34.0</td>\n",
       "      <td>2</td>\n",
       "      <td>ultra</td>\n",
       "      <td>403.0</td>\n",
       "    </tr>\n",
       "    <tr>\n",
       "      <th>15</th>\n",
       "      <td>4187.621459</td>\n",
       "      <td>39.0</td>\n",
       "      <td>1</td>\n",
       "      <td>ultra</td>\n",
       "      <td>433.0</td>\n",
       "    </tr>\n",
       "    <tr>\n",
       "      <th>20</th>\n",
       "      <td>3516.719208</td>\n",
       "      <td>29.0</td>\n",
       "      <td>1</td>\n",
       "      <td>ultra</td>\n",
       "      <td>373.0</td>\n",
       "    </tr>\n",
       "    <tr>\n",
       "      <th>22</th>\n",
       "      <td>3058.692225</td>\n",
       "      <td>13.0</td>\n",
       "      <td>1</td>\n",
       "      <td>ultra</td>\n",
       "      <td>277.0</td>\n",
       "    </tr>\n",
       "  </tbody>\n",
       "</table>\n",
       "</div>"
      ],
      "text/plain": [
       "                  distance  duration  count_travels subscription_type  \\\n",
       "month user_id                                                           \n",
       "1     1        7027.511294      42.0              2             ultra   \n",
       "      3        3061.777147      13.0              1             ultra   \n",
       "      5        3914.646990      13.0              1             ultra   \n",
       "      7        6478.080979      28.0              2             ultra   \n",
       "      12       3577.151148      33.0              1             ultra   \n",
       "      13       6687.987446      42.0              2             ultra   \n",
       "      14       7699.643820      34.0              2             ultra   \n",
       "      15       4187.621459      39.0              1             ultra   \n",
       "      20       3516.719208      29.0              1             ultra   \n",
       "      22       3058.692225      13.0              1             ultra   \n",
       "\n",
       "               revenue_per_month  \n",
       "month user_id                     \n",
       "1     1                    451.0  \n",
       "      3                    277.0  \n",
       "      5                    277.0  \n",
       "      7                    367.0  \n",
       "      12                   397.0  \n",
       "      13                   451.0  \n",
       "      14                   403.0  \n",
       "      15                   433.0  \n",
       "      20                   373.0  \n",
       "      22                   277.0  "
      ]
     },
     "execution_count": 41,
     "metadata": {},
     "output_type": "execute_result"
    }
   ],
   "source": [
    "data_for_revenue['revenue_per_month'] = data_for_revenue.apply(calculate_revenue, axis=1)\n",
    "data_for_revenue.head(10)"
   ]
  },
  {
   "cell_type": "code",
   "execution_count": 42,
   "id": "cd868999",
   "metadata": {},
   "outputs": [
    {
     "data": {
      "text/html": [
       "<div>\n",
       "<style scoped>\n",
       "    .dataframe tbody tr th:only-of-type {\n",
       "        vertical-align: middle;\n",
       "    }\n",
       "\n",
       "    .dataframe tbody tr th {\n",
       "        vertical-align: top;\n",
       "    }\n",
       "\n",
       "    .dataframe thead th {\n",
       "        text-align: right;\n",
       "    }\n",
       "</style>\n",
       "<table border=\"1\" class=\"dataframe\">\n",
       "  <thead>\n",
       "    <tr style=\"text-align: right;\">\n",
       "      <th></th>\n",
       "      <th></th>\n",
       "      <th>distance</th>\n",
       "      <th>duration</th>\n",
       "      <th>count_travels</th>\n",
       "      <th>subscription_type</th>\n",
       "      <th>revenue_per_month</th>\n",
       "    </tr>\n",
       "    <tr>\n",
       "      <th>month</th>\n",
       "      <th>user_id</th>\n",
       "      <th></th>\n",
       "      <th></th>\n",
       "      <th></th>\n",
       "      <th></th>\n",
       "      <th></th>\n",
       "    </tr>\n",
       "  </thead>\n",
       "  <tbody>\n",
       "    <tr>\n",
       "      <th>1</th>\n",
       "      <th>1</th>\n",
       "      <td>7027.511294</td>\n",
       "      <td>42.0</td>\n",
       "      <td>2</td>\n",
       "      <td>ultra</td>\n",
       "      <td>451.0</td>\n",
       "    </tr>\n",
       "    <tr>\n",
       "      <th>4</th>\n",
       "      <th>1</th>\n",
       "      <td>754.159807</td>\n",
       "      <td>7.0</td>\n",
       "      <td>1</td>\n",
       "      <td>ultra</td>\n",
       "      <td>241.0</td>\n",
       "    </tr>\n",
       "    <tr>\n",
       "      <th>8</th>\n",
       "      <th>1</th>\n",
       "      <td>6723.470560</td>\n",
       "      <td>45.0</td>\n",
       "      <td>2</td>\n",
       "      <td>ultra</td>\n",
       "      <td>469.0</td>\n",
       "    </tr>\n",
       "    <tr>\n",
       "      <th>10</th>\n",
       "      <th>1</th>\n",
       "      <td>5809.911100</td>\n",
       "      <td>32.0</td>\n",
       "      <td>2</td>\n",
       "      <td>ultra</td>\n",
       "      <td>391.0</td>\n",
       "    </tr>\n",
       "    <tr>\n",
       "      <th>11</th>\n",
       "      <th>1</th>\n",
       "      <td>7003.499363</td>\n",
       "      <td>54.0</td>\n",
       "      <td>3</td>\n",
       "      <td>ultra</td>\n",
       "      <td>523.0</td>\n",
       "    </tr>\n",
       "    <tr>\n",
       "      <th>12</th>\n",
       "      <th>1</th>\n",
       "      <td>6751.629942</td>\n",
       "      <td>28.0</td>\n",
       "      <td>2</td>\n",
       "      <td>ultra</td>\n",
       "      <td>367.0</td>\n",
       "    </tr>\n",
       "  </tbody>\n",
       "</table>\n",
       "</div>"
      ],
      "text/plain": [
       "                  distance  duration  count_travels subscription_type  \\\n",
       "month user_id                                                           \n",
       "1     1        7027.511294      42.0              2             ultra   \n",
       "4     1         754.159807       7.0              1             ultra   \n",
       "8     1        6723.470560      45.0              2             ultra   \n",
       "10    1        5809.911100      32.0              2             ultra   \n",
       "11    1        7003.499363      54.0              3             ultra   \n",
       "12    1        6751.629942      28.0              2             ultra   \n",
       "\n",
       "               revenue_per_month  \n",
       "month user_id                     \n",
       "1     1                    451.0  \n",
       "4     1                    241.0  \n",
       "8     1                    469.0  \n",
       "10    1                    391.0  \n",
       "11    1                    523.0  \n",
       "12    1                    367.0  "
      ]
     },
     "execution_count": 42,
     "metadata": {},
     "output_type": "execute_result"
    }
   ],
   "source": [
    "data_for_revenue.query('user_id == 1')"
   ]
  },
  {
   "cell_type": "code",
   "execution_count": 43,
   "id": "857ce53b",
   "metadata": {},
   "outputs": [
    {
     "data": {
      "text/plain": [
       "count    11331.000000\n",
       "mean       340.100344\n",
       "std        151.127485\n",
       "min         58.000000\n",
       "25%        234.000000\n",
       "50%        319.000000\n",
       "75%        412.000000\n",
       "max       1428.000000\n",
       "Name: revenue_per_month, dtype: float64"
      ]
     },
     "execution_count": 43,
     "metadata": {},
     "output_type": "execute_result"
    }
   ],
   "source": [
    "data_for_revenue['revenue_per_month'].describe()"
   ]
  },
  {
   "cell_type": "code",
   "execution_count": 44,
   "id": "e29db67c",
   "metadata": {},
   "outputs": [
    {
     "name": "stdout",
     "output_type": "stream",
     "text": [
      "Суммарная выручка составила: 3853677.0\n"
     ]
    }
   ],
   "source": [
    "print('Суммарная выручка составила:', data_for_revenue['revenue_per_month'].sum())"
   ]
  },
  {
   "cell_type": "markdown",
   "id": "f5f63e0b",
   "metadata": {},
   "source": [
    "**Вывод:**    \n",
    "* Минимальная выручка с клиента составляет 58 руб.;\n",
    "* Максимальная выручка с клиента за всё время 1428 руб.;\n",
    "* Средняя выручка с клиента порядка 340 руб.;\n",
    "* Суммарная выручка составила: 3 853 677 руб.;\n",
    "* По значениям квантилей, можно сделать вывод, что большая часть клинетов приносить в месяц примерно 412 рублей."
   ]
  },
  {
   "cell_type": "markdown",
   "id": "41545ac0",
   "metadata": {},
   "source": [
    "<a id=21></a>\n",
    "## [Проверка гипотез](#3.1)"
   ]
  },
  {
   "cell_type": "markdown",
   "id": "07ff5ef8",
   "metadata": {},
   "source": [
    "<a id=22></a>\n",
    "### [Пользователи с подпиской тратят больше времени на поездки](#3.1)"
   ]
  },
  {
   "cell_type": "markdown",
   "id": "b270eb3b",
   "metadata": {},
   "source": [
    "Сформулирую нулевую и альтернативную гипотезы:    \n",
    "* $H_0$: длительность(`duration`) поездки пользователей с тарифом `ultra` равна(=) длительности(`duration`) поездки пользователей с тарифом `free`.    \n",
    "\n",
    "* $H_1$: длительность(`duration`) поездки пользователей с тарифом `ultra` больше(>) длительности(`duration`) поездки пользователей с тарифом `free`.    \n",
    "\n",
    "Для оценки статистической значимости буду использовать двухвыборочный t-тест для двух независимых выборок, с правосторонней альтернативной гипотезой."
   ]
  },
  {
   "cell_type": "code",
   "execution_count": 45,
   "id": "bd0c9d28",
   "metadata": {},
   "outputs": [
    {
     "name": "stdout",
     "output_type": "stream",
     "text": [
      "p-value: 1.2804098316645618e-34\n",
      "Отвергаем нулевую гипотезу.\n"
     ]
    }
   ],
   "source": [
    "# Уровень статистической значимости\n",
    "alpha = 0.05\n",
    "\n",
    "results = st.ttest_ind(\n",
    "    ultra_subsc['duration'],\n",
    "    free_subsc['duration'],\n",
    "    alternative='greater'\n",
    ")\n",
    "\n",
    "print('p-value:', results.pvalue)\n",
    "\n",
    "if results.pvalue < alpha:\n",
    "    print('Отвергаем нулевую гипотезу.')\n",
    "else:\n",
    "    print('Не удалось отвергнуть нулевую гипотезу.')"
   ]
  },
  {
   "cell_type": "code",
   "execution_count": 46,
   "id": "bfd88415",
   "metadata": {},
   "outputs": [
    {
     "data": {
      "image/png": "[encoded data removed]",
      "text/plain": [
       "<Figure size 432x288 with 1 Axes>"
      ]
     },
     "metadata": {
      "needs_background": "light"
     },
     "output_type": "display_data"
    }
   ],
   "source": [
    "ax = sns.barplot(x = 'month',\n",
    "            y = 'duration',\n",
    "            hue = \"subscription_type\",\n",
    "            data = all_data,\n",
    "            palette = ['green', 'red'])\n",
    "ax.set_title('Распределение длительности поездок по видам подписки и месяцам')\n",
    "ax.set(xlabel='Номер месяца', ylabel='Длительность поездок');"
   ]
  },
  {
   "cell_type": "markdown",
   "id": "88b35b29",
   "metadata": {},
   "source": [
    "**Вывод:**    \n",
    "Отвергли гипотезу о том, что длительность поездки пользователей с тарифом `ultra` равна длительности пользователей с терифом `free`. Могу предполагать, что она больше, что в целом подтверждает график распределения длительностей поездок по месяцам."
   ]
  },
  {
   "cell_type": "markdown",
   "id": "e2b35d35",
   "metadata": {},
   "source": [
    "<a id=23></a>\n",
    "### [Среднее расстояние, которое проезжают пользователи с подпиской за одну поездку, не превышает 3130 метров](#3.1)"
   ]
  },
  {
   "cell_type": "markdown",
   "id": "fa6c811d",
   "metadata": {},
   "source": [
    "Сформулирую нулевую и альтернативную гипотезы:    \n",
    "* $H_0$: расстояние(`distance`) поездки пользователей с тарифом `ultra` равна(=) 3130 м..    \n",
    "\n",
    "* $H_1$: расстояние(`distance`) поездки пользователей с тарифом `ultra` меньше(<) 3130 м..    \n",
    "\n",
    "Для оценки статистической значимости буду использовать одновыборочный t-тест, с левосторонней альтернативной гипотезой."
   ]
  },
  {
   "cell_type": "code",
   "execution_count": 47,
   "id": "6332a317",
   "metadata": {},
   "outputs": [
    {
     "name": "stdout",
     "output_type": "stream",
     "text": [
      "p-value: 0.08046311521502146\n",
      "Не удалось отвергнуть нулевую гипотезу.\n"
     ]
    }
   ],
   "source": [
    "# Уровень статистической значимости\n",
    "alpha = 0.05\n",
    "\n",
    "results = st.ttest_1samp(\n",
    "    ultra_subsc['distance'],\n",
    "    3130,\n",
    "    alternative='less'\n",
    ")\n",
    "print('p-value:', results.pvalue)\n",
    "\n",
    "if results.pvalue < alpha:\n",
    "    print('Отвергаем нулевую гипотезу.')\n",
    "else:\n",
    "    print('Не удалось отвергнуть нулевую гипотезу.')"
   ]
  },
  {
   "cell_type": "code",
   "execution_count": 48,
   "id": "22f0c997",
   "metadata": {},
   "outputs": [
    {
     "data": {
      "text/plain": [
       "count    6500.000000\n",
       "mean     3115.445388\n",
       "std       836.895330\n",
       "min       244.210438\n",
       "25%      2785.444017\n",
       "50%      3148.637229\n",
       "75%      3560.574425\n",
       "max      5699.769662\n",
       "Name: distance, dtype: float64"
      ]
     },
     "execution_count": 48,
     "metadata": {},
     "output_type": "execute_result"
    }
   ],
   "source": [
    "ultra_subsc['distance'].describe()"
   ]
  },
  {
   "cell_type": "markdown",
   "id": "57c44529",
   "metadata": {},
   "source": [
    "**Вывод:**    \n",
    "По итогам проверки не могу утверждать, что среднее расстояние пользователей с подпиской за одну поездку не превышает 3130 м."
   ]
  },
  {
   "cell_type": "markdown",
   "id": "0069e4f7",
   "metadata": {},
   "source": [
    "<a id=24></a>\n",
    "### [Помесячная выручка от пользователей с подпиской по месяцам выше, чем выручка от пользователей без подписки](#3.1)"
   ]
  },
  {
   "cell_type": "markdown",
   "id": "03224843",
   "metadata": {},
   "source": [
    "Сформулирую нулевую и альтернативную гипотезы:    \n",
    "* $H_0$: помесячная выручка(`revenue_per_month`) пользователей с тарифом `ultra` равна(=) помесячной выручки(`revenue_per_month`) пользователей с тарифом `free`.    \n",
    "\n",
    "* $H_1$: помесячная выручка(`revenue_per_month`) пользователей с тарифом `ultra` больше(>) помесячной выручки(`revenue_per_month`) пользователей с тарифом `free`.    \n",
    "\n",
    "Для оценки статистической значимости буду использовать двухвыборочный t-тест для независимых выборок, с правосторонней альтернативной гипотезой."
   ]
  },
  {
   "cell_type": "code",
   "execution_count": 49,
   "id": "36fcd093",
   "metadata": {},
   "outputs": [
    {
     "name": "stdout",
     "output_type": "stream",
     "text": [
      "p-value: 2.8130926188487286e-35\n",
      "Отвергаем нулевую гипотезу.\n"
     ]
    }
   ],
   "source": [
    "# Уровень статистической значимости\n",
    "alpha = 0.05\n",
    "\n",
    "results = st.ttest_ind(\n",
    "    data_for_revenue.loc[data_for_revenue.subscription_type == 'ultra', 'revenue_per_month'],\n",
    "    data_for_revenue.loc[data_for_revenue.subscription_type == 'free', 'revenue_per_month'],\n",
    "    alternative='greater'\n",
    ")\n",
    "\n",
    "print('p-value:', results.pvalue)\n",
    "\n",
    "if results.pvalue < alpha:\n",
    "    print('Отвергаем нулевую гипотезу.')\n",
    "else:\n",
    "    print('Не удалось отвергнуть нулевую гипотезу.')"
   ]
  },
  {
   "cell_type": "code",
   "execution_count": 50,
   "id": "72b454af",
   "metadata": {},
   "outputs": [
    {
     "data": {
      "image/png": "[encoded data removed]",
      "text/plain": [
       "<Figure size 432x288 with 1 Axes>"
      ]
     },
     "metadata": {
      "needs_background": "light"
     },
     "output_type": "display_data"
    }
   ],
   "source": [
    "ax = sns.barplot(x = 'month',\n",
    "            y = 'revenue_per_month',\n",
    "            hue = \"subscription_type\",\n",
    "            data = data_for_revenue.reset_index(),\n",
    "            palette = ['green', 'red'])\n",
    "ax.set_title('Распределение помесячной выручки')\n",
    "ax.set(xlabel='Номер месяца', ylabel='Выручка');"
   ]
  },
  {
   "cell_type": "markdown",
   "id": "31678271",
   "metadata": {},
   "source": [
    "**Вывод:**    \n",
    "Отвергли гипотезу о том, что ежемесячная выручка от пользователей тарифа `ultra` равно выручке от пользователей тарифа `free`. Могу предполагать, что она действительно выше выручки пользователей от тарифа `free`."
   ]
  },
  {
   "cell_type": "markdown",
   "id": "432906d6",
   "metadata": {},
   "source": [
    "<a id=25></a>\n",
    "### [Количество обращений в техподдержку значимо снизилось(теоретическая)](#3.1)"
   ]
  },
  {
   "cell_type": "markdown",
   "id": "5c782000",
   "metadata": {},
   "source": [
    "Представьте такую ситуацию: техническая команда сервиса обновила сервера, с которыми взаимодействует мобильное приложение. Она надеется, что из-за этого количество обращений в техподдержку значимо снизилось. Некоторый файл содержит для каждого пользователя данные о количестве обращений до обновления и после него. Какой тест вам понадобился бы для проверки этой гипотезы?"
   ]
  },
  {
   "cell_type": "markdown",
   "id": "4ac3c96e",
   "metadata": {},
   "source": [
    "Сформулирую нулевую и альтернативную гипотезы:    \n",
    "* $H_0$: количество обращений после обновления равно(=) количества обращений до обновления.    \n",
    "\n",
    "* $H_1$: количество обращений после обновления меньше(<) количества обращений до обновления.    \n",
    "\n",
    "Для оценки статистической значимости буду использовать двухвыборочный t-тест для зависимых выборок, с левосторонней альтернативной гипотезой(метод `ttest_rel`)."
   ]
  },
  {
   "cell_type": "markdown",
   "id": "acab7280",
   "metadata": {},
   "source": [
    "**Вывод:**    \n",
    "* Отвергли гипотезу о том, что длительность поездки пользователей с тарифом `ultra` равна длительности пользователей с терифом `free`. Могу предполагать, что она больше, что в целом подтверждает график распределения длительностей поездок по месяцам;\n",
    "* По итогам проверки не могу утверждать, что среднее расстояние пользователей с подпиской за одну поездку не превышает 3130 м.\n",
    "* Отвергли гипотезу о том, что ежемесячная выручка от пользователей тарифа `ultra` равно выручке от пользователей тарифа `free`. Могу предполагать, что она действительно выше выручки пользователей от тарифа `free`."
   ]
  },
  {
   "cell_type": "markdown",
   "id": "61213c5e",
   "metadata": {},
   "source": [
    "<a id=26></a>\n",
    "## [Распределения](#3.1)"
   ]
  },
  {
   "cell_type": "markdown",
   "id": "10de24e8",
   "metadata": {},
   "source": [
    "<a id=27></a>\n",
    "### [Акция с раздачей промокодов на один бесплатный месяц подписки](#3.1)"
   ]
  },
  {
   "cell_type": "markdown",
   "id": "926aea7b",
   "metadata": {},
   "source": [
    "Отделу маркетинга GoFast поставили задачу: нужно провести акцию с раздачей промокодов на один бесплатный месяц подписки, в рамках которой как минимум 100 существующих клиентов должны продлить эту подписку. То есть по завершении периода действия подписки пользователь может либо отказаться от неё, либо продлить, совершив соответствующий платёж. \n",
    "    \n",
    "Эта акция уже проводилась ранее и по итогу выяснилось, что после бесплатного пробного периода подписку продлевают 10 % пользователей. Выясните, какое минимальное количество промокодов нужно разослать, чтобы вероятность не выполнить план была примерно 5 %. Подберите параметры распределения, описывающего эту ситуацию, постройте график распределения и сформулируйте ответ на вопрос о количестве промокодов."
   ]
  },
  {
   "cell_type": "code",
   "execution_count": 51,
   "id": "82bae5d4",
   "metadata": {},
   "outputs": [
    {
     "name": "stdout",
     "output_type": "stream",
     "text": [
      "При раздаче промокодов в количестве 1161 вероятность, не выполнить план меньше 5.0 %\n"
     ]
    },
    {
     "data": {
      "image/png": "[encoded data removed]",
      "text/plain": [
       "<Figure size 432x288 with 1 Axes>"
      ]
     },
     "metadata": {
      "needs_background": "light"
     },
     "output_type": "display_data"
    }
   ],
   "source": [
    "n = 1000  # фиксированное число попыток\n",
    "p = 0.1  # вероятность успеха\n",
    "k = 99  # количество успехов\n",
    "binom_cdf = 0.05\n",
    "\n",
    "while binom_cdf < binom.cdf(k, n, p):\n",
    "    n += 1\n",
    "print(f'При раздаче промокодов в количестве {n} вероятность, не выполнить план меньше {binom.cdf(k, n, p).round(2)*100} %')\n",
    "\n",
    "# зададим мат.ожидание и ст.отклонение нормального распределения равными\n",
    "# мат.ожиданию и ст.отклонению биномиального распределения\n",
    "mu = n * p\n",
    "sigma = (n * p * (1 - p))**0.5\n",
    "\n",
    "arange = np.arange((mu - 3 * sigma),(mu + 3 * sigma),1)\n",
    "\n",
    "plt.plot(arange, st.norm.pdf(arange, mu, sigma), 'b--')\n",
    "plt.axvline(x=k, color='red')\n",
    "plt.axvline(x=mu, color='green')\n",
    "plt.show()"
   ]
  },
  {
   "cell_type": "markdown",
   "id": "c9115032",
   "metadata": {},
   "source": [
    "**Вывод:**    \n",
    "Необходимо довести до подписчиков как минимум 1161 промокода, для того чтобы как минимум 100 существующих клиентов продлили подписку (продлевают подписку 10% пролучивших промокод) с вероятностью 5% не выполнить план."
   ]
  },
  {
   "cell_type": "markdown",
   "id": "15e19f4c",
   "metadata": {},
   "source": [
    "<a id=28></a>\n",
    "### [Оценить вероятность того, что уведомление откроют не более 399,5 тыс. пользователей](#3.1)"
   ]
  },
  {
   "cell_type": "markdown",
   "id": "972f710b",
   "metadata": {},
   "source": [
    "Отдел маркетинга рассылает клиентам push-уведомления в мобильном приложении. Клиенты могут открыть его или не открывать. Известно, что уведомления открывают около 40 % получивших клиентов. Отдел планирует разослать 1 млн уведомлений. С помощью аппроксимации постройте примерный график распределения и оцените вероятность того, что уведомление откроют не более 399,5 тыс. пользователей."
   ]
  },
  {
   "cell_type": "code",
   "execution_count": 52,
   "id": "ae1f873c",
   "metadata": {},
   "outputs": [
    {
     "name": "stdout",
     "output_type": "stream",
     "text": [
      "Вероятность открытия сообщений: 0.15371708296369768\n"
     ]
    },
    {
     "data": {
      "image/png": "[encoded data removed]",
      "text/plain": [
       "<Figure size 432x288 with 1 Axes>"
      ]
     },
     "metadata": {
      "needs_background": "light"
     },
     "output_type": "display_data"
    }
   ],
   "source": [
    "# параметры биномиального распределения\n",
    "n = 1000000\n",
    "p = 0.4\n",
    "k = 399500\n",
    "# зададим мат.ожидание и ст.отклонение нормального распределения равными\n",
    "# мат.ожиданию и ст.отклонению биномиального распределения\n",
    "mu = n * p\n",
    "sigma = (n * p * (1 - p))**0.5\n",
    "\n",
    "# задаём нормальное распределение\n",
    "distr = st.norm(mu, sigma) \n",
    "\n",
    "# считаем вероятность хвоста слева от 399.5 тысяч\n",
    "result = distr.cdf(k)\n",
    "print('Вероятность открытия сообщений:', result)\n",
    "\n",
    "arange = np.arange((mu - 3 * sigma),(mu + 3 * sigma),1)\n",
    "plt.plot(arange, st.norm.pdf(arange, mu, sigma), 'b--')\n",
    "plt.xticks(rotation=90)\n",
    "plt.axvline(x=k, color='red')\n",
    "plt.axvline(x=mu, color='green')\n",
    "plt.show()"
   ]
  },
  {
   "cell_type": "markdown",
   "id": "c38af4f7",
   "metadata": {},
   "source": [
    "**Вывод:**    \n",
    "Если разослать 1 млн уведомлений (откроют только 40 % получивших клиентов), тогда вероятность того, что уведомление откроют не более 399,5 тыс. пользователей составит 0.1537 или 15,37 %."
   ]
  },
  {
   "cell_type": "markdown",
   "id": "e0d0bbdb",
   "metadata": {},
   "source": [
    "# Общий вывод и рекомендации заказчику"
   ]
  },
  {
   "cell_type": "markdown",
   "id": "106cbfa5",
   "metadata": {},
   "source": [
    "В рамках выполнения проекта мне было необходимо:    \n",
    "Проанализировать данные, посчитать выручку и проверить некоторые гипотезы, которые могут помочь бизнесу вырасти.\n",
    "1. Важно понять, тратят ли пользователи с подпиской больше времени на поездки? Если да, то пользователи с подпиской могут быть «выгоднее» для компании;\n",
    "2. Расстояние одной поездки в 3130 метров — оптимальное с точки зрения износа самоката. Можно ли сказать, что среднее расстояние, которое проезжают пользователи с подпиской за одну поездку, не превышает 3130 метров?\n",
    "3. Будет ли помесячная выручка от пользователей с подпиской по месяцам выше, чем выручка от пользователей без подписки;\n",
    "4. Представьте такую ситуацию: техническая команда сервиса обновила сервера, с которыми взаимодействует мобильное приложение. Она надеется, что из-за этого количество обращений в техподдержку значимо снизилось. Некоторый файл содержит для каждого пользователя данные о количестве обращений до обновления и после него;\n",
    "5. Нужно провести акцию с раздачей промокодов на один бесплатный месяц подписки, в рамках которой как минимум 100 существующих клиентов должны продлить эту подписку. То есть по завершении периода действия подписки пользователь может либо отказаться от неё, либо продлить, совершив соответствующий платёж. Эта акция уже проводилась ранее и по итогу выяснилось, что после бесплатного пробного периода подписку продлевают 10 % пользователей. Выяснить, какое минимальное количество промокодов нужно разослать, чтобы вероятность не выполнить план была примерно 5 %. Подобрать параметры распределения, описывающего эту ситуацию, построить график распределения и сформулировать ответ на вопрос о количестве промокодов.\n",
    "6. Отдел маркетинга рассылает клиентам push-уведомления в мобильном приложении. Клиенты могут открыть его или не открывать. Известно, что уведомления открывают около 40 % получивших клиентов. Отдел планирует разослать 1 млн уведомлений. С помощью аппроксимации построить примерный график распределения и оценить вероятность того, что уведомление откроют не более 399,5 тыс. пользователей.    \n",
    "\n",
    "По предобработке:    \n",
    "* В датафрейме `users_go_data` обнаруен 31 явный дубликат, удален;\n",
    "* Неявных дубликатов во фреймах не обнаружено;\n",
    "* В датафрейм `rides_go_data` добавлен столбец с месяцем поездки.    \n",
    "\n",
    "В ходе исследовательского анализа было установлено:   \n",
    "* Среднее расстояние, которое преодолевает пользователь - 3 км.;\n",
    "* Максимальное расстояние 7.2 км. Много значений до метра, что вероятно говорит о попытке впервые воспользоваться данной услугой;\n",
    "* В среднем самокат используют около 18 мин, максимально использовали 40 мин., так же стандартное отклонение порядка 6 мин;\n",
    "* Присутствуют 95 значений, при которых самокатом пользовались буквально полминуты;\n",
    "* Выгрузка за один год - с 1-го января 2021 года по 30-е декабря 2021 года.    \n",
    "\n",
    "Касательно расчета и анализа выручки:\n",
    "* Создан новый фрейм с выручкой `revenue_per_month`;\n",
    "* Минимальная выручка с клиента составляет 58 руб.;\n",
    "* Максимальная выручка с клиента за всё время 1428 руб.;\n",
    "* Средняя выручка с клиента порядка 340 руб.;\n",
    "* Суммарная выручка составила: 3 853 677 руб.;\n",
    "* По значениям квантилей, можно сделать вывод, что большая часть клинетов приносить в месяц примерно 412 рублей.    \n",
    "\n",
    "Касательно проверок гипотез:\n",
    "* Отвергли гипотезу о том, что длительность поездки пользователей с тарифом `ultra` равна длительности пользователей с терифом `free`. Могу предполагать, что она больше, что в целом подтверждает график распределения длительностей поездок по месяцам;\n",
    "* По итогам проверки не могу утверждать, что среднее расстояние пользователей с подпиской за одну поездку не превышает 3130 м.\n",
    "* Отвергли гипотезу о том, что ежемесячная выручка от пользователей тарифа `ultra` равно выручке от пользователей тарифа `free`. Могу предполагать, что она действительно выше выручки пользователей от тарифа `free`.    \n",
    "\n",
    "Касательно проверок распределений:\n",
    "* Необходимо довести до подписчиков как минимум 1161 промокода, для того чтобы как минимум 100 существующих клиентов продлили подписку (продлевают подписку 10% пролучивших промокод) с вероятностью 5% не выполнить план;\n",
    "* Если разослать 1 млн уведомлений (откроют только 40 % получивших клиентов), тогда вероятность того, что уведомление откроют не более 399,5 тыс. пользователей составит 0.1537 или 15,37 %."
   ]
  },
  {
   "cell_type": "code",
   "execution_count": null,
   "id": "6f5a7da2",
   "metadata": {},
   "outputs": [],
   "source": []
  }
 ],
 "metadata": {
  "ExecuteTimeLog": [
   {
    "duration": 76,
    "start_time": "2024-07-23T11:01:14.786Z"
   },
   {
    "duration": 1399,
    "start_time": "2024-07-23T11:27:02.527Z"
   },
   {
    "duration": 3,
    "start_time": "2024-07-23T11:27:54.265Z"
   },
   {
    "duration": 14,
    "start_time": "2024-07-23T11:28:27.119Z"
   },
   {
    "duration": 11,
    "start_time": "2024-07-23T11:31:58.664Z"
   },
   {
    "duration": 100,
    "start_time": "2024-07-23T11:32:18.867Z"
   },
   {
    "duration": 10,
    "start_time": "2024-07-23T11:32:50.821Z"
   },
   {
    "duration": 47,
    "start_time": "2024-07-23T11:32:52.623Z"
   },
   {
    "duration": 240,
    "start_time": "2024-07-23T11:35:49.766Z"
   },
   {
    "duration": 91,
    "start_time": "2024-07-23T11:39:40.082Z"
   },
   {
    "duration": 110,
    "start_time": "2024-07-23T11:42:06.932Z"
   },
   {
    "duration": 283,
    "start_time": "2024-07-23T11:42:19.021Z"
   },
   {
    "duration": 12,
    "start_time": "2024-07-23T11:46:14.451Z"
   },
   {
    "duration": 11,
    "start_time": "2024-07-23T11:46:45.551Z"
   },
   {
    "duration": 243,
    "start_time": "2024-07-23T11:46:48.821Z"
   },
   {
    "duration": 78,
    "start_time": "2024-07-23T11:47:09.495Z"
   },
   {
    "duration": 552,
    "start_time": "2024-07-23T11:47:15.389Z"
   },
   {
    "duration": 12,
    "start_time": "2024-07-23T11:47:42.367Z"
   },
   {
    "duration": 481,
    "start_time": "2024-07-23T11:47:51.831Z"
   },
   {
    "duration": 4036,
    "start_time": "2024-07-23T11:48:59.649Z"
   },
   {
    "duration": 837,
    "start_time": "2024-07-23T11:53:17.914Z"
   },
   {
    "duration": 5815,
    "start_time": "2024-07-23T11:53:21.437Z"
   },
   {
    "duration": 1128,
    "start_time": "2024-07-23T11:54:41.213Z"
   },
   {
    "duration": 16,
    "start_time": "2024-07-23T11:55:04.953Z"
   },
   {
    "duration": 937,
    "start_time": "2024-07-23T11:55:44.637Z"
   },
   {
    "duration": 697,
    "start_time": "2024-07-23T11:56:11.182Z"
   },
   {
    "duration": 15,
    "start_time": "2024-07-23T11:56:14.719Z"
   },
   {
    "duration": 249,
    "start_time": "2024-07-23T11:56:39.662Z"
   },
   {
    "duration": 206,
    "start_time": "2024-07-23T11:56:47.824Z"
   },
   {
    "duration": 229,
    "start_time": "2024-07-23T11:57:14.879Z"
   },
   {
    "duration": 278,
    "start_time": "2024-07-23T11:57:20.950Z"
   },
   {
    "duration": 426,
    "start_time": "2024-07-23T11:57:45.143Z"
   },
   {
    "duration": 321,
    "start_time": "2024-07-23T11:58:22.286Z"
   },
   {
    "duration": 161,
    "start_time": "2024-07-23T11:59:19.890Z"
   },
   {
    "duration": 733,
    "start_time": "2024-07-23T11:59:31.787Z"
   },
   {
    "duration": 0,
    "start_time": "2024-07-23T12:03:07.315Z"
   },
   {
    "duration": 1273,
    "start_time": "2024-07-23T12:03:14.289Z"
   },
   {
    "duration": 13,
    "start_time": "2024-07-23T12:03:15.564Z"
   },
   {
    "duration": 64,
    "start_time": "2024-07-23T12:03:15.582Z"
   },
   {
    "duration": 134,
    "start_time": "2024-07-23T12:03:15.649Z"
   },
   {
    "duration": 17,
    "start_time": "2024-07-23T12:03:15.785Z"
   },
   {
    "duration": 40,
    "start_time": "2024-07-23T12:03:15.804Z"
   },
   {
    "duration": 529,
    "start_time": "2024-07-23T12:03:15.846Z"
   },
   {
    "duration": 4038,
    "start_time": "2024-07-23T12:03:16.383Z"
   },
   {
    "duration": 769,
    "start_time": "2024-07-23T12:03:20.423Z"
   },
   {
    "duration": 6191,
    "start_time": "2024-07-23T12:03:21.195Z"
   },
   {
    "duration": 515,
    "start_time": "2024-07-23T12:05:21.788Z"
   },
   {
    "duration": 9,
    "start_time": "2024-07-23T13:49:16.823Z"
   },
   {
    "duration": 8,
    "start_time": "2024-07-23T13:49:21.959Z"
   },
   {
    "duration": 17,
    "start_time": "2024-07-23T13:50:09.089Z"
   },
   {
    "duration": 9,
    "start_time": "2024-07-23T13:50:30.929Z"
   },
   {
    "duration": 9,
    "start_time": "2024-07-23T13:51:11.114Z"
   },
   {
    "duration": 10,
    "start_time": "2024-07-23T13:54:39.369Z"
   },
   {
    "duration": 8,
    "start_time": "2024-07-23T13:55:29.130Z"
   },
   {
    "duration": 16,
    "start_time": "2024-07-23T13:55:40.090Z"
   },
   {
    "duration": 17,
    "start_time": "2024-07-23T13:56:28.584Z"
   },
   {
    "duration": 17,
    "start_time": "2024-07-23T13:56:59.455Z"
   },
   {
    "duration": 17,
    "start_time": "2024-07-23T13:57:14.096Z"
   },
   {
    "duration": 17,
    "start_time": "2024-07-23T13:57:24.376Z"
   },
   {
    "duration": 130,
    "start_time": "2024-07-23T13:58:27.744Z"
   },
   {
    "duration": 42,
    "start_time": "2024-07-23T13:59:36.574Z"
   },
   {
    "duration": 33,
    "start_time": "2024-07-23T13:59:50.346Z"
   },
   {
    "duration": 33,
    "start_time": "2024-07-23T13:59:55.810Z"
   },
   {
    "duration": 12,
    "start_time": "2024-07-23T14:00:13.407Z"
   },
   {
    "duration": 14,
    "start_time": "2024-07-23T14:00:41.869Z"
   },
   {
    "duration": 80,
    "start_time": "2024-07-23T14:02:12.253Z"
   },
   {
    "duration": 85,
    "start_time": "2024-07-23T14:02:17.725Z"
   },
   {
    "duration": 9,
    "start_time": "2024-07-23T14:02:30.414Z"
   },
   {
    "duration": 1077,
    "start_time": "2024-07-23T14:04:26.179Z"
   },
   {
    "duration": 14,
    "start_time": "2024-07-23T14:04:50.035Z"
   },
   {
    "duration": 14,
    "start_time": "2024-07-23T14:08:44.245Z"
   },
   {
    "duration": 17,
    "start_time": "2024-07-23T14:09:42.856Z"
   },
   {
    "duration": 27,
    "start_time": "2024-07-23T14:10:17.993Z"
   },
   {
    "duration": 20,
    "start_time": "2024-07-23T14:10:53.938Z"
   },
   {
    "duration": 21,
    "start_time": "2024-07-23T14:10:55.441Z"
   },
   {
    "duration": 20,
    "start_time": "2024-07-23T14:13:37.331Z"
   },
   {
    "duration": 63,
    "start_time": "2024-07-30T09:53:40.602Z"
   },
   {
    "duration": 1478,
    "start_time": "2024-07-30T09:53:48.117Z"
   },
   {
    "duration": 13,
    "start_time": "2024-07-30T09:53:49.597Z"
   },
   {
    "duration": 175,
    "start_time": "2024-07-30T09:53:49.611Z"
   },
   {
    "duration": 220,
    "start_time": "2024-07-30T09:53:49.789Z"
   },
   {
    "duration": 15,
    "start_time": "2024-07-30T09:53:50.011Z"
   },
   {
    "duration": 110,
    "start_time": "2024-07-30T09:53:50.028Z"
   },
   {
    "duration": 513,
    "start_time": "2024-07-30T09:53:50.140Z"
   },
   {
    "duration": 486,
    "start_time": "2024-07-30T09:53:50.654Z"
   },
   {
    "duration": 756,
    "start_time": "2024-07-30T09:53:51.142Z"
   },
   {
    "duration": 9,
    "start_time": "2024-07-30T09:53:51.900Z"
   },
   {
    "duration": 44,
    "start_time": "2024-07-30T09:53:51.911Z"
   },
   {
    "duration": 36,
    "start_time": "2024-07-30T09:53:51.956Z"
   },
   {
    "duration": 39,
    "start_time": "2024-07-30T09:53:51.993Z"
   },
   {
    "duration": 35,
    "start_time": "2024-07-30T09:53:52.034Z"
   },
   {
    "duration": 26,
    "start_time": "2024-07-30T09:53:52.070Z"
   },
   {
    "duration": 34,
    "start_time": "2024-07-30T09:53:52.098Z"
   },
   {
    "duration": 32,
    "start_time": "2024-07-30T09:53:52.135Z"
   },
   {
    "duration": 40,
    "start_time": "2024-07-30T09:53:52.169Z"
   },
   {
    "duration": 14,
    "start_time": "2024-07-30T09:53:52.211Z"
   },
   {
    "duration": 140,
    "start_time": "2024-07-30T09:53:52.227Z"
   },
   {
    "duration": 11,
    "start_time": "2024-07-30T09:54:51.087Z"
   },
   {
    "duration": 433,
    "start_time": "2024-07-30T09:55:37.897Z"
   },
   {
    "duration": 148,
    "start_time": "2024-07-30T09:55:42.472Z"
   },
   {
    "duration": 121,
    "start_time": "2024-07-30T09:55:45.528Z"
   },
   {
    "duration": 148,
    "start_time": "2024-07-30T09:58:55.518Z"
   },
   {
    "duration": 21,
    "start_time": "2024-07-30T10:01:33.644Z"
   },
   {
    "duration": 177,
    "start_time": "2024-07-30T10:01:37.352Z"
   },
   {
    "duration": 22,
    "start_time": "2024-07-30T10:02:54.819Z"
   },
   {
    "duration": 259,
    "start_time": "2024-07-30T10:03:03.994Z"
   },
   {
    "duration": 24,
    "start_time": "2024-07-30T10:03:38.212Z"
   },
   {
    "duration": 519,
    "start_time": "2024-07-30T10:03:41.163Z"
   },
   {
    "duration": 23,
    "start_time": "2024-07-30T10:04:00.860Z"
   },
   {
    "duration": 409,
    "start_time": "2024-07-30T10:04:05.787Z"
   },
   {
    "duration": 23,
    "start_time": "2024-07-30T10:04:34.013Z"
   },
   {
    "duration": 459,
    "start_time": "2024-07-30T10:04:38.000Z"
   },
   {
    "duration": 397,
    "start_time": "2024-07-30T10:04:50.956Z"
   },
   {
    "duration": 21,
    "start_time": "2024-07-30T10:05:21.142Z"
   },
   {
    "duration": 499,
    "start_time": "2024-07-30T10:05:24.349Z"
   },
   {
    "duration": 397,
    "start_time": "2024-07-30T10:05:50.621Z"
   },
   {
    "duration": 12,
    "start_time": "2024-07-30T10:08:24.392Z"
   },
   {
    "duration": 5,
    "start_time": "2024-07-30T10:08:35.136Z"
   },
   {
    "duration": 8,
    "start_time": "2024-07-30T10:09:04.778Z"
   },
   {
    "duration": 9,
    "start_time": "2024-07-30T10:09:10.003Z"
   },
   {
    "duration": 6,
    "start_time": "2024-07-30T10:09:12.505Z"
   },
   {
    "duration": 8,
    "start_time": "2024-07-30T10:12:24.766Z"
   },
   {
    "duration": 12,
    "start_time": "2024-07-30T10:12:29.805Z"
   },
   {
    "duration": 442,
    "start_time": "2024-07-30T10:14:04.074Z"
   },
   {
    "duration": 494,
    "start_time": "2024-07-30T10:14:08.512Z"
   },
   {
    "duration": 510,
    "start_time": "2024-07-30T10:14:18.232Z"
   },
   {
    "duration": 330,
    "start_time": "2024-07-30T10:17:37.981Z"
   },
   {
    "duration": 5,
    "start_time": "2024-07-30T10:20:01.265Z"
   },
   {
    "duration": 4,
    "start_time": "2024-07-30T10:20:15.259Z"
   },
   {
    "duration": 8,
    "start_time": "2024-07-30T10:20:50.377Z"
   },
   {
    "duration": 9,
    "start_time": "2024-07-30T10:20:58.729Z"
   },
   {
    "duration": 8,
    "start_time": "2024-07-30T10:22:08.498Z"
   },
   {
    "duration": 254,
    "start_time": "2024-07-30T10:23:01.141Z"
   },
   {
    "duration": 6,
    "start_time": "2024-07-30T10:30:33.670Z"
   },
   {
    "duration": 556,
    "start_time": "2024-07-30T10:35:44.820Z"
   },
   {
    "duration": 394,
    "start_time": "2024-07-30T10:36:46.311Z"
   },
   {
    "duration": 34,
    "start_time": "2024-07-30T12:10:40.863Z"
   },
   {
    "duration": 22,
    "start_time": "2024-07-30T12:11:55.775Z"
   },
   {
    "duration": 26,
    "start_time": "2024-07-30T12:12:14.159Z"
   },
   {
    "duration": 15,
    "start_time": "2024-07-30T12:12:49.599Z"
   },
   {
    "duration": 14,
    "start_time": "2024-07-30T12:12:54.089Z"
   },
   {
    "duration": 19,
    "start_time": "2024-07-30T12:18:13.631Z"
   },
   {
    "duration": 15,
    "start_time": "2024-07-30T12:18:16.152Z"
   },
   {
    "duration": 69,
    "start_time": "2024-07-30T12:19:04.184Z"
   },
   {
    "duration": 474,
    "start_time": "2024-07-30T12:21:36.340Z"
   },
   {
    "duration": 417,
    "start_time": "2024-07-30T12:22:33.189Z"
   },
   {
    "duration": 419,
    "start_time": "2024-07-30T12:22:54.213Z"
   },
   {
    "duration": 591,
    "start_time": "2024-07-30T12:22:57.429Z"
   },
   {
    "duration": 17,
    "start_time": "2024-07-30T12:34:17.493Z"
   },
   {
    "duration": 20,
    "start_time": "2024-07-30T12:34:27.317Z"
   },
   {
    "duration": 21,
    "start_time": "2024-07-30T12:34:54.189Z"
   },
   {
    "duration": 835,
    "start_time": "2024-07-30T12:35:49.344Z"
   },
   {
    "duration": 1757,
    "start_time": "2024-07-30T12:37:04.809Z"
   },
   {
    "duration": 10,
    "start_time": "2024-07-30T12:37:14.665Z"
   },
   {
    "duration": 954,
    "start_time": "2024-07-30T12:37:45.921Z"
   },
   {
    "duration": 863,
    "start_time": "2024-07-30T12:39:52.221Z"
   },
   {
    "duration": 883,
    "start_time": "2024-07-30T12:40:00.557Z"
   },
   {
    "duration": 852,
    "start_time": "2024-07-30T12:42:04.007Z"
   },
   {
    "duration": 889,
    "start_time": "2024-07-30T12:42:15.904Z"
   },
   {
    "duration": 814,
    "start_time": "2024-07-30T12:42:24.431Z"
   },
   {
    "duration": 876,
    "start_time": "2024-07-30T12:42:47.392Z"
   },
   {
    "duration": 862,
    "start_time": "2024-07-30T12:42:54.944Z"
   },
   {
    "duration": 816,
    "start_time": "2024-07-30T12:43:02.656Z"
   },
   {
    "duration": 82,
    "start_time": "2024-07-30T12:45:42.420Z"
   },
   {
    "duration": 865,
    "start_time": "2024-07-30T12:45:46.068Z"
   },
   {
    "duration": 913,
    "start_time": "2024-07-30T12:46:38.427Z"
   },
   {
    "duration": 12,
    "start_time": "2024-07-30T12:49:19.248Z"
   },
   {
    "duration": 4,
    "start_time": "2024-07-30T13:01:24.247Z"
   },
   {
    "duration": 168,
    "start_time": "2024-07-30T13:02:36.144Z"
   },
   {
    "duration": 14,
    "start_time": "2024-07-30T13:03:45.492Z"
   },
   {
    "duration": 11,
    "start_time": "2024-07-30T13:09:00.049Z"
   },
   {
    "duration": 68,
    "start_time": "2024-07-31T03:56:17.074Z"
   },
   {
    "duration": 1285,
    "start_time": "2024-07-31T05:30:30.587Z"
   },
   {
    "duration": 11,
    "start_time": "2024-07-31T05:30:31.874Z"
   },
   {
    "duration": 106,
    "start_time": "2024-07-31T05:30:31.887Z"
   },
   {
    "duration": 196,
    "start_time": "2024-07-31T05:30:31.994Z"
   },
   {
    "duration": 18,
    "start_time": "2024-07-31T05:30:32.192Z"
   },
   {
    "duration": 73,
    "start_time": "2024-07-31T05:30:32.214Z"
   },
   {
    "duration": 446,
    "start_time": "2024-07-31T05:30:32.289Z"
   },
   {
    "duration": 417,
    "start_time": "2024-07-31T05:30:32.736Z"
   },
   {
    "duration": 600,
    "start_time": "2024-07-31T05:30:33.154Z"
   },
   {
    "duration": 8,
    "start_time": "2024-07-31T05:30:33.757Z"
   },
   {
    "duration": 61,
    "start_time": "2024-07-31T05:30:33.766Z"
   },
   {
    "duration": 60,
    "start_time": "2024-07-31T05:30:33.829Z"
   },
   {
    "duration": 13,
    "start_time": "2024-07-31T05:30:33.890Z"
   },
   {
    "duration": 10,
    "start_time": "2024-07-31T05:30:33.905Z"
   },
   {
    "duration": 9,
    "start_time": "2024-07-31T05:30:33.916Z"
   },
   {
    "duration": 10,
    "start_time": "2024-07-31T05:30:33.926Z"
   },
   {
    "duration": 10,
    "start_time": "2024-07-31T05:30:33.937Z"
   },
   {
    "duration": 28,
    "start_time": "2024-07-31T05:30:33.948Z"
   },
   {
    "duration": 29,
    "start_time": "2024-07-31T05:30:33.977Z"
   },
   {
    "duration": 401,
    "start_time": "2024-07-31T05:30:34.007Z"
   },
   {
    "duration": 467,
    "start_time": "2024-07-31T05:30:34.409Z"
   },
   {
    "duration": 411,
    "start_time": "2024-07-31T05:30:34.877Z"
   },
   {
    "duration": 387,
    "start_time": "2024-07-31T05:30:35.290Z"
   },
   {
    "duration": 360,
    "start_time": "2024-07-31T05:30:35.679Z"
   },
   {
    "duration": 376,
    "start_time": "2024-07-31T05:30:36.041Z"
   },
   {
    "duration": 397,
    "start_time": "2024-07-31T05:30:36.418Z"
   },
   {
    "duration": 390,
    "start_time": "2024-07-31T05:30:36.817Z"
   },
   {
    "duration": 8,
    "start_time": "2024-07-31T05:30:37.210Z"
   },
   {
    "duration": 29,
    "start_time": "2024-07-31T05:30:37.220Z"
   },
   {
    "duration": 272,
    "start_time": "2024-07-31T05:30:37.250Z"
   },
   {
    "duration": 22,
    "start_time": "2024-07-31T05:30:37.523Z"
   },
   {
    "duration": 73,
    "start_time": "2024-07-31T05:30:37.546Z"
   },
   {
    "duration": 13,
    "start_time": "2024-07-31T05:30:37.620Z"
   },
   {
    "duration": 382,
    "start_time": "2024-07-31T05:30:37.635Z"
   },
   {
    "duration": 395,
    "start_time": "2024-07-31T05:30:38.018Z"
   },
   {
    "duration": 11,
    "start_time": "2024-07-31T05:30:38.415Z"
   },
   {
    "duration": 379,
    "start_time": "2024-07-31T05:30:38.427Z"
   },
   {
    "duration": 405,
    "start_time": "2024-07-31T05:30:38.807Z"
   },
   {
    "duration": 794,
    "start_time": "2024-07-31T05:30:39.213Z"
   },
   {
    "duration": 4,
    "start_time": "2024-07-31T05:30:40.008Z"
   },
   {
    "duration": 165,
    "start_time": "2024-07-31T05:30:40.013Z"
   },
   {
    "duration": 11,
    "start_time": "2024-07-31T05:30:40.180Z"
   },
   {
    "duration": 14,
    "start_time": "2024-07-31T05:30:40.192Z"
   },
   {
    "duration": 12,
    "start_time": "2024-07-31T05:30:40.208Z"
   },
   {
    "duration": 508,
    "start_time": "2024-07-31T05:30:40.221Z"
   },
   {
    "duration": 92,
    "start_time": "2024-07-31T05:34:53.289Z"
   },
   {
    "duration": 9,
    "start_time": "2024-07-31T05:35:15.225Z"
   },
   {
    "duration": 9,
    "start_time": "2024-07-31T05:35:21.313Z"
   },
   {
    "duration": 6,
    "start_time": "2024-07-31T05:37:15.827Z"
   },
   {
    "duration": 685,
    "start_time": "2024-07-31T05:38:31.620Z"
   },
   {
    "duration": 6,
    "start_time": "2024-07-31T05:49:04.658Z"
   },
   {
    "duration": 4,
    "start_time": "2024-07-31T05:49:26.865Z"
   },
   {
    "duration": 4,
    "start_time": "2024-07-31T05:49:29.745Z"
   },
   {
    "duration": 8,
    "start_time": "2024-07-31T05:50:16.267Z"
   },
   {
    "duration": 10,
    "start_time": "2024-07-31T05:52:35.429Z"
   },
   {
    "duration": 9,
    "start_time": "2024-07-31T06:05:53.504Z"
   },
   {
    "duration": 11,
    "start_time": "2024-07-31T06:07:15.034Z"
   },
   {
    "duration": 11,
    "start_time": "2024-07-31T06:07:25.844Z"
   },
   {
    "duration": 10,
    "start_time": "2024-07-31T06:08:33.733Z"
   },
   {
    "duration": 10,
    "start_time": "2024-07-31T06:09:19.279Z"
   },
   {
    "duration": 13,
    "start_time": "2024-07-31T06:09:25.367Z"
   },
   {
    "duration": 642,
    "start_time": "2024-07-31T06:09:33.684Z"
   },
   {
    "duration": 10,
    "start_time": "2024-07-31T06:09:54.900Z"
   },
   {
    "duration": 3,
    "start_time": "2024-07-31T07:31:32.937Z"
   },
   {
    "duration": 248,
    "start_time": "2024-07-31T07:34:57.494Z"
   },
   {
    "duration": 315,
    "start_time": "2024-07-31T07:38:20.232Z"
   },
   {
    "duration": 343,
    "start_time": "2024-07-31T07:39:25.481Z"
   },
   {
    "duration": 354,
    "start_time": "2024-07-31T07:42:39.277Z"
   },
   {
    "duration": 335,
    "start_time": "2024-07-31T07:42:46.373Z"
   },
   {
    "duration": 65,
    "start_time": "2024-07-31T07:44:20.582Z"
   },
   {
    "duration": 332,
    "start_time": "2024-07-31T07:45:01.311Z"
   },
   {
    "duration": 6,
    "start_time": "2024-07-31T07:45:22.576Z"
   },
   {
    "duration": 3,
    "start_time": "2024-07-31T07:52:17.928Z"
   },
   {
    "duration": 4,
    "start_time": "2024-07-31T07:52:28.120Z"
   },
   {
    "duration": 3,
    "start_time": "2024-07-31T07:52:31.919Z"
   },
   {
    "duration": 230,
    "start_time": "2024-07-31T08:11:03.808Z"
   },
   {
    "duration": 249,
    "start_time": "2024-07-31T08:11:31.673Z"
   },
   {
    "duration": 211,
    "start_time": "2024-07-31T08:17:49.931Z"
   },
   {
    "duration": 200,
    "start_time": "2024-07-31T08:17:54.834Z"
   },
   {
    "duration": 264,
    "start_time": "2024-07-31T08:25:34.167Z"
   },
   {
    "duration": 205,
    "start_time": "2024-07-31T08:25:49.830Z"
   },
   {
    "duration": 4,
    "start_time": "2024-07-31T09:42:56.693Z"
   },
   {
    "duration": 4,
    "start_time": "2024-07-31T09:43:20.120Z"
   },
   {
    "duration": 1057,
    "start_time": "2024-07-31T09:50:13.111Z"
   },
   {
    "duration": 12,
    "start_time": "2024-07-31T09:50:14.170Z"
   },
   {
    "duration": 61,
    "start_time": "2024-07-31T09:50:14.184Z"
   },
   {
    "duration": 90,
    "start_time": "2024-07-31T09:50:14.247Z"
   },
   {
    "duration": 13,
    "start_time": "2024-07-31T09:50:14.338Z"
   },
   {
    "duration": 25,
    "start_time": "2024-07-31T09:50:14.352Z"
   },
   {
    "duration": 384,
    "start_time": "2024-07-31T09:50:14.378Z"
   },
   {
    "duration": 431,
    "start_time": "2024-07-31T09:50:14.763Z"
   },
   {
    "duration": 614,
    "start_time": "2024-07-31T09:50:15.201Z"
   },
   {
    "duration": 8,
    "start_time": "2024-07-31T09:50:15.817Z"
   },
   {
    "duration": 6,
    "start_time": "2024-07-31T09:50:15.826Z"
   },
   {
    "duration": 22,
    "start_time": "2024-07-31T09:50:15.833Z"
   },
   {
    "duration": 14,
    "start_time": "2024-07-31T09:50:15.856Z"
   },
   {
    "duration": 9,
    "start_time": "2024-07-31T09:50:15.871Z"
   },
   {
    "duration": 11,
    "start_time": "2024-07-31T09:50:15.881Z"
   },
   {
    "duration": 14,
    "start_time": "2024-07-31T09:50:15.893Z"
   },
   {
    "duration": 26,
    "start_time": "2024-07-31T09:50:15.908Z"
   },
   {
    "duration": 30,
    "start_time": "2024-07-31T09:50:15.936Z"
   },
   {
    "duration": 18,
    "start_time": "2024-07-31T09:50:15.967Z"
   },
   {
    "duration": 389,
    "start_time": "2024-07-31T09:50:15.986Z"
   },
   {
    "duration": 482,
    "start_time": "2024-07-31T09:50:16.376Z"
   },
   {
    "duration": 424,
    "start_time": "2024-07-31T09:50:16.860Z"
   },
   {
    "duration": 343,
    "start_time": "2024-07-31T09:50:17.285Z"
   },
   {
    "duration": 361,
    "start_time": "2024-07-31T09:50:17.630Z"
   },
   {
    "duration": 368,
    "start_time": "2024-07-31T09:50:17.992Z"
   },
   {
    "duration": 372,
    "start_time": "2024-07-31T09:50:18.361Z"
   },
   {
    "duration": 373,
    "start_time": "2024-07-31T09:50:18.735Z"
   },
   {
    "duration": 6,
    "start_time": "2024-07-31T09:50:19.111Z"
   },
   {
    "duration": 7,
    "start_time": "2024-07-31T09:50:19.118Z"
   },
   {
    "duration": 281,
    "start_time": "2024-07-31T09:50:19.126Z"
   },
   {
    "duration": 21,
    "start_time": "2024-07-31T09:50:19.408Z"
   },
   {
    "duration": 12,
    "start_time": "2024-07-31T09:50:19.430Z"
   },
   {
    "duration": 12,
    "start_time": "2024-07-31T09:50:19.443Z"
   },
   {
    "duration": 370,
    "start_time": "2024-07-31T09:50:19.456Z"
   },
   {
    "duration": 398,
    "start_time": "2024-07-31T09:50:19.827Z"
   },
   {
    "duration": 11,
    "start_time": "2024-07-31T09:50:20.227Z"
   },
   {
    "duration": 382,
    "start_time": "2024-07-31T09:50:20.240Z"
   },
   {
    "duration": 398,
    "start_time": "2024-07-31T09:50:20.624Z"
   },
   {
    "duration": 823,
    "start_time": "2024-07-31T09:50:21.023Z"
   },
   {
    "duration": 4,
    "start_time": "2024-07-31T09:50:21.847Z"
   },
   {
    "duration": 195,
    "start_time": "2024-07-31T09:50:21.853Z"
   },
   {
    "duration": 11,
    "start_time": "2024-07-31T09:50:22.050Z"
   },
   {
    "duration": 8,
    "start_time": "2024-07-31T09:50:22.062Z"
   },
   {
    "duration": 18,
    "start_time": "2024-07-31T09:50:22.072Z"
   },
   {
    "duration": 16,
    "start_time": "2024-07-31T09:50:22.091Z"
   },
   {
    "duration": 756,
    "start_time": "2024-07-31T09:50:22.109Z"
   },
   {
    "duration": 4,
    "start_time": "2024-07-31T09:50:22.866Z"
   },
   {
    "duration": 92,
    "start_time": "2024-07-31T09:50:22.872Z"
   },
   {
    "duration": 28,
    "start_time": "2024-07-31T09:50:22.965Z"
   },
   {
    "duration": 731,
    "start_time": "2024-07-31T09:50:22.995Z"
   },
   {
    "duration": 315,
    "start_time": "2024-07-31T09:50:23.728Z"
   },
   {
    "duration": 211,
    "start_time": "2024-07-31T09:50:24.045Z"
   }
  ],
  "kernelspec": {
   "display_name": "Python 3 (ipykernel)",
   "language": "python",
   "name": "python3"
  },
  "language_info": {
   "codemirror_mode": {
    "name": "ipython",
    "version": 3
   },
   "file_extension": ".py",
   "mimetype": "text/x-python",
   "name": "python",
   "nbconvert_exporter": "python",
   "pygments_lexer": "ipython3",
   "version": "3.9.5"
  },
  "toc": {
   "base_numbering": 1,
   "nav_menu": {},
   "number_sections": true,
   "sideBar": true,
   "skip_h1_title": true,
   "title_cell": "Table of Contents",
   "title_sidebar": "Contents",
   "toc_cell": false,
   "toc_position": {},
   "toc_section_display": true,
   "toc_window_display": false
  }
 },
 "nbformat": 4,
 "nbformat_minor": 5
}
