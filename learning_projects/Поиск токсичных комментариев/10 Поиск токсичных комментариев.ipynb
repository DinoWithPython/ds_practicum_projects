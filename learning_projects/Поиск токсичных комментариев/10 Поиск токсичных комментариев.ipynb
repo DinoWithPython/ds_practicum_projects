{
 "cells": [
  {
   "cell_type": "markdown",
   "metadata": {},
   "source": [
    "<font color='green'>Пример BERT с GPU:\n",
    "```python\n",
    "%%time\n",
    "from tqdm import notebook\n",
    "batch_size = 2 # для примера возьмем такой батч, где будет всего две строки датасета\n",
    "embeddings = [] \n",
    "for i in notebook.tqdm(range(input_ids.shape[0] // batch_size)):\n",
    "        batch = torch.LongTensor(input_ids[batch_size*i:batch_size*(i+1)]).cuda() # закидываем тензор на GPU\n",
    "        attention_mask_batch = torch.LongTensor(attention_mask[batch_size*i:batch_size*(i+1)]).cuda()\n",
    "        \n",
    "        with torch.no_grad():\n",
    "            model.cuda()\n",
    "            batch_embeddings = model(batch, attention_mask=attention_mask_batch)\n",
    "        \n",
    "        embeddings.append(batch_embeddings[0][:,0,:].cpu().numpy()) # перевод обратно на проц, чтобы в нумпай кинуть\n",
    "        del batch\n",
    "        del attention_mask_batch\n",
    "        del batch_embeddings\n",
    "        \n",
    "features = np.concatenate(embeddings) \n",
    "```\n",
    "Можно сделать предварительную проверку на наличие GPU.\\\n",
    "Например, так: ```device = torch.device(\"cuda:0\") if torch.cuda.is_available() else torch.device(\"cpu\")```\\\n",
    "Тогда вместо .cuda() нужно писать .to(device)\n"
   ]
  },
  {
   "cell_type": "markdown",
   "metadata": {
    "toc": true
   },
   "source": [
    "<h1>Содержание<span class=\"tocSkip\"></span></h1>\n",
    "<div class=\"toc\"><ul class=\"toc-item\"><li><span><a href=\"#Подготовка\" data-toc-modified-id=\"Подготовка-1\"><span class=\"toc-item-num\">1&nbsp;&nbsp;</span>Подготовка</a></span><ul class=\"toc-item\"><li><span><a href=\"#Импорты-модулей-и-билиотек\" data-toc-modified-id=\"Импорты-модулей-и-билиотек-1.1\"><span class=\"toc-item-num\">1.1&nbsp;&nbsp;</span>Импорты модулей и билиотек</a></span></li><li><span><a href=\"#Изучение-исходных-данных\" data-toc-modified-id=\"Изучение-исходных-данных-1.2\"><span class=\"toc-item-num\">1.2&nbsp;&nbsp;</span>Изучение исходных данных</a></span></li><li><span><a href=\"#Предобработка-данных\" data-toc-modified-id=\"Предобработка-данных-1.3\"><span class=\"toc-item-num\">1.3&nbsp;&nbsp;</span>Предобработка данных</a></span></li></ul></li><li><span><a href=\"#Обучение\" data-toc-modified-id=\"Обучение-2\"><span class=\"toc-item-num\">2&nbsp;&nbsp;</span>Обучение</a></span><ul class=\"toc-item\"><li><span><a href=\"#Подготовка-данных\" data-toc-modified-id=\"Подготовка-данных-2.1\"><span class=\"toc-item-num\">2.1&nbsp;&nbsp;</span>Подготовка данных</a></span></li><li><span><a href=\"#Выбор-моделей-для-обучения-и-метрики\" data-toc-modified-id=\"Выбор-моделей-для-обучения-и-метрики-2.2\"><span class=\"toc-item-num\">2.2&nbsp;&nbsp;</span>Выбор моделей для обучения и метрики</a></span></li><li><span><a href=\"#LogisticRegression\" data-toc-modified-id=\"LogisticRegression-2.3\"><span class=\"toc-item-num\">2.3&nbsp;&nbsp;</span>LogisticRegression</a></span></li><li><span><a href=\"#RandomForestClassifier\" data-toc-modified-id=\"RandomForestClassifier-2.4\"><span class=\"toc-item-num\">2.4&nbsp;&nbsp;</span>RandomForestClassifier</a></span></li><li><span><a href=\"#CatBoostClassifier\" data-toc-modified-id=\"CatBoostClassifier-2.5\"><span class=\"toc-item-num\">2.5&nbsp;&nbsp;</span>CatBoostClassifier</a></span></li><li><span><a href=\"#Предсказание-на-тестовых-данных\" data-toc-modified-id=\"Предсказание-на-тестовых-данных-2.6\"><span class=\"toc-item-num\">2.6&nbsp;&nbsp;</span>Предсказание на тестовых данных</a></span></li></ul></li><li><span><a href=\"#Выводы\" data-toc-modified-id=\"Выводы-3\"><span class=\"toc-item-num\">3&nbsp;&nbsp;</span>Выводы</a></span></li><li><span><a href=\"#Чек-лист-проверки\" data-toc-modified-id=\"Чек-лист-проверки-4\"><span class=\"toc-item-num\">4&nbsp;&nbsp;</span>Чек-лист проверки</a></span></li></ul></div>"
   ]
  },
  {
   "cell_type": "markdown",
   "metadata": {},
   "source": [
    "# Проект для «Викишоп»"
   ]
  },
  {
   "cell_type": "markdown",
   "metadata": {},
   "source": [
    "Интернет-магазин «Викишоп» запускает новый сервис. Теперь пользователи могут редактировать и дополнять описания товаров, как в вики-сообществах. То есть клиенты предлагают свои правки и комментируют изменения других. Магазину нужен инструмент, который будет искать токсичные комментарии и отправлять их на модерацию. \n",
    "\n",
    "Обучите модель классифицировать комментарии на позитивные и негативные. В вашем распоряжении набор данных с разметкой о токсичности правок.\n",
    "\n",
    "Постройте модель со значением метрики качества *F1* не меньше 0.75. \n",
    "\n",
    "**Инструкция по выполнению проекта**\n",
    "\n",
    "1. Загрузите и подготовьте данные.\n",
    "2. Обучите разные модели. \n",
    "3. Сделайте выводы.\n",
    "\n",
    "Для выполнения проекта применять *BERT* необязательно, но вы можете попробовать.\n",
    "\n",
    "**Описание данных**\n",
    "\n",
    "Данные находятся в файле `toxic_comments.csv`. Столбец *text* в нём содержит текст комментария, а *toxic* — целевой признак."
   ]
  },
  {
   "cell_type": "markdown",
   "metadata": {},
   "source": [
    "## Подготовка"
   ]
  },
  {
   "cell_type": "markdown",
   "metadata": {},
   "source": [
    "### Импорты модулей и билиотек"
   ]
  },
  {
   "cell_type": "code",
   "execution_count": 1,
   "metadata": {},
   "outputs": [],
   "source": [
    "import re\n",
    "\n",
    "from catboost import CatBoostClassifier\n",
    "import nltk\n",
    "from nltk.corpus import stopwords as nltk_stopwords  # для себя выделяю именно стоп слова из библиотеки\n",
    "from nltk.stem import WordNetLemmatizer \n",
    "import pandas as pd\n",
    "from sklearn.ensemble import RandomForestClassifier\n",
    "from sklearn.feature_extraction.text import TfidfVectorizer\n",
    "from sklearn.metrics import f1_score\n",
    "from sklearn.model_selection import train_test_split, RandomizedSearchCV\n",
    "from sklearn.linear_model import LogisticRegression\n",
    "from sklearn.pipeline import Pipeline"
   ]
  },
  {
   "cell_type": "markdown",
   "metadata": {},
   "source": [
    "### Изучение исходных данных"
   ]
  },
  {
   "cell_type": "markdown",
   "metadata": {},
   "source": [
    "Откроем файл и загрузим данные."
   ]
  },
  {
   "cell_type": "code",
   "execution_count": 2,
   "metadata": {},
   "outputs": [
    {
     "name": "stdout",
     "output_type": "stream",
     "text": [
      "Локальный файл не найден. Пробую открыть серверную версию файла.\n"
     ]
    },
    {
     "data": {
      "text/html": [
       "<div>\n",
       "<style scoped>\n",
       "    .dataframe tbody tr th:only-of-type {\n",
       "        vertical-align: middle;\n",
       "    }\n",
       "\n",
       "    .dataframe tbody tr th {\n",
       "        vertical-align: top;\n",
       "    }\n",
       "\n",
       "    .dataframe thead th {\n",
       "        text-align: right;\n",
       "    }\n",
       "</style>\n",
       "<table border=\"1\" class=\"dataframe\">\n",
       "  <thead>\n",
       "    <tr style=\"text-align: right;\">\n",
       "      <th></th>\n",
       "      <th>Unnamed: 0</th>\n",
       "      <th>text</th>\n",
       "      <th>toxic</th>\n",
       "    </tr>\n",
       "  </thead>\n",
       "  <tbody>\n",
       "    <tr>\n",
       "      <th>0</th>\n",
       "      <td>0</td>\n",
       "      <td>Explanation\\nWhy the edits made under my usern...</td>\n",
       "      <td>0</td>\n",
       "    </tr>\n",
       "    <tr>\n",
       "      <th>1</th>\n",
       "      <td>1</td>\n",
       "      <td>D'aww! He matches this background colour I'm s...</td>\n",
       "      <td>0</td>\n",
       "    </tr>\n",
       "    <tr>\n",
       "      <th>2</th>\n",
       "      <td>2</td>\n",
       "      <td>Hey man, I'm really not trying to edit war. It...</td>\n",
       "      <td>0</td>\n",
       "    </tr>\n",
       "    <tr>\n",
       "      <th>3</th>\n",
       "      <td>3</td>\n",
       "      <td>\"\\nMore\\nI can't make any real suggestions on ...</td>\n",
       "      <td>0</td>\n",
       "    </tr>\n",
       "    <tr>\n",
       "      <th>4</th>\n",
       "      <td>4</td>\n",
       "      <td>You, sir, are my hero. Any chance you remember...</td>\n",
       "      <td>0</td>\n",
       "    </tr>\n",
       "    <tr>\n",
       "      <th>5</th>\n",
       "      <td>5</td>\n",
       "      <td>\"\\n\\nCongratulations from me as well, use the ...</td>\n",
       "      <td>0</td>\n",
       "    </tr>\n",
       "    <tr>\n",
       "      <th>6</th>\n",
       "      <td>6</td>\n",
       "      <td>COCKSUCKER BEFORE YOU PISS AROUND ON MY WORK</td>\n",
       "      <td>1</td>\n",
       "    </tr>\n",
       "    <tr>\n",
       "      <th>7</th>\n",
       "      <td>7</td>\n",
       "      <td>Your vandalism to the Matt Shirvington article...</td>\n",
       "      <td>0</td>\n",
       "    </tr>\n",
       "    <tr>\n",
       "      <th>8</th>\n",
       "      <td>8</td>\n",
       "      <td>Sorry if the word 'nonsense' was offensive to ...</td>\n",
       "      <td>0</td>\n",
       "    </tr>\n",
       "    <tr>\n",
       "      <th>9</th>\n",
       "      <td>9</td>\n",
       "      <td>alignment on this subject and which are contra...</td>\n",
       "      <td>0</td>\n",
       "    </tr>\n",
       "  </tbody>\n",
       "</table>\n",
       "</div>"
      ],
      "text/plain": [
       "   Unnamed: 0                                               text  toxic\n",
       "0           0  Explanation\\nWhy the edits made under my usern...      0\n",
       "1           1  D'aww! He matches this background colour I'm s...      0\n",
       "2           2  Hey man, I'm really not trying to edit war. It...      0\n",
       "3           3  \"\\nMore\\nI can't make any real suggestions on ...      0\n",
       "4           4  You, sir, are my hero. Any chance you remember...      0\n",
       "5           5  \"\\n\\nCongratulations from me as well, use the ...      0\n",
       "6           6       COCKSUCKER BEFORE YOU PISS AROUND ON MY WORK      1\n",
       "7           7  Your vandalism to the Matt Shirvington article...      0\n",
       "8           8  Sorry if the word 'nonsense' was offensive to ...      0\n",
       "9           9  alignment on this subject and which are contra...      0"
      ]
     },
     "execution_count": 2,
     "metadata": {},
     "output_type": "execute_result"
    }
   ],
   "source": [
    "path = '/datasets/toxic_comments.csv'\n",
    "try:\n",
    "    # Пробуем открыть файл локально, если нет, то через сервер яндекса.\n",
    "    data = pd.read_csv(path, decimal=\",\", engine='python')\n",
    "except Exception:\n",
    "    print('Локальный файл не найден. Пробую открыть серверную версию файла.')\n",
    "    data = pd.read_csv(f'нет ссылки{path}', decimal=\",\")\n",
    "\n",
    "data.head(10)"
   ]
  },
  {
   "cell_type": "code",
   "execution_count": 3,
   "metadata": {},
   "outputs": [
    {
     "name": "stdout",
     "output_type": "stream",
     "text": [
      "<class 'pandas.core.frame.DataFrame'>\n",
      "RangeIndex: 159292 entries, 0 to 159291\n",
      "Data columns (total 3 columns):\n",
      " #   Column      Non-Null Count   Dtype \n",
      "---  ------      --------------   ----- \n",
      " 0   Unnamed: 0  159292 non-null  int64 \n",
      " 1   text        159292 non-null  object\n",
      " 2   toxic       159292 non-null  int64 \n",
      "dtypes: int64(2), object(1)\n",
      "memory usage: 3.6+ MB\n"
     ]
    }
   ],
   "source": [
    "data.info()"
   ]
  },
  {
   "cell_type": "markdown",
   "metadata": {},
   "source": [
    "В данных появился столбец \"Unnamed: 0\", который судя по всему дублирует индексы. Избавимся от него."
   ]
  },
  {
   "cell_type": "code",
   "execution_count": 4,
   "metadata": {},
   "outputs": [
    {
     "name": "stdout",
     "output_type": "stream",
     "text": [
      "<class 'pandas.core.frame.DataFrame'>\n",
      "RangeIndex: 159292 entries, 0 to 159291\n",
      "Data columns (total 2 columns):\n",
      " #   Column  Non-Null Count   Dtype \n",
      "---  ------  --------------   ----- \n",
      " 0   text    159292 non-null  object\n",
      " 1   toxic   159292 non-null  int64 \n",
      "dtypes: int64(1), object(1)\n",
      "memory usage: 2.4+ MB\n"
     ]
    }
   ],
   "source": [
    "data = data.drop(['Unnamed: 0'], axis=1)\n",
    "data.info()"
   ]
  },
  {
   "cell_type": "markdown",
   "metadata": {},
   "source": [
    "В данных 159292 строк. Есть капс, множество разных символов, в том числе и переносы строк. Будет необходимо очистить данные от этого. Проверим так же распределение целевого признака."
   ]
  },
  {
   "cell_type": "code",
   "execution_count": 5,
   "metadata": {},
   "outputs": [
    {
     "data": {
      "image/png": "[encoded data removed]",
      "text/plain": [
       "<Figure size 640x480 with 1 Axes>"
      ]
     },
     "metadata": {},
     "output_type": "display_data"
    }
   ],
   "source": [
    "data['toxic'].value_counts().plot(kind='bar');"
   ]
  },
  {
   "cell_type": "markdown",
   "metadata": {},
   "source": [
    "Очевидно, что есть явных дисбаланс по классам для целевого признака."
   ]
  },
  {
   "cell_type": "markdown",
   "metadata": {},
   "source": [
    "**Вывод:** в данных присутствуют символы, пропущенных значений предварительно нет, наблюдается дисбаланс целевого признака."
   ]
  },
  {
   "cell_type": "markdown",
   "metadata": {},
   "source": [
    "### Предобработка данных"
   ]
  },
  {
   "cell_type": "code",
   "execution_count": 6,
   "metadata": {},
   "outputs": [],
   "source": [
    "def clearing_the_text(text: str) -> str:\n",
    "    \"\"\"Функция для очистки текста от символов, переносов и т.п. по регулярке [^a-zA-Z ].\"\"\"\n",
    "    re_text = re.sub(r'[^a-zA-Z ]', ' ', text)\n",
    "    return ' '.join(re_text.split())\n",
    "\n",
    "def lemmatization_of_the_text(text: str) -> str:\n",
    "    \"\"\"Инициализируем Wordnet Lemmatizer, прогоняем его по тексту и возвращаем текст в виде строки.\"\"\"\n",
    "    lemm = WordNetLemmatizer()\n",
    "    word_list = nltk.word_tokenize(text)\n",
    "    return \" \".join([lemm.lemmatize(word) for word in word_list])\n"
   ]
  },
  {
   "cell_type": "markdown",
   "metadata": {},
   "source": [
    "\n",
    "<div class=\"alert alert-block alert-info\">\n",
    "    \n",
    "<b>Совет:</b> \n",
    "    \n",
    "-  Для более корректной работы  WordNetLemmatizer, вместо со словом, желательно передавать его POS-тег (part of speech). https://webdevblog.ru/podhody-lemmatizacii-s-primerami-v-python/\n",
    "    \n",
    "\t\n",
    "\n",
    "-  Если  процесс лемматизации затягивается, можно попробовать [.parallel_apply](https://pypi.org/project/pandarallel/),  кому-то это помогает уменьшить время прогона кода раз в 5-7. А у большинства он вообще не запускается ) Предварительно:\n",
    "\n",
    "\n",
    "\n",
    "    from pandarallel import pandarallel\n",
    "    tqdm.pandas(desc=\"progress\")\n",
    "    pandarallel.initialize(progress_bar = True)\n",
    "\n",
    "\n",
    "\n",
    "\n",
    "</div>\n"
   ]
  },
  {
   "cell_type": "markdown",
   "metadata": {},
   "source": [
    "Для начала очистим текст от символов и приведем к единому регистру."
   ]
  },
  {
   "cell_type": "code",
   "execution_count": 7,
   "metadata": {},
   "outputs": [],
   "source": [
    "data['text'] = data['text'].str.lower()"
   ]
  },
  {
   "cell_type": "markdown",
   "metadata": {},
   "source": [
    "Хм...а вот интересно, есть ли большая разница в приведении текста в нижнему регистру или верхнему?"
   ]
  },
  {
   "cell_type": "markdown",
   "metadata": {},
   "source": [
    "\n",
    "\n",
    "<div class=\"alert alert-block alert-success\">\n",
    "<b>Ответ:</b> Учитывая, что мы будем обучать векторайзер самостоятельно - то разницы быть не должно.\n",
    "</div>"
   ]
  },
  {
   "cell_type": "markdown",
   "metadata": {},
   "source": [
    "Далее очистим текст от символов при помощу регулярок."
   ]
  },
  {
   "cell_type": "code",
   "execution_count": 8,
   "metadata": {},
   "outputs": [],
   "source": [
    "data['text'] = data['text'].apply(clearing_the_text)"
   ]
  },
  {
   "cell_type": "markdown",
   "metadata": {},
   "source": [
    "Ну и всё. Ой, а еще же лемматизация...Блин, а в теории только про русский текст, но задание дали на инглише. Изи-бризи - подключаем модуль гугл-переводчика, переводим весь текст и работаем дальше как по теории. Да ладно, шучу. Это была бы лютая дичь, но стоило бы в курсе хотя бы отметить, что лучше использовать для проекта. Гуглим - `Wordnet`, `Lemmatizer`, `Spacy Lemmatizer`, `TextBlob`, `CLiPS Pattern`, `Stanford CoreNLP`, `Gensim Lemmatizer`, `TreeTagger`. Что лучше использовать? К чему привычнее ревьювер и что было бы предпочтительнее? Какие плюсы/минусы у каждого? В общем, класс. По ходу уже практики разберусь. Если вам доводилось использовать эти библиотеки, то было бы интересно услышать с какими проблемами вы сталкивались и к какой в итоге решили пользоваться. Я возьму просто первую по ссылке `Wordnet`. На всякий случай оставлю ссылку на сайт(на самом деле для портфолио, потом этот текст поправлю, уберу явные ссылки на данные и отправлю на гит), где взял это: https://webdevblog.ru/podhody-lemmatizacii-s-primerami-v-python/"
   ]
  },
  {
   "cell_type": "markdown",
   "metadata": {},
   "source": [
    "\n",
    "\n",
    "<div class=\"alert alert-block alert-success\">\n",
    "<b>Ответ:</b> Я в своей практике пользовался в основном WordNet и Spacy. Spacy предоставляет более гибкий и мощный подход к лемматизации, основанный на машинном обучении и контексте, в то время как WordNetLemmatizer предоставляет простой и надежный метод, основанный на лексической базе данных WordNet. И хочу сказать, если для WordNet использовать POS-теги, а для второго выбрать тяжелую модель (например large), то качество будет соизмеримым - поэтому не вижу смысла сильно насчет подхода заморачиваться, что удобнее - то и юзай)\n",
    "\n",
    "</div>"
   ]
  },
  {
   "cell_type": "code",
   "execution_count": 9,
   "metadata": {},
   "outputs": [
    {
     "name": "stderr",
     "output_type": "stream",
     "text": [
      "[nltk_data] Downloading package punkt to /home/dwpsd/nltk_data...\n",
      "[nltk_data]   Package punkt is already up-to-date!\n",
      "[nltk_data] Downloading package wordnet to /home/dwpsd/nltk_data...\n",
      "[nltk_data]   Package wordnet is already up-to-date!\n"
     ]
    },
    {
     "name": "stdout",
     "output_type": "stream",
     "text": [
      "CPU times: user 59.9 s, sys: 49.4 ms, total: 59.9 s\n",
      "Wall time: 1min\n"
     ]
    }
   ],
   "source": [
    "%%time\n",
    "\n",
    "nltk.download('punkt')\n",
    "nltk.download('wordnet')\n",
    "data['text'] = data['text'].apply(lemmatization_of_the_text)"
   ]
  },
  {
   "cell_type": "markdown",
   "metadata": {},
   "source": [
    "Предполагаю, что после ламматизации мы можем получить строки, которые будут дублировать друг друга, раз приводим в один формат и тому подобное. Поэтому проверим количество дубликатов."
   ]
  },
  {
   "cell_type": "code",
   "execution_count": 10,
   "metadata": {},
   "outputs": [
    {
     "name": "stdout",
     "output_type": "stream",
     "text": [
      "Количество дубликатов до удаления: 1307\n",
      "Количество дубликатов после удаления: 0\n"
     ]
    }
   ],
   "source": [
    "print(\"Количество дубликатов до удаления:\", data.duplicated().sum())\n",
    "data.drop_duplicates(inplace=True)\n",
    "print(\"Количество дубликатов после удаления:\", data.duplicated().sum())"
   ]
  },
  {
   "cell_type": "markdown",
   "metadata": {},
   "source": [
    "~~О, теория с дубликатами не подтвердилась~~. Значит я правильно понял, что столбец \"Unnamed: 0\" просто дубль индексов. Просто странно, что в таком количестве строк не было дублей. Ведь недавно всеми любимое \"я твою мамку в кино водил\" обычно бывает в комментах не один раз :) Помимо этого я на всякий случай вручную проверил. Примерно на 6480 пропало порядка 5 строк. Но вряд ли стоит оставлять этот столбец из-за этого. Посмотрим как выглядят первые 10 строк подготовленного и обработанного текста."
   ]
  },
  {
   "cell_type": "markdown",
   "metadata": {},
   "source": [
    "\n",
    "<div class=\"alert alert-block alert-info\">\n",
    "    \n",
    "<b>Совет:</b> Неплохо было бы вывести результаты до/после лемматизации и очистки, чтобы видеть как у нас видоизменяется текст. Заодно некая проверка корректности написанных функций"
   ]
  },
  {
   "cell_type": "code",
   "execution_count": 11,
   "metadata": {},
   "outputs": [
    {
     "data": {
      "text/html": [
       "<div>\n",
       "<style scoped>\n",
       "    .dataframe tbody tr th:only-of-type {\n",
       "        vertical-align: middle;\n",
       "    }\n",
       "\n",
       "    .dataframe tbody tr th {\n",
       "        vertical-align: top;\n",
       "    }\n",
       "\n",
       "    .dataframe thead th {\n",
       "        text-align: right;\n",
       "    }\n",
       "</style>\n",
       "<table border=\"1\" class=\"dataframe\">\n",
       "  <thead>\n",
       "    <tr style=\"text-align: right;\">\n",
       "      <th></th>\n",
       "      <th>text</th>\n",
       "      <th>toxic</th>\n",
       "    </tr>\n",
       "  </thead>\n",
       "  <tbody>\n",
       "    <tr>\n",
       "      <th>0</th>\n",
       "      <td>explanation why the edits made under my userna...</td>\n",
       "      <td>0</td>\n",
       "    </tr>\n",
       "    <tr>\n",
       "      <th>1</th>\n",
       "      <td>d aww he match this background colour i m seem...</td>\n",
       "      <td>0</td>\n",
       "    </tr>\n",
       "    <tr>\n",
       "      <th>2</th>\n",
       "      <td>hey man i m really not trying to edit war it s...</td>\n",
       "      <td>0</td>\n",
       "    </tr>\n",
       "    <tr>\n",
       "      <th>3</th>\n",
       "      <td>more i can t make any real suggestion on impro...</td>\n",
       "      <td>0</td>\n",
       "    </tr>\n",
       "    <tr>\n",
       "      <th>4</th>\n",
       "      <td>you sir are my hero any chance you remember wh...</td>\n",
       "      <td>0</td>\n",
       "    </tr>\n",
       "    <tr>\n",
       "      <th>5</th>\n",
       "      <td>congratulation from me a well use the tool wel...</td>\n",
       "      <td>0</td>\n",
       "    </tr>\n",
       "    <tr>\n",
       "      <th>6</th>\n",
       "      <td>cocksucker before you piss around on my work</td>\n",
       "      <td>1</td>\n",
       "    </tr>\n",
       "    <tr>\n",
       "      <th>7</th>\n",
       "      <td>your vandalism to the matt shirvington article...</td>\n",
       "      <td>0</td>\n",
       "    </tr>\n",
       "    <tr>\n",
       "      <th>8</th>\n",
       "      <td>sorry if the word nonsense wa offensive to you...</td>\n",
       "      <td>0</td>\n",
       "    </tr>\n",
       "    <tr>\n",
       "      <th>9</th>\n",
       "      <td>alignment on this subject and which are contra...</td>\n",
       "      <td>0</td>\n",
       "    </tr>\n",
       "  </tbody>\n",
       "</table>\n",
       "</div>"
      ],
      "text/plain": [
       "                                                text  toxic\n",
       "0  explanation why the edits made under my userna...      0\n",
       "1  d aww he match this background colour i m seem...      0\n",
       "2  hey man i m really not trying to edit war it s...      0\n",
       "3  more i can t make any real suggestion on impro...      0\n",
       "4  you sir are my hero any chance you remember wh...      0\n",
       "5  congratulation from me a well use the tool wel...      0\n",
       "6       cocksucker before you piss around on my work      1\n",
       "7  your vandalism to the matt shirvington article...      0\n",
       "8  sorry if the word nonsense wa offensive to you...      0\n",
       "9  alignment on this subject and which are contra...      0"
      ]
     },
     "execution_count": 11,
     "metadata": {},
     "output_type": "execute_result"
    }
   ],
   "source": [
    "data.head(10)"
   ]
  },
  {
   "cell_type": "markdown",
   "metadata": {},
   "source": [
    "**Вывод:**    \n",
    "* изучили исходные данные;\n",
    "* избавились от лишних символов(\\n, @ и прочего);\n",
    "* лемматизировали текст;\n",
    "* избавились от дубликатов текста."
   ]
  },
  {
   "cell_type": "markdown",
   "metadata": {},
   "source": [
    "## Обучение"
   ]
  },
  {
   "cell_type": "markdown",
   "metadata": {},
   "source": [
    "### Подготовка данных"
   ]
  },
  {
   "cell_type": "code",
   "execution_count": 12,
   "metadata": {},
   "outputs": [],
   "source": [
    "RANDOM_STATE = 4221\n",
    "TEST_SIZE = 0.2"
   ]
  },
  {
   "cell_type": "markdown",
   "metadata": {},
   "source": [
    "Никаких рекомендаций к разделению выборки не было, поэтому возьмём классику 80/20."
   ]
  },
  {
   "cell_type": "code",
   "execution_count": 13,
   "metadata": {},
   "outputs": [
    {
     "name": "stdout",
     "output_type": "stream",
     "text": [
      "(126388, 2) (31597, 2)\n"
     ]
    }
   ],
   "source": [
    "train, test = train_test_split(data, test_size=TEST_SIZE, random_state=RANDOM_STATE)\n",
    "print(train.shape, test.shape)"
   ]
  },
  {
   "cell_type": "markdown",
   "metadata": {},
   "source": [
    "Далее создаём корпусы текстов и переменную для целевого признака."
   ]
  },
  {
   "cell_type": "code",
   "execution_count": 14,
   "metadata": {},
   "outputs": [
    {
     "name": "stdout",
     "output_type": "stream",
     "text": [
      "(126388,) (31597,)\n",
      "(126388,) (31597,)\n"
     ]
    }
   ],
   "source": [
    "corpus_train = train['text'].values\n",
    "corpus_test = test['text'].values\n",
    "\n",
    "target_train = train['toxic']\n",
    "target_test = test['toxic']\n",
    "\n",
    "print(corpus_train.shape, corpus_test.shape)\n",
    "print(target_train.shape, target_test.shape)"
   ]
  },
  {
   "cell_type": "markdown",
   "metadata": {},
   "source": [
    "Оценим важность слов в корпусе. Опять же, а нам нужно это делать? В чем сокральный смысл для модели? Если я правильно понял, то суть в том, что, во-первых, мы исключаем стоп-слова из текста, во-вторых, преобразуем слова в векторы и модель уже работает с числами. Насколько нам важно исключать стоп-слова? Как они влияют на целевой признак? Ведь если они будут в тексте, то скорее всего коммент токсичный. Мы же предсказываем токсичность?! То есть в целом много вопросов в самом задании и без ответа. Вам не нужно мне всё расписывать. В целом понятно. Мы оцениваем какую окраску носит текст. Стоп-слова могут вносить \"шум\" и мы получим, что текст негативен, хотя он может быть и положительным. И мы по сути не производим оценку важности слов, как это идёт в теории, а строим более корректные векторы этим методом, чтобы модель делала предсказания по векторам слов. "
   ]
  },
  {
   "cell_type": "markdown",
   "metadata": {},
   "source": [
    "\n",
    "<div class=\"alert alert-block alert-info\">\n",
    "    \n",
    "<b>Ответ:</b>  Исключение стоп-слов позволяет модели сосредоточиться на ключевых словах и фразах. Это помогает повысить качество модели, уменьшая влияние часто встречающихся, но неинформативных слов.\n",
    "Также положительный эффект оказывается через сокращение размерности признакового пространства и снижения вычислительной сложности модели.\n",
    "    \n",
    "\n",
    "\n",
    "\n",
    "\n",
    "- Поэтому здесь вполне уместно провести частотный анализ текста/[облако слов](https://habr.com/ru/post/517410/) - чтобы получить общее представление о тематике и о наиболее часто встречаемых словах в токсичных и нетоксичных твитах Кроме того графики, рисунки делают проект визуально интересней\n",
    "\n",
    "В тренажере облако импортируем так\n",
    "\n",
    "    !/opt/conda/bin/python -m pip install wordcloud\n",
    "\n",
    "\n",
    "или\n",
    "\n",
    "    !/opt/conda/bin/python -m pip install wordcloud==1.8.2.2\n",
    "\n",
    "\n",
    "И возможно дополнительно надо будет сделать\n",
    "\n",
    "\n",
    "    !pip install --upgrade Pillow\n",
    "</div>\n"
   ]
  },
  {
   "cell_type": "code",
   "execution_count": 15,
   "metadata": {},
   "outputs": [
    {
     "name": "stderr",
     "output_type": "stream",
     "text": [
      "[nltk_data] Downloading package stopwords to /home/dwpsd/nltk_data...\n",
      "[nltk_data]   Package stopwords is already up-to-date!\n"
     ]
    },
    {
     "name": "stdout",
     "output_type": "stream",
     "text": [
      "Размер обучающей матрицы: (126388, 56528)\n",
      "Размер тестовой матрицы: (31597, 56528)\n"
     ]
    }
   ],
   "source": [
    "nltk.download('stopwords')\n",
    "stopwords = list(nltk_stopwords.words('english'))\n",
    "\n",
    "count_tf_idf = TfidfVectorizer(min_df=2, stop_words=stopwords)\n",
    "tf_idf_train = count_tf_idf.fit_transform(corpus_train) \n",
    "tf_idf_test = count_tf_idf.transform(corpus_test) \n",
    "\n",
    "print(\"Размер обучающей матрицы:\", tf_idf_train.shape)\n",
    "print(\"Размер тестовой матрицы:\", tf_idf_test.shape)"
   ]
  },
  {
   "cell_type": "markdown",
   "metadata": {},
   "source": [
    "**Вывод:**    \n",
    "* разбили данные на обучающую и тестовую выборки;\n",
    "* создали корпусы(набор текстов, в котором эмоции и ключевые слова уже размечены);\n",
    "* векторизировали текст для дальнейшего обучения моделей."
   ]
  },
  {
   "cell_type": "markdown",
   "metadata": {},
   "source": [
    " ### Выбор моделей для обучения и метрики"
   ]
  },
  {
   "cell_type": "markdown",
   "metadata": {},
   "source": [
    "В задании нам нужно обучить модель, а в алгоритме задания \"обучить разные модели\". Видимо, кто-то не до конца определился. Я запутался, поэтому выберу три модели для обучения - регресиию(как классическую), лес, ну и кошечку от яндекса:    \n",
    "* LogisticRegression;\n",
    "* RandomForestClassifier;\n",
    "* CatBoostClassifier."
   ]
  },
  {
   "cell_type": "markdown",
   "metadata": {},
   "source": [
    "По заданию метрика качества это F1 не меньше 0.75. Это совместная метрика для оценки качества алгоритма классификации, которая учитывает обе метрики Precision (точность) и Recall (полнота).\n",
    "\n",
    "F1-score является гармоническим средним между Precision и Recall, что делает эту метрику более сбалансированной, чем каждая из них по отдельности. F1-score особенно полезна в случаях, когда классы в данных несбалансированы или когда ошибки первого и второго рода имеют схожую важность.\n",
    "\n",
    "Поскольку у нас классы несбалансированны логично использовать именно её."
   ]
  },
  {
   "cell_type": "markdown",
   "metadata": {},
   "source": [
    "### LogisticRegression"
   ]
  },
  {
   "cell_type": "code",
   "execution_count": 16,
   "metadata": {},
   "outputs": [
    {
     "name": "stdout",
     "output_type": "stream",
     "text": [
      "Значение F1 модели на обучающих данных для LogisticRegression: 0.77\n",
      "Оптимальные гиперпараметры для модели LogisticRegression: {'tfidf__min_df': 2, 'lr__solver': 'liblinear', 'lr__C': 10}\n",
      "CPU times: user 6min 38s, sys: 51.4 s, total: 7min 29s\n",
      "Wall time: 5min 30s\n"
     ]
    }
   ],
   "source": [
    "%%time\n",
    "\n",
    "pipe = Pipeline([('tfidf', TfidfVectorizer(stop_words=stopwords)), ('lr', LogisticRegression())])\n",
    "hyperparameters = {\n",
    "    'tfidf__min_df': range(1, 3),\n",
    "    'lr__C': [1, 10],\n",
    "    'lr__solver': ['liblinear', 'newton-cg', 'saga']\n",
    "}\n",
    "\n",
    "rs_grid_lr = RandomizedSearchCV(\n",
    "    pipe,\n",
    "    param_distributions=hyperparameters,\n",
    "    scoring='f1') \n",
    "rs_grid_lr.fit(corpus_train, target_train)\n",
    "\n",
    "f1_train_lr = round(abs(rs_grid_lr.best_score_), 2)\n",
    "\n",
    "print(f\"Значение F1 модели на обучающих данных для LogisticRegression: {f1_train_lr}\")\n",
    "print(f\"Оптимальные гиперпараметры для модели LogisticRegression: {rs_grid_lr.best_params_}\")"
   ]
  },
  {
   "cell_type": "markdown",
   "metadata": {},
   "source": [
    "**Вывод:**    \n",
    "* Метрика F1 для модели логистической регрессии отвечает требованиям заказчика;\n",
    "* обучение проводится довольно долго и с тремя гиперпараметрами для solver составляет порядка 14 минут.\n"
   ]
  },
  {
   "cell_type": "markdown",
   "metadata": {},
   "source": [
    "### RandomForestClassifier"
   ]
  },
  {
   "cell_type": "code",
   "execution_count": 17,
   "metadata": {},
   "outputs": [
    {
     "name": "stderr",
     "output_type": "stream",
     "text": [
      "/home/dwpsd/Dev/ds_practicum_projects/venv/lib64/python3.11/site-packages/sklearn/model_selection/_search.py:320: UserWarning: The total space of parameters 4 is smaller than n_iter=10. Running 4 iterations. For exhaustive searches, use GridSearchCV.\n",
      "  warnings.warn(\n"
     ]
    },
    {
     "name": "stdout",
     "output_type": "stream",
     "text": [
      "Значение F1 модели на обучающих данных для RandomForestClassifier: 0.69\n",
      "Оптимальные гиперпараметры для модели RandomForestClassifier: {'tfidf__min_df': 2, 'rfc__n_estimators': 10}\n",
      "CPU times: user 38.6 s, sys: 1.09 s, total: 39.7 s\n",
      "Wall time: 3min 36s\n"
     ]
    }
   ],
   "source": [
    "%%time\n",
    "\n",
    "pipe = Pipeline([\n",
    "    ('tfidf', TfidfVectorizer(stop_words=stopwords)),\n",
    "    ('rfc', RandomForestClassifier(random_state=RANDOM_STATE))\n",
    "])\n",
    "hyperparameters = {\n",
    "    'tfidf__min_df': range(1, 3),\n",
    "    'rfc__n_estimators': [2, 10]\n",
    "}\n",
    "\n",
    "rs_grid_rfc = RandomizedSearchCV(\n",
    "    pipe,\n",
    "    param_distributions=hyperparameters,\n",
    "    scoring='f1',\n",
    "    n_jobs=-1) \n",
    "rs_grid_rfc.fit(corpus_train, target_train) \n",
    "\n",
    "f1_train_rfc = round(abs(rs_grid_rfc.best_score_), 2)\n",
    "\n",
    "print(f\"Значение F1 модели на обучающих данных для RandomForestClassifier: {f1_train_rfc}\")\n",
    "print(f\"Оптимальные гиперпараметры для модели RandomForestClassifier: {rs_grid_rfc.best_params_}\")\n",
    "\n",
    "# Wall time: 4min 29s"
   ]
  },
  {
   "cell_type": "markdown",
   "metadata": {},
   "source": [
    "**Вывод:**    \n",
    "* метрика F1 для модели леса не соотвествует требованиям заказчика;\n",
    "* в целом обучение модели проходило быстрее чем для логистической регресии."
   ]
  },
  {
   "cell_type": "markdown",
   "metadata": {},
   "source": [
    "### CatBoostClassifier"
   ]
  },
  {
   "cell_type": "code",
   "execution_count": 18,
   "metadata": {},
   "outputs": [
    {
     "name": "stderr",
     "output_type": "stream",
     "text": [
      "/home/dwpsd/Dev/ds_practicum_projects/venv/lib64/python3.11/site-packages/sklearn/model_selection/_search.py:320: UserWarning: The total space of parameters 4 is smaller than n_iter=10. Running 4 iterations. For exhaustive searches, use GridSearchCV.\n",
      "  warnings.warn(\n"
     ]
    },
    {
     "name": "stdout",
     "output_type": "stream",
     "text": [
      "Learning rate set to 0.5\n",
      "0:\tlearn: 0.3323972\ttotal: 2.75s\tremaining: 24.7s\n",
      "9:\tlearn: 0.1866211\ttotal: 21.2s\tremaining: 0us\n"
     ]
    },
    {
     "name": "stderr",
     "output_type": "stream",
     "text": [
      "/home/dwpsd/Dev/ds_practicum_projects/venv/lib64/python3.11/site-packages/joblib/externals/loky/process_executor.py:752: UserWarning: A worker stopped while some jobs were given to the executor. This can be caused by a too short worker timeout or by a memory leak.\n",
      "  warnings.warn(\n"
     ]
    },
    {
     "name": "stdout",
     "output_type": "stream",
     "text": [
      "Learning rate set to 0.5\n",
      "0:\tlearn: 0.3336652\ttotal: 2.37s\tremaining: 21.3s\n",
      "9:\tlearn: 0.1851786\ttotal: 22.6s\tremaining: 0us\n",
      "Learning rate set to 0.5\n",
      "0:\tlearn: 0.3306190\ttotal: 2.17s\tremaining: 19.5s\n",
      "9:\tlearn: 0.1842930\ttotal: 21.6s\tremaining: 0us\n",
      "Learning rate set to 0.5\n",
      "0:\tlearn: 0.3430929\ttotal: 2.82s\tremaining: 25.4s\n",
      "9:\tlearn: 0.1853300\ttotal: 22.1s\tremaining: 0us\n",
      "Learning rate set to 0.5\n",
      "0:\tlearn: 0.3442309\ttotal: 2.91s\tremaining: 26.2s\n",
      "9:\tlearn: 0.1878299\ttotal: 14.2s\tremaining: 0us\n",
      "Learning rate set to 0.5\n",
      "0:\tlearn: 0.3323972\ttotal: 1.96s\tremaining: 37.1s\n",
      "10:\tlearn: 0.1840232\ttotal: 23.1s\tremaining: 18.9s\n",
      "19:\tlearn: 0.1643159\ttotal: 38.7s\tremaining: 0us\n",
      "Learning rate set to 0.5\n",
      "0:\tlearn: 0.3452321\ttotal: 2.23s\tremaining: 20.1s\n",
      "9:\tlearn: 0.1891228\ttotal: 19.5s\tremaining: 0us\n",
      "Learning rate set to 0.5\n",
      "0:\tlearn: 0.3399165\ttotal: 1.74s\tremaining: 15.6s\n",
      "9:\tlearn: 0.1863391\ttotal: 16.3s\tremaining: 0us\n",
      "Learning rate set to 0.5\n",
      "0:\tlearn: 0.3306190\ttotal: 1.94s\tremaining: 36.8s\n",
      "10:\tlearn: 0.1801180\ttotal: 19.6s\tremaining: 16.1s\n",
      "19:\tlearn: 0.1623454\ttotal: 34.9s\tremaining: 0us\n",
      "Learning rate set to 0.5\n",
      "0:\tlearn: 0.3373555\ttotal: 2.17s\tremaining: 19.6s\n",
      "9:\tlearn: 0.1851793\ttotal: 18.7s\tremaining: 0us\n",
      "Learning rate set to 0.5\n",
      "0:\tlearn: 0.3336652\ttotal: 1.62s\tremaining: 30.7s\n",
      "10:\tlearn: 0.1826314\ttotal: 16.7s\tremaining: 13.7s\n",
      "19:\tlearn: 0.1636689\ttotal: 35.1s\tremaining: 0us\n",
      "Learning rate set to 0.5\n",
      "0:\tlearn: 0.3442309\ttotal: 1.79s\tremaining: 34.1s\n",
      "10:\tlearn: 0.1839870\ttotal: 16.9s\tremaining: 13.9s\n",
      "19:\tlearn: 0.1627452\ttotal: 36.7s\tremaining: 0us\n",
      "Learning rate set to 0.5\n",
      "0:\tlearn: 0.3444373\ttotal: 2.13s\tremaining: 19.1s\n",
      "9:\tlearn: 0.1866693\ttotal: 19.8s\tremaining: 0us\n",
      "Learning rate set to 0.5\n",
      "0:\tlearn: 0.3536625\ttotal: 1.71s\tremaining: 15.3s\n",
      "9:\tlearn: 0.1857539\ttotal: 16s\tremaining: 0us\n",
      "Learning rate set to 0.5\n",
      "0:\tlearn: 0.3430929\ttotal: 2.22s\tremaining: 42.2s\n",
      "10:\tlearn: 0.1824605\ttotal: 19.7s\tremaining: 16.1s\n",
      "19:\tlearn: 0.1626934\ttotal: 35.3s\tremaining: 0us\n",
      "Learning rate set to 0.5\n",
      "0:\tlearn: 0.3452321\ttotal: 2.28s\tremaining: 43.3s\n",
      "10:\tlearn: 0.1845096\ttotal: 19.6s\tremaining: 16s\n",
      "19:\tlearn: 0.1645494\ttotal: 31s\tremaining: 0us\n",
      "Learning rate set to 0.5\n",
      "0:\tlearn: 0.3382402\ttotal: 838ms\tremaining: 15.9s\n",
      "10:\tlearn: 0.1842150\ttotal: 8.23s\tremaining: 6.73s\n",
      "19:\tlearn: 0.1641297\ttotal: 14.8s\tremaining: 0us\n",
      "Значение F1 модели на обучающих данных для CatBoostClassifier: 0.67\n",
      "Оптимальные гиперпараметры для модели CatBoostClassifier: {'tfidf__min_df': 1, 'cbc__iterations': 20}\n",
      "CPU times: user 1min 34s, sys: 2.35 s, total: 1min 36s\n",
      "Wall time: 5min 15s\n"
     ]
    }
   ],
   "source": [
    "%%time\n",
    "\n",
    "pipe = Pipeline([('tfidf', TfidfVectorizer(stop_words=stopwords)),\n",
    "                 ('cbc', CatBoostClassifier(random_state=RANDOM_STATE, verbose=10))])\n",
    "hyperparameters = {\n",
    "    'tfidf__min_df': range(1, 3),\n",
    "    'cbc__iterations': [10, 20]\n",
    "}\n",
    "\n",
    "rs_grid_cat = RandomizedSearchCV(\n",
    "    pipe,\n",
    "    param_distributions=hyperparameters,\n",
    "    scoring='f1',\n",
    "    n_jobs=-1) \n",
    "rs_grid_cat.fit(corpus_train, target_train) \n",
    "\n",
    "f1_train_cat = round(abs(rs_grid_cat.best_score_), 2)\n",
    "\n",
    "print(f\"Значение F1 модели на обучающих данных для CatBoostClassifier: {f1_train_cat}\")\n",
    "print(f\"Оптимальные гиперпараметры для модели CatBoostClassifier: {rs_grid_cat.best_params_}\")"
   ]
  },
  {
   "cell_type": "markdown",
   "metadata": {},
   "source": [
    "**Вывод:**    \n",
    "* метрика F1 для модели котика не соотвествует требованиям заказчика;\n",
    "* в целом обучение модели проходило чуть быстрее чем для регресии."
   ]
  },
  {
   "cell_type": "markdown",
   "metadata": {},
   "source": [
    "### Предсказание на тестовых данных"
   ]
  },
  {
   "cell_type": "markdown",
   "metadata": {},
   "source": [
    "Лучшей моделью по характеристике F1 оказалась логистическая регрессия. Предскажем тестовые данные на ней."
   ]
  },
  {
   "cell_type": "code",
   "execution_count": 19,
   "metadata": {},
   "outputs": [
    {
     "name": "stdout",
     "output_type": "stream",
     "text": [
      "F1 модели на тесте: 0.77\n",
      "CPU times: user 11.4 s, sys: 36.5 ms, total: 11.4 s\n",
      "Wall time: 6.83 s\n",
      "Learning rate set to 0.5\n",
      "0:\tlearn: 0.3373555\ttotal: 2.41s\tremaining: 45.8s\n",
      "10:\tlearn: 0.1820157\ttotal: 16.8s\tremaining: 13.8s\n",
      "19:\tlearn: 0.1615774\ttotal: 28.1s\tremaining: 0us\n",
      "Learning rate set to 0.5\n",
      "0:\tlearn: 0.3444373\ttotal: 1.48s\tremaining: 28.1s\n",
      "10:\tlearn: 0.1840535\ttotal: 16.6s\tremaining: 13.6s\n",
      "19:\tlearn: 0.1633344\ttotal: 32.1s\tremaining: 0us\n",
      "Learning rate set to 0.5\n",
      "0:\tlearn: 0.3399165\ttotal: 967ms\tremaining: 18.4s\n",
      "10:\tlearn: 0.1838738\ttotal: 10.6s\tremaining: 8.66s\n",
      "19:\tlearn: 0.1615651\ttotal: 19.2s\tremaining: 0us\n",
      "Learning rate set to 0.5\n",
      "0:\tlearn: 0.3536625\ttotal: 1.11s\tremaining: 21s\n",
      "10:\tlearn: 0.1814997\ttotal: 11s\tremaining: 8.97s\n",
      "19:\tlearn: 0.1624286\ttotal: 19.4s\tremaining: 0us\n"
     ]
    }
   ],
   "source": [
    "%%time\n",
    "\n",
    "pipe = Pipeline([('tfidf', TfidfVectorizer(stop_words=stopwords)), ('lr', LogisticRegression())])\n",
    "pipe.set_params(**rs_grid_lr.best_params_)\n",
    "pipe.fit(corpus_train, target_train)\n",
    "\n",
    "target_predict = pipe.predict(corpus_test)\n",
    "f1_test = round(f1_score(target_test, target_predict), 3)\n",
    "print(f\"F1 модели на тесте: {f1_test}\")"
   ]
  },
  {
   "cell_type": "markdown",
   "metadata": {},
   "source": [
    "**Вывод:**    \n",
    "Модель логистической регрессии соответствует требованиям заказчика пометрике F1. Остальные модели не соответствуют требованиям. Возможно, если увеличить значения гиперпараметров, то получится увеличить качество на бустинге. Так же можно было бы попробовать сбалансировать данные, но всё это может как значительно увеличить время на обучение моделей, так и оказаться безрезультатным."
   ]
  },
  {
   "cell_type": "markdown",
   "metadata": {},
   "source": [
    "## Выводы"
   ]
  },
  {
   "cell_type": "markdown",
   "metadata": {},
   "source": [
    "* были обучены три модели LogisticRegression, RandomForestClassifier, CatBoostClassifier;\n",
    "* требованиям заказчика по метрике F1 отвечает только модель LogisticRegression;\n",
    "* вероятно, низкие значения метрик на других моделях вызваны дисбалансом классов."
   ]
  },
  {
   "cell_type": "markdown",
   "metadata": {},
   "source": [
    "\n",
    "\n",
    "<div class=\"alert alert-block alert-info\">\n",
    "    \n",
    "<b>Совет: </b> Почему бы дисбаланс не учесть? интересная и полезная статья на эту тему: https://dyakonov.org/2021/05/27/imbalance/"
   ]
  },
  {
   "cell_type": "code",
   "execution_count": null,
   "metadata": {},
   "outputs": [],
   "source": []
  }
 ],
 "metadata": {
  "ExecuteTimeLog": [
   {
    "duration": 53,
    "start_time": "2024-04-24T11:26:17.218Z"
   },
   {
    "duration": 62,
    "start_time": "2024-04-24T11:26:41.535Z"
   },
   {
    "duration": 404,
    "start_time": "2024-04-24T11:26:53.728Z"
   },
   {
    "duration": 2834,
    "start_time": "2024-04-24T11:26:55.622Z"
   },
   {
    "duration": 1785,
    "start_time": "2024-04-24T11:27:17.626Z"
   },
   {
    "duration": 31,
    "start_time": "2024-04-24T11:27:37.505Z"
   },
   {
    "duration": 4,
    "start_time": "2024-04-24T11:27:55.481Z"
   },
   {
    "duration": 44,
    "start_time": "2024-04-29T11:32:28.059Z"
   },
   {
    "duration": 52,
    "start_time": "2024-04-29T11:32:35.122Z"
   },
   {
    "duration": 336,
    "start_time": "2024-04-29T11:32:38.825Z"
   },
   {
    "duration": 2734,
    "start_time": "2024-04-29T11:32:40.058Z"
   },
   {
    "duration": 465,
    "start_time": "2024-04-29T11:35:09.691Z"
   },
   {
    "duration": 108,
    "start_time": "2024-04-29T11:35:21.460Z"
   },
   {
    "duration": 90,
    "start_time": "2024-04-29T11:35:38.445Z"
   },
   {
    "duration": 44,
    "start_time": "2024-04-29T11:37:55.463Z"
   },
   {
    "duration": 287,
    "start_time": "2024-04-29T11:39:44.259Z"
   },
   {
    "duration": 3,
    "start_time": "2024-04-29T11:51:09.456Z"
   },
   {
    "duration": 235,
    "start_time": "2024-04-29T11:51:32.337Z"
   },
   {
    "duration": 2,
    "start_time": "2024-04-29T11:51:49.384Z"
   },
   {
    "duration": 1944,
    "start_time": "2024-04-29T11:51:54.499Z"
   },
   {
    "duration": 833,
    "start_time": "2024-04-29T12:05:08.810Z"
   },
   {
    "duration": 2,
    "start_time": "2024-04-29T12:06:44.140Z"
   },
   {
    "duration": 4,
    "start_time": "2024-04-29T12:10:24.855Z"
   },
   {
    "duration": 76454,
    "start_time": "2024-04-29T12:10:34.321Z"
   },
   {
    "duration": 526,
    "start_time": "2024-04-29T12:12:45.223Z"
   },
   {
    "duration": 8,
    "start_time": "2024-04-29T12:14:21.117Z"
   },
   {
    "duration": 10,
    "start_time": "2024-04-29T12:16:36.872Z"
   },
   {
    "duration": 60,
    "start_time": "2024-04-29T12:16:44.383Z"
   },
   {
    "duration": 1709,
    "start_time": "2024-04-29T12:16:50.402Z"
   },
   {
    "duration": 30,
    "start_time": "2024-04-29T12:16:54.632Z"
   },
   {
    "duration": 35,
    "start_time": "2024-04-29T12:16:56.985Z"
   },
   {
    "duration": 88,
    "start_time": "2024-04-29T12:16:59.625Z"
   },
   {
    "duration": 4,
    "start_time": "2024-04-29T12:17:02.354Z"
   },
   {
    "duration": 229,
    "start_time": "2024-04-29T12:17:04.017Z"
   },
   {
    "duration": 1971,
    "start_time": "2024-04-29T12:17:05.552Z"
   },
   {
    "duration": 73408,
    "start_time": "2024-04-29T12:17:08.144Z"
   },
   {
    "duration": 520,
    "start_time": "2024-04-29T12:18:21.554Z"
   },
   {
    "duration": 7,
    "start_time": "2024-04-29T12:20:29.557Z"
   },
   {
    "duration": 3,
    "start_time": "2024-04-29T12:36:31.939Z"
   },
   {
    "duration": 2,
    "start_time": "2024-04-29T12:37:53.419Z"
   },
   {
    "duration": 42,
    "start_time": "2024-04-29T12:37:55.843Z"
   },
   {
    "duration": 50,
    "start_time": "2024-04-29T12:39:09.653Z"
   },
   {
    "duration": 5,
    "start_time": "2024-04-29T12:42:45.929Z"
   },
   {
    "duration": 3,
    "start_time": "2024-04-29T12:56:16.811Z"
   },
   {
    "duration": 6110,
    "start_time": "2024-04-29T12:56:48.828Z"
   },
   {
    "duration": 3,
    "start_time": "2024-04-29T14:03:26.063Z"
   },
   {
    "duration": 12,
    "start_time": "2024-04-29T14:04:18.714Z"
   },
   {
    "duration": 5,
    "start_time": "2024-04-29T14:04:45.104Z"
   },
   {
    "duration": 3,
    "start_time": "2024-04-29T14:04:50.999Z"
   },
   {
    "duration": 8,
    "start_time": "2024-04-29T14:04:56.471Z"
   },
   {
    "duration": 10,
    "start_time": "2024-04-29T14:05:15.368Z"
   },
   {
    "duration": 45,
    "start_time": "2024-04-29T14:05:33.456Z"
   },
   {
    "duration": 4,
    "start_time": "2024-04-29T14:05:36.384Z"
   },
   {
    "duration": 9,
    "start_time": "2024-04-29T14:05:40.728Z"
   },
   {
    "duration": 3,
    "start_time": "2024-04-29T14:05:50.601Z"
   },
   {
    "duration": 7,
    "start_time": "2024-04-29T14:05:58.009Z"
   },
   {
    "duration": 3,
    "start_time": "2024-04-29T14:06:23.202Z"
   },
   {
    "duration": 6,
    "start_time": "2024-04-29T14:06:25.338Z"
   },
   {
    "duration": 4,
    "start_time": "2024-04-29T14:06:34.842Z"
   },
   {
    "duration": 3,
    "start_time": "2024-04-29T14:06:37.842Z"
   },
   {
    "duration": 2,
    "start_time": "2024-04-29T14:06:39.490Z"
   },
   {
    "duration": 7,
    "start_time": "2024-04-29T14:06:41.074Z"
   },
   {
    "duration": 3,
    "start_time": "2024-04-29T14:07:22.427Z"
   },
   {
    "duration": 2,
    "start_time": "2024-04-29T14:12:22.058Z"
   },
   {
    "duration": 6,
    "start_time": "2024-04-29T14:13:15.754Z"
   }
  ],
  "kernelspec": {
   "display_name": "Python 3 (ipykernel)",
   "language": "python",
   "name": "python3"
  },
  "language_info": {
   "codemirror_mode": {
    "name": "ipython",
    "version": 3
   },
   "file_extension": ".py",
   "mimetype": "text/x-python",
   "name": "python",
   "nbconvert_exporter": "python",
   "pygments_lexer": "ipython3",
   "version": "3.11.0"
  },
  "toc": {
   "base_numbering": 1,
   "nav_menu": {},
   "number_sections": true,
   "sideBar": true,
   "skip_h1_title": true,
   "title_cell": "Содержание",
   "title_sidebar": "Contents",
   "toc_cell": true,
   "toc_position": {
    "height": "calc(100% - 180px)",
    "left": "10px",
    "top": "150px",
    "width": "302.391px"
   },
   "toc_section_display": true,
   "toc_window_display": false
  }
 },
 "nbformat": 4,
 "nbformat_minor": 4
}
