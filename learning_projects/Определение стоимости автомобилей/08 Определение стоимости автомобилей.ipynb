{
 "cells": [
  {
   "cell_type": "markdown",
   "metadata": {},
   "source": [
    "# Определение стоимости автомобилей"
   ]
  },
  {
   "cell_type": "markdown",
   "metadata": {},
   "source": [
    "Сервис по продаже автомобилей с пробегом «Не бит, не крашен» разрабатывает приложение для привлечения новых клиентов. В нём можно быстро узнать рыночную стоимость своего автомобиля. В вашем распоряжении исторические данные: технические характеристики, комплектации и цены автомобилей. Вам нужно построить модель для определения стоимости. \n",
    "\n",
    "Заказчику важны:\n",
    "\n",
    "- качество предсказания;\n",
    "- скорость предсказания;\n",
    "- время обучения."
   ]
  },
  {
   "cell_type": "markdown",
   "metadata": {},
   "source": [
    "## Загрузка и подготовка данных"
   ]
  },
  {
   "cell_type": "markdown",
   "metadata": {},
   "source": [
    "### Исходные данные"
   ]
  },
  {
   "cell_type": "markdown",
   "metadata": {},
   "source": [
    "Данные находястя в файле:    \n",
    "`/datasets/autos.csv`"
   ]
  },
  {
   "cell_type": "markdown",
   "metadata": {},
   "source": [
    "*Описание данных*\n",
    "    \n",
    "Признаки\n",
    "- `DateCrawled` — дата скачивания анкеты из базы\n",
    "- `VehicleType` — тип автомобильного кузова\n",
    "- `RegistrationYear` — год регистрации автомобиля\n",
    "- `Gearbox` — тип коробки передач\n",
    "- `Power` — мощность (л. с.)\n",
    "- `Model` — модель автомобиля\n",
    "- `Kilometer` — пробег (км)\n",
    "- `RegistrationMonth` — месяц регистрации автомобиля\n",
    "- `FuelType` — тип топлива\n",
    "- `Brand` — марка автомобиля\n",
    "- `NotRepaired` — была машина в ремонте или нет\n",
    "- `DateCreated` — дата создания анкеты\n",
    "- `NumberOfPictures` — количество фотографий автомобиля\n",
    "- `PostalCode` — почтовый индекс владельца анкеты (пользователя)\n",
    "- `LastSeen` — дата последней активности пользователя\n",
    "\n",
    "    \n",
    "Целевой признак\n",
    "- `Price` — цена (евро)"
   ]
  },
  {
   "cell_type": "markdown",
   "metadata": {},
   "source": [
    "### Импорты модулей и общие функции"
   ]
  },
  {
   "cell_type": "code",
   "execution_count": 2,
   "metadata": {},
   "outputs": [
    {
     "name": "stdout",
     "output_type": "stream",
     "text": [
      "\u001b[33mWARNING: visions 0.7.6 does not provide the extra 'type-image-path'\u001b[0m\u001b[33m\n",
      "\u001b[0m\u001b[33mWARNING: visions 0.7.5 does not provide the extra 'type-image-path'\u001b[0m\u001b[33m\n",
      "\u001b[0m\u001b[31mERROR: pip's dependency resolver does not currently take into account all the packages that are installed. This behaviour is the source of the following dependency conflicts.\n",
      "spacy 3.2.0 requires pydantic!=1.8,!=1.8.1,<1.9.0,>=1.7.4, but you have pydantic 2.6.4 which is incompatible.\n",
      "thinc 8.0.17 requires pydantic!=1.8,!=1.8.1,<1.9.0,>=1.7.4, but you have pydantic 2.6.4 which is incompatible.\u001b[0m\u001b[31m\n",
      "\u001b[0m"
     ]
    }
   ],
   "source": [
    "!pip install --upgrade pip -q\n",
    "!pip install --upgrade Pillow -q\n",
    "!pip install -U ydata-profiling -q\n",
    "!pip install -U scikit-learn -q\n",
    "\n",
    "from time import time\n",
    "\n",
    "from lightgbm import LGBMRegressor\n",
    "import matplotlib.pyplot as plt\n",
    "import numpy as np\n",
    "import pandas as pd\n",
    "from sklearn.dummy import DummyRegressor\n",
    "from sklearn.linear_model import LinearRegression\n",
    "from sklearn.metrics import mean_squared_error, root_mean_squared_error\n",
    "from sklearn.model_selection import cross_val_score, GridSearchCV, train_test_split\n",
    "from sklearn.preprocessing import OneHotEncoder, OrdinalEncoder, StandardScaler\n",
    "from ydata_profiling import ProfileReport"
   ]
  },
  {
   "cell_type": "code",
   "execution_count": 3,
   "metadata": {},
   "outputs": [],
   "source": [
    "def view_and_get_data(path, sep=None, decimal=\",\"):\n",
    "    \"\"\"\n",
    "    Открывает файл, выводит первые 10 строк,\n",
    "    основную информцию о дата фрейме и возвращает датафрейм.\n",
    "    Принимает разделить в csv файле и разделитель десятичных чисел(по умолчанию запятая).\n",
    "    \"\"\"\n",
    "    try:\n",
    "        # Пробуем открыть файл локально, если нет, то через сервер яндекса.\n",
    "        data = pd.read_csv(path, sep=sep, decimal=decimal, engine='python')\n",
    "    except Exception:\n",
    "        print('Локальный файл не найден. Пробую открыть серверную версию файла.')\n",
    "        data = pd.read_csv(f'https://не_показывать_ссылки{path}', sep=sep, decimal=decimal)\n",
    "        \n",
    "    display(data.head(10))\n",
    "    data.info()\n",
    "    return data\n",
    "\n",
    "\n",
    "def hist_and_box_numeric_old(data):\n",
    "    \"\"\"\n",
    "    Принимает датафрейм для построения гистрограм и боксплотов для\n",
    "    числовых столбцев.\n",
    "    \"\"\"\n",
    "    columns = data.select_dtypes(exclude=['object']).columns.to_list()\n",
    "    fig, axes = plt.subplots(nrows=len(columns), ncols=2, figsize=(10, 20))\n",
    "    \n",
    "    for number in range(len(columns)):\n",
    "        data[columns[number]].plot(\n",
    "            ax=axes[number, 0], kind=\"hist\", ylabel=columns[number], rot=0);\n",
    "        axes[number, 0].set_title(f'Гистограмма {columns[number]}')\n",
    "        axes[number, 0].set_ylabel('Количество')\n",
    "        axes[number, 0].set_xlabel('Значения признака')\n",
    "        data[columns[number]].plot(\n",
    "            ax=axes[number, 1], kind=\"box\", ylabel='Разброс показателя', rot=0);\n",
    "        axes[number, 1].set_title(f'Ящик с усами {columns[number]}')\n",
    "    fig.tight_layout()\n",
    "\n",
    "def hist_and_box_numeric(data):\n",
    "    \"\"\"\n",
    "    Принимает датафрейм для построения гистрограм и боксплотов для\n",
    "    числовых столбцев.\n",
    "    \"\"\"\n",
    "    columns = data.select_dtypes(exclude=['object']).columns.to_list()\n",
    "    for_axis = list(zip(columns, range(0, len(columns)*2, 2)))\n",
    "    fig, axes = plt.subplots(nrows=len(columns)*2, ncols=1, figsize=(10, 40))\n",
    "    \n",
    "    for name, number in for_axis:\n",
    "        data[name].plot(\n",
    "            ax=axes[number], kind=\"hist\", ylabel=name, rot=0);\n",
    "        axes[number].set_title(f'Гистограмма {name}')\n",
    "        axes[number].set_ylabel('Количество')\n",
    "        axes[number].set_xlabel('Значения признака')\n",
    "        data[name].plot(\n",
    "            ax=axes[number+1], kind=\"box\", ylabel='Разброс показателя', rot=0, vert=False);\n",
    "        axes[number+1].set_title(f'Ящик с усами {name}')\n",
    "    fig.tight_layout()    \n",
    "\n",
    "    \n",
    "def hist_and_box_obj(data):\n",
    "    \"\"\"\n",
    "    Принимает датафрейм для построения гистрограм и боксплотов для\n",
    "    категориальных столбцев.\n",
    "    \"\"\"\n",
    "    columns = data.select_dtypes(include=['object']).columns\n",
    "\n",
    "    if len(columns) > 1:\n",
    "        columns = columns.to_list()\n",
    "        fig, axes = plt.subplots(nrows=len(columns), ncols=1, figsize=(10, 20))\n",
    "        for number in range(len(columns)):\n",
    "            data[columns[number]].value_counts(normalize=True).plot(\n",
    "                ax=axes[number], kind='bar', xlabel=columns[number], ylabel='Доля', rot=15);\n",
    "            axes[number].set_title(f'Диаграмма {columns[number]}')\n",
    "        fig.tight_layout()\n",
    "    else:\n",
    "        columns = columns.to_list()\n",
    "        data[columns[0]].value_counts(normalize=True).plot(\n",
    "            kind='bar', xlabel=columns[0], ylabel='Доля', rot=15, title=f'Диаграмма {columns[0]}');"
   ]
  },
  {
   "cell_type": "markdown",
   "metadata": {},
   "source": [
    "### Загрузка данных и изучение общей информации\n"
   ]
  },
  {
   "cell_type": "markdown",
   "metadata": {},
   "source": [
    "Проведем общий анализ датафрейма."
   ]
  },
  {
   "cell_type": "code",
   "execution_count": 4,
   "metadata": {},
   "outputs": [
    {
     "data": {
      "text/html": [
       "<div>\n",
       "<style scoped>\n",
       "    .dataframe tbody tr th:only-of-type {\n",
       "        vertical-align: middle;\n",
       "    }\n",
       "\n",
       "    .dataframe tbody tr th {\n",
       "        vertical-align: top;\n",
       "    }\n",
       "\n",
       "    .dataframe thead th {\n",
       "        text-align: right;\n",
       "    }\n",
       "</style>\n",
       "<table border=\"1\" class=\"dataframe\">\n",
       "  <thead>\n",
       "    <tr style=\"text-align: right;\">\n",
       "      <th></th>\n",
       "      <th>DateCrawled</th>\n",
       "      <th>Price</th>\n",
       "      <th>VehicleType</th>\n",
       "      <th>RegistrationYear</th>\n",
       "      <th>Gearbox</th>\n",
       "      <th>Power</th>\n",
       "      <th>Model</th>\n",
       "      <th>Kilometer</th>\n",
       "      <th>RegistrationMonth</th>\n",
       "      <th>FuelType</th>\n",
       "      <th>Brand</th>\n",
       "      <th>Repaired</th>\n",
       "      <th>DateCreated</th>\n",
       "      <th>NumberOfPictures</th>\n",
       "      <th>PostalCode</th>\n",
       "      <th>LastSeen</th>\n",
       "    </tr>\n",
       "  </thead>\n",
       "  <tbody>\n",
       "    <tr>\n",
       "      <th>0</th>\n",
       "      <td>2016-03-24 11:52:17</td>\n",
       "      <td>480</td>\n",
       "      <td>NaN</td>\n",
       "      <td>1993</td>\n",
       "      <td>manual</td>\n",
       "      <td>0</td>\n",
       "      <td>golf</td>\n",
       "      <td>150000</td>\n",
       "      <td>0</td>\n",
       "      <td>petrol</td>\n",
       "      <td>volkswagen</td>\n",
       "      <td>NaN</td>\n",
       "      <td>2016-03-24 00:00:00</td>\n",
       "      <td>0</td>\n",
       "      <td>70435</td>\n",
       "      <td>2016-04-07 03:16:57</td>\n",
       "    </tr>\n",
       "    <tr>\n",
       "      <th>1</th>\n",
       "      <td>2016-03-24 10:58:45</td>\n",
       "      <td>18300</td>\n",
       "      <td>coupe</td>\n",
       "      <td>2011</td>\n",
       "      <td>manual</td>\n",
       "      <td>190</td>\n",
       "      <td>NaN</td>\n",
       "      <td>125000</td>\n",
       "      <td>5</td>\n",
       "      <td>gasoline</td>\n",
       "      <td>audi</td>\n",
       "      <td>yes</td>\n",
       "      <td>2016-03-24 00:00:00</td>\n",
       "      <td>0</td>\n",
       "      <td>66954</td>\n",
       "      <td>2016-04-07 01:46:50</td>\n",
       "    </tr>\n",
       "    <tr>\n",
       "      <th>2</th>\n",
       "      <td>2016-03-14 12:52:21</td>\n",
       "      <td>9800</td>\n",
       "      <td>suv</td>\n",
       "      <td>2004</td>\n",
       "      <td>auto</td>\n",
       "      <td>163</td>\n",
       "      <td>grand</td>\n",
       "      <td>125000</td>\n",
       "      <td>8</td>\n",
       "      <td>gasoline</td>\n",
       "      <td>jeep</td>\n",
       "      <td>NaN</td>\n",
       "      <td>2016-03-14 00:00:00</td>\n",
       "      <td>0</td>\n",
       "      <td>90480</td>\n",
       "      <td>2016-04-05 12:47:46</td>\n",
       "    </tr>\n",
       "    <tr>\n",
       "      <th>3</th>\n",
       "      <td>2016-03-17 16:54:04</td>\n",
       "      <td>1500</td>\n",
       "      <td>small</td>\n",
       "      <td>2001</td>\n",
       "      <td>manual</td>\n",
       "      <td>75</td>\n",
       "      <td>golf</td>\n",
       "      <td>150000</td>\n",
       "      <td>6</td>\n",
       "      <td>petrol</td>\n",
       "      <td>volkswagen</td>\n",
       "      <td>no</td>\n",
       "      <td>2016-03-17 00:00:00</td>\n",
       "      <td>0</td>\n",
       "      <td>91074</td>\n",
       "      <td>2016-03-17 17:40:17</td>\n",
       "    </tr>\n",
       "    <tr>\n",
       "      <th>4</th>\n",
       "      <td>2016-03-31 17:25:20</td>\n",
       "      <td>3600</td>\n",
       "      <td>small</td>\n",
       "      <td>2008</td>\n",
       "      <td>manual</td>\n",
       "      <td>69</td>\n",
       "      <td>fabia</td>\n",
       "      <td>90000</td>\n",
       "      <td>7</td>\n",
       "      <td>gasoline</td>\n",
       "      <td>skoda</td>\n",
       "      <td>no</td>\n",
       "      <td>2016-03-31 00:00:00</td>\n",
       "      <td>0</td>\n",
       "      <td>60437</td>\n",
       "      <td>2016-04-06 10:17:21</td>\n",
       "    </tr>\n",
       "    <tr>\n",
       "      <th>5</th>\n",
       "      <td>2016-04-04 17:36:23</td>\n",
       "      <td>650</td>\n",
       "      <td>sedan</td>\n",
       "      <td>1995</td>\n",
       "      <td>manual</td>\n",
       "      <td>102</td>\n",
       "      <td>3er</td>\n",
       "      <td>150000</td>\n",
       "      <td>10</td>\n",
       "      <td>petrol</td>\n",
       "      <td>bmw</td>\n",
       "      <td>yes</td>\n",
       "      <td>2016-04-04 00:00:00</td>\n",
       "      <td>0</td>\n",
       "      <td>33775</td>\n",
       "      <td>2016-04-06 19:17:07</td>\n",
       "    </tr>\n",
       "    <tr>\n",
       "      <th>6</th>\n",
       "      <td>2016-04-01 20:48:51</td>\n",
       "      <td>2200</td>\n",
       "      <td>convertible</td>\n",
       "      <td>2004</td>\n",
       "      <td>manual</td>\n",
       "      <td>109</td>\n",
       "      <td>2_reihe</td>\n",
       "      <td>150000</td>\n",
       "      <td>8</td>\n",
       "      <td>petrol</td>\n",
       "      <td>peugeot</td>\n",
       "      <td>no</td>\n",
       "      <td>2016-04-01 00:00:00</td>\n",
       "      <td>0</td>\n",
       "      <td>67112</td>\n",
       "      <td>2016-04-05 18:18:39</td>\n",
       "    </tr>\n",
       "    <tr>\n",
       "      <th>7</th>\n",
       "      <td>2016-03-21 18:54:38</td>\n",
       "      <td>0</td>\n",
       "      <td>sedan</td>\n",
       "      <td>1980</td>\n",
       "      <td>manual</td>\n",
       "      <td>50</td>\n",
       "      <td>other</td>\n",
       "      <td>40000</td>\n",
       "      <td>7</td>\n",
       "      <td>petrol</td>\n",
       "      <td>volkswagen</td>\n",
       "      <td>no</td>\n",
       "      <td>2016-03-21 00:00:00</td>\n",
       "      <td>0</td>\n",
       "      <td>19348</td>\n",
       "      <td>2016-03-25 16:47:58</td>\n",
       "    </tr>\n",
       "    <tr>\n",
       "      <th>8</th>\n",
       "      <td>2016-04-04 23:42:13</td>\n",
       "      <td>14500</td>\n",
       "      <td>bus</td>\n",
       "      <td>2014</td>\n",
       "      <td>manual</td>\n",
       "      <td>125</td>\n",
       "      <td>c_max</td>\n",
       "      <td>30000</td>\n",
       "      <td>8</td>\n",
       "      <td>petrol</td>\n",
       "      <td>ford</td>\n",
       "      <td>NaN</td>\n",
       "      <td>2016-04-04 00:00:00</td>\n",
       "      <td>0</td>\n",
       "      <td>94505</td>\n",
       "      <td>2016-04-04 23:42:13</td>\n",
       "    </tr>\n",
       "    <tr>\n",
       "      <th>9</th>\n",
       "      <td>2016-03-17 10:53:50</td>\n",
       "      <td>999</td>\n",
       "      <td>small</td>\n",
       "      <td>1998</td>\n",
       "      <td>manual</td>\n",
       "      <td>101</td>\n",
       "      <td>golf</td>\n",
       "      <td>150000</td>\n",
       "      <td>0</td>\n",
       "      <td>NaN</td>\n",
       "      <td>volkswagen</td>\n",
       "      <td>NaN</td>\n",
       "      <td>2016-03-17 00:00:00</td>\n",
       "      <td>0</td>\n",
       "      <td>27472</td>\n",
       "      <td>2016-03-31 17:17:06</td>\n",
       "    </tr>\n",
       "  </tbody>\n",
       "</table>\n",
       "</div>"
      ],
      "text/plain": [
       "           DateCrawled  Price  VehicleType  RegistrationYear Gearbox  Power  \\\n",
       "0  2016-03-24 11:52:17    480          NaN              1993  manual      0   \n",
       "1  2016-03-24 10:58:45  18300        coupe              2011  manual    190   \n",
       "2  2016-03-14 12:52:21   9800          suv              2004    auto    163   \n",
       "3  2016-03-17 16:54:04   1500        small              2001  manual     75   \n",
       "4  2016-03-31 17:25:20   3600        small              2008  manual     69   \n",
       "5  2016-04-04 17:36:23    650        sedan              1995  manual    102   \n",
       "6  2016-04-01 20:48:51   2200  convertible              2004  manual    109   \n",
       "7  2016-03-21 18:54:38      0        sedan              1980  manual     50   \n",
       "8  2016-04-04 23:42:13  14500          bus              2014  manual    125   \n",
       "9  2016-03-17 10:53:50    999        small              1998  manual    101   \n",
       "\n",
       "     Model  Kilometer  RegistrationMonth  FuelType       Brand Repaired  \\\n",
       "0     golf     150000                  0    petrol  volkswagen      NaN   \n",
       "1      NaN     125000                  5  gasoline        audi      yes   \n",
       "2    grand     125000                  8  gasoline        jeep      NaN   \n",
       "3     golf     150000                  6    petrol  volkswagen       no   \n",
       "4    fabia      90000                  7  gasoline       skoda       no   \n",
       "5      3er     150000                 10    petrol         bmw      yes   \n",
       "6  2_reihe     150000                  8    petrol     peugeot       no   \n",
       "7    other      40000                  7    petrol  volkswagen       no   \n",
       "8    c_max      30000                  8    petrol        ford      NaN   \n",
       "9     golf     150000                  0       NaN  volkswagen      NaN   \n",
       "\n",
       "           DateCreated  NumberOfPictures  PostalCode             LastSeen  \n",
       "0  2016-03-24 00:00:00                 0       70435  2016-04-07 03:16:57  \n",
       "1  2016-03-24 00:00:00                 0       66954  2016-04-07 01:46:50  \n",
       "2  2016-03-14 00:00:00                 0       90480  2016-04-05 12:47:46  \n",
       "3  2016-03-17 00:00:00                 0       91074  2016-03-17 17:40:17  \n",
       "4  2016-03-31 00:00:00                 0       60437  2016-04-06 10:17:21  \n",
       "5  2016-04-04 00:00:00                 0       33775  2016-04-06 19:17:07  \n",
       "6  2016-04-01 00:00:00                 0       67112  2016-04-05 18:18:39  \n",
       "7  2016-03-21 00:00:00                 0       19348  2016-03-25 16:47:58  \n",
       "8  2016-04-04 00:00:00                 0       94505  2016-04-04 23:42:13  \n",
       "9  2016-03-17 00:00:00                 0       27472  2016-03-31 17:17:06  "
      ]
     },
     "metadata": {},
     "output_type": "display_data"
    },
    {
     "name": "stdout",
     "output_type": "stream",
     "text": [
      "<class 'pandas.core.frame.DataFrame'>\n",
      "RangeIndex: 354369 entries, 0 to 354368\n",
      "Data columns (total 16 columns):\n",
      " #   Column             Non-Null Count   Dtype \n",
      "---  ------             --------------   ----- \n",
      " 0   DateCrawled        354369 non-null  object\n",
      " 1   Price              354369 non-null  int64 \n",
      " 2   VehicleType        316879 non-null  object\n",
      " 3   RegistrationYear   354369 non-null  int64 \n",
      " 4   Gearbox            334536 non-null  object\n",
      " 5   Power              354369 non-null  int64 \n",
      " 6   Model              334664 non-null  object\n",
      " 7   Kilometer          354369 non-null  int64 \n",
      " 8   RegistrationMonth  354369 non-null  int64 \n",
      " 9   FuelType           321474 non-null  object\n",
      " 10  Brand              354369 non-null  object\n",
      " 11  Repaired           283215 non-null  object\n",
      " 12  DateCreated        354369 non-null  object\n",
      " 13  NumberOfPictures   354369 non-null  int64 \n",
      " 14  PostalCode         354369 non-null  int64 \n",
      " 15  LastSeen           354369 non-null  object\n",
      "dtypes: int64(7), object(9)\n",
      "memory usage: 43.3+ MB\n"
     ]
    }
   ],
   "source": [
    "data_autos = view_and_get_data('/datasets/autos.csv')"
   ]
  },
  {
   "cell_type": "markdown",
   "metadata": {},
   "source": [
    "Попробуем использовать pandas-profiling, который уже переименовался и требует дополнительного подхода для построения отчета, но выглядит вполне внушительно."
   ]
  },
  {
   "cell_type": "code",
   "execution_count": null,
   "metadata": {},
   "outputs": [],
   "source": [
    "profile = ProfileReport(data_autos, title=\"Profiling Report\")\n",
    "profile"
   ]
  },
  {
   "cell_type": "markdown",
   "metadata": {},
   "source": [
    "Соотвествующая библиотека позволяет провести подробный анализ датафрейма и сделать выводы."
   ]
  },
  {
   "cell_type": "markdown",
   "metadata": {},
   "source": [
    "**Выводы:**    \n",
    "* Пропуски в ячейках порядка 3.2%. Для признака `VehicleType` пропусков порядка 11%. Для признака `Gearbox` порядка 6%. Для признака `Model` пропусков пордяка 6%. Для признака `FuelType` пропущенных значений порядка 9%. Для признака `Repaired` пропущенных значений уже 20%.;    \n",
    "* В признаке `Price` есть множество цен равных нулю, порядка 3%. Для признака `Power` уже около 11%. Для признака `RegistrationMonth` существуют минимальные значения равные нулю, а их общее количество порядка 11%.;     \n",
    "* Во рейме присутствуют 4 явных дубликата;    \n",
    "* Очень смущает год регистрации 9999, скорее всего это ошибка;    \n",
    "* Так же странно, что пробег в значительно степени выражается 150 000, скорее всего в данных было ограничение, что если пробег больше этого числа, то выбираем его;\n",
    "* По дате создания записей анализ с 2014 года по 2016 год;\n",
    "* В признаке `NumberOfPictures` все значения нули, скорее всего это новый признак, который добавили в БД недавно и еще не успели наполнить, либо изначально этого признака не было и теперь он учитывается только для новых объявлений."
   ]
  },
  {
   "cell_type": "markdown",
   "metadata": {},
   "source": [
    "### Отбор признаков для моделей"
   ]
  },
  {
   "cell_type": "markdown",
   "metadata": {},
   "source": [
    "Значимые для нашей модели:\n",
    "\n",
    "* `VehicleType` - тип автомобильного кузова - влияет на стоимость автомобиля как в большую, так и в меньшую сторону;\n",
    "* `RegistrationYear` - год регистрации автомобиля - чем более новый автомобиль, тем выше цена, если подразумевается именно как \"год выпуска\", а не \"год, когда последний владелец поставил авто на рег.учет\";\n",
    "* `Gearbox` - тип коробки передач - автоматическая коробка удорожает авто, поскольку её обслуживнаие, как правило, обходится дороже, но и есть свои удоства при использовании;\n",
    "* `Power` - мощность в лошадиных силах - влияет на цену;\n",
    "* `Model` - модель автомобиля - в зависимости от бренда, типа авто оказывает значительное влияние на цену;\n",
    "* `Kilometer` - пробег (км) - чем больше пробег, тем меньше надежность авто, выше вероятность поломок и соответсвенно ниже цена;\n",
    "* `FuelType` - тип топлива - в зависимости от того, какое топливо используется, будет так же влиять на конечную цену, примерно характеризовать конструкцию двигателя и его мощность;\n",
    "* `Brand` - марка автомобиля - Схоже с моделью авто, но упор на конкретный бренд, всё же услашв \"Ока\" или \"Бентли\" наше первое впечатление уже складывается(если мы, конечно, слышали про них);\n",
    "* `Repaired` - была машина в ремонте или нет - Если машина побывала в ДТП, то ее констукция уже видоизменена или может быть видоизменена, в зависимости от тяжести аварии может быть и значительно, следовательно надежность и качество ниже, как и цена."
   ]
  },
  {
   "cell_type": "markdown",
   "metadata": {},
   "source": [
    "На основании предыдущих выводов и отобранных признаков, имеет смысл создать новый датафрейм."
   ]
  },
  {
   "cell_type": "markdown",
   "metadata": {},
   "source": [
    "df_autos = data_autos[[\n",
    "    'VehicleType', 'RegistrationYear', 'Gearbox', 'Power',\n",
    "    'Model', 'Kilometer', 'FuelType', 'Brand', 'Repaired', 'Price'\n",
    "]]\n",
    "df_autos.info()"
   ]
  },
  {
   "cell_type": "markdown",
   "metadata": {},
   "source": [
    "<div class=\"alert alert-warning\">\n",
    "    <h2> Комментарий ревьюера <a class=\"tocSkip\"> </h2>\n",
    "    \n",
    "<b>Некоторые замечания и рекомендации⚠️:</b> \n",
    "\n",
    "Делая копию или срез какой-то таблицы, стоит использовать метод `copy()`: используя простое присвивание вида `a=b`, мы в переменную `a` помещаем не новый и самостоятельный объект в памяти, а всего лишь новую ссылку на объект в памяти, на который ссылается `b`. Как итог, внеся изменения в `a`, ты увидишь их и в `b`, и наоборот. Метод `copy()` позволяет создавать именно новые объекты в памяти."
   ]
  },
  {
   "cell_type": "markdown",
   "metadata": {},
   "source": [
    "<div class=\"alert alert-info\">\n",
    "<h2> Комментарий студента <a class=\"tocSkip\"> </h2>\n",
    "\n",
    "Принято, исправлено. Далее пригодился исходный датафрейм для определения даты выгрузки. Изначально изменял текущий для экономии памяти, считая, что в дальнейшем исходный не потребуется.\n",
    "</div>"
   ]
  },
  {
   "cell_type": "code",
   "execution_count": 5,
   "metadata": {},
   "outputs": [
    {
     "name": "stdout",
     "output_type": "stream",
     "text": [
      "<class 'pandas.core.frame.DataFrame'>\n",
      "RangeIndex: 354369 entries, 0 to 354368\n",
      "Data columns (total 10 columns):\n",
      " #   Column            Non-Null Count   Dtype \n",
      "---  ------            --------------   ----- \n",
      " 0   VehicleType       316879 non-null  object\n",
      " 1   RegistrationYear  354369 non-null  int64 \n",
      " 2   Gearbox           334536 non-null  object\n",
      " 3   Power             354369 non-null  int64 \n",
      " 4   Model             334664 non-null  object\n",
      " 5   Kilometer         354369 non-null  int64 \n",
      " 6   FuelType          321474 non-null  object\n",
      " 7   Brand             354369 non-null  object\n",
      " 8   Repaired          283215 non-null  object\n",
      " 9   Price             354369 non-null  int64 \n",
      "dtypes: int64(4), object(6)\n",
      "memory usage: 27.0+ MB\n"
     ]
    }
   ],
   "source": [
    "# Чтобы далее не переименовывать переменные сохраняю оригинал в отдельной переменной\n",
    "df_autos_original = data_autos.copy()\n",
    "\n",
    "df_autos = data_autos[[\n",
    "    'VehicleType', 'RegistrationYear', 'Gearbox', 'Power',\n",
    "    'Model', 'Kilometer', 'FuelType', 'Brand', 'Repaired', 'Price'\n",
    "]]\n",
    "df_autos.info()"
   ]
  },
  {
   "cell_type": "markdown",
   "metadata": {},
   "source": [
    "Поскольку мы сформировали новый фрейм, то теперь уже можем избавиться от дубликатов."
   ]
  },
  {
   "cell_type": "code",
   "execution_count": 6,
   "metadata": {},
   "outputs": [
    {
     "name": "stdout",
     "output_type": "stream",
     "text": [
      "Количество явных дубликатов: 45040\n"
     ]
    }
   ],
   "source": [
    "print(\"Количество явных дубликатов:\", df_autos.duplicated().sum())"
   ]
  },
  {
   "cell_type": "code",
   "execution_count": 7,
   "metadata": {},
   "outputs": [
    {
     "name": "stdout",
     "output_type": "stream",
     "text": [
      "Количество явных дубликатов: 0\n"
     ]
    }
   ],
   "source": [
    "df_autos = df_autos.drop_duplicates()\n",
    "print(\"Количество явных дубликатов:\", df_autos.duplicated().sum())"
   ]
  },
  {
   "cell_type": "markdown",
   "metadata": {},
   "source": [
    "Теперь необходимо определиться с тем, как и чем заполнить пропуски."
   ]
  },
  {
   "cell_type": "code",
   "execution_count": 8,
   "metadata": {},
   "outputs": [
    {
     "data": {
      "text/html": [
       "<style  type=\"text/css\" >\n",
       "#T_b8566_row0_col0{\n",
       "            background-color:  #8976ff;\n",
       "            color:  #000000;\n",
       "        }#T_b8566_row1_col0,#T_b8566_row3_col0,#T_b8566_row5_col0,#T_b8566_row7_col0,#T_b8566_row9_col0{\n",
       "            background-color:  #00ffff;\n",
       "            color:  #000000;\n",
       "        }#T_b8566_row2_col0{\n",
       "            background-color:  #44bbff;\n",
       "            color:  #000000;\n",
       "        }#T_b8566_row4_col0{\n",
       "            background-color:  #48b7ff;\n",
       "            color:  #000000;\n",
       "        }#T_b8566_row6_col0{\n",
       "            background-color:  #7986ff;\n",
       "            color:  #000000;\n",
       "        }#T_b8566_row8_col0{\n",
       "            background-color:  #ff00ff;\n",
       "            color:  #f1f1f1;\n",
       "        }</style><table id=\"T_b8566_\" ><thead>    <tr>        <th class=\"blank level0\" ></th>        <th class=\"col_heading level0 col0\" >0</th>    </tr></thead><tbody>\n",
       "                <tr>\n",
       "                        <th id=\"T_b8566_level0_row0\" class=\"row_heading level0 row0\" >VehicleType</th>\n",
       "                        <td id=\"T_b8566_row0_col0\" class=\"data row0 col0\" >11.200000</td>\n",
       "            </tr>\n",
       "            <tr>\n",
       "                        <th id=\"T_b8566_level0_row1\" class=\"row_heading level0 row1\" >RegistrationYear</th>\n",
       "                        <td id=\"T_b8566_row1_col0\" class=\"data row1 col0\" >0.000000</td>\n",
       "            </tr>\n",
       "            <tr>\n",
       "                        <th id=\"T_b8566_level0_row2\" class=\"row_heading level0 row2\" >Gearbox</th>\n",
       "                        <td id=\"T_b8566_row2_col0\" class=\"data row2 col0\" >5.600000</td>\n",
       "            </tr>\n",
       "            <tr>\n",
       "                        <th id=\"T_b8566_level0_row3\" class=\"row_heading level0 row3\" >Power</th>\n",
       "                        <td id=\"T_b8566_row3_col0\" class=\"data row3 col0\" >0.000000</td>\n",
       "            </tr>\n",
       "            <tr>\n",
       "                        <th id=\"T_b8566_level0_row4\" class=\"row_heading level0 row4\" >Model</th>\n",
       "                        <td id=\"T_b8566_row4_col0\" class=\"data row4 col0\" >5.900000</td>\n",
       "            </tr>\n",
       "            <tr>\n",
       "                        <th id=\"T_b8566_level0_row5\" class=\"row_heading level0 row5\" >Kilometer</th>\n",
       "                        <td id=\"T_b8566_row5_col0\" class=\"data row5 col0\" >0.000000</td>\n",
       "            </tr>\n",
       "            <tr>\n",
       "                        <th id=\"T_b8566_level0_row6\" class=\"row_heading level0 row6\" >FuelType</th>\n",
       "                        <td id=\"T_b8566_row6_col0\" class=\"data row6 col0\" >9.900000</td>\n",
       "            </tr>\n",
       "            <tr>\n",
       "                        <th id=\"T_b8566_level0_row7\" class=\"row_heading level0 row7\" >Brand</th>\n",
       "                        <td id=\"T_b8566_row7_col0\" class=\"data row7 col0\" >0.000000</td>\n",
       "            </tr>\n",
       "            <tr>\n",
       "                        <th id=\"T_b8566_level0_row8\" class=\"row_heading level0 row8\" >Repaired</th>\n",
       "                        <td id=\"T_b8566_row8_col0\" class=\"data row8 col0\" >20.900000</td>\n",
       "            </tr>\n",
       "            <tr>\n",
       "                        <th id=\"T_b8566_level0_row9\" class=\"row_heading level0 row9\" >Price</th>\n",
       "                        <td id=\"T_b8566_row9_col0\" class=\"data row9 col0\" >0.000000</td>\n",
       "            </tr>\n",
       "    </tbody></table>"
      ],
      "text/plain": [
       "<pandas.io.formats.style.Styler at 0x7fd9815bca90>"
      ]
     },
     "execution_count": 8,
     "metadata": {},
     "output_type": "execute_result"
    }
   ],
   "source": [
    "pd.DataFrame(round(df_autos.isna().mean()*100,1)).style.background_gradient('cool')"
   ]
  },
  {
   "cell_type": "markdown",
   "metadata": {},
   "source": [
    "Судя по доле пропущенных значений, исключить какие-то пропуски нельзя из-за довольно значительного их количества. Попробуем заполнить по логике и наиболее подходящим значениям.    \n",
    "* `VehicleType`, `Gearbox`, `Model` заменил None на \"неизвестно\";\n",
    "* `FuelType` заполнил как наиболее часто встречающееся для данной модели авто;\n",
    "* `Repaired` была ли машина в ремонте для пустых значений установил - \"нет\", буду считать, что за машиной следили и ухаживали."
   ]
  },
  {
   "cell_type": "markdown",
   "metadata": {},
   "source": [
    "<div class=\"alert alert-warning\">\n",
    "    <h2> Комментарий ревьюера <a class=\"tocSkip\"> </h2>\n",
    "    \n",
    "<b>Некоторые замечания и рекомендации⚠️:</b> \n",
    "\n",
    "В целом любая импутация пропусков сопряжена с риском внесения в модель ошибок, а удаление - с потерей обучающих примеров. При этом в случае удаления мы теряем часть бизнес-сценариев, так как ситуации, когда клиент не указывает какие-то параметры автомобиля - нередкость, и в идеале модель должна уметь обрабатывать и их.\n",
    "        \n",
    "При работе с категориальными признаками стоит использовать заглушки в виде новых значений категорий для заполнения пропусков: это позволит как сохранить наблюдения вместо их удаления, так и избавит нас от возможных ошибок при эмпирическом импутировании.\n",
    "        "
   ]
  },
  {
   "cell_type": "markdown",
   "metadata": {},
   "source": [
    "<div class=\"alert alert-info\">\n",
    "<h2> Комментарий студента <a class=\"tocSkip\"> </h2>\n",
    "\n",
    "Не особо понял этот коммент. Возможно, это отсылка к SimpleImputer? Если предположить, что далее появятся новые признаки или как-то расширятся исходные, то вместо ручного подхода лучше взять заранее автоматически спланированный(типа для пропусков None или какое-то конкретное значения во всех полях)? Идея в этом?\n",
    "</div>"
   ]
  },
  {
   "cell_type": "markdown",
   "metadata": {},
   "source": [
    "<div class=\"alert alert-warning\">\n",
    "    <h2> Комментарий ревьюера v.2 <a class=\"tocSkip\"> </h2>\n",
    "    \n",
    "<b>Некоторые замечания и рекомендации⚠️:</b> Это касается правил типа `заполним как ручная, поскольку, если тип коробки не указали явно, то можно предположить, что в этом случае она наиболее распространена` - если мы явно не знаем, лучше заполнить заглушкой, чем придумывать правила для восстановления пропусков."
   ]
  },
  {
   "cell_type": "markdown",
   "metadata": {},
   "source": [
    "<div class=\"alert alert-info\">\n",
    "<h2> Комментарий студента v.2<a class=\"tocSkip\"> </h2>\n",
    "\n",
    "Ааа, понял про что ты. Спасибо!\n",
    "</div>"
   ]
  },
  {
   "cell_type": "markdown",
   "metadata": {},
   "source": [
    "Сначала сразу же скорректируем данные `Price` по нулевой цене, как целевому признаку."
   ]
  },
  {
   "cell_type": "markdown",
   "metadata": {},
   "source": [
    "<div class=\"alert alert-warning\">\n",
    "    <h2> Комментарий ревьюера <a class=\"tocSkip\"> </h2>\n",
    "    \n",
    "<b>Некоторые замечания и рекомендации⚠️:</b> \n",
    "\n",
    "Может быть полезно также удалить неадекватно низкие значения цен: в пределах цен до 500-1000 евро вряд ли можно купить полноценный автомобиль."
   ]
  },
  {
   "cell_type": "markdown",
   "metadata": {},
   "source": [
    "<div class=\"alert alert-info\">\n",
    "<h2> Комментарий студента <a class=\"tocSkip\"> </h2>\n",
    "\n",
    "Тоже так подумал, но потом по мощности решил, вдруг какие-то старые модели. Думаю, что вполне правильно удалить спокойно авто до 500 евро.\n",
    "</div>"
   ]
  },
  {
   "cell_type": "code",
   "execution_count": 9,
   "metadata": {},
   "outputs": [],
   "source": [
    "df_autos = df_autos[df_autos['Price'] >= 500]"
   ]
  },
  {
   "cell_type": "markdown",
   "metadata": {},
   "source": [
    "Затем вспомним, про некорректные годы регистрации `RegistrationYear`."
   ]
  },
  {
   "cell_type": "markdown",
   "metadata": {},
   "source": [
    "<div class=\"alert alert-block alert-danger\">\n",
    "<h2> Комментарий ревьюера <a class=\"tocSkip\"></h2>\n",
    "\n",
    "    \n",
    "<b>На доработку❌:</b>\n",
    "\n",
    "По верхней границе год регистрации нужно синхронизировать с датой выгрузки данных из базы: в таблице не может быть объявлений моложе даты выгрузки, иначе это были бы просто данные из будущего."
   ]
  },
  {
   "cell_type": "markdown",
   "metadata": {},
   "source": [
    "<div class=\"alert alert-info\">\n",
    "<h2> Комментарий студента <a class=\"tocSkip\"> </h2>\n",
    "\n",
    "А вот и пригодился исходный датафрейм. Понятно, зачем нужна была копия)\n",
    "</div>"
   ]
  },
  {
   "cell_type": "code",
   "execution_count": 10,
   "metadata": {},
   "outputs": [
    {
     "data": {
      "text/plain": [
       "'2016-04-07 14:36:58'"
      ]
     },
     "execution_count": 10,
     "metadata": {},
     "output_type": "execute_result"
    }
   ],
   "source": [
    "df_autos_original['DateCrawled'].max()"
   ]
  },
  {
   "cell_type": "code",
   "execution_count": 11,
   "metadata": {},
   "outputs": [],
   "source": [
    "df_autos = df_autos[(df_autos['RegistrationYear'] >= 1900) & (df_autos['RegistrationYear'] < 2017)]"
   ]
  },
  {
   "cell_type": "markdown",
   "metadata": {},
   "source": [
    "Не забываем про мощность `Power`. Сомнительно, что продаются авто с мощностью более 1500, это довольно дорогие модели и с мощностью в ноль. Поскольку могут быть какие-то раритетные авто, то будем учитывать и низкие мощности."
   ]
  },
  {
   "cell_type": "markdown",
   "metadata": {},
   "source": [
    "<div class=\"alert alert-warning\">\n",
    "    <h2> Комментарий ревьюера <a class=\"tocSkip\"> </h2>\n",
    "    \n",
    "<b>Некоторые замечания и рекомендации⚠️:</b> \n",
    "\n",
    "Может быть полезно также удалить околонулевые значения мощности - некоторые значения этого признака в таблице напоминают, скорее, телегу с конём, чем автомобиль:)\n",
    "        \n",
    "Также можно было бы отсечь больше значений по верхней границе - настолько мощные значения встречаются очень редко."
   ]
  },
  {
   "cell_type": "markdown",
   "metadata": {},
   "source": [
    "<div class=\"alert alert-info\">\n",
    "<h2> Комментарий студента <a class=\"tocSkip\"> </h2>\n",
    "\n",
    "Спасибо, пока еще не до конца понял баланс между тем, когда удаление помешает модельке лучше обучиться и когда можно удалять.\n",
    "</div>"
   ]
  },
  {
   "cell_type": "markdown",
   "metadata": {},
   "source": [
    "<div class=\"alert alert-success\">\n",
    "<h2> Комментарий ревьюера v.2 <a class=\"tocSkip\"> </h2>\n",
    "\n",
    "<b>Все отлично!👍</b> Со временем и опытом придёт:)"
   ]
  },
  {
   "cell_type": "code",
   "execution_count": 12,
   "metadata": {},
   "outputs": [
    {
     "data": {
      "text/plain": [
       "count    265059.000000\n",
       "mean        117.048548\n",
       "std         198.468854\n",
       "min           0.000000\n",
       "25%          75.000000\n",
       "50%         109.000000\n",
       "75%         150.000000\n",
       "max       20000.000000\n",
       "Name: Power, dtype: float64"
      ]
     },
     "execution_count": 12,
     "metadata": {},
     "output_type": "execute_result"
    },
    {
     "data": {
      "image/png": "[encoded data removed]",
      "text/plain": [
       "<Figure size 864x648 with 1 Axes>"
      ]
     },
     "metadata": {
      "needs_background": "light"
     },
     "output_type": "display_data"
    }
   ],
   "source": [
    "df_autos['Power'].hist(bins=100, figsize=(12,9))\n",
    "df_autos['Power'].describe()"
   ]
  },
  {
   "cell_type": "code",
   "execution_count": 13,
   "metadata": {},
   "outputs": [],
   "source": [
    "df_autos = df_autos[(df_autos['Power'] > 50) & (df_autos['Power'] <= 300)]"
   ]
  },
  {
   "cell_type": "markdown",
   "metadata": {},
   "source": [
    "Заполним пропуски наиболее логичными значениями."
   ]
  },
  {
   "cell_type": "code",
   "execution_count": 14,
   "metadata": {},
   "outputs": [
    {
     "data": {
      "text/html": [
       "<style  type=\"text/css\" >\n",
       "#T_8db50_row0_col0,#T_8db50_row1_col0,#T_8db50_row2_col0,#T_8db50_row3_col0,#T_8db50_row4_col0,#T_8db50_row5_col0,#T_8db50_row7_col0,#T_8db50_row8_col0,#T_8db50_row9_col0{\n",
       "            background-color:  #00ffff;\n",
       "            color:  #000000;\n",
       "        }#T_8db50_row6_col0{\n",
       "            background-color:  #ff00ff;\n",
       "            color:  #f1f1f1;\n",
       "        }</style><table id=\"T_8db50_\" ><thead>    <tr>        <th class=\"blank level0\" ></th>        <th class=\"col_heading level0 col0\" >0</th>    </tr></thead><tbody>\n",
       "                <tr>\n",
       "                        <th id=\"T_8db50_level0_row0\" class=\"row_heading level0 row0\" >VehicleType</th>\n",
       "                        <td id=\"T_8db50_row0_col0\" class=\"data row0 col0\" >0.000000</td>\n",
       "            </tr>\n",
       "            <tr>\n",
       "                        <th id=\"T_8db50_level0_row1\" class=\"row_heading level0 row1\" >RegistrationYear</th>\n",
       "                        <td id=\"T_8db50_row1_col0\" class=\"data row1 col0\" >0.000000</td>\n",
       "            </tr>\n",
       "            <tr>\n",
       "                        <th id=\"T_8db50_level0_row2\" class=\"row_heading level0 row2\" >Gearbox</th>\n",
       "                        <td id=\"T_8db50_row2_col0\" class=\"data row2 col0\" >0.000000</td>\n",
       "            </tr>\n",
       "            <tr>\n",
       "                        <th id=\"T_8db50_level0_row3\" class=\"row_heading level0 row3\" >Power</th>\n",
       "                        <td id=\"T_8db50_row3_col0\" class=\"data row3 col0\" >0.000000</td>\n",
       "            </tr>\n",
       "            <tr>\n",
       "                        <th id=\"T_8db50_level0_row4\" class=\"row_heading level0 row4\" >Model</th>\n",
       "                        <td id=\"T_8db50_row4_col0\" class=\"data row4 col0\" >0.000000</td>\n",
       "            </tr>\n",
       "            <tr>\n",
       "                        <th id=\"T_8db50_level0_row5\" class=\"row_heading level0 row5\" >Kilometer</th>\n",
       "                        <td id=\"T_8db50_row5_col0\" class=\"data row5 col0\" >0.000000</td>\n",
       "            </tr>\n",
       "            <tr>\n",
       "                        <th id=\"T_8db50_level0_row6\" class=\"row_heading level0 row6\" >FuelType</th>\n",
       "                        <td id=\"T_8db50_row6_col0\" class=\"data row6 col0\" >5.000000</td>\n",
       "            </tr>\n",
       "            <tr>\n",
       "                        <th id=\"T_8db50_level0_row7\" class=\"row_heading level0 row7\" >Brand</th>\n",
       "                        <td id=\"T_8db50_row7_col0\" class=\"data row7 col0\" >0.000000</td>\n",
       "            </tr>\n",
       "            <tr>\n",
       "                        <th id=\"T_8db50_level0_row8\" class=\"row_heading level0 row8\" >Repaired</th>\n",
       "                        <td id=\"T_8db50_row8_col0\" class=\"data row8 col0\" >0.000000</td>\n",
       "            </tr>\n",
       "            <tr>\n",
       "                        <th id=\"T_8db50_level0_row9\" class=\"row_heading level0 row9\" >Price</th>\n",
       "                        <td id=\"T_8db50_row9_col0\" class=\"data row9 col0\" >0.000000</td>\n",
       "            </tr>\n",
       "    </tbody></table>"
      ],
      "text/plain": [
       "<pandas.io.formats.style.Styler at 0x7fd981572c40>"
      ]
     },
     "execution_count": 14,
     "metadata": {},
     "output_type": "execute_result"
    }
   ],
   "source": [
    "df_autos.fillna({'Gearbox': 'unknown', 'Repaired': 'no', 'Model': 'unknown', 'VehicleType': 'unknown'},\n",
    "                          inplace=True)\n",
    "pd.DataFrame(round(df_autos.isna().mean()*100,1)).style.background_gradient('cool')"
   ]
  },
  {
   "cell_type": "markdown",
   "metadata": {},
   "source": [
    "Остается заполнить тип топлива."
   ]
  },
  {
   "cell_type": "code",
   "execution_count": 15,
   "metadata": {},
   "outputs": [
    {
     "data": {
      "text/html": [
       "<style  type=\"text/css\" >\n",
       "#T_09c6c_row0_col0,#T_09c6c_row1_col0,#T_09c6c_row2_col0,#T_09c6c_row3_col0,#T_09c6c_row4_col0,#T_09c6c_row5_col0,#T_09c6c_row6_col0,#T_09c6c_row7_col0,#T_09c6c_row8_col0,#T_09c6c_row9_col0{\n",
       "            background-color:  #00ffff;\n",
       "            color:  #000000;\n",
       "        }</style><table id=\"T_09c6c_\" ><thead>    <tr>        <th class=\"blank level0\" ></th>        <th class=\"col_heading level0 col0\" >0</th>    </tr></thead><tbody>\n",
       "                <tr>\n",
       "                        <th id=\"T_09c6c_level0_row0\" class=\"row_heading level0 row0\" >VehicleType</th>\n",
       "                        <td id=\"T_09c6c_row0_col0\" class=\"data row0 col0\" >0.000000</td>\n",
       "            </tr>\n",
       "            <tr>\n",
       "                        <th id=\"T_09c6c_level0_row1\" class=\"row_heading level0 row1\" >RegistrationYear</th>\n",
       "                        <td id=\"T_09c6c_row1_col0\" class=\"data row1 col0\" >0.000000</td>\n",
       "            </tr>\n",
       "            <tr>\n",
       "                        <th id=\"T_09c6c_level0_row2\" class=\"row_heading level0 row2\" >Gearbox</th>\n",
       "                        <td id=\"T_09c6c_row2_col0\" class=\"data row2 col0\" >0.000000</td>\n",
       "            </tr>\n",
       "            <tr>\n",
       "                        <th id=\"T_09c6c_level0_row3\" class=\"row_heading level0 row3\" >Power</th>\n",
       "                        <td id=\"T_09c6c_row3_col0\" class=\"data row3 col0\" >0.000000</td>\n",
       "            </tr>\n",
       "            <tr>\n",
       "                        <th id=\"T_09c6c_level0_row4\" class=\"row_heading level0 row4\" >Model</th>\n",
       "                        <td id=\"T_09c6c_row4_col0\" class=\"data row4 col0\" >0.000000</td>\n",
       "            </tr>\n",
       "            <tr>\n",
       "                        <th id=\"T_09c6c_level0_row5\" class=\"row_heading level0 row5\" >Kilometer</th>\n",
       "                        <td id=\"T_09c6c_row5_col0\" class=\"data row5 col0\" >0.000000</td>\n",
       "            </tr>\n",
       "            <tr>\n",
       "                        <th id=\"T_09c6c_level0_row6\" class=\"row_heading level0 row6\" >FuelType</th>\n",
       "                        <td id=\"T_09c6c_row6_col0\" class=\"data row6 col0\" >0.000000</td>\n",
       "            </tr>\n",
       "            <tr>\n",
       "                        <th id=\"T_09c6c_level0_row7\" class=\"row_heading level0 row7\" >Brand</th>\n",
       "                        <td id=\"T_09c6c_row7_col0\" class=\"data row7 col0\" >0.000000</td>\n",
       "            </tr>\n",
       "            <tr>\n",
       "                        <th id=\"T_09c6c_level0_row8\" class=\"row_heading level0 row8\" >Repaired</th>\n",
       "                        <td id=\"T_09c6c_row8_col0\" class=\"data row8 col0\" >0.000000</td>\n",
       "            </tr>\n",
       "            <tr>\n",
       "                        <th id=\"T_09c6c_level0_row9\" class=\"row_heading level0 row9\" >Price</th>\n",
       "                        <td id=\"T_09c6c_row9_col0\" class=\"data row9 col0\" >0.000000</td>\n",
       "            </tr>\n",
       "    </tbody></table>"
      ],
      "text/plain": [
       "<pandas.io.formats.style.Styler at 0x7fd97f32b670>"
      ]
     },
     "execution_count": 15,
     "metadata": {},
     "output_type": "execute_result"
    }
   ],
   "source": [
    "df_autos['FuelType'] = df_autos['FuelType'].fillna(\n",
    "    df_autos.groupby('Model')['FuelType'].transform(lambda x: x.value_counts().index[0]))\n",
    "pd.DataFrame(round(df_autos.isna().mean()*100,1)).style.background_gradient('cool')"
   ]
  },
  {
   "cell_type": "code",
   "execution_count": null,
   "metadata": {},
   "outputs": [],
   "source": [
    "model_profile = ProfileReport(df_autos, title=\"Profiling Report before modelling\")\n",
    "model_profile"
   ]
  },
  {
   "cell_type": "markdown",
   "metadata": {},
   "source": [
    "**Вывод:**    \n",
    "* Данные проанализированы;\n",
    "* Заполнены пропуски;\n",
    "* Убраны дубликаты;\n",
    "* Отобраны наиболее критичные признаки для построения моделей;\n",
    "* Обработаны аналомалии, выбросы;\n",
    "* Данные подготовлены к этапу моделирования."
   ]
  },
  {
   "cell_type": "markdown",
   "metadata": {},
   "source": [
    "## Обучение моделей"
   ]
  },
  {
   "cell_type": "markdown",
   "metadata": {},
   "source": [
    "По заданию обязательно требуется использовать LightGBM, и как минимум одну модель — не бустинг. Возьмём стандартно LinearRegression. Логику данного проекта я вообще не понял, потому что на бустинге завалили просто формулами и материал подан так, словно я не изучаю бустинг, а просто вспоминаю, что это. Понял ли я что-то? Абсолютно нет. Прям как на уроке геометрии - формул давали кучу, а практическое применение в задачах сразу в процессе, без объяснения смысла и вообще зачем. Окей, делим данные на порции, вроде бы потом усредняем и получаем более точные предсказания. Хорошо, а какие прочие модели использовать: лучше лес? Может SVC? С кем обычно конкурирует бустинг на практике? Когда мы решаем, что \"ну всё...дальше только бустинг.\" Или мы от скуки \"а почему бы не использовать бустинг?..хм, или лучше заказать пиццу?\" И я как-то пропустил использовании функции dot и операции с векторами в последнее время, вроде пару месяцев назад было. Очень сырая теория. У меня не появилось даже идеи о том, для каких моделей и в каких ситуациях бустинг лучше использовать, но если мне нужны будут формулы без закрепления, то можно будет полистать этот спринт. Поэтому идем по минималке: требования заказчика и по классике линейная регрессия. Я бы сказал окей, я что-то узнал, когда нужно будет, то разберусь. Скорее всего позже просто посмотрю видосы и статьи на тему бустинга и его применения. Если сочтете, что нужно больше моделей и какие-то обязательно, то не вопрос - поправлю после ревью.\n",
    "    \n",
    "Для начала кодируем и масштабируем данные. "
   ]
  },
  {
   "cell_type": "markdown",
   "metadata": {},
   "source": [
    "### Масштабирование и кодирование признаков"
   ]
  },
  {
   "cell_type": "code",
   "execution_count": 16,
   "metadata": {},
   "outputs": [
    {
     "name": "stdout",
     "output_type": "stream",
     "text": [
      "(139848, 9)\n",
      "(93232, 9)\n",
      "(139848,)\n",
      "(93232,)\n"
     ]
    }
   ],
   "source": [
    "def year_in_category(year):\n",
    "    \"\"\"Возвращает категорию вместо года.\"\"\"\n",
    "    if year < 2000:\n",
    "        return 'до 2000'\n",
    "    if year < 2010:\n",
    "        return 'до 2010'\n",
    "    return 'после 2010'\n",
    "\n",
    "\n",
    "RANDOM_STATE=4221\n",
    "TEST_SIZE=0.40\n",
    "\n",
    "# После ревью переводим два признака в категориальные\n",
    "df_autos['Kilometer_category'] = df_autos['Kilometer'].apply(\n",
    "    lambda x: 'менее 150 тыс.' if x < 150000 else 'более 150 тыс')\n",
    "df_autos['RegistrationYear_category'] = df_autos['RegistrationYear'].apply(\n",
    "    year_in_category)\n",
    "\n",
    "\n",
    "features = df_autos.drop(['Price', 'Kilometer', 'RegistrationYear'], axis=1)\n",
    "target = df_autos['Price']\n",
    "\n",
    "# Разбиваем на группы\n",
    "X_train, X_test, y_train, y_test = train_test_split(\n",
    "            features,\n",
    "            target,\n",
    "            random_state=RANDOM_STATE,\n",
    "            test_size=TEST_SIZE\n",
    "        )\n",
    "#X_test, X_valid, y_test, y_valid = train_test_split(\n",
    "#            X_test,\n",
    "#            y_test,\n",
    "#            random_state=RANDOM_STATE,\n",
    "#            test_size=0.5\n",
    "#        )\n",
    "print(X_train.shape, X_test.shape, y_train.shape, y_test.shape, sep='\\n')  # X_valid.shape,y_valid.shape,"
   ]
  },
  {
   "cell_type": "markdown",
   "metadata": {},
   "source": [
    "Определяем категориальные и количественные признаки"
   ]
  },
  {
   "cell_type": "code",
   "execution_count": 17,
   "metadata": {},
   "outputs": [
    {
     "name": "stdout",
     "output_type": "stream",
     "text": [
      "cat_col_names = ['VehicleType', 'Gearbox', 'Model', 'FuelType', 'Brand', 'Repaired', 'Kilometer_category', 'RegistrationYear_category']\n",
      "num_col_names = ['Power']\n"
     ]
    }
   ],
   "source": [
    "cat_col_names = features.select_dtypes(['object']).columns.to_list()\n",
    "print('cat_col_names =', cat_col_names)\n",
    "num_col_names = features.select_dtypes(exclude=['object']).columns.to_list()\n",
    "print('num_col_names =', num_col_names)"
   ]
  },
  {
   "cell_type": "code",
   "execution_count": 18,
   "metadata": {},
   "outputs": [
    {
     "data": {
      "text/html": [
       "<div>\n",
       "<style scoped>\n",
       "    .dataframe tbody tr th:only-of-type {\n",
       "        vertical-align: middle;\n",
       "    }\n",
       "\n",
       "    .dataframe tbody tr th {\n",
       "        vertical-align: top;\n",
       "    }\n",
       "\n",
       "    .dataframe thead th {\n",
       "        text-align: right;\n",
       "    }\n",
       "</style>\n",
       "<table border=\"1\" class=\"dataframe\">\n",
       "  <thead>\n",
       "    <tr style=\"text-align: right;\">\n",
       "      <th></th>\n",
       "      <th>VehicleType</th>\n",
       "      <th>RegistrationYear</th>\n",
       "      <th>Gearbox</th>\n",
       "      <th>Power</th>\n",
       "      <th>Model</th>\n",
       "      <th>Kilometer</th>\n",
       "      <th>FuelType</th>\n",
       "      <th>Brand</th>\n",
       "      <th>Repaired</th>\n",
       "      <th>Price</th>\n",
       "      <th>Kilometer_category</th>\n",
       "      <th>RegistrationYear_category</th>\n",
       "    </tr>\n",
       "  </thead>\n",
       "  <tbody>\n",
       "    <tr>\n",
       "      <th>1</th>\n",
       "      <td>coupe</td>\n",
       "      <td>2011</td>\n",
       "      <td>manual</td>\n",
       "      <td>190</td>\n",
       "      <td>unknown</td>\n",
       "      <td>125000</td>\n",
       "      <td>gasoline</td>\n",
       "      <td>audi</td>\n",
       "      <td>yes</td>\n",
       "      <td>18300</td>\n",
       "      <td>менее 150 тыс.</td>\n",
       "      <td>после 2010</td>\n",
       "    </tr>\n",
       "    <tr>\n",
       "      <th>2</th>\n",
       "      <td>suv</td>\n",
       "      <td>2004</td>\n",
       "      <td>auto</td>\n",
       "      <td>163</td>\n",
       "      <td>grand</td>\n",
       "      <td>125000</td>\n",
       "      <td>gasoline</td>\n",
       "      <td>jeep</td>\n",
       "      <td>no</td>\n",
       "      <td>9800</td>\n",
       "      <td>менее 150 тыс.</td>\n",
       "      <td>до 2010</td>\n",
       "    </tr>\n",
       "    <tr>\n",
       "      <th>3</th>\n",
       "      <td>small</td>\n",
       "      <td>2001</td>\n",
       "      <td>manual</td>\n",
       "      <td>75</td>\n",
       "      <td>golf</td>\n",
       "      <td>150000</td>\n",
       "      <td>petrol</td>\n",
       "      <td>volkswagen</td>\n",
       "      <td>no</td>\n",
       "      <td>1500</td>\n",
       "      <td>более 150 тыс</td>\n",
       "      <td>до 2010</td>\n",
       "    </tr>\n",
       "    <tr>\n",
       "      <th>4</th>\n",
       "      <td>small</td>\n",
       "      <td>2008</td>\n",
       "      <td>manual</td>\n",
       "      <td>69</td>\n",
       "      <td>fabia</td>\n",
       "      <td>90000</td>\n",
       "      <td>gasoline</td>\n",
       "      <td>skoda</td>\n",
       "      <td>no</td>\n",
       "      <td>3600</td>\n",
       "      <td>менее 150 тыс.</td>\n",
       "      <td>до 2010</td>\n",
       "    </tr>\n",
       "    <tr>\n",
       "      <th>5</th>\n",
       "      <td>sedan</td>\n",
       "      <td>1995</td>\n",
       "      <td>manual</td>\n",
       "      <td>102</td>\n",
       "      <td>3er</td>\n",
       "      <td>150000</td>\n",
       "      <td>petrol</td>\n",
       "      <td>bmw</td>\n",
       "      <td>yes</td>\n",
       "      <td>650</td>\n",
       "      <td>более 150 тыс</td>\n",
       "      <td>до 2000</td>\n",
       "    </tr>\n",
       "  </tbody>\n",
       "</table>\n",
       "</div>"
      ],
      "text/plain": [
       "  VehicleType  RegistrationYear Gearbox  Power    Model  Kilometer  FuelType  \\\n",
       "1       coupe              2011  manual    190  unknown     125000  gasoline   \n",
       "2         suv              2004    auto    163    grand     125000  gasoline   \n",
       "3       small              2001  manual     75     golf     150000    petrol   \n",
       "4       small              2008  manual     69    fabia      90000  gasoline   \n",
       "5       sedan              1995  manual    102      3er     150000    petrol   \n",
       "\n",
       "        Brand Repaired  Price Kilometer_category RegistrationYear_category  \n",
       "1        audi      yes  18300     менее 150 тыс.                после 2010  \n",
       "2        jeep       no   9800     менее 150 тыс.                   до 2010  \n",
       "3  volkswagen       no   1500      более 150 тыс                   до 2010  \n",
       "4       skoda       no   3600     менее 150 тыс.                   до 2010  \n",
       "5         bmw      yes    650      более 150 тыс                   до 2000  "
      ]
     },
     "execution_count": 18,
     "metadata": {},
     "output_type": "execute_result"
    }
   ],
   "source": [
    "df_autos.head()"
   ]
  },
  {
   "cell_type": "markdown",
   "metadata": {},
   "source": [
    "<div class=\"alert alert-warning\">\n",
    "    <h2> Комментарий ревьюера <a class=\"tocSkip\"> </h2>\n",
    "    \n",
    "<b>Некоторые замечания и рекомендации⚠️:</b> \n",
    "`Kilometer` и `RegistrationYear` имеет распределение категориального признака, так как задано небольшое количество уникальных значений - с ним также стоит работать как с категорией."
   ]
  },
  {
   "cell_type": "markdown",
   "metadata": {},
   "source": [
    "<div class=\"alert alert-info\">\n",
    "<h2> Комментарий студента <a class=\"tocSkip\"> </h2>\n",
    "\n",
    "Принято, тогда выделю на их основе категориальные признаки. Добавил категориальные признаки и убрал из фрейма исходные числовые. \n",
    "</div>"
   ]
  },
  {
   "cell_type": "markdown",
   "metadata": {},
   "source": [
    "Масштабирует числовые признаки, и кодирует категориальные."
   ]
  },
  {
   "cell_type": "markdown",
   "metadata": {},
   "source": [
    "<div class=\"alert alert-warning\">\n",
    "    <h2> Комментарий ревьюера <a class=\"tocSkip\"> </h2>\n",
    "    \n",
    "<b>Некоторые замечания и рекомендации⚠️:</b>\n",
    "\n",
    "Для древесных моделей и моделей на бустингах не стоит использовать `OneHotEncoder()` или его аналог `get_dummies()`: эта техника кодирования увеличивает количество признаков, в результате чего модели сложнее создавать разделяющие правила, поэтому время работы и расчётные характеристики моделей сильно страдают на больших наборах данных. Вместо этого нужно использовать `OrdinalEncoder()` - эта техника кодирует категориальные признаки так, что с ними удобнее работать в ходе создания разделяющих правил. \n",
    "    \n",
    "Для бустинговых алгоритмов альетрнатинва - использование внутренних кодировщиков, которые работают лучше сторонних. В случае `CatBoost` за это отвечает параметр `cat_features`. В случае `LightGBM` можно привести эти категориальные признаки к типу `category`, тогда модель будет работать с категориальными признаками автоматически."
   ]
  },
  {
   "cell_type": "markdown",
   "metadata": {},
   "source": [
    "<div class=\"alert alert-info\">\n",
    "<h2> Комментарий студента <a class=\"tocSkip\"> </h2>\n",
    "\n",
    "Понимаю про что ты и почему рекомендуешь OrdinalEncoder. Частично этот вопрос задавал на ревью предыдущего проекта, но теперь немного запутался. Смотри, мне ревьюр давал такую рекомендацию: \"'last_year_promo' и 'last_year_violations' - непорядковые признаки, их нужно перенести в ohe_col. При порядковом кодировании мы ранжируем значения категоиального признака: 1,2,3... Это логично для тех признаков, в которых есть естественный порядок, например, размеры одежды S, M, L, XL. А если этого порядка нет, линейные модели будут обучаться не совсем корректно\".    \n",
    "    \n",
    "Я использую OrdinalEncoder, вероятно есть какие-то признаки для OneHotEncoder?\n",
    "</div>"
   ]
  },
  {
   "cell_type": "markdown",
   "metadata": {},
   "source": [
    "<div class=\"alert alert-warning\">\n",
    "    <h2> Комментарий ревьюера v.2 <a class=\"tocSkip\"> </h2>\n",
    "    \n",
    "<b>Некоторые замечания и рекомендации⚠️:</b> Порядок при `OrdinalEncoder` важен для линейных моделей, поэтому `OrdinaLEncoder` для линейной модели имеет место применять для упорядоченных признаков, для нелинейных моделей упорядоченность признаков не важна, поэтому все признаки можно кодировать `OrdinalEncoder`."
   ]
  },
  {
   "cell_type": "markdown",
   "metadata": {},
   "source": [
    "<div class=\"alert alert-block alert-danger\">\n",
    "<h2> Комментарий ревьюера <a class=\"tocSkip\"></h2>\n",
    "\n",
    "    \n",
    "<b>На доработку❌:</b> `OneHotEncoder` нужно настроить так, чтобы он обрабатывал новые значения признаков, а не выбрасывал ошибку - при текущей настройке `handle_unknown` в случае возникновения новых значений у признаков, которых не было в `train`, модель будет падать, а для многих случаев важна бесперебойность решений.\n",
    "    \n",
    "Может понадобиться обновление библиотеки `sklearn`, так как в ранних версиях параметры `handle_unknown` и `drop` конфликтовали друг с другом, но в актуальной версии библиотеки такой проблемы нет."
   ]
  },
  {
   "cell_type": "markdown",
   "metadata": {},
   "source": [
    "<div class=\"alert alert-info\">\n",
    "<h2> Комментарий студента <a class=\"tocSkip\"> </h2>\n",
    "\n",
    "Поправлено ниже, в случае возникновения ошибки, игнорируем её.\n",
    "</div>"
   ]
  },
  {
   "cell_type": "code",
   "execution_count": 19,
   "metadata": {},
   "outputs": [],
   "source": [
    "encoder = OrdinalEncoder(handle_unknown='use_encoded_value', unknown_value=-1)"
   ]
  },
  {
   "cell_type": "code",
   "execution_count": 20,
   "metadata": {},
   "outputs": [],
   "source": [
    "X_train_ohe = encoder.fit_transform(X_train[cat_col_names])\n",
    "X_test_ohe = encoder.transform(X_test[cat_col_names])\n",
    "#X_valid_ohe = encoder.transform(X_valid[cat_col_names])\n",
    "encoder_col_names = encoder.get_feature_names_out()\n",
    "        \n",
    "scaler = StandardScaler()\n",
    "X_train_scaled = scaler.fit_transform(X_train[num_col_names])\n",
    "X_test_scaled = scaler.transform(X_test[num_col_names])\n",
    "#X_valid_scaled = scaler.transform(X_valid[num_col_names])\n",
    "        \n",
    "# создаём тренировочный и тестовый датафреймы из закодированных и отмасштабированных данных\n",
    "X_train_ohe = pd.DataFrame(X_train_ohe, columns=encoder_col_names)\n",
    "X_test_ohe = pd.DataFrame(X_test_ohe, columns=encoder_col_names)\n",
    "#X_valid_ohe = pd.DataFrame(X_valid_ohe, columns=encoder_col_names)\n",
    "\n",
    "X_train_scaled = pd.DataFrame(X_train_scaled, columns=num_col_names)\n",
    "X_test_scaled = pd.DataFrame(X_test_scaled, columns=num_col_names)\n",
    "#X_valid_scaled = pd.DataFrame(X_valid_scaled, columns=num_col_names)\n",
    "\n",
    "# объединяем все преобразованные данные в тренировочный и тестовый датафреймы\n",
    "# сбрасываем индексы в датафрейме с числовыми индексами, чтобы избежать ошибок\n",
    "X_train = pd.concat([X_train_ohe, X_train_scaled], axis=1)\n",
    "X_test = pd.concat([X_test_ohe, X_test_scaled], axis=1)\n",
    "#X_valid = pd.concat([X_valid_ohe, X_valid_scaled], axis=1)"
   ]
  },
  {
   "cell_type": "markdown",
   "metadata": {},
   "source": [
    "### LinearRegression"
   ]
  },
  {
   "cell_type": "code",
   "execution_count": 34,
   "metadata": {},
   "outputs": [
    {
     "data": {
      "text/html": [
       "<style>#sk-container-id-2 {\n",
       "  /* Definition of color scheme common for light and dark mode */\n",
       "  --sklearn-color-text: black;\n",
       "  --sklearn-color-line: gray;\n",
       "  /* Definition of color scheme for unfitted estimators */\n",
       "  --sklearn-color-unfitted-level-0: #fff5e6;\n",
       "  --sklearn-color-unfitted-level-1: #f6e4d2;\n",
       "  --sklearn-color-unfitted-level-2: #ffe0b3;\n",
       "  --sklearn-color-unfitted-level-3: chocolate;\n",
       "  /* Definition of color scheme for fitted estimators */\n",
       "  --sklearn-color-fitted-level-0: #f0f8ff;\n",
       "  --sklearn-color-fitted-level-1: #d4ebff;\n",
       "  --sklearn-color-fitted-level-2: #b3dbfd;\n",
       "  --sklearn-color-fitted-level-3: cornflowerblue;\n",
       "\n",
       "  /* Specific color for light theme */\n",
       "  --sklearn-color-text-on-default-background: var(--sg-text-color, var(--theme-code-foreground, var(--jp-content-font-color1, black)));\n",
       "  --sklearn-color-background: var(--sg-background-color, var(--theme-background, var(--jp-layout-color0, white)));\n",
       "  --sklearn-color-border-box: var(--sg-text-color, var(--theme-code-foreground, var(--jp-content-font-color1, black)));\n",
       "  --sklearn-color-icon: #696969;\n",
       "\n",
       "  @media (prefers-color-scheme: dark) {\n",
       "    /* Redefinition of color scheme for dark theme */\n",
       "    --sklearn-color-text-on-default-background: var(--sg-text-color, var(--theme-code-foreground, var(--jp-content-font-color1, white)));\n",
       "    --sklearn-color-background: var(--sg-background-color, var(--theme-background, var(--jp-layout-color0, #111)));\n",
       "    --sklearn-color-border-box: var(--sg-text-color, var(--theme-code-foreground, var(--jp-content-font-color1, white)));\n",
       "    --sklearn-color-icon: #878787;\n",
       "  }\n",
       "}\n",
       "\n",
       "#sk-container-id-2 {\n",
       "  color: var(--sklearn-color-text);\n",
       "}\n",
       "\n",
       "#sk-container-id-2 pre {\n",
       "  padding: 0;\n",
       "}\n",
       "\n",
       "#sk-container-id-2 input.sk-hidden--visually {\n",
       "  border: 0;\n",
       "  clip: rect(1px 1px 1px 1px);\n",
       "  clip: rect(1px, 1px, 1px, 1px);\n",
       "  height: 1px;\n",
       "  margin: -1px;\n",
       "  overflow: hidden;\n",
       "  padding: 0;\n",
       "  position: absolute;\n",
       "  width: 1px;\n",
       "}\n",
       "\n",
       "#sk-container-id-2 div.sk-dashed-wrapped {\n",
       "  border: 1px dashed var(--sklearn-color-line);\n",
       "  margin: 0 0.4em 0.5em 0.4em;\n",
       "  box-sizing: border-box;\n",
       "  padding-bottom: 0.4em;\n",
       "  background-color: var(--sklearn-color-background);\n",
       "}\n",
       "\n",
       "#sk-container-id-2 div.sk-container {\n",
       "  /* jupyter's `normalize.less` sets `[hidden] { display: none; }`\n",
       "     but bootstrap.min.css set `[hidden] { display: none !important; }`\n",
       "     so we also need the `!important` here to be able to override the\n",
       "     default hidden behavior on the sphinx rendered scikit-learn.org.\n",
       "     See: https://github.com/scikit-learn/scikit-learn/issues/21755 */\n",
       "  display: inline-block !important;\n",
       "  position: relative;\n",
       "}\n",
       "\n",
       "#sk-container-id-2 div.sk-text-repr-fallback {\n",
       "  display: none;\n",
       "}\n",
       "\n",
       "div.sk-parallel-item,\n",
       "div.sk-serial,\n",
       "div.sk-item {\n",
       "  /* draw centered vertical line to link estimators */\n",
       "  background-image: linear-gradient(var(--sklearn-color-text-on-default-background), var(--sklearn-color-text-on-default-background));\n",
       "  background-size: 2px 100%;\n",
       "  background-repeat: no-repeat;\n",
       "  background-position: center center;\n",
       "}\n",
       "\n",
       "/* Parallel-specific style estimator block */\n",
       "\n",
       "#sk-container-id-2 div.sk-parallel-item::after {\n",
       "  content: \"\";\n",
       "  width: 100%;\n",
       "  border-bottom: 2px solid var(--sklearn-color-text-on-default-background);\n",
       "  flex-grow: 1;\n",
       "}\n",
       "\n",
       "#sk-container-id-2 div.sk-parallel {\n",
       "  display: flex;\n",
       "  align-items: stretch;\n",
       "  justify-content: center;\n",
       "  background-color: var(--sklearn-color-background);\n",
       "  position: relative;\n",
       "}\n",
       "\n",
       "#sk-container-id-2 div.sk-parallel-item {\n",
       "  display: flex;\n",
       "  flex-direction: column;\n",
       "}\n",
       "\n",
       "#sk-container-id-2 div.sk-parallel-item:first-child::after {\n",
       "  align-self: flex-end;\n",
       "  width: 50%;\n",
       "}\n",
       "\n",
       "#sk-container-id-2 div.sk-parallel-item:last-child::after {\n",
       "  align-self: flex-start;\n",
       "  width: 50%;\n",
       "}\n",
       "\n",
       "#sk-container-id-2 div.sk-parallel-item:only-child::after {\n",
       "  width: 0;\n",
       "}\n",
       "\n",
       "/* Serial-specific style estimator block */\n",
       "\n",
       "#sk-container-id-2 div.sk-serial {\n",
       "  display: flex;\n",
       "  flex-direction: column;\n",
       "  align-items: center;\n",
       "  background-color: var(--sklearn-color-background);\n",
       "  padding-right: 1em;\n",
       "  padding-left: 1em;\n",
       "}\n",
       "\n",
       "\n",
       "/* Toggleable style: style used for estimator/Pipeline/ColumnTransformer box that is\n",
       "clickable and can be expanded/collapsed.\n",
       "- Pipeline and ColumnTransformer use this feature and define the default style\n",
       "- Estimators will overwrite some part of the style using the `sk-estimator` class\n",
       "*/\n",
       "\n",
       "/* Pipeline and ColumnTransformer style (default) */\n",
       "\n",
       "#sk-container-id-2 div.sk-toggleable {\n",
       "  /* Default theme specific background. It is overwritten whether we have a\n",
       "  specific estimator or a Pipeline/ColumnTransformer */\n",
       "  background-color: var(--sklearn-color-background);\n",
       "}\n",
       "\n",
       "/* Toggleable label */\n",
       "#sk-container-id-2 label.sk-toggleable__label {\n",
       "  cursor: pointer;\n",
       "  display: block;\n",
       "  width: 100%;\n",
       "  margin-bottom: 0;\n",
       "  padding: 0.5em;\n",
       "  box-sizing: border-box;\n",
       "  text-align: center;\n",
       "}\n",
       "\n",
       "#sk-container-id-2 label.sk-toggleable__label-arrow:before {\n",
       "  /* Arrow on the left of the label */\n",
       "  content: \"▸\";\n",
       "  float: left;\n",
       "  margin-right: 0.25em;\n",
       "  color: var(--sklearn-color-icon);\n",
       "}\n",
       "\n",
       "#sk-container-id-2 label.sk-toggleable__label-arrow:hover:before {\n",
       "  color: var(--sklearn-color-text);\n",
       "}\n",
       "\n",
       "/* Toggleable content - dropdown */\n",
       "\n",
       "#sk-container-id-2 div.sk-toggleable__content {\n",
       "  max-height: 0;\n",
       "  max-width: 0;\n",
       "  overflow: hidden;\n",
       "  text-align: left;\n",
       "  /* unfitted */\n",
       "  background-color: var(--sklearn-color-unfitted-level-0);\n",
       "}\n",
       "\n",
       "#sk-container-id-2 div.sk-toggleable__content.fitted {\n",
       "  /* fitted */\n",
       "  background-color: var(--sklearn-color-fitted-level-0);\n",
       "}\n",
       "\n",
       "#sk-container-id-2 div.sk-toggleable__content pre {\n",
       "  margin: 0.2em;\n",
       "  border-radius: 0.25em;\n",
       "  color: var(--sklearn-color-text);\n",
       "  /* unfitted */\n",
       "  background-color: var(--sklearn-color-unfitted-level-0);\n",
       "}\n",
       "\n",
       "#sk-container-id-2 div.sk-toggleable__content.fitted pre {\n",
       "  /* unfitted */\n",
       "  background-color: var(--sklearn-color-fitted-level-0);\n",
       "}\n",
       "\n",
       "#sk-container-id-2 input.sk-toggleable__control:checked~div.sk-toggleable__content {\n",
       "  /* Expand drop-down */\n",
       "  max-height: 200px;\n",
       "  max-width: 100%;\n",
       "  overflow: auto;\n",
       "}\n",
       "\n",
       "#sk-container-id-2 input.sk-toggleable__control:checked~label.sk-toggleable__label-arrow:before {\n",
       "  content: \"▾\";\n",
       "}\n",
       "\n",
       "/* Pipeline/ColumnTransformer-specific style */\n",
       "\n",
       "#sk-container-id-2 div.sk-label input.sk-toggleable__control:checked~label.sk-toggleable__label {\n",
       "  color: var(--sklearn-color-text);\n",
       "  background-color: var(--sklearn-color-unfitted-level-2);\n",
       "}\n",
       "\n",
       "#sk-container-id-2 div.sk-label.fitted input.sk-toggleable__control:checked~label.sk-toggleable__label {\n",
       "  background-color: var(--sklearn-color-fitted-level-2);\n",
       "}\n",
       "\n",
       "/* Estimator-specific style */\n",
       "\n",
       "/* Colorize estimator box */\n",
       "#sk-container-id-2 div.sk-estimator input.sk-toggleable__control:checked~label.sk-toggleable__label {\n",
       "  /* unfitted */\n",
       "  background-color: var(--sklearn-color-unfitted-level-2);\n",
       "}\n",
       "\n",
       "#sk-container-id-2 div.sk-estimator.fitted input.sk-toggleable__control:checked~label.sk-toggleable__label {\n",
       "  /* fitted */\n",
       "  background-color: var(--sklearn-color-fitted-level-2);\n",
       "}\n",
       "\n",
       "#sk-container-id-2 div.sk-label label.sk-toggleable__label,\n",
       "#sk-container-id-2 div.sk-label label {\n",
       "  /* The background is the default theme color */\n",
       "  color: var(--sklearn-color-text-on-default-background);\n",
       "}\n",
       "\n",
       "/* On hover, darken the color of the background */\n",
       "#sk-container-id-2 div.sk-label:hover label.sk-toggleable__label {\n",
       "  color: var(--sklearn-color-text);\n",
       "  background-color: var(--sklearn-color-unfitted-level-2);\n",
       "}\n",
       "\n",
       "/* Label box, darken color on hover, fitted */\n",
       "#sk-container-id-2 div.sk-label.fitted:hover label.sk-toggleable__label.fitted {\n",
       "  color: var(--sklearn-color-text);\n",
       "  background-color: var(--sklearn-color-fitted-level-2);\n",
       "}\n",
       "\n",
       "/* Estimator label */\n",
       "\n",
       "#sk-container-id-2 div.sk-label label {\n",
       "  font-family: monospace;\n",
       "  font-weight: bold;\n",
       "  display: inline-block;\n",
       "  line-height: 1.2em;\n",
       "}\n",
       "\n",
       "#sk-container-id-2 div.sk-label-container {\n",
       "  text-align: center;\n",
       "}\n",
       "\n",
       "/* Estimator-specific */\n",
       "#sk-container-id-2 div.sk-estimator {\n",
       "  font-family: monospace;\n",
       "  border: 1px dotted var(--sklearn-color-border-box);\n",
       "  border-radius: 0.25em;\n",
       "  box-sizing: border-box;\n",
       "  margin-bottom: 0.5em;\n",
       "  /* unfitted */\n",
       "  background-color: var(--sklearn-color-unfitted-level-0);\n",
       "}\n",
       "\n",
       "#sk-container-id-2 div.sk-estimator.fitted {\n",
       "  /* fitted */\n",
       "  background-color: var(--sklearn-color-fitted-level-0);\n",
       "}\n",
       "\n",
       "/* on hover */\n",
       "#sk-container-id-2 div.sk-estimator:hover {\n",
       "  /* unfitted */\n",
       "  background-color: var(--sklearn-color-unfitted-level-2);\n",
       "}\n",
       "\n",
       "#sk-container-id-2 div.sk-estimator.fitted:hover {\n",
       "  /* fitted */\n",
       "  background-color: var(--sklearn-color-fitted-level-2);\n",
       "}\n",
       "\n",
       "/* Specification for estimator info (e.g. \"i\" and \"?\") */\n",
       "\n",
       "/* Common style for \"i\" and \"?\" */\n",
       "\n",
       ".sk-estimator-doc-link,\n",
       "a:link.sk-estimator-doc-link,\n",
       "a:visited.sk-estimator-doc-link {\n",
       "  float: right;\n",
       "  font-size: smaller;\n",
       "  line-height: 1em;\n",
       "  font-family: monospace;\n",
       "  background-color: var(--sklearn-color-background);\n",
       "  border-radius: 1em;\n",
       "  height: 1em;\n",
       "  width: 1em;\n",
       "  text-decoration: none !important;\n",
       "  margin-left: 1ex;\n",
       "  /* unfitted */\n",
       "  border: var(--sklearn-color-unfitted-level-1) 1pt solid;\n",
       "  color: var(--sklearn-color-unfitted-level-1);\n",
       "}\n",
       "\n",
       ".sk-estimator-doc-link.fitted,\n",
       "a:link.sk-estimator-doc-link.fitted,\n",
       "a:visited.sk-estimator-doc-link.fitted {\n",
       "  /* fitted */\n",
       "  border: var(--sklearn-color-fitted-level-1) 1pt solid;\n",
       "  color: var(--sklearn-color-fitted-level-1);\n",
       "}\n",
       "\n",
       "/* On hover */\n",
       "div.sk-estimator:hover .sk-estimator-doc-link:hover,\n",
       ".sk-estimator-doc-link:hover,\n",
       "div.sk-label-container:hover .sk-estimator-doc-link:hover,\n",
       ".sk-estimator-doc-link:hover {\n",
       "  /* unfitted */\n",
       "  background-color: var(--sklearn-color-unfitted-level-3);\n",
       "  color: var(--sklearn-color-background);\n",
       "  text-decoration: none;\n",
       "}\n",
       "\n",
       "div.sk-estimator.fitted:hover .sk-estimator-doc-link.fitted:hover,\n",
       ".sk-estimator-doc-link.fitted:hover,\n",
       "div.sk-label-container:hover .sk-estimator-doc-link.fitted:hover,\n",
       ".sk-estimator-doc-link.fitted:hover {\n",
       "  /* fitted */\n",
       "  background-color: var(--sklearn-color-fitted-level-3);\n",
       "  color: var(--sklearn-color-background);\n",
       "  text-decoration: none;\n",
       "}\n",
       "\n",
       "/* Span, style for the box shown on hovering the info icon */\n",
       ".sk-estimator-doc-link span {\n",
       "  display: none;\n",
       "  z-index: 9999;\n",
       "  position: relative;\n",
       "  font-weight: normal;\n",
       "  right: .2ex;\n",
       "  padding: .5ex;\n",
       "  margin: .5ex;\n",
       "  width: min-content;\n",
       "  min-width: 20ex;\n",
       "  max-width: 50ex;\n",
       "  color: var(--sklearn-color-text);\n",
       "  box-shadow: 2pt 2pt 4pt #999;\n",
       "  /* unfitted */\n",
       "  background: var(--sklearn-color-unfitted-level-0);\n",
       "  border: .5pt solid var(--sklearn-color-unfitted-level-3);\n",
       "}\n",
       "\n",
       ".sk-estimator-doc-link.fitted span {\n",
       "  /* fitted */\n",
       "  background: var(--sklearn-color-fitted-level-0);\n",
       "  border: var(--sklearn-color-fitted-level-3);\n",
       "}\n",
       "\n",
       ".sk-estimator-doc-link:hover span {\n",
       "  display: block;\n",
       "}\n",
       "\n",
       "/* \"?\"-specific style due to the `<a>` HTML tag */\n",
       "\n",
       "#sk-container-id-2 a.estimator_doc_link {\n",
       "  float: right;\n",
       "  font-size: 1rem;\n",
       "  line-height: 1em;\n",
       "  font-family: monospace;\n",
       "  background-color: var(--sklearn-color-background);\n",
       "  border-radius: 1rem;\n",
       "  height: 1rem;\n",
       "  width: 1rem;\n",
       "  text-decoration: none;\n",
       "  /* unfitted */\n",
       "  color: var(--sklearn-color-unfitted-level-1);\n",
       "  border: var(--sklearn-color-unfitted-level-1) 1pt solid;\n",
       "}\n",
       "\n",
       "#sk-container-id-2 a.estimator_doc_link.fitted {\n",
       "  /* fitted */\n",
       "  border: var(--sklearn-color-fitted-level-1) 1pt solid;\n",
       "  color: var(--sklearn-color-fitted-level-1);\n",
       "}\n",
       "\n",
       "/* On hover */\n",
       "#sk-container-id-2 a.estimator_doc_link:hover {\n",
       "  /* unfitted */\n",
       "  background-color: var(--sklearn-color-unfitted-level-3);\n",
       "  color: var(--sklearn-color-background);\n",
       "  text-decoration: none;\n",
       "}\n",
       "\n",
       "#sk-container-id-2 a.estimator_doc_link.fitted:hover {\n",
       "  /* fitted */\n",
       "  background-color: var(--sklearn-color-fitted-level-3);\n",
       "}\n",
       "</style><div id=\"sk-container-id-2\" class=\"sk-top-container\"><div class=\"sk-text-repr-fallback\"><pre>GridSearchCV(estimator=LinearRegression(), param_grid={&#x27;n_jobs&#x27;: [-1]},\n",
       "             scoring=&#x27;neg_mean_squared_error&#x27;)</pre><b>In a Jupyter environment, please rerun this cell to show the HTML representation or trust the notebook. <br />On GitHub, the HTML representation is unable to render, please try loading this page with nbviewer.org.</b></div><div class=\"sk-container\" hidden><div class=\"sk-item sk-dashed-wrapped\"><div class=\"sk-label-container\"><div class=\"sk-label fitted sk-toggleable\"><input class=\"sk-toggleable__control sk-hidden--visually\" id=\"sk-estimator-id-4\" type=\"checkbox\" ><label for=\"sk-estimator-id-4\" class=\"sk-toggleable__label fitted sk-toggleable__label-arrow fitted\">&nbsp;&nbsp;GridSearchCV<a class=\"sk-estimator-doc-link fitted\" rel=\"noreferrer\" target=\"_blank\" href=\"https://scikit-learn.org/1.4/modules/generated/sklearn.model_selection.GridSearchCV.html\">?<span>Documentation for GridSearchCV</span></a><span class=\"sk-estimator-doc-link fitted\">i<span>Fitted</span></span></label><div class=\"sk-toggleable__content fitted\"><pre>GridSearchCV(estimator=LinearRegression(), param_grid={&#x27;n_jobs&#x27;: [-1]},\n",
       "             scoring=&#x27;neg_mean_squared_error&#x27;)</pre></div> </div></div><div class=\"sk-parallel\"><div class=\"sk-parallel-item\"><div class=\"sk-item\"><div class=\"sk-label-container\"><div class=\"sk-label fitted sk-toggleable\"><input class=\"sk-toggleable__control sk-hidden--visually\" id=\"sk-estimator-id-5\" type=\"checkbox\" ><label for=\"sk-estimator-id-5\" class=\"sk-toggleable__label fitted sk-toggleable__label-arrow fitted\">estimator: LinearRegression</label><div class=\"sk-toggleable__content fitted\"><pre>LinearRegression()</pre></div> </div></div><div class=\"sk-serial\"><div class=\"sk-item\"><div class=\"sk-estimator fitted sk-toggleable\"><input class=\"sk-toggleable__control sk-hidden--visually\" id=\"sk-estimator-id-6\" type=\"checkbox\" ><label for=\"sk-estimator-id-6\" class=\"sk-toggleable__label fitted sk-toggleable__label-arrow fitted\">&nbsp;LinearRegression<a class=\"sk-estimator-doc-link fitted\" rel=\"noreferrer\" target=\"_blank\" href=\"https://scikit-learn.org/1.4/modules/generated/sklearn.linear_model.LinearRegression.html\">?<span>Documentation for LinearRegression</span></a></label><div class=\"sk-toggleable__content fitted\"><pre>LinearRegression()</pre></div> </div></div></div></div></div></div></div></div></div>"
      ],
      "text/plain": [
       "GridSearchCV(estimator=LinearRegression(), param_grid={'n_jobs': [-1]},\n",
       "             scoring='neg_mean_squared_error')"
      ]
     },
     "execution_count": 34,
     "metadata": {},
     "output_type": "execute_result"
    }
   ],
   "source": [
    "lmodel = LinearRegression()\n",
    "param_grid = {'n_jobs': [-1]}\n",
    "\n",
    "gs_lmodel = GridSearchCV(lmodel, param_grid, scoring='neg_mean_squared_error')\n",
    "gs_lmodel.fit(X_train, y_train)"
   ]
  },
  {
   "cell_type": "code",
   "execution_count": 22,
   "metadata": {},
   "outputs": [
    {
     "name": "stdout",
     "output_type": "stream",
     "text": [
      "RMSE на кросс-валидации для Линейной модели 2933.120782982381\n",
      "CPU times: user 574 µs, sys: 93 µs, total: 667 µs\n",
      "Wall time: 144 µs\n"
     ]
    }
   ],
   "source": [
    "%%time\n",
    "rmse_lmodel = ((gs_lmodel.best_score_)*-1)**0.5\n",
    "print('RMSE на кросс-валидации для Линейной модели', rmse_lmodel)"
   ]
  },
  {
   "cell_type": "code",
   "execution_count": 23,
   "metadata": {},
   "outputs": [
    {
     "name": "stdout",
     "output_type": "stream",
     "text": [
      "Время на обучение модели LinearRegression(мин): 0.0003204743067423503\n"
     ]
    }
   ],
   "source": [
    "best_gs_lmodel = gs_lmodel.best_estimator_\n",
    "start_lr_learn = time()\n",
    "best_gs_lmodel.fit(X_train, y_train)\n",
    "end_lr_learn = time()\n",
    "learn_lr_time = (end_lr_learn - start_lr_learn) / 60\n",
    "print('Время на обучение модели LinearRegression(мин):', learn_lr_time)"
   ]
  },
  {
   "cell_type": "code",
   "execution_count": 24,
   "metadata": {},
   "outputs": [
    {
     "name": "stdout",
     "output_type": "stream",
     "text": [
      "Время на предсказание модели LinearRegression(мин): 0.0010193506876627603\n"
     ]
    }
   ],
   "source": [
    "start_lr_pred = time()\n",
    "preds_lmodel = best_gs_lmodel.predict(X_train)\n",
    "end_lr_pred = time()\n",
    "pred_lr_time = (end_lr_pred - start_lr_pred) / 60\n",
    "print('Время на предсказание модели LinearRegression(мин):', pred_lr_time)"
   ]
  },
  {
   "cell_type": "markdown",
   "metadata": {},
   "source": [
    "rmse_lmodel = mean_squared_error(y_valid, preds_lmodel, squared=False)\n",
    "print(\"RMSE LinearRegression =\", round(rmse_lmodel, 2))\n",
    "\n",
    "**переведено в комментарий по причине**: /opt/conda/lib/python3.9/site-packages/sklearn/metrics/_regression.py:483: FutureWarning: 'squared' is deprecated in version 1.4 and will be removed in 1.6. To calculate the root mean squared error, use the function'root_mean_squared_error'.\n",
    "  warnings.warn("
   ]
  },
  {
   "cell_type": "markdown",
   "metadata": {},
   "source": [
    "rmse_lmodel = root_mean_squared_error(y_train, preds_lmodel)\n",
    "print(\"RMSE LinearRegression =\", round(rmse_lmodel, 2))"
   ]
  },
  {
   "cell_type": "markdown",
   "metadata": {},
   "source": [
    "**Вывод:**\n",
    "Линейная модель выдает метрику качества ниже, чем требует заказчик(RMSE меньше 2500)."
   ]
  },
  {
   "cell_type": "markdown",
   "metadata": {},
   "source": [
    "### LGBMRegressor"
   ]
  },
  {
   "cell_type": "markdown",
   "metadata": {},
   "source": [
    "<div class=\"alert alert-warning\">\n",
    "    <h2> Комментарий ревьюера <a class=\"tocSkip\"> </h2>\n",
    "    \n",
    "<b>Некоторые замечания и рекомендации⚠️:</b> Гиперпараметры, у которых в сетке только одно значение, корректнее сразу настраивать при инициализации модели и не вносить в сетку: основная идея перебора - исследование нескольких значений, а когда значение одно, то и перебор фактически не происходит."
   ]
  },
  {
   "cell_type": "markdown",
   "metadata": {},
   "source": [
    "<div class=\"alert alert-success\">\n",
    "<h2> Комментарий ревьюера v.2 <a class=\"tocSkip\"> </h2>\n",
    "\n",
    "<b>Все отлично!👍</b> Учтено."
   ]
  },
  {
   "cell_type": "markdown",
   "metadata": {},
   "source": [
    "<div class=\"alert alert-block alert-danger\">\n",
    "<h2> Комментарий ревьюера <a class=\"tocSkip\"></h2>\n",
    "\n",
    "    \n",
    "<b>На доработку❌:</b> Хотя бы для одной модели нужно выполнить оптимизацию не менее двух гиперпараметров. Фактически для гиперпараметра `learning_rate` нет диапазона перебора, а `random_state` в идеале в сетку не нужно передавать в принципе, поэтому фактически выполняется оптимизация только одного гиперпараметра."
   ]
  },
  {
   "cell_type": "markdown",
   "metadata": {},
   "source": [
    "<div class=\"alert alert-info\">\n",
    "<h2> Комментарий студента <a class=\"tocSkip\"> </h2>\n",
    "\n",
    "Принято, ниже поправлено.\n",
    "</div>"
   ]
  },
  {
   "cell_type": "code",
   "execution_count": 25,
   "metadata": {},
   "outputs": [],
   "source": [
    "lgbm_model = LGBMRegressor(random_state=RANDOM_STATE)\n",
    "params = [{\n",
    "    'num_leaves':[50, 100], \n",
    "    'learning_rate':[0.1, 0.3]}]"
   ]
  },
  {
   "cell_type": "code",
   "execution_count": 26,
   "metadata": {},
   "outputs": [
    {
     "name": "stdout",
     "output_type": "stream",
     "text": [
      "{'learning_rate': 0.3, 'num_leaves': 100}\n",
      "CPU times: user 7min 29s, sys: 1.35 s, total: 7min 30s\n",
      "Wall time: 7min 31s\n"
     ]
    }
   ],
   "source": [
    "%%time\n",
    "\n",
    "lgbm = GridSearchCV(lgbm_model, params, scoring='neg_mean_squared_error')\n",
    "lgbm.fit(X_train, y_train)\n",
    "print(lgbm.best_params_)"
   ]
  },
  {
   "cell_type": "markdown",
   "metadata": {},
   "source": [
    "<div class=\"alert alert-block alert-danger\">\n",
    "<h2> Комментарий ревьюера v.2 <a class=\"tocSkip\"></h2>\n",
    "\n",
    "    \n",
    "<b>На доработку❌:</b> В проекте используется `GridSearchCV` с встроенной кросс-валидацией - нужно выбрать единый подход к промежуточной оценке моделей: кросс-валидация или валидационная выборка. \n",
    "    \n",
    "Два подхода одновременно использовать не принято: при выделении `valid` мы теряем часть наблюдений из `train`, далее, проводя кросс-валидацию, при делении на фолды часть наблюдений из `train` также отходит для формирования оценочного фолда, в результате чего модель может не совсем качественно обучиться."
   ]
  },
  {
   "cell_type": "markdown",
   "metadata": {},
   "source": [
    "<div class=\"alert alert-info\">\n",
    "<h2> Комментарий студента v.2 <a class=\"tocSkip\"> </h2>\n",
    "\n",
    "Теперь понял, поправил.\n",
    "</div>"
   ]
  },
  {
   "cell_type": "code",
   "execution_count": 27,
   "metadata": {},
   "outputs": [
    {
     "name": "stdout",
     "output_type": "stream",
     "text": [
      "RMSE на кросс-валидации 1957.8585191834525\n",
      "CPU times: user 280 µs, sys: 2 µs, total: 282 µs\n",
      "Wall time: 181 µs\n"
     ]
    }
   ],
   "source": [
    "%%time\n",
    "rmse_lgbm = ((lgbm.best_score_)*-1)**0.5\n",
    "print('RMSE на кросс-валидации', rmse_lgbm)"
   ]
  },
  {
   "cell_type": "code",
   "execution_count": 28,
   "metadata": {},
   "outputs": [
    {
     "name": "stdout",
     "output_type": "stream",
     "text": [
      "LGBMRegressor(learning_rate=0.3, num_leaves=100, random_state=4221)\n",
      "CPU times: user 0 ns, sys: 460 µs, total: 460 µs\n",
      "Wall time: 469 µs\n"
     ]
    }
   ],
   "source": [
    "%%time\n",
    "better_lgbm = lgbm.best_estimator_\n",
    "print(better_lgbm)"
   ]
  },
  {
   "cell_type": "markdown",
   "metadata": {},
   "source": [
    "Примерный результат.\n",
    "{'learning_rate': 0.3, 'num_leaves': 100}\n",
    "RMSE на кросс-валидации -3889575.0762974834\n",
    "LGBMRegressor(learning_rate=0.3, num_leaves=100, random_state=4221)\n",
    "CPU times: user 14min 54s, sys: 5.53 s, total: 15min\n",
    "Wall time: 15min 7s"
   ]
  },
  {
   "cell_type": "code",
   "execution_count": 29,
   "metadata": {},
   "outputs": [
    {
     "name": "stdout",
     "output_type": "stream",
     "text": [
      "Время на обучение модели LGBMRegressor(мин): 0.10798962910970052\n",
      "CPU times: user 6.4 s, sys: 63.7 ms, total: 6.47 s\n",
      "Wall time: 6.48 s\n"
     ]
    }
   ],
   "source": [
    "%%time\n",
    "\n",
    "start_lgbm_learn = time()\n",
    "better_lgbm.fit(X_train, y_train)\n",
    "end_lgbm_learn = time()\n",
    "learn_lgbm_time = (end_lgbm_learn - start_lgbm_learn) / 60\n",
    "print('Время на обучение модели LGBMRegressor(мин):', learn_lgbm_time)"
   ]
  },
  {
   "cell_type": "code",
   "execution_count": 30,
   "metadata": {},
   "outputs": [
    {
     "name": "stdout",
     "output_type": "stream",
     "text": [
      "Время на предсказание модели LGBMRegressor(мин): 0.016929046312967936\n",
      "CPU times: user 1 s, sys: 2.79 ms, total: 1 s\n",
      "Wall time: 1.02 s\n"
     ]
    }
   ],
   "source": [
    "%%time\n",
    "\n",
    "start_lgbm_pred = time()\n",
    "lgbm_predict = lgbm.predict(X_train)\n",
    "end_lgmb_end = time()\n",
    "pred_lgbm_time = (end_lgmb_end - start_lgbm_pred) / 60\n",
    "print('Время на предсказание модели LGBMRegressor(мин):', pred_lgbm_time)"
   ]
  },
  {
   "cell_type": "markdown",
   "metadata": {},
   "source": [
    "**Вывод:**\n",
    "* Были отмашстабированы и закодированы признаки;\n",
    "* Были обучены две модели LinearRegression и LGBMRegressor."
   ]
  },
  {
   "cell_type": "markdown",
   "metadata": {},
   "source": [
    "## Анализ моделей"
   ]
  },
  {
   "cell_type": "code",
   "execution_count": 31,
   "metadata": {},
   "outputs": [
    {
     "data": {
      "text/html": [
       "<div>\n",
       "<style scoped>\n",
       "    .dataframe tbody tr th:only-of-type {\n",
       "        vertical-align: middle;\n",
       "    }\n",
       "\n",
       "    .dataframe tbody tr th {\n",
       "        vertical-align: top;\n",
       "    }\n",
       "\n",
       "    .dataframe thead th {\n",
       "        text-align: right;\n",
       "    }\n",
       "</style>\n",
       "<table border=\"1\" class=\"dataframe\">\n",
       "  <thead>\n",
       "    <tr style=\"text-align: right;\">\n",
       "      <th></th>\n",
       "      <th>Название модели</th>\n",
       "      <th>Метрика RMSE</th>\n",
       "      <th>Затраченное время на обучение, мин</th>\n",
       "      <th>Затраченное время на предсказание, мин</th>\n",
       "      <th>Перебор параметров</th>\n",
       "      <th>Метрика отвечает требования заказчика</th>\n",
       "    </tr>\n",
       "  </thead>\n",
       "  <tbody>\n",
       "    <tr>\n",
       "      <th>0</th>\n",
       "      <td>LinearRegression</td>\n",
       "      <td>2933.120783</td>\n",
       "      <td>0.00032</td>\n",
       "      <td>0.001019</td>\n",
       "      <td>False</td>\n",
       "      <td>Нет</td>\n",
       "    </tr>\n",
       "    <tr>\n",
       "      <th>1</th>\n",
       "      <td>LGBMRegressor</td>\n",
       "      <td>1957.858519</td>\n",
       "      <td>0.10799</td>\n",
       "      <td>0.016929</td>\n",
       "      <td>True</td>\n",
       "      <td>Да</td>\n",
       "    </tr>\n",
       "  </tbody>\n",
       "</table>\n",
       "</div>"
      ],
      "text/plain": [
       "    Название модели  Метрика RMSE  Затраченное время на обучение, мин  \\\n",
       "0  LinearRegression   2933.120783                             0.00032   \n",
       "1     LGBMRegressor   1957.858519                             0.10799   \n",
       "\n",
       "   Затраченное время на предсказание, мин  Перебор параметров  \\\n",
       "0                                0.001019               False   \n",
       "1                                0.016929                True   \n",
       "\n",
       "  Метрика отвечает требования заказчика  \n",
       "0                                   Нет  \n",
       "1                                    Да  "
      ]
     },
     "execution_count": 31,
     "metadata": {},
     "output_type": "execute_result"
    }
   ],
   "source": [
    "results = pd.DataFrame({\n",
    "    'Название модели': ['LinearRegression', 'LGBMRegressor'],\n",
    "    'Метрика RMSE': [rmse_lmodel, rmse_lgbm],\n",
    "    'Затраченное время на обучение, мин': [learn_lr_time, learn_lgbm_time],\n",
    "    'Затраченное время на предсказание, мин': [pred_lr_time, pred_lgbm_time],\n",
    "    'Перебор параметров': [False, True],\n",
    "    'Метрика отвечает требования заказчика': [\n",
    "        'Нет' if rmse_lmodel > 2500 else 'Да',\n",
    "        'Нет' if rmse_lgbm > 2500 else 'Да']\n",
    "})\n",
    "results"
   ]
  },
  {
   "cell_type": "markdown",
   "metadata": {},
   "source": [
    "Требуемый уровень метрики достигает модель с бустингом, стандартная линейная регрессия не дотягивает до необходимого уровня не более 2500. При этом ожидание на обучение модели с бустингом примерно в 8 раз больше."
   ]
  },
  {
   "cell_type": "markdown",
   "metadata": {},
   "source": [
    "**Вывод:**\n",
    "~~Модели с бустингом позволяют достичь лучшей метрики качества за счет порционности, но требуют гораздо больше времени на обучение. Так же не позволяют менять слишком большое количество гиперпараметров, поскольку это так же скажется на времени обучения в худшую сторону. ~~    \n",
    "\n",
    "Видно, что модель линейной регрессии не дотягивает по метрике качества до требуемой заказчиком. По затраченному времени на обучение и предсказание линейная регрессия лучше: по скорости обучения в 18,9 раз, по скорости предсказания в 3,7 раз. Однако общая скорость затраченная на обучение незначительна, поэтому возможно и нужно использовать модель `LGBMRegressor`."
   ]
  },
  {
   "cell_type": "markdown",
   "metadata": {},
   "source": [
    "<div class=\"alert alert-block alert-danger\">\n",
    "<h2> Комментарий ревьюера <a class=\"tocSkip\"></h2>\n",
    "\n",
    "    \n",
    "<b>На доработку❌:</b>\n",
    "\n",
    "По этому блоку будет несколько важных замечаний:\n",
    "1. Все модели этого блока оцениваются на тестовой выборке - это преждевременное решение, так как оценка на тестовой выборке - это финальное тестирование для лучшей модели, которая была отобрана в ходе промежуточного тестирования. Эта концепция находит своё отражение в условиях эксплуатации модели в реальной среде: в промышленной эксплуатации не работает несколько моделей одновременно - в промышленную эксплуатацию запускают только одну модель, которая была выбрана из нескольких в ходе промежуточной оценки. Так же и здесь - тестовая выборка имитирует поток реальных данных, и с этим потоком должна работать только одна модель. \n",
    "\n",
    "\n",
    "2. Лучшая модель должна быть выбрана по двум критериям - метрика `RMSE` и время работы модели. Далее сценарий работы с моделями в этом блоке зависит от выбранной стратегии валидации и оптимизации гиперпараметров:\n",
    "- для оптимизации гиперпараметров и промежуточной оценки моделей была выделена валидационная выборка;\n",
    "- для оптимизации гиперпараметров и промежуточной оценки моделей проводится кросс-валидация.\n",
    "    \n",
    "    В первом случае метрика промежуточной оценки модели - это метрика `RMSE` на валидационной выборке, полученная от использования на `valid` лучшей модели, а время - это время обучения модели с лучшими гиперпарметрами на `train` и время совершения ею предсказаний на `valid`.\n",
    "    \n",
    "    Во втором случае метрика промежуточной оценким модели - это метрика `RMSE` с кросс-валидации: в случае использования `cross_val_score` - это среднее из массива метрик (длина соответствует количеству фолдов для кросс-валидации), который возвращает инструмент, в случае использования `GridSearchCV` или `RandomizedSearchCV` - это метрика из атрибута `best_score_`. Временем работы лучшей модели может быть время обучения на `train` и время предсказания на `train` выборке (только время, метрика `RMSE` на тренировочной выборке не нужна).\n",
    "    \n",
    "    Тут часто студенты делают ошибку, принимая в качестве метрики времени время работы лучшей модели, а время оптимизации гиперпараметров в целом (то есть время выполнения всей ячейки кода цикла с `cross_val_score` или ячейки с `GridSearchCV`) - это некорректный подход: на практике модель не будет каждый раз переобучаться и выполнять оптимизацию гиперпараметров перед очередным предсказанием - сначала будет найдена лучшая модель, а она уже будет использоваться для обучения и предсказаний. Поэтому и в этом случае сначала определяется лучшая модель, а уже потом замеряется время её работы: кросс-валидации как альтернатива времени обучения и предсказания (потому что по сути кросс-валидация объединяет в себе обучение и предсказание) или время обучения и предсказания на `train`.\n",
    "    \n",
    "    Независимо от выбранной стратегии кросс-валидации алгоритм работы выглядит как:\n",
    "- оптимизация гиперпараметров и поиск лучшей модели;\n",
    "- оценка метрики `RMSE`;\n",
    "- оценка времени работы лучшей модели: на валидационной выборке (если она выделялась) или на кросс-валидации/тренировочной выборке (если проводилась кросс-валидация).\n",
    "    \n",
    "Концепт для `valid`:\n",
    "    \n",
    "    for ... in ...:\n",
    "    \n",
    "        #код для поиска лучшей модели\n",
    "    \n",
    "    model = ... #код для инициализации лучшей модели с оптимальными гиперпараметрами\n",
    "    \n",
    "    model.fit(X_train, Y_train) #замеряем время обучения\n",
    "    \n",
    "    pred = model.predict(X_valid) #замеряем время предсказания\n",
    "    \n",
    "    RMSE = (Y_valid, pred) #замеряем RMSE на valid\n",
    "    \n",
    "Концепт для кросс-валидации:\n",
    "    \n",
    "    model = #инициализируем модель\n",
    "    gs = GridSearchCV(...) #настраиваем поиск по сетке\n",
    "    \n",
    "    gs.fit(...) #находим лучшую модель\n",
    "    \n",
    "    gs.best_score_ #замеряем RMSE на  кросс-валидации\n",
    "    \n",
    "    model = gs.best_estimator_ #получаем лучшую модель из best_estimator\n",
    "    model = #YourModel(random_state = 42, **gs.best_params) #альтернативный способ получения лучшей модели\n",
    "    \n",
    "    model.fit(X_train, Y_train) #замеряем время обучения\n",
    "    model.predict(X_train) #замеряем время предсказания\n",
    "    \n",
    "    \n",
    "   По итогу нужно будет провести сравнительную характеристику моделей по критериям метрики `RMSE` и времени работы моделей и выбрать лучшую - именно эта лучшая модель должна будет оцениваться на тестовой выборке.\n",
    "    \n",
    "   Обрати также внимание, что при создании таблицы нельзя использовать вручную введённые значения - они потеряют актуальность при любом изменении в данных, их обработке или в моделях. Значения метрик лучше помещать в переменные и использовать их для создания таблиц. Для сохранения в переменные времени работы моделей можно использовать модуль `time`:\n",
    "    \n",
    "    from time import time\n",
    "    \n",
    "    start = time()\n",
    "    \n",
    "    #код модели\n",
    "    \n",
    "    end = time()\n",
    "    \n",
    "    model_time = (end-start)/60 #перевожу в минуты, так как по умолчанию секунды\n",
    "    \n",
    "3. Итоговый вывод нужно поправить."
   ]
  },
  {
   "cell_type": "markdown",
   "metadata": {},
   "source": [
    "<div class=\"alert alert-info\">\n",
    "<h2> Комментарий студента <a class=\"tocSkip\"> </h2>\n",
    "\n",
    "Спасибо, принято. Перепишу исходное под требования.\n",
    "</div>"
   ]
  },
  {
   "cell_type": "markdown",
   "metadata": {},
   "source": [
    "<div class=\"alert alert-block alert-danger\">\n",
    "<h2> Комментарий ревьюера v.2 <a class=\"tocSkip\"></h2>\n",
    "\n",
    "    \n",
    "<b>На доработку❌:</b> Актуален п.2 - нужно выбрать единый подход к промежуточной оценке и немного переделать модельный блок."
   ]
  },
  {
   "cell_type": "markdown",
   "metadata": {},
   "source": [
    "<div class=\"alert alert-info\">\n",
    "<h2> Комментарий студента v.2 <a class=\"tocSkip\"> </h2>\n",
    "\n",
    "Понял, фактически можно добавить в линейной регрессии такой же подход как к `LGBMRegressor`.\n",
    "</div>"
   ]
  },
  {
   "cell_type": "markdown",
   "metadata": {},
   "source": [
    "<div class=\"alert alert-block alert-danger\">\n",
    "<h2> Комментарий ревьюера v.3 <a class=\"tocSkip\"></h2>\n",
    "\n",
    "    \n",
    "<b>На доработку❌:</b> Остался момент с обучением модели: ты замеряешь время поиска `best_estimator_`, а нам нужно замерить время его обучения уже после того, как он был найден."
   ]
  },
  {
   "cell_type": "markdown",
   "metadata": {},
   "source": [
    "<div class=\"alert alert-info\">\n",
    "<h2> Комментарий студента v.3 <a class=\"tocSkip\"> </h2>\n",
    "\n",
    "Точно, для линейной модели я что-то затупил. Если я правильно понял) Там я замерял время в процессе поиска. Хм, много ошибаюсь в мелочах - плохо, но работаю над этим. Попробую выработать какую-нибудь стратегию на будущее, чтобы свести такие моменты до минимума. Спасибо!\n",
    "</div>"
   ]
  },
  {
   "cell_type": "markdown",
   "metadata": {},
   "source": [
    "<div class=\"alert alert-success\">\n",
    "<h2> Комментарий ревьюера v.4 <a class=\"tocSkip\"> </h2>\n",
    "\n",
    "<b>Все отлично!👍</b> Теперь верно, да. Не переживай на счёт путаницы - тема очень непростая, поэтому нужно много времени, чтобы в ней разобраться, особенно с этими тонкостями по метриками времени. Но ты хорошо справился:)"
   ]
  },
  {
   "cell_type": "markdown",
   "metadata": {},
   "source": [
    "<div class=\"alert alert-warning\">\n",
    "    <h2> Комментарий ревьюера <a class=\"tocSkip\"> </h2>\n",
    "    \n",
    "<b>Некоторые замечания и рекомендации⚠️:</b>\n",
    "Очень важно также проверить лучшую модель на адекватность, сравнив качество её предсказаний с качеством модели, которая предсказывала бы константу - вдруг окажется, что не было бы большого смысла заниматься созданием новых признаков, тюнингом и кросс-валидацией моделей, если можно было бы просто предсказывать среднее значение тренировочной выборки? \n",
    "    \n",
    "В качестве константной модели можно использовать `DummyRegressor` (https://scikit-learn.org/stable/modules/generated/sklearn.dummy.DummyRegressor.html) -  эта модель как раз создана для генерирования константных предсказаний.\n",
    "    \n",
    "Важно, чтобы результат тестирования нашей модели на тествой выборке был лучше, чем результат константной модели - в противном случае наша модель является бесполезной, так как все наши усилия над проектом не принесли результата, а можель, просто предсказывющая среднее на `train`, делает нашу работу лучше."
   ]
  },
  {
   "cell_type": "markdown",
   "metadata": {},
   "source": [
    "<div class=\"alert alert-success\">\n",
    "<h2> Комментарий ревьюера v.2 <a class=\"tocSkip\"> </h2>\n",
    "\n",
    "<b>Все отлично!👍</b> Учтено."
   ]
  },
  {
   "cell_type": "markdown",
   "metadata": {},
   "source": [
    "### Проверка модели на адекватность"
   ]
  },
  {
   "cell_type": "code",
   "execution_count": 32,
   "metadata": {},
   "outputs": [
    {
     "name": "stdout",
     "output_type": "stream",
     "text": [
      "RMSE DummyRegressor = 1960.83\n"
     ]
    }
   ],
   "source": [
    "lgbm_predict_test = lgbm.predict(X_test)\n",
    "rmse_lgbm_test = root_mean_squared_error(y_test, lgbm_predict_test)\n",
    "print(\"RMSE DummyRegressor =\", round(rmse_lgbm_test, 2))"
   ]
  },
  {
   "cell_type": "markdown",
   "metadata": {},
   "source": [
    "Проверим модель на адекватность. Насколько она предсказывает лучше чем DummyRegressor."
   ]
  },
  {
   "cell_type": "code",
   "execution_count": 33,
   "metadata": {},
   "outputs": [
    {
     "name": "stdout",
     "output_type": "stream",
     "text": [
      "RMSE DummyRegressor = 4618.07\n"
     ]
    }
   ],
   "source": [
    "lm_dummy_mean = DummyRegressor(strategy = 'mean').fit(X_train, y_train)\n",
    "y_predict_dummy_mean = lm_dummy_mean.predict(X_test)\n",
    "rmse_dum_model = root_mean_squared_error(y_test, y_predict_dummy_mean)\n",
    "print(\"RMSE DummyRegressor =\", round(rmse_dum_model, 2))"
   ]
  },
  {
   "cell_type": "markdown",
   "metadata": {},
   "source": [
    "**Вывод:** Как видно из результатов модель `LGBMRegressor` даёт необходимое для заказчика качество и по требуемой метрики выше чем линейная регрессия. Проверка на адекватность также пройдена, что говорит о том, что использование данной модели эффективнее, чем просто взять среднее."
   ]
  },
  {
   "cell_type": "code",
   "execution_count": null,
   "metadata": {},
   "outputs": [],
   "source": []
  }
 ],
 "metadata": {
  "ExecuteTimeLog": [
   {
    "duration": 87,
    "start_time": "2024-04-02T06:43:17.619Z"
   },
   {
    "duration": 824,
    "start_time": "2024-04-02T06:44:37.125Z"
   },
   {
    "duration": 15,
    "start_time": "2024-04-02T06:45:05.754Z"
   },
   {
    "duration": 90,
    "start_time": "2024-04-02T06:46:28.558Z"
   },
   {
    "duration": 9,
    "start_time": "2024-04-02T06:48:23.555Z"
   },
   {
    "duration": 10,
    "start_time": "2024-04-02T06:48:55.686Z"
   },
   {
    "duration": 10,
    "start_time": "2024-04-02T06:48:59.502Z"
   },
   {
    "duration": 769,
    "start_time": "2024-04-02T06:49:13.206Z"
   },
   {
    "duration": 8,
    "start_time": "2024-04-02T06:49:41.368Z"
   },
   {
    "duration": 12,
    "start_time": "2024-04-02T06:49:59.404Z"
   },
   {
    "duration": 9,
    "start_time": "2024-04-02T06:50:44.018Z"
   },
   {
    "duration": 11,
    "start_time": "2024-04-02T06:50:54.867Z"
   },
   {
    "duration": 8,
    "start_time": "2024-04-02T06:50:58.226Z"
   },
   {
    "duration": 10,
    "start_time": "2024-04-02T06:51:01.026Z"
   },
   {
    "duration": 9,
    "start_time": "2024-04-02T06:51:42.179Z"
   },
   {
    "duration": 12,
    "start_time": "2024-04-02T06:51:56.685Z"
   },
   {
    "duration": 9,
    "start_time": "2024-04-02T06:52:19.798Z"
   },
   {
    "duration": 3208,
    "start_time": "2024-04-02T06:53:04.766Z"
   },
   {
    "duration": 3292,
    "start_time": "2024-04-02T06:53:14.759Z"
   },
   {
    "duration": 3337,
    "start_time": "2024-04-02T06:53:34.121Z"
   },
   {
    "duration": 17,
    "start_time": "2024-04-02T06:53:38.158Z"
   },
   {
    "duration": 1193,
    "start_time": "2024-04-02T06:53:48.558Z"
   },
   {
    "duration": 10,
    "start_time": "2024-04-02T06:54:13.702Z"
   },
   {
    "duration": 7,
    "start_time": "2024-04-02T06:54:29.328Z"
   },
   {
    "duration": 7,
    "start_time": "2024-04-02T06:54:32.928Z"
   },
   {
    "duration": 12,
    "start_time": "2024-04-02T06:54:40.072Z"
   },
   {
    "duration": 7065,
    "start_time": "2024-04-02T06:55:30.826Z"
   },
   {
    "duration": 6246,
    "start_time": "2024-04-02T06:56:57.435Z"
   },
   {
    "duration": 13,
    "start_time": "2024-04-02T06:57:10.364Z"
   },
   {
    "duration": 10,
    "start_time": "2024-04-02T06:57:34.808Z"
   },
   {
    "duration": 13,
    "start_time": "2024-04-02T06:57:39.239Z"
   },
   {
    "duration": 1649,
    "start_time": "2024-04-02T06:59:53.746Z"
   },
   {
    "duration": 10631,
    "start_time": "2024-04-02T07:00:03.921Z"
   },
   {
    "duration": 487,
    "start_time": "2024-04-02T07:00:25.315Z"
   },
   {
    "duration": 2873,
    "start_time": "2024-04-02T07:00:33.338Z"
   },
   {
    "duration": 29,
    "start_time": "2024-04-02T07:00:42.939Z"
   },
   {
    "duration": 5794,
    "start_time": "2024-04-02T07:01:49.069Z"
   },
   {
    "duration": 20,
    "start_time": "2024-04-02T07:02:12.900Z"
   },
   {
    "duration": 8278,
    "start_time": "2024-04-02T07:03:02.078Z"
   },
   {
    "duration": 20,
    "start_time": "2024-04-02T07:04:21.808Z"
   },
   {
    "duration": 13,
    "start_time": "2024-04-02T07:04:24.416Z"
   },
   {
    "duration": 15,
    "start_time": "2024-04-02T07:04:46.777Z"
   },
   {
    "duration": 5491,
    "start_time": "2024-04-02T07:06:25.051Z"
   },
   {
    "duration": 3552,
    "start_time": "2024-04-02T07:06:50.396Z"
   },
   {
    "duration": 22,
    "start_time": "2024-04-02T07:06:58.482Z"
   },
   {
    "duration": 827,
    "start_time": "2024-04-02T07:07:00.011Z"
   },
   {
    "duration": 9069,
    "start_time": "2024-04-02T07:07:36.077Z"
   },
   {
    "duration": 7613,
    "start_time": "2024-04-02T07:09:13.794Z"
   },
   {
    "duration": 6781,
    "start_time": "2024-04-02T07:09:29.022Z"
   },
   {
    "duration": 7061,
    "start_time": "2024-04-02T07:10:07.057Z"
   },
   {
    "duration": 6564,
    "start_time": "2024-04-02T07:10:19.710Z"
   },
   {
    "duration": 20176,
    "start_time": "2024-04-02T07:11:26.252Z"
   },
   {
    "duration": 14,
    "start_time": "2024-04-02T07:11:46.430Z"
   },
   {
    "duration": 960,
    "start_time": "2024-04-02T07:11:46.445Z"
   },
   {
    "duration": 11132,
    "start_time": "2024-04-02T07:11:47.407Z"
   },
   {
    "duration": 89,
    "start_time": "2024-04-02T07:25:21.433Z"
   },
   {
    "duration": 1534,
    "start_time": "2024-04-02T07:25:47.912Z"
   },
   {
    "duration": 68,
    "start_time": "2024-04-02T07:27:25.139Z"
   },
   {
    "duration": 15,
    "start_time": "2024-04-02T07:27:41.765Z"
   },
   {
    "duration": 8066,
    "start_time": "2024-04-02T07:31:44.020Z"
   },
   {
    "duration": 52647,
    "start_time": "2024-04-02T07:32:03.072Z"
   },
   {
    "duration": 117,
    "start_time": "2024-04-02T09:45:03.817Z"
   },
   {
    "duration": 135,
    "start_time": "2024-04-02T09:45:22.272Z"
   },
   {
    "duration": 168,
    "start_time": "2024-04-02T09:46:47.508Z"
   },
   {
    "duration": 163,
    "start_time": "2024-04-02T09:47:57.461Z"
   },
   {
    "duration": 310,
    "start_time": "2024-04-02T09:47:59.645Z"
   },
   {
    "duration": 93,
    "start_time": "2024-04-02T09:54:08.696Z"
   },
   {
    "duration": 165,
    "start_time": "2024-04-02T09:54:33.289Z"
   },
   {
    "duration": 178,
    "start_time": "2024-04-02T09:54:45.850Z"
   },
   {
    "duration": 259,
    "start_time": "2024-04-02T09:56:14.397Z"
   },
   {
    "duration": 141,
    "start_time": "2024-04-02T09:56:48.133Z"
   },
   {
    "duration": 242,
    "start_time": "2024-04-02T09:56:53.125Z"
   },
   {
    "duration": 84,
    "start_time": "2024-04-02T09:57:10.239Z"
   },
   {
    "duration": 86,
    "start_time": "2024-04-02T09:57:16.518Z"
   },
   {
    "duration": 83,
    "start_time": "2024-04-02T09:57:23.644Z"
   },
   {
    "duration": 89,
    "start_time": "2024-04-02T09:57:37.255Z"
   },
   {
    "duration": 82,
    "start_time": "2024-04-02T09:57:41.238Z"
   },
   {
    "duration": 102,
    "start_time": "2024-04-02T10:01:49.246Z"
   },
   {
    "duration": 95,
    "start_time": "2024-04-02T10:02:02.155Z"
   },
   {
    "duration": 94,
    "start_time": "2024-04-02T10:02:05.919Z"
   },
   {
    "duration": 104,
    "start_time": "2024-04-02T10:02:36.086Z"
   },
   {
    "duration": 93,
    "start_time": "2024-04-02T10:03:02.801Z"
   },
   {
    "duration": 111,
    "start_time": "2024-04-02T10:03:56.994Z"
   },
   {
    "duration": 88,
    "start_time": "2024-04-02T10:04:08.809Z"
   },
   {
    "duration": 87,
    "start_time": "2024-04-02T10:04:13.643Z"
   },
   {
    "duration": 161,
    "start_time": "2024-04-02T10:05:46.760Z"
   },
   {
    "duration": 95,
    "start_time": "2024-04-02T10:44:57.269Z"
   },
   {
    "duration": 85,
    "start_time": "2024-04-02T10:45:00.133Z"
   },
   {
    "duration": 156,
    "start_time": "2024-04-02T10:51:30.116Z"
   },
   {
    "duration": 95,
    "start_time": "2024-04-02T10:59:22.276Z"
   },
   {
    "duration": 12713,
    "start_time": "2024-04-02T11:12:42.917Z"
   },
   {
    "duration": 14,
    "start_time": "2024-04-02T11:12:55.633Z"
   },
   {
    "duration": 7905,
    "start_time": "2024-04-02T11:12:55.649Z"
   },
   {
    "duration": 51218,
    "start_time": "2024-04-02T11:13:03.556Z"
   },
   {
    "duration": 317,
    "start_time": "2024-04-02T11:13:54.776Z"
   },
   {
    "duration": 204,
    "start_time": "2024-04-02T11:13:55.095Z"
   },
   {
    "duration": 321,
    "start_time": "2024-04-02T11:13:55.301Z"
   },
   {
    "duration": 112,
    "start_time": "2024-04-02T11:13:55.624Z"
   },
   {
    "duration": 36,
    "start_time": "2024-04-02T11:13:55.737Z"
   },
   {
    "duration": 83,
    "start_time": "2024-04-02T11:13:55.776Z"
   },
   {
    "duration": 0,
    "start_time": "2024-04-02T11:13:55.861Z"
   },
   {
    "duration": 0,
    "start_time": "2024-04-02T11:13:55.862Z"
   },
   {
    "duration": 25,
    "start_time": "2024-04-02T11:14:10.160Z"
   },
   {
    "duration": 23,
    "start_time": "2024-04-02T11:14:13.671Z"
   },
   {
    "duration": 134,
    "start_time": "2024-04-02T11:14:17.432Z"
   },
   {
    "duration": 89,
    "start_time": "2024-04-02T11:17:04.118Z"
   },
   {
    "duration": 28,
    "start_time": "2024-04-02T11:17:45.116Z"
   },
   {
    "duration": 26,
    "start_time": "2024-04-02T11:17:50.554Z"
   },
   {
    "duration": 320,
    "start_time": "2024-04-02T11:18:40.796Z"
   },
   {
    "duration": 80,
    "start_time": "2024-04-02T11:19:16.286Z"
   },
   {
    "duration": 51,
    "start_time": "2024-04-02T11:20:05.222Z"
   },
   {
    "duration": 19304,
    "start_time": "2024-04-02T11:20:55.759Z"
   },
   {
    "duration": 78,
    "start_time": "2024-04-02T11:22:42.787Z"
   },
   {
    "duration": 13,
    "start_time": "2024-04-02T11:22:59.739Z"
   },
   {
    "duration": 29,
    "start_time": "2024-04-02T11:25:31.620Z"
   },
   {
    "duration": 213,
    "start_time": "2024-04-02T11:25:39.007Z"
   },
   {
    "duration": 27,
    "start_time": "2024-04-02T11:25:49.114Z"
   },
   {
    "duration": 27,
    "start_time": "2024-04-02T11:25:54.669Z"
   },
   {
    "duration": 12724,
    "start_time": "2024-04-02T11:26:20.300Z"
   },
   {
    "duration": 15,
    "start_time": "2024-04-02T11:26:33.027Z"
   },
   {
    "duration": 7896,
    "start_time": "2024-04-02T11:26:33.043Z"
   },
   {
    "duration": 48104,
    "start_time": "2024-04-02T11:26:40.942Z"
   },
   {
    "duration": 231,
    "start_time": "2024-04-02T11:27:29.047Z"
   },
   {
    "duration": 209,
    "start_time": "2024-04-02T11:27:29.280Z"
   },
   {
    "duration": 311,
    "start_time": "2024-04-02T11:27:29.491Z"
   },
   {
    "duration": 107,
    "start_time": "2024-04-02T11:27:29.804Z"
   },
   {
    "duration": 21,
    "start_time": "2024-04-02T11:27:29.913Z"
   },
   {
    "duration": 43,
    "start_time": "2024-04-02T11:27:29.936Z"
   },
   {
    "duration": 23,
    "start_time": "2024-04-02T11:27:29.981Z"
   },
   {
    "duration": 149,
    "start_time": "2024-04-02T11:27:30.006Z"
   },
   {
    "duration": 340,
    "start_time": "2024-04-02T11:27:30.157Z"
   },
   {
    "duration": 22775,
    "start_time": "2024-04-02T11:27:30.499Z"
   },
   {
    "duration": 27,
    "start_time": "2024-04-02T11:27:53.276Z"
   },
   {
    "duration": 43137,
    "start_time": "2024-04-04T07:29:10.378Z"
   },
   {
    "duration": 0,
    "start_time": "2024-04-04T07:29:53.518Z"
   },
   {
    "duration": 0,
    "start_time": "2024-04-04T07:29:53.519Z"
   },
   {
    "duration": 0,
    "start_time": "2024-04-04T07:29:53.521Z"
   },
   {
    "duration": 0,
    "start_time": "2024-04-04T07:29:53.523Z"
   },
   {
    "duration": 0,
    "start_time": "2024-04-04T07:29:53.524Z"
   },
   {
    "duration": 0,
    "start_time": "2024-04-04T07:29:53.525Z"
   },
   {
    "duration": 0,
    "start_time": "2024-04-04T07:29:53.527Z"
   },
   {
    "duration": 0,
    "start_time": "2024-04-04T07:29:53.529Z"
   },
   {
    "duration": 0,
    "start_time": "2024-04-04T07:29:53.531Z"
   },
   {
    "duration": 0,
    "start_time": "2024-04-04T07:29:53.533Z"
   },
   {
    "duration": 0,
    "start_time": "2024-04-04T07:29:53.535Z"
   },
   {
    "duration": 0,
    "start_time": "2024-04-04T07:29:53.536Z"
   },
   {
    "duration": 0,
    "start_time": "2024-04-04T07:29:53.538Z"
   },
   {
    "duration": 0,
    "start_time": "2024-04-04T07:29:53.539Z"
   },
   {
    "duration": 0,
    "start_time": "2024-04-04T07:29:53.540Z"
   },
   {
    "duration": 0,
    "start_time": "2024-04-04T07:29:53.541Z"
   },
   {
    "duration": 0,
    "start_time": "2024-04-04T07:29:53.582Z"
   },
   {
    "duration": 13216,
    "start_time": "2024-04-04T07:39:42.398Z"
   },
   {
    "duration": 9884,
    "start_time": "2024-04-04T07:40:24.234Z"
   },
   {
    "duration": 12681,
    "start_time": "2024-04-04T07:40:42.445Z"
   },
   {
    "duration": 14,
    "start_time": "2024-04-04T07:40:59.927Z"
   },
   {
    "duration": 8188,
    "start_time": "2024-04-04T07:41:02.102Z"
   },
   {
    "duration": 51411,
    "start_time": "2024-04-04T07:41:10.292Z"
   },
   {
    "duration": 13051,
    "start_time": "2024-04-04T07:42:09.842Z"
   },
   {
    "duration": 16,
    "start_time": "2024-04-04T07:42:22.895Z"
   },
   {
    "duration": 7940,
    "start_time": "2024-04-04T07:42:22.913Z"
   },
   {
    "duration": 54945,
    "start_time": "2024-04-04T07:42:30.855Z"
   },
   {
    "duration": 244,
    "start_time": "2024-04-04T07:43:25.803Z"
   },
   {
    "duration": 224,
    "start_time": "2024-04-04T07:43:26.049Z"
   },
   {
    "duration": 368,
    "start_time": "2024-04-04T07:43:26.275Z"
   },
   {
    "duration": 113,
    "start_time": "2024-04-04T07:43:26.645Z"
   },
   {
    "duration": 55,
    "start_time": "2024-04-04T07:43:26.760Z"
   },
   {
    "duration": 34,
    "start_time": "2024-04-04T07:43:26.817Z"
   },
   {
    "duration": 33,
    "start_time": "2024-04-04T07:43:26.853Z"
   },
   {
    "duration": 174,
    "start_time": "2024-04-04T07:43:26.889Z"
   },
   {
    "duration": 394,
    "start_time": "2024-04-04T07:43:27.066Z"
   },
   {
    "duration": 26280,
    "start_time": "2024-04-04T07:43:27.461Z"
   },
   {
    "duration": 296,
    "start_time": "2024-04-04T07:43:53.743Z"
   },
   {
    "duration": 0,
    "start_time": "2024-04-04T07:43:54.040Z"
   },
   {
    "duration": 0,
    "start_time": "2024-04-04T07:43:54.041Z"
   },
   {
    "duration": 0,
    "start_time": "2024-04-04T07:43:54.042Z"
   },
   {
    "duration": 54,
    "start_time": "2024-04-04T07:45:20.861Z"
   },
   {
    "duration": 34,
    "start_time": "2024-04-04T07:45:27.153Z"
   },
   {
    "duration": 77,
    "start_time": "2024-04-04T07:45:36.435Z"
   },
   {
    "duration": 28,
    "start_time": "2024-04-04T07:45:38.663Z"
   },
   {
    "duration": 82,
    "start_time": "2024-04-04T07:45:45.753Z"
   },
   {
    "duration": 15,
    "start_time": "2024-04-04T07:45:51.333Z"
   },
   {
    "duration": 3,
    "start_time": "2024-04-04T07:46:12.837Z"
   },
   {
    "duration": 1384,
    "start_time": "2024-04-04T07:46:19.299Z"
   },
   {
    "duration": 3210,
    "start_time": "2024-04-04T07:46:33.837Z"
   },
   {
    "duration": 19464,
    "start_time": "2024-04-04T07:50:14.220Z"
   },
   {
    "duration": 296,
    "start_time": "2024-04-04T07:50:33.686Z"
   },
   {
    "duration": 97,
    "start_time": "2024-04-04T07:50:33.984Z"
   },
   {
    "duration": 90,
    "start_time": "2024-04-04T07:52:34.138Z"
   },
   {
    "duration": 5,
    "start_time": "2024-04-04T07:52:37.417Z"
   },
   {
    "duration": 35,
    "start_time": "2024-04-04T08:43:02.757Z"
   },
   {
    "duration": 4,
    "start_time": "2024-04-04T08:48:48.312Z"
   },
   {
    "duration": 110,
    "start_time": "2024-04-04T08:54:22.084Z"
   },
   {
    "duration": 154165,
    "start_time": "2024-04-04T08:55:35.220Z"
   },
   {
    "duration": 930,
    "start_time": "2024-04-04T09:22:28.049Z"
   },
   {
    "duration": 902,
    "start_time": "2024-04-04T09:22:45.697Z"
   },
   {
    "duration": 13,
    "start_time": "2024-04-04T09:32:01.629Z"
   },
   {
    "duration": 11,
    "start_time": "2024-04-04T09:32:55.102Z"
   },
   {
    "duration": 11,
    "start_time": "2024-04-04T09:33:08.115Z"
   },
   {
    "duration": 11,
    "start_time": "2024-04-04T09:33:55.220Z"
   },
   {
    "duration": 24,
    "start_time": "2024-04-04T09:36:43.812Z"
   },
   {
    "duration": 4,
    "start_time": "2024-04-04T09:36:59.233Z"
   },
   {
    "duration": 12842,
    "start_time": "2024-04-04T09:40:08.339Z"
   },
   {
    "duration": 74,
    "start_time": "2024-04-04T09:40:21.183Z"
   },
   {
    "duration": 24,
    "start_time": "2024-04-04T09:40:21.259Z"
   },
   {
    "duration": 8063,
    "start_time": "2024-04-04T09:40:21.284Z"
   },
   {
    "duration": 47913,
    "start_time": "2024-04-04T09:40:29.350Z"
   },
   {
    "duration": 229,
    "start_time": "2024-04-04T09:41:17.265Z"
   },
   {
    "duration": 206,
    "start_time": "2024-04-04T09:41:17.495Z"
   },
   {
    "duration": 313,
    "start_time": "2024-04-04T09:41:17.703Z"
   },
   {
    "duration": 124,
    "start_time": "2024-04-04T09:41:18.017Z"
   },
   {
    "duration": 43,
    "start_time": "2024-04-04T09:41:18.143Z"
   },
   {
    "duration": 34,
    "start_time": "2024-04-04T09:41:18.188Z"
   },
   {
    "duration": 22,
    "start_time": "2024-04-04T09:41:18.223Z"
   },
   {
    "duration": 142,
    "start_time": "2024-04-04T09:41:18.247Z"
   },
   {
    "duration": 335,
    "start_time": "2024-04-04T09:41:18.392Z"
   },
   {
    "duration": 21970,
    "start_time": "2024-04-04T09:41:18.730Z"
   },
   {
    "duration": 115,
    "start_time": "2024-04-04T09:41:40.702Z"
   },
   {
    "duration": 25,
    "start_time": "2024-04-04T09:41:40.819Z"
   },
   {
    "duration": 3128,
    "start_time": "2024-04-04T09:41:40.846Z"
   },
   {
    "duration": 19106,
    "start_time": "2024-04-04T09:41:43.976Z"
   },
   {
    "duration": 211,
    "start_time": "2024-04-04T09:42:03.083Z"
   },
   {
    "duration": 6,
    "start_time": "2024-04-04T09:42:03.382Z"
   },
   {
    "duration": 158006,
    "start_time": "2024-04-04T09:42:03.390Z"
   },
   {
    "duration": 992,
    "start_time": "2024-04-04T09:44:41.398Z"
   },
   {
    "duration": 11,
    "start_time": "2024-04-04T09:44:42.391Z"
   },
   {
    "duration": 4,
    "start_time": "2024-04-04T09:44:42.404Z"
   },
   {
    "duration": 43550,
    "start_time": "2024-04-04T17:43:53.084Z"
   },
   {
    "duration": 0,
    "start_time": "2024-04-04T17:44:36.636Z"
   },
   {
    "duration": 0,
    "start_time": "2024-04-04T17:44:36.637Z"
   },
   {
    "duration": 0,
    "start_time": "2024-04-04T17:44:36.638Z"
   },
   {
    "duration": 0,
    "start_time": "2024-04-04T17:44:36.639Z"
   },
   {
    "duration": 0,
    "start_time": "2024-04-04T17:44:36.640Z"
   },
   {
    "duration": 0,
    "start_time": "2024-04-04T17:44:36.641Z"
   },
   {
    "duration": 0,
    "start_time": "2024-04-04T17:44:36.642Z"
   },
   {
    "duration": 0,
    "start_time": "2024-04-04T17:44:36.643Z"
   },
   {
    "duration": 0,
    "start_time": "2024-04-04T17:44:36.644Z"
   },
   {
    "duration": 0,
    "start_time": "2024-04-04T17:44:36.645Z"
   },
   {
    "duration": 0,
    "start_time": "2024-04-04T17:44:36.646Z"
   },
   {
    "duration": 11656,
    "start_time": "2024-04-04T17:45:01.768Z"
   },
   {
    "duration": 10455,
    "start_time": "2024-04-04T17:46:25.929Z"
   },
   {
    "duration": 9602,
    "start_time": "2024-04-04T17:46:37.517Z"
   },
   {
    "duration": 12019,
    "start_time": "2024-04-04T17:46:53.347Z"
   },
   {
    "duration": 9444,
    "start_time": "2024-04-04T17:47:09.130Z"
   },
   {
    "duration": 8743,
    "start_time": "2024-04-04T17:47:26.912Z"
   },
   {
    "duration": 10960,
    "start_time": "2024-04-04T17:48:06.081Z"
   },
   {
    "duration": 8715,
    "start_time": "2024-04-04T17:48:35.922Z"
   },
   {
    "duration": 72,
    "start_time": "2024-04-04T17:48:44.639Z"
   },
   {
    "duration": 11,
    "start_time": "2024-04-04T17:48:44.713Z"
   },
   {
    "duration": 7334,
    "start_time": "2024-04-04T17:48:44.726Z"
   },
   {
    "duration": 42385,
    "start_time": "2024-04-04T17:48:52.062Z"
   },
   {
    "duration": 257,
    "start_time": "2024-04-04T17:49:34.449Z"
   },
   {
    "duration": 165,
    "start_time": "2024-04-04T17:49:34.708Z"
   },
   {
    "duration": 292,
    "start_time": "2024-04-04T17:49:34.874Z"
   },
   {
    "duration": 97,
    "start_time": "2024-04-04T17:49:35.167Z"
   },
   {
    "duration": 56,
    "start_time": "2024-04-04T17:49:35.266Z"
   },
   {
    "duration": 43,
    "start_time": "2024-04-04T17:49:35.324Z"
   },
   {
    "duration": 4,
    "start_time": "2024-04-04T17:49:35.369Z"
   },
   {
    "duration": 68,
    "start_time": "2024-04-04T17:49:38.747Z"
   },
   {
    "duration": 27,
    "start_time": "2024-04-04T17:50:22.183Z"
   },
   {
    "duration": 14,
    "start_time": "2024-04-04T17:53:52.979Z"
   },
   {
    "duration": 11373,
    "start_time": "2024-04-04T17:56:30.857Z"
   },
   {
    "duration": 69,
    "start_time": "2024-04-04T17:56:42.232Z"
   },
   {
    "duration": 12,
    "start_time": "2024-04-04T17:56:42.306Z"
   },
   {
    "duration": 7186,
    "start_time": "2024-04-04T17:56:42.320Z"
   },
   {
    "duration": 45900,
    "start_time": "2024-04-04T17:56:49.508Z"
   },
   {
    "duration": 295,
    "start_time": "2024-04-04T17:57:35.410Z"
   },
   {
    "duration": 173,
    "start_time": "2024-04-04T17:57:35.707Z"
   },
   {
    "duration": 304,
    "start_time": "2024-04-04T17:57:35.881Z"
   },
   {
    "duration": 97,
    "start_time": "2024-04-04T17:57:36.187Z"
   },
   {
    "duration": 21,
    "start_time": "2024-04-04T17:57:36.302Z"
   },
   {
    "duration": 79,
    "start_time": "2024-04-04T17:57:36.325Z"
   },
   {
    "duration": 19,
    "start_time": "2024-04-04T17:57:36.406Z"
   },
   {
    "duration": 14,
    "start_time": "2024-04-04T17:57:36.426Z"
   },
   {
    "duration": 21,
    "start_time": "2024-04-04T17:57:36.442Z"
   },
   {
    "duration": 116,
    "start_time": "2024-04-04T17:57:36.464Z"
   },
   {
    "duration": 281,
    "start_time": "2024-04-04T17:57:36.582Z"
   },
   {
    "duration": 19741,
    "start_time": "2024-04-04T17:57:36.865Z"
   },
   {
    "duration": 283,
    "start_time": "2024-04-04T18:07:10.119Z"
   },
   {
    "duration": 90,
    "start_time": "2024-04-04T18:14:33.206Z"
   },
   {
    "duration": 466,
    "start_time": "2024-04-04T18:21:32.770Z"
   },
   {
    "duration": 161,
    "start_time": "2024-04-04T18:22:05.815Z"
   },
   {
    "duration": 75,
    "start_time": "2024-04-04T18:22:10.349Z"
   },
   {
    "duration": 13,
    "start_time": "2024-04-04T18:22:34.783Z"
   },
   {
    "duration": 153,
    "start_time": "2024-04-04T18:23:29.632Z"
   },
   {
    "duration": 81,
    "start_time": "2024-04-04T18:23:33.885Z"
   },
   {
    "duration": 14,
    "start_time": "2024-04-04T18:23:35.893Z"
   },
   {
    "duration": 146,
    "start_time": "2024-04-04T18:24:36.041Z"
   },
   {
    "duration": 104,
    "start_time": "2024-04-04T18:24:38.904Z"
   },
   {
    "duration": 101,
    "start_time": "2024-04-05T07:02:04.972Z"
   },
   {
    "duration": 38954,
    "start_time": "2024-04-05T07:23:08.952Z"
   },
   {
    "duration": 0,
    "start_time": "2024-04-05T07:23:47.909Z"
   },
   {
    "duration": 0,
    "start_time": "2024-04-05T07:23:47.910Z"
   },
   {
    "duration": 0,
    "start_time": "2024-04-05T07:23:47.911Z"
   },
   {
    "duration": 0,
    "start_time": "2024-04-05T07:23:47.912Z"
   },
   {
    "duration": 0,
    "start_time": "2024-04-05T07:23:47.914Z"
   },
   {
    "duration": 0,
    "start_time": "2024-04-05T07:23:47.916Z"
   },
   {
    "duration": 0,
    "start_time": "2024-04-05T07:23:47.917Z"
   },
   {
    "duration": 0,
    "start_time": "2024-04-05T07:23:47.918Z"
   },
   {
    "duration": 0,
    "start_time": "2024-04-05T07:23:47.920Z"
   },
   {
    "duration": 0,
    "start_time": "2024-04-05T07:23:47.921Z"
   },
   {
    "duration": 0,
    "start_time": "2024-04-05T07:23:47.922Z"
   },
   {
    "duration": 0,
    "start_time": "2024-04-05T07:23:47.924Z"
   },
   {
    "duration": 0,
    "start_time": "2024-04-05T07:23:47.925Z"
   },
   {
    "duration": 0,
    "start_time": "2024-04-05T07:23:47.927Z"
   },
   {
    "duration": 14,
    "start_time": "2024-04-05T07:23:52.057Z"
   },
   {
    "duration": 12491,
    "start_time": "2024-04-05T07:25:06.043Z"
   },
   {
    "duration": 12100,
    "start_time": "2024-04-05T07:25:26.478Z"
   },
   {
    "duration": 72,
    "start_time": "2024-04-05T07:25:48.778Z"
   },
   {
    "duration": 13,
    "start_time": "2024-04-05T07:25:51.096Z"
   },
   {
    "duration": 7455,
    "start_time": "2024-04-05T07:25:52.738Z"
   },
   {
    "duration": 185,
    "start_time": "2024-04-05T07:26:00.416Z"
   },
   {
    "duration": 362,
    "start_time": "2024-04-05T07:26:05.307Z"
   },
   {
    "duration": 103,
    "start_time": "2024-04-05T07:26:07.556Z"
   },
   {
    "duration": 22,
    "start_time": "2024-04-05T07:26:11.252Z"
   },
   {
    "duration": 70,
    "start_time": "2024-04-05T07:26:12.796Z"
   },
   {
    "duration": 24,
    "start_time": "2024-04-05T07:26:13.973Z"
   },
   {
    "duration": 268,
    "start_time": "2024-04-05T07:26:16.244Z"
   },
   {
    "duration": 20,
    "start_time": "2024-04-05T07:26:20.275Z"
   },
   {
    "duration": 113,
    "start_time": "2024-04-05T07:26:23.091Z"
   },
   {
    "duration": 299,
    "start_time": "2024-04-05T07:26:27.877Z"
   },
   {
    "duration": 188,
    "start_time": "2024-04-05T07:26:47.807Z"
   },
   {
    "duration": 13,
    "start_time": "2024-04-05T07:27:04.505Z"
   },
   {
    "duration": 10,
    "start_time": "2024-04-05T07:32:16.487Z"
   },
   {
    "duration": 85,
    "start_time": "2024-04-05T07:46:56.316Z"
   },
   {
    "duration": 80,
    "start_time": "2024-04-05T07:47:57.063Z"
   },
   {
    "duration": 18110,
    "start_time": "2024-04-05T11:42:00.836Z"
   },
   {
    "duration": 12,
    "start_time": "2024-04-05T11:42:22.340Z"
   },
   {
    "duration": 7378,
    "start_time": "2024-04-05T11:42:24.549Z"
   },
   {
    "duration": 172,
    "start_time": "2024-04-05T11:42:33.553Z"
   },
   {
    "duration": 190,
    "start_time": "2024-04-05T11:42:36.033Z"
   },
   {
    "duration": 350,
    "start_time": "2024-04-05T11:42:37.030Z"
   },
   {
    "duration": 99,
    "start_time": "2024-04-05T11:42:39.261Z"
   },
   {
    "duration": 21,
    "start_time": "2024-04-05T11:42:42.522Z"
   },
   {
    "duration": 78,
    "start_time": "2024-04-05T11:42:44.443Z"
   },
   {
    "duration": 33,
    "start_time": "2024-04-05T11:42:45.783Z"
   },
   {
    "duration": 272,
    "start_time": "2024-04-05T11:42:47.681Z"
   },
   {
    "duration": 27,
    "start_time": "2024-04-05T11:42:50.893Z"
   },
   {
    "duration": 105,
    "start_time": "2024-04-05T11:42:52.379Z"
   },
   {
    "duration": 271,
    "start_time": "2024-04-05T11:42:54.549Z"
   },
   {
    "duration": 192,
    "start_time": "2024-04-05T11:42:59.307Z"
   },
   {
    "duration": 25,
    "start_time": "2024-04-05T11:43:09.476Z"
   },
   {
    "duration": 12,
    "start_time": "2024-04-05T11:43:11.033Z"
   },
   {
    "duration": 3,
    "start_time": "2024-04-05T11:43:18.379Z"
   },
   {
    "duration": 689,
    "start_time": "2024-04-05T11:43:20.469Z"
   },
   {
    "duration": 5782,
    "start_time": "2024-04-05T11:43:51.224Z"
   },
   {
    "duration": 3,
    "start_time": "2024-04-05T11:48:06.949Z"
   },
   {
    "duration": 5621,
    "start_time": "2024-04-05T11:48:08.630Z"
   },
   {
    "duration": 15,
    "start_time": "2024-04-05T11:49:36.484Z"
   },
   {
    "duration": 2,
    "start_time": "2024-04-05T11:49:48.349Z"
   },
   {
    "duration": 6081,
    "start_time": "2024-04-05T11:49:50.209Z"
   },
   {
    "duration": 47,
    "start_time": "2024-04-05T11:50:13.970Z"
   },
   {
    "duration": 20,
    "start_time": "2024-04-05T11:52:01.617Z"
   },
   {
    "duration": 3,
    "start_time": "2024-04-05T11:52:20.893Z"
   },
   {
    "duration": 394,
    "start_time": "2024-04-05T11:52:21.829Z"
   },
   {
    "duration": 2,
    "start_time": "2024-04-05T11:53:14.848Z"
   },
   {
    "duration": 6039,
    "start_time": "2024-04-05T11:53:16.021Z"
   },
   {
    "duration": 5,
    "start_time": "2024-04-05T11:54:40.572Z"
   },
   {
    "duration": 6098,
    "start_time": "2024-04-05T11:54:41.678Z"
   },
   {
    "duration": 3,
    "start_time": "2024-04-05T11:55:45.273Z"
   },
   {
    "duration": 6371,
    "start_time": "2024-04-05T11:55:47.089Z"
   },
   {
    "duration": 3,
    "start_time": "2024-04-05T11:56:08.152Z"
   },
   {
    "duration": 6566,
    "start_time": "2024-04-05T11:56:18.370Z"
   },
   {
    "duration": 3,
    "start_time": "2024-04-05T11:57:35.347Z"
   },
   {
    "duration": 6662,
    "start_time": "2024-04-05T11:57:37.533Z"
   },
   {
    "duration": 3,
    "start_time": "2024-04-05T12:00:09.089Z"
   },
   {
    "duration": 6116,
    "start_time": "2024-04-05T12:00:10.460Z"
   },
   {
    "duration": 3,
    "start_time": "2024-04-05T12:01:48.681Z"
   },
   {
    "duration": 375,
    "start_time": "2024-04-05T12:01:49.539Z"
   },
   {
    "duration": 3,
    "start_time": "2024-04-05T12:02:24.551Z"
   },
   {
    "duration": 6350,
    "start_time": "2024-04-05T12:02:25.847Z"
   },
   {
    "duration": 3,
    "start_time": "2024-04-05T12:02:46.211Z"
   },
   {
    "duration": 6015,
    "start_time": "2024-04-05T12:02:47.077Z"
   },
   {
    "duration": 458,
    "start_time": "2024-04-05T12:03:31.281Z"
   },
   {
    "duration": 6331,
    "start_time": "2024-04-05T12:03:48.803Z"
   },
   {
    "duration": 3,
    "start_time": "2024-04-05T12:06:53.835Z"
   },
   {
    "duration": 286,
    "start_time": "2024-04-05T12:06:54.892Z"
   },
   {
    "duration": 293,
    "start_time": "2024-04-05T12:07:14.111Z"
   },
   {
    "duration": 2,
    "start_time": "2024-04-05T12:08:06.388Z"
   },
   {
    "duration": 25,
    "start_time": "2024-04-05T12:08:07.375Z"
   },
   {
    "duration": 2,
    "start_time": "2024-04-05T12:08:26.272Z"
   },
   {
    "duration": 452,
    "start_time": "2024-04-05T12:08:27.615Z"
   },
   {
    "duration": 13,
    "start_time": "2024-04-05T12:08:37.114Z"
   },
   {
    "duration": 41,
    "start_time": "2024-04-05T12:10:38.424Z"
   },
   {
    "duration": 22,
    "start_time": "2024-04-05T12:10:42.155Z"
   },
   {
    "duration": 2,
    "start_time": "2024-04-05T12:11:17.725Z"
   },
   {
    "duration": 217,
    "start_time": "2024-04-05T12:11:19.151Z"
   },
   {
    "duration": 41,
    "start_time": "2024-04-05T12:11:22.058Z"
   },
   {
    "duration": 7,
    "start_time": "2024-04-05T12:11:24.132Z"
   },
   {
    "duration": 7,
    "start_time": "2024-04-05T12:11:29.054Z"
   },
   {
    "duration": 32,
    "start_time": "2024-04-05T12:12:26.680Z"
   },
   {
    "duration": 31,
    "start_time": "2024-04-05T12:12:53.481Z"
   },
   {
    "duration": 25,
    "start_time": "2024-04-05T12:13:11.746Z"
   },
   {
    "duration": 6,
    "start_time": "2024-04-05T12:21:30.035Z"
   },
   {
    "duration": 4,
    "start_time": "2024-04-05T12:22:26.314Z"
   },
   {
    "duration": 3,
    "start_time": "2024-04-05T12:31:06.685Z"
   },
   {
    "duration": 14375,
    "start_time": "2024-04-05T12:51:55.237Z"
   },
   {
    "duration": 14,
    "start_time": "2024-04-05T12:52:12.374Z"
   },
   {
    "duration": 7231,
    "start_time": "2024-04-05T12:52:14.477Z"
   },
   {
    "duration": 180,
    "start_time": "2024-04-05T12:52:21.710Z"
   },
   {
    "duration": 214,
    "start_time": "2024-04-05T12:52:21.892Z"
   },
   {
    "duration": 356,
    "start_time": "2024-04-05T12:52:22.109Z"
   },
   {
    "duration": 102,
    "start_time": "2024-04-05T12:52:24.998Z"
   },
   {
    "duration": 22,
    "start_time": "2024-04-05T12:52:28.582Z"
   },
   {
    "duration": 73,
    "start_time": "2024-04-05T12:52:31.121Z"
   },
   {
    "duration": 22,
    "start_time": "2024-04-05T12:52:32.216Z"
   },
   {
    "duration": 280,
    "start_time": "2024-04-05T12:52:34.709Z"
   },
   {
    "duration": 19,
    "start_time": "2024-04-05T12:52:37.581Z"
   },
   {
    "duration": 103,
    "start_time": "2024-04-05T12:52:39.134Z"
   },
   {
    "duration": 261,
    "start_time": "2024-04-05T12:52:41.376Z"
   },
   {
    "duration": 5153,
    "start_time": "2024-04-05T12:52:43.855Z"
   },
   {
    "duration": 222,
    "start_time": "2024-04-05T12:52:53.836Z"
   },
   {
    "duration": 25,
    "start_time": "2024-04-05T12:52:56.287Z"
   },
   {
    "duration": 12,
    "start_time": "2024-04-05T12:52:57.769Z"
   },
   {
    "duration": 3,
    "start_time": "2024-04-05T12:53:01.714Z"
   },
   {
    "duration": 388,
    "start_time": "2024-04-05T12:53:03.199Z"
   },
   {
    "duration": 37,
    "start_time": "2024-04-05T12:53:07.928Z"
   },
   {
    "duration": 9,
    "start_time": "2024-04-05T12:53:09.306Z"
   },
   {
    "duration": 6,
    "start_time": "2024-04-05T12:53:11.121Z"
   },
   {
    "duration": 3,
    "start_time": "2024-04-05T12:53:15.809Z"
   },
   {
    "duration": 907969,
    "start_time": "2024-04-05T12:54:00.010Z"
   },
   {
    "duration": 5,
    "start_time": "2024-04-05T13:13:15.841Z"
   },
   {
    "duration": 658664,
    "start_time": "2024-04-05T13:15:01.415Z"
   },
   {
    "duration": 3,
    "start_time": "2024-04-05T13:28:01.801Z"
   },
   {
    "duration": 14,
    "start_time": "2024-04-05T13:28:03.610Z"
   },
   {
    "duration": 4,
    "start_time": "2024-04-05T13:28:10.345Z"
   },
   {
    "duration": 50750,
    "start_time": "2024-04-07T08:45:20.644Z"
   },
   {
    "duration": 13,
    "start_time": "2024-04-07T08:46:11.397Z"
   },
   {
    "duration": 7642,
    "start_time": "2024-04-07T08:46:11.412Z"
   },
   {
    "duration": 52377,
    "start_time": "2024-04-07T08:46:19.056Z"
   },
   {
    "duration": 335,
    "start_time": "2024-04-07T08:47:11.435Z"
   },
   {
    "duration": 212,
    "start_time": "2024-04-07T08:47:11.772Z"
   },
   {
    "duration": 419,
    "start_time": "2024-04-07T08:47:11.987Z"
   },
   {
    "duration": 107,
    "start_time": "2024-04-07T08:47:12.409Z"
   },
   {
    "duration": 21,
    "start_time": "2024-04-07T08:47:12.517Z"
   },
   {
    "duration": 85,
    "start_time": "2024-04-07T08:47:12.540Z"
   },
   {
    "duration": 24,
    "start_time": "2024-04-07T08:47:12.626Z"
   },
   {
    "duration": 322,
    "start_time": "2024-04-07T08:47:12.651Z"
   },
   {
    "duration": 30,
    "start_time": "2024-04-07T08:47:12.974Z"
   },
   {
    "duration": 126,
    "start_time": "2024-04-07T08:47:13.006Z"
   },
   {
    "duration": 314,
    "start_time": "2024-04-07T08:47:13.133Z"
   },
   {
    "duration": 20807,
    "start_time": "2024-04-07T08:47:13.449Z"
   },
   {
    "duration": 257,
    "start_time": "2024-04-07T08:47:34.258Z"
   },
   {
    "duration": 25,
    "start_time": "2024-04-07T08:47:34.517Z"
   },
   {
    "duration": 13,
    "start_time": "2024-04-07T08:47:34.543Z"
   },
   {
    "duration": 12,
    "start_time": "2024-04-07T08:47:34.559Z"
   },
   {
    "duration": 455,
    "start_time": "2024-04-07T08:47:34.573Z"
   },
   {
    "duration": 165,
    "start_time": "2024-04-07T08:47:35.030Z"
   },
   {
    "duration": 110,
    "start_time": "2024-04-07T08:47:35.199Z"
   },
   {
    "duration": 86,
    "start_time": "2024-04-07T08:47:35.311Z"
   },
   {
    "duration": 89,
    "start_time": "2024-04-07T08:47:35.404Z"
   },
   {
    "duration": 3783122,
    "start_time": "2024-04-07T08:47:35.495Z"
   },
   {
    "duration": 93,
    "start_time": "2024-04-07T09:50:38.618Z"
   },
   {
    "duration": 94,
    "start_time": "2024-04-07T09:50:38.716Z"
   },
   {
    "duration": 16,
    "start_time": "2024-04-07T09:50:38.811Z"
   },
   {
    "duration": 0,
    "start_time": "2024-04-07T09:50:38.835Z"
   },
   {
    "duration": 3,
    "start_time": "2024-04-07T09:50:45.507Z"
   },
   {
    "duration": 19579,
    "start_time": "2024-04-07T09:56:23.491Z"
   },
   {
    "duration": 15,
    "start_time": "2024-04-07T09:56:46.548Z"
   },
   {
    "duration": 7956,
    "start_time": "2024-04-07T09:56:48.588Z"
   },
   {
    "duration": 193,
    "start_time": "2024-04-07T09:56:56.546Z"
   },
   {
    "duration": 201,
    "start_time": "2024-04-07T09:56:59.483Z"
   },
   {
    "duration": 382,
    "start_time": "2024-04-07T09:57:00.603Z"
   },
   {
    "duration": 140,
    "start_time": "2024-04-07T09:57:02.563Z"
   },
   {
    "duration": 33,
    "start_time": "2024-04-07T09:57:05.996Z"
   },
   {
    "duration": 75,
    "start_time": "2024-04-07T09:57:08.803Z"
   },
   {
    "duration": 25,
    "start_time": "2024-04-07T09:57:09.964Z"
   },
   {
    "duration": 308,
    "start_time": "2024-04-07T09:57:12.275Z"
   },
   {
    "duration": 21,
    "start_time": "2024-04-07T09:57:15.605Z"
   },
   {
    "duration": 115,
    "start_time": "2024-04-07T09:57:17.131Z"
   },
   {
    "duration": 307,
    "start_time": "2024-04-07T09:57:19.260Z"
   },
   {
    "duration": 212,
    "start_time": "2024-04-07T09:57:22.677Z"
   },
   {
    "duration": 28,
    "start_time": "2024-04-07T09:57:24.660Z"
   },
   {
    "duration": 12,
    "start_time": "2024-04-07T09:57:26.243Z"
   },
   {
    "duration": 3,
    "start_time": "2024-04-07T09:57:29.299Z"
   },
   {
    "duration": 460,
    "start_time": "2024-04-07T09:57:30.637Z"
   },
   {
    "duration": 51,
    "start_time": "2024-04-07T09:57:33.652Z"
   },
   {
    "duration": 13,
    "start_time": "2024-04-07T09:57:35.804Z"
   },
   {
    "duration": 6,
    "start_time": "2024-04-07T09:57:39.356Z"
   },
   {
    "duration": 3,
    "start_time": "2024-04-07T09:57:45.748Z"
   },
   {
    "duration": 16262,
    "start_time": "2024-04-07T10:21:55.613Z"
   },
   {
    "duration": 15,
    "start_time": "2024-04-07T10:22:11.877Z"
   },
   {
    "duration": 8032,
    "start_time": "2024-04-07T10:22:18.979Z"
   },
   {
    "duration": 204,
    "start_time": "2024-04-07T10:22:27.014Z"
   },
   {
    "duration": 214,
    "start_time": "2024-04-07T10:22:27.220Z"
   },
   {
    "duration": 399,
    "start_time": "2024-04-07T10:22:27.436Z"
   },
   {
    "duration": 110,
    "start_time": "2024-04-07T10:22:32.359Z"
   },
   {
    "duration": 23,
    "start_time": "2024-04-07T10:22:35.939Z"
   },
   {
    "duration": 87,
    "start_time": "2024-04-07T10:22:38.156Z"
   },
   {
    "duration": 24,
    "start_time": "2024-04-07T10:22:39.534Z"
   },
   {
    "duration": 290,
    "start_time": "2024-04-07T10:22:42.067Z"
   },
   {
    "duration": 21,
    "start_time": "2024-04-07T10:22:45.092Z"
   },
   {
    "duration": 116,
    "start_time": "2024-04-07T10:22:46.395Z"
   },
   {
    "duration": 305,
    "start_time": "2024-04-07T10:22:48.209Z"
   },
   {
    "duration": 215,
    "start_time": "2024-04-07T10:22:51.155Z"
   },
   {
    "duration": 28,
    "start_time": "2024-04-07T10:22:52.930Z"
   },
   {
    "duration": 12,
    "start_time": "2024-04-07T10:22:54.435Z"
   },
   {
    "duration": 3,
    "start_time": "2024-04-07T10:22:58.054Z"
   },
   {
    "duration": 444,
    "start_time": "2024-04-07T10:22:58.859Z"
   },
   {
    "duration": 47,
    "start_time": "2024-04-07T10:23:01.195Z"
   },
   {
    "duration": 11,
    "start_time": "2024-04-07T10:23:02.675Z"
   },
   {
    "duration": 5,
    "start_time": "2024-04-07T10:23:04.066Z"
   },
   {
    "duration": 3,
    "start_time": "2024-04-07T10:23:06.707Z"
   },
   {
    "duration": 70,
    "start_time": "2024-04-08T09:38:39.380Z"
   },
   {
    "duration": 46048,
    "start_time": "2024-04-08T09:56:02.067Z"
   },
   {
    "duration": 12,
    "start_time": "2024-04-08T09:56:48.117Z"
   },
   {
    "duration": 8335,
    "start_time": "2024-04-08T09:56:52.645Z"
   },
   {
    "duration": 178,
    "start_time": "2024-04-08T09:57:05.650Z"
   },
   {
    "duration": 172,
    "start_time": "2024-04-08T09:57:07.710Z"
   },
   {
    "duration": 329,
    "start_time": "2024-04-08T09:57:08.783Z"
   },
   {
    "duration": 94,
    "start_time": "2024-04-08T09:57:10.307Z"
   },
   {
    "duration": 20,
    "start_time": "2024-04-08T09:57:26.113Z"
   },
   {
    "duration": 69,
    "start_time": "2024-04-08T09:57:29.839Z"
   },
   {
    "duration": 21,
    "start_time": "2024-04-08T09:57:30.991Z"
   },
   {
    "duration": 258,
    "start_time": "2024-04-08T09:57:34.194Z"
   },
   {
    "duration": 17,
    "start_time": "2024-04-08T09:57:36.956Z"
   },
   {
    "duration": 103,
    "start_time": "2024-04-08T09:57:38.149Z"
   },
   {
    "duration": 269,
    "start_time": "2024-04-08T09:57:40.471Z"
   },
   {
    "duration": 196,
    "start_time": "2024-04-08T09:57:44.690Z"
   },
   {
    "duration": 161,
    "start_time": "2024-04-08T09:58:17.227Z"
   },
   {
    "duration": 25,
    "start_time": "2024-04-08T09:58:26.330Z"
   },
   {
    "duration": 12,
    "start_time": "2024-04-08T09:58:27.576Z"
   },
   {
    "duration": 3,
    "start_time": "2024-04-08T09:58:31.408Z"
   },
   {
    "duration": 364,
    "start_time": "2024-04-08T09:58:33.072Z"
   },
   {
    "duration": 158,
    "start_time": "2024-04-08T09:58:35.753Z"
   },
   {
    "duration": 11,
    "start_time": "2024-04-08T09:58:43.521Z"
   },
   {
    "duration": 11,
    "start_time": "2024-04-08T09:58:55.740Z"
   },
   {
    "duration": 24,
    "start_time": "2024-04-08T10:00:27.701Z"
   },
   {
    "duration": 14,
    "start_time": "2024-04-08T10:00:44.853Z"
   },
   {
    "duration": 14,
    "start_time": "2024-04-08T10:00:53.535Z"
   },
   {
    "duration": 1097,
    "start_time": "2024-04-08T10:01:01.457Z"
   },
   {
    "duration": 4,
    "start_time": "2024-04-08T10:01:17.298Z"
   },
   {
    "duration": 3,
    "start_time": "2024-04-08T10:05:03.825Z"
   },
   {
    "duration": 10,
    "start_time": "2024-04-08T10:05:07.486Z"
   },
   {
    "duration": 2,
    "start_time": "2024-04-08T10:05:16.013Z"
   },
   {
    "duration": 121839,
    "start_time": "2024-04-08T10:05:18.015Z"
   },
   {
    "duration": 3,
    "start_time": "2024-04-08T10:07:19.856Z"
   },
   {
    "duration": 19,
    "start_time": "2024-04-08T10:07:19.860Z"
   },
   {
    "duration": 6666,
    "start_time": "2024-04-08T10:07:19.880Z"
   },
   {
    "duration": 74,
    "start_time": "2024-04-08T10:07:26.547Z"
   },
   {
    "duration": 11,
    "start_time": "2024-04-08T10:07:26.623Z"
   },
   {
    "duration": 0,
    "start_time": "2024-04-08T10:07:26.636Z"
   },
   {
    "duration": 0,
    "start_time": "2024-04-08T10:07:26.637Z"
   },
   {
    "duration": 893,
    "start_time": "2024-04-08T10:11:18.166Z"
   },
   {
    "duration": 12,
    "start_time": "2024-04-08T10:11:24.518Z"
   },
   {
    "duration": 81,
    "start_time": "2024-04-08T10:20:23.598Z"
   },
   {
    "duration": 993,
    "start_time": "2024-04-08T10:20:34.061Z"
   },
   {
    "duration": 14,
    "start_time": "2024-04-08T10:20:42.447Z"
   },
   {
    "duration": 56,
    "start_time": "2024-04-08T10:22:15.546Z"
   },
   {
    "duration": 559,
    "start_time": "2024-04-08T10:22:43.802Z"
   },
   {
    "duration": 7,
    "start_time": "2024-04-08T10:22:46.070Z"
   },
   {
    "duration": 84,
    "start_time": "2024-04-09T15:03:08.742Z"
   },
   {
    "duration": 43317,
    "start_time": "2024-04-09T15:03:18.991Z"
   },
   {
    "duration": 10,
    "start_time": "2024-04-09T15:04:02.310Z"
   },
   {
    "duration": 5275,
    "start_time": "2024-04-09T15:04:02.321Z"
   },
   {
    "duration": 137,
    "start_time": "2024-04-09T15:04:07.597Z"
   },
   {
    "duration": 135,
    "start_time": "2024-04-09T15:04:07.735Z"
   },
   {
    "duration": 271,
    "start_time": "2024-04-09T15:04:07.871Z"
   },
   {
    "duration": 71,
    "start_time": "2024-04-09T15:04:08.143Z"
   },
   {
    "duration": 19,
    "start_time": "2024-04-09T15:04:08.215Z"
   },
   {
    "duration": 68,
    "start_time": "2024-04-09T15:04:08.236Z"
   },
   {
    "duration": 43,
    "start_time": "2024-04-09T15:04:08.306Z"
   },
   {
    "duration": 212,
    "start_time": "2024-04-09T15:04:08.351Z"
   },
   {
    "duration": 24,
    "start_time": "2024-04-09T15:04:08.564Z"
   },
   {
    "duration": 70,
    "start_time": "2024-04-09T15:04:08.589Z"
   },
   {
    "duration": 214,
    "start_time": "2024-04-09T15:04:08.660Z"
   },
   {
    "duration": 126,
    "start_time": "2024-04-09T15:04:08.875Z"
   },
   {
    "duration": 24,
    "start_time": "2024-04-09T15:04:09.003Z"
   },
   {
    "duration": 31,
    "start_time": "2024-04-09T15:04:09.028Z"
   },
   {
    "duration": 13,
    "start_time": "2024-04-09T15:04:09.061Z"
   },
   {
    "duration": 325,
    "start_time": "2024-04-09T15:04:09.075Z"
   },
   {
    "duration": 993,
    "start_time": "2024-04-09T15:04:09.401Z"
   },
   {
    "duration": 4,
    "start_time": "2024-04-09T15:04:10.395Z"
   },
   {
    "duration": 119,
    "start_time": "2024-04-09T15:04:10.401Z"
   },
   {
    "duration": 68,
    "start_time": "2024-04-09T15:04:10.521Z"
   },
   {
    "duration": 3,
    "start_time": "2024-04-09T15:04:14.334Z"
   },
   {
    "duration": 451801,
    "start_time": "2024-04-09T15:04:16.486Z"
   },
   {
    "duration": 4,
    "start_time": "2024-04-09T15:11:48.288Z"
   },
   {
    "duration": 9,
    "start_time": "2024-04-09T15:11:48.293Z"
   },
   {
    "duration": 6486,
    "start_time": "2024-04-09T15:11:48.303Z"
   },
   {
    "duration": 1021,
    "start_time": "2024-04-09T15:11:54.790Z"
   },
   {
    "duration": 78,
    "start_time": "2024-04-09T15:11:55.812Z"
   },
   {
    "duration": 694,
    "start_time": "2024-04-09T15:11:55.891Z"
   },
   {
    "duration": 5,
    "start_time": "2024-04-09T15:11:56.586Z"
   },
   {
    "duration": 857,
    "start_time": "2024-04-09T15:12:49.835Z"
   }
  ],
  "kernelspec": {
   "display_name": "Python 3 (ipykernel)",
   "language": "python",
   "name": "python3"
  },
  "language_info": {
   "codemirror_mode": {
    "name": "ipython",
    "version": 3
   },
   "file_extension": ".py",
   "mimetype": "text/x-python",
   "name": "python",
   "nbconvert_exporter": "python",
   "pygments_lexer": "ipython3",
   "version": "3.11.0"
  },
  "toc": {
   "base_numbering": 1,
   "nav_menu": {},
   "number_sections": true,
   "sideBar": true,
   "skip_h1_title": true,
   "title_cell": "Table of Contents",
   "title_sidebar": "Contents",
   "toc_cell": false,
   "toc_position": {
    "height": "calc(100% - 180px)",
    "left": "10px",
    "top": "150px",
    "width": "285px"
   },
   "toc_section_display": true,
   "toc_window_display": true
  }
 },
 "nbformat": 4,
 "nbformat_minor": 4
}
